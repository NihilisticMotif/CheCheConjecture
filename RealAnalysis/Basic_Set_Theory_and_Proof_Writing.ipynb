{
  "nbformat": 4,
  "nbformat_minor": 0,
  "metadata": {
    "colab": {
      "provenance": [],
      "toc_visible": true,
      "authorship_tag": "ABX9TyNqvyzW8bWA/FnWpN9RS87W",
      "include_colab_link": true
    },
    "kernelspec": {
      "name": "python3",
      "display_name": "Python 3"
    },
    "language_info": {
      "name": "python"
    }
  },
  "cells": [
    {
      "cell_type": "markdown",
      "metadata": {
        "id": "view-in-github",
        "colab_type": "text"
      },
      "source": [
        "<a href=\"https://colab.research.google.com/github/NihilisticMotif/CheCheConjecture/blob/main/UnderstandingAnalysis_StephenAbbott/Basic_Set_Theory_and_Proof_Writing.ipynb\" target=\"_parent\"><img src=\"https://colab.research.google.com/assets/colab-badge.svg\" alt=\"Open In Colab\"/></a>"
      ]
    },
    {
      "cell_type": "markdown",
      "source": [
        "#Set Theory"
      ],
      "metadata": {
        "id": "cCrvIaBkMCW8"
      }
    },
    {
      "cell_type": "markdown",
      "source": [
        "##Basic Set Notation\n",
        "\n",
        "* $\\forall$ = For all (somethings).\n",
        "* $\\exists$ = There exists (somethings).\n",
        "* $\\exists! =$ There exists (only a single things)\n",
        "* $\\in$ = (Somethings) is the member of (the set of something).\n",
        "* $\\not\\in$ = (Somethings) is not the member of (the set of something).\n",
        "* $\\subset=$ subset\n",
        "* $\\{a_1,...,a_n\\}=$ set that contains $a_1,...,a_n$\n",
        "* $\\{x\\in P\\}=$ set of all variable $x$ that satisfy the condition $P$ e.g. $x$ should be even number, $x$ should be integer etc.\n",
        "* $\\land=$ and\n",
        "* $\\lor=$ or\n",
        "* $-=$ minus or not include with in the set.\n",
        "* $A'=$ complement = the set that does not have any element from A = $\\{x\\not\\in A\\}$"
      ],
      "metadata": {
        "id": "RmwBItwyTUSp"
      }
    },
    {
      "cell_type": "markdown",
      "source": [
        "##Set\n",
        "\n",
        "* $G=$ group\n",
        "* $R=$ ring\n",
        "* $F=$ field\n",
        "* $\\mathbb{N}=\\{1,2,...\\}=$ set of all natural number\n",
        "* $\\mathbb{Z}=\\{...,-2,-1,0,1,2,...\\}=$ set of all integer\n",
        "* $\\mathbb{Q}=\\{\\frac{p}{q}|p\\in \\mathbb{Z}\\land q\\in\\mathbb{N}\\}=$ set of all rational number\n",
        "* $\\mathbb{R}=$ set of all real number e.g. $0,1,\\pi,\\sqrt{2}$ etc.\n",
        "* $\\mathbb{C}=\\{a+bi|i=\\sqrt{-1}\\land a,b\\in\\mathbb{R}\\}=$ set of all complex number\n",
        "\n",
        "Note\n",
        "* $\\mathbb{N}\\subset\\mathbb{Z}\\subset\\mathbb{Q}\\subset\\mathbb{R}\\subset\\mathbb{C}$\n",
        "\n",
        "##Combine 2 sets.\n",
        "\n",
        "* $\\cap=$ intersection\n",
        "* $\\cup=$ union"
      ],
      "metadata": {
        "id": "xrJbXA9YR7m5"
      }
    },
    {
      "cell_type": "markdown",
      "source": [
        "###Example No.1\n",
        "\n",
        "If x is the member of A or B, then x should be the member of set that contains both A and B.\n",
        "\n",
        "$x\\in A\\lor x\\in B\\implies x\\in A\\cup B$\n",
        "\n",
        "If x is the member of A and B, then x should be the member of set that contains only the elements that exist in both A and B.\n",
        "\n",
        "$x\\in A\\land x\\in B\\implies x\\in A\\cap B$\n"
      ],
      "metadata": {
        "id": "ARXQaHSFUWaW"
      }
    },
    {
      "cell_type": "markdown",
      "source": [
        "###Example No.2\n",
        "\n",
        "Define that\n",
        "* $E=\\{2x|x\\in\\mathbb{Z}\\}$\n",
        "* $S=\\{r\\in\\mathbb{Q}|r^2< 2\\}$\n",
        "\n",
        "Relationship between $\\mathbb{N}$ and $E$\n",
        "* $\\mathbb{N}\\cup E=\\mathbb{N}$\n",
        "* $\\mathbb{N}\\cap E=E$\n",
        "* $\\mathbb{N}-    E=\\{2x+1|x\\in\\mathbb{Z}\\}$\n",
        "* $E-    \\mathbb{N}=\\emptyset$\n",
        "* $E\\subset \\mathbb{N}$\n",
        "\n",
        "Relationship between $\\mathbb{N}$ and $S$\n",
        "* $\\mathbb{N}\\cup S=\\mathbb{N}$\n",
        "* $\\mathbb{N}\\cap S=\\{1\\}$\n",
        "* $\\mathbb{N}-    S=\\mathbb{N}-1$\n",
        "* $S-    \\mathbb{N}=S-1$\n",
        "* $S\\not\\subset \\mathbb{N}$\n",
        "\n",
        "\n",
        "Relationship between $E$ and $S$\n",
        "* $E\\cup S$\n",
        "* $E\\cap S=\\emptyset$\n",
        "* $E-    S=E$\n",
        "* $S-    E=S$\n"
      ],
      "metadata": {
        "id": "lN7X-f2MXxUr"
      }
    },
    {
      "cell_type": "markdown",
      "source": [
        "###Example No.3\n",
        "\n",
        "Define that\n",
        "* $A_0=\\mathbb{N}$\n",
        "* $A_1=\\mathbb{N}-\\{1\\}$\n",
        "* $A_2=\\mathbb{N}-\\{1,2\\}$\n",
        "* $A_i=\\mathbb{N}-\\{x\\in\\mathbb{N}\\land x\\leq i\\}$\n",
        "\n",
        "Implies that\n",
        "* $A_i\\subset A_{i-1}\\subset A_{i-2}\\subset...\\subset A_1\\subset A_0$\n",
        "\n",
        "Union\n",
        "* $A_0\\cup A_1\\cup...=\\mathbb{N}$\n",
        "* $\\cup_{i=0}^{\\infty}A_i=\\mathbb{N}$\n",
        "* $\\cup_{i\\in\\mathbb{N}}A_i=\\mathbb{N}$\n",
        "* $\\cup_{i=j}^{\\infty}A_i=A_j$\n",
        "* $\\cup_{i=j}^{k}A_i=A_j$\n",
        "\n",
        "Intersection\n",
        "* $A_0\\cap A_1\\cap...=\\emptyset$\n",
        "* $\\cap_{i=0}^{\\infty}A_i=\\emptyset$\n",
        "* $\\cap_{i\\in\\mathbb{N}}A_i=\\emptyset$\n",
        "* $\\cap_{i=j}^{\\infty}A_i=\\emptyset$\n",
        "* $\\cap_{i=j}^{k}A_i=A_k$"
      ],
      "metadata": {
        "id": "4Dxn2HGZYH0Y"
      }
    },
    {
      "cell_type": "markdown",
      "source": [
        "###Example No.4 (De Morgan’s Laws)\n",
        "\n",
        "Define that\n",
        "* $A'=\\mathbb{R}-A=\\{x\\in\\mathbb{R}\\land x\\neq A\\}$\n",
        "* $B'=\\mathbb{R}-B=\\{x\\in\\mathbb{R}\\land x\\neq B\\}$\n",
        "\n",
        "Implies that\n",
        "* $A',B'\\subset \\mathbb{R}$\n",
        "\n",
        "According to De Morgan’s Laws, implies that\n",
        "* $(A\\cap B)'=A'\\cup B'$\n",
        "* $(A\\cup B)'=A'\\cap B'$\n",
        "\n",
        "###Prove De Morgan's Laws\n",
        "\n",
        "$A'\\cup B'=\\mathbb{R}-A\\cup\\mathbb{R}-B =\\mathbb{R}-(A\\cap B)=(A\\cap B)'$\n",
        "\n",
        "$A'\\cap B'=\\mathbb{R}-A\\cap\\mathbb{R}-B =\\mathbb{R}-(A\\cup B)=(A\\cup B)'$"
      ],
      "metadata": {
        "id": "fG7vorcJcJAb"
      }
    },
    {
      "cell_type": "markdown",
      "source": [
        "#Basic Proof Writing"
      ],
      "metadata": {
        "id": "bpc2w5OjsZtZ"
      }
    },
    {
      "cell_type": "markdown",
      "source": [
        "##Direct Proof\n",
        "\n",
        "In order to prove that $Q$ is true. Just prove if $P$ is true.\n",
        "* $P\\implies Q$"
      ],
      "metadata": {
        "id": "e4QRie9KOLxl"
      }
    },
    {
      "cell_type": "markdown",
      "source": [
        "##Example: Prove that 2 number are equal\n",
        "\n",
        "Prove that\n",
        "* $a=b\\iff\\forall \\epsilon>0\\,:|a-b|<\\epsilon$"
      ],
      "metadata": {
        "id": "Q-IiG3C2wFG9"
      }
    },
    {
      "cell_type": "markdown",
      "source": [
        "###First Solution\n",
        "\n",
        "Given that\n",
        "* $a=b\\implies a-b=0$\n",
        "\n",
        "Implies that\n",
        "* $a-b=0\\geq 0\\implies |a-b|=a-b=0$\n",
        "\n",
        "Therefore\n",
        "* $|a-b|=0\\land \\epsilon>0\\implies |a-b|<\\epsilon$\n",
        "\n",
        "Given that\n",
        "* $a-b=0\\implies a=b$\n",
        "\n",
        "Implies that\n",
        "* $|a-b|=0$\n",
        "\n",
        "Therefore\n",
        "* $|a-b|=0\\land \\epsilon>0\\implies |a-b|<\\epsilon$\n",
        "* $a=b\\iff \\forall \\epsilon>0\\,:|a-b|<\\epsilon$"
      ],
      "metadata": {
        "id": "kdXi8S4JzGDR"
      }
    },
    {
      "cell_type": "markdown",
      "source": [
        "###SecondSolution\n",
        "\n",
        "Given that\n",
        "* $a=b\\iff a-b=0$\n",
        "\n",
        "Implies that\n",
        "* $|a-b|=a-1\\cdot b=a-b=0$\n",
        "\n",
        "Given that\n",
        "* $|a-b|=0\\land \\epsilon >0$\n",
        "\n",
        "Implies that\n",
        "* $|a-b|=0<\\epsilon$\n",
        "\n",
        "Therefore\n",
        "* $a=b\\iff \\forall\\epsilon>0\\,:|a-b|<\\epsilon$"
      ],
      "metadata": {
        "id": "DXBB5xKXwdTk"
      }
    },
    {
      "cell_type": "markdown",
      "source": [
        "##Proof by Contradiction\n",
        "\n",
        "If $P$ is false. Just assume that $P$ is true and find the contradiction of that statements."
      ],
      "metadata": {
        "id": "xNsvLLd12VCV"
      }
    },
    {
      "cell_type": "markdown",
      "source": [
        "##Example: Prove that $\\sqrt{2}\\not\\in\\mathbb{Q}$\n",
        "\n",
        "* $\\sqrt{2}\\not\\in\\mathbb{Q}$"
      ],
      "metadata": {
        "id": "l5ETDmd5cB75"
      }
    },
    {
      "cell_type": "markdown",
      "source": [
        "###Solution\n",
        "\n",
        "Given that\n",
        "* $x=2n\\implies x^2=2(2n^2)=2n_1$\n",
        "* $x=2n+1\\implies x^2=4n^2+2n+1=2(2n^2+n)+1=2n_1+1$\n",
        "\n",
        "Assume that\n",
        "* $p\\in\\mathbb{Z}$\n",
        "* $q\\in\\mathbb{N}$\n",
        "* $\\sqrt{2}=\\frac{p}{q}$\n",
        "* $p^2=2q^2$\n",
        "\n",
        "Given that\n",
        "* $\\forall x\\in \\{2x|x\\in\\mathbb{Z}\\}\\,:x^2\\in \\{2x|x\\in\\mathbb{Z}\\}$\n",
        "* $\\forall x\\in \\{2x+1|x\\in\\mathbb{Z}\\}\\,:x^2\\in \\{2x+1|x\\in\\mathbb{Z}\\}$\n",
        "* $\\mathbb{Z}=\\{2x|x\\in\\mathbb{Z}\\}\\cup\\{2x+1|x\\in\\mathbb{Z}\\}$\n",
        "\n",
        "Implies that\n",
        "* $p\\in\\{2x|x\\in\\mathbb{Z}\\}$\n",
        "\n",
        "Define\n",
        "* $p=2r$\n",
        "\n",
        "Given that\n",
        "* $\\sqrt{2}=\\frac{2r}{q}$\n",
        "* $2=\\frac{4r^2}{q^2}$\n",
        "* $1=\\frac{2r^2}{q^2}$\n",
        "* $q^2=2r^2$\n",
        "\n",
        "Implies that\n",
        "* $p|2\\land q|2\\implies \\gcd(p,q)\\neq 1$\n",
        "* $\\forall p\\in\\mathbb{Z}\\land q\\in\\mathbb{N}\\,:\\frac{p}{q}\\neq \\sqrt{2}$\n",
        "\n",
        "Therefore\n",
        "* $\\sqrt{2}\\not\\in\\mathbb{Q}$\n",
        "\n"
      ],
      "metadata": {
        "id": "tYBHIVpUcB76"
      }
    },
    {
      "cell_type": "markdown",
      "source": [
        "##Proof by Induction\n",
        "\n",
        "##Peano axioms\n",
        "\n",
        "Peano axioms are the set of rules (axioms) of natural number and the set where the natural number belongs to.\n",
        "1. $1\\in\\mathbb{N}$\n",
        "2. $\\forall x\\in\\mathbb{N}\\,:x+1\\in\\mathbb{N}$\n",
        "3. $\\forall x\\in\\mathbb{N}\\land\\exists y\\in\\mathbb{N}\\,:x=y\\implies x+1=y+1$\n",
        "4. $\\forall x\\in\\mathbb{N}\\,:x+1\\neq 1$\n",
        "4. $S\\subset \\mathbb{N}\\land 1\\in S\\land \\forall s\\in S\\,:s+1\\in S\\iff S=\\mathbb{N}$\n",
        "\n",
        "##Proof by Induction\n",
        "\n",
        "This technique is used when the statement that we want to prove is related to the set of all natural number ($S=\\mathbb{N}$) given the 5th criteria of Peano axioms. First we just prove the first statement when $s\\in S\\land s=1$ and then we just prove the case where $s_n=s_{n-1}+1$"
      ],
      "metadata": {
        "id": "87bJsNGn3f-j"
      }
    },
    {
      "cell_type": "markdown",
      "source": [
        "##Example: Prove that $x_{n}\\leq x_{n+1}$\n",
        "\n",
        "Given that the sequence is\n",
        "* $x_{n+1}=\\frac{1}{2}x_n+1$\n",
        "\n",
        "Prove that\n",
        "* $x_n\\leq x_{n+1}$"
      ],
      "metadata": {
        "id": "QFYVod4fGoLj"
      }
    },
    {
      "cell_type": "markdown",
      "source": [
        "###Solution\n",
        "\n",
        "Here is the example of $x_{n+1}=\\frac{1}{2}x_n+1$\n",
        "* $x_1=1$\n",
        "* $x_2=\\frac{1}{2}+1=\\frac{3}{2}$\n",
        "* $x_3=\\frac{1}{2}\\cdot\\frac{3}{2}+1=\\frac{3}{4}+1=\\frac{7}{4}$\n",
        "* ...\n",
        "\n",
        "Given that\n",
        "* $x_1\\leq x_2\\leq x_3$\n",
        "\n",
        "Suppose that\n",
        "* $x_n\\leq x_{n+1}$\n",
        "* $\\frac{1}{2}x_n+1\\leq \\frac{1}{2}x_{n+1}+1$\n",
        "\n",
        "Given that\n",
        "* $x_{j+1}=\\frac{1}{2}x_j+1$\n",
        "\n",
        "Implies that\n",
        "* $x_{n+1}=\\frac{1}{2}x_n+1$\n",
        "* $x_{n+2}=\\frac{1}{2}x_{n+1}+1$\n",
        "* $x_{n+1}\\leq x_{n+2}$\n",
        "\n",
        "Therefore\n",
        "* $\\forall n\\in\\mathbb{N}\\,:x_n\\leq x_{n+1}$"
      ],
      "metadata": {
        "id": "jjNQ8CA3GqQB"
      }
    },
    {
      "cell_type": "markdown",
      "source": [
        "#Reference\n",
        "* Understanding Analysis by Stephen Abbott, Chapter 1.2: Some Preliminaries https://homel.vsb.cz/~ulc0011/Abbott%20-%20Understanding%20Analysis.pdf\n",
        "* Proof Writing YouTube playlist by MathMajor (a.k.a. Michael Penn\n",
        ") https://youtu.be/45hrjCjBg2U?si=oqnx9GqL3QCGRqM8"
      ],
      "metadata": {
        "id": "Iy9vN8ChAHVI"
      }
    }
  ]
}