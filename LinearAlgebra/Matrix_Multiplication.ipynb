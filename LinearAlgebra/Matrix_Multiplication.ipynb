{
  "nbformat": 4,
  "nbformat_minor": 0,
  "metadata": {
    "colab": {
      "provenance": [],
      "collapsed_sections": [
        "mQwh4_WfcLOS"
      ],
      "toc_visible": true,
      "authorship_tag": "ABX9TyPoPsFZK2JVlaqkljU3yjYA",
      "include_colab_link": true
    },
    "kernelspec": {
      "name": "python3",
      "display_name": "Python 3"
    },
    "language_info": {
      "name": "python"
    }
  },
  "cells": [
    {
      "cell_type": "markdown",
      "metadata": {
        "id": "view-in-github",
        "colab_type": "text"
      },
      "source": [
        "<a href=\"https://colab.research.google.com/github/NihilisticMotif/CheCheConjecture/blob/main/LinearAlgebra/Matrix_Multiplication.ipynb\" target=\"_parent\"><img src=\"https://colab.research.google.com/assets/colab-badge.svg\" alt=\"Open In Colab\"/></a>"
      ]
    },
    {
      "cell_type": "markdown",
      "source": [
        "#Introduction\n",
        "\n",
        "This documentation is mainly about the property of matrix, matrix multiplication and transpose."
      ],
      "metadata": {
        "id": "mhiD9RwG_GBE"
      }
    },
    {
      "cell_type": "markdown",
      "source": [
        "#Matrix\n",
        "\n",
        "Define indexing set.\n",
        "* $i,j\\in \\{1,...,n\\}$\n",
        "\n",
        "Matrix is the 2 dimensional array of numbers.\n",
        "* $A\\,:\\{1,...,m\\}\\times \\{1,...,n\\}\\to a_{i,j}$\n",
        "* $A(i,j)=a_{i,j}$\n",
        "* $A=A_{m\\times n}=\\begin{bmatrix}\n",
        "a_{1,1}&a_{1,2}&...&a_{1,n}\\\\\n",
        "a_{2,1}&a_{2,2}&...&a_{2,n}\\\\\n",
        "...&...&...&...\\\\\n",
        "a_{m,1}&a_{m,2}&...&a_{m,n}\n",
        "\\end{bmatrix}$\n",
        "\n",
        "Matrix is also a function that map 2 set $\\{1,...,m\\}$ and $\\{1,...,n\\}$ with the number with in the matrix $a_{i,j}$\n",
        "* https://math.stackexchange.com/questions/1811886/what-is-the-most-rigorous-definition-of-a-matrix\n"
      ],
      "metadata": {
        "id": "SQFPV96ydmfs"
      }
    },
    {
      "cell_type": "markdown",
      "source": [
        "##Addition of Matrix\n",
        "\n",
        "Suppose that\n",
        "* $V^{N\\times M}=$ set of all matrix with $N$ rows and $M$ columns\n",
        "* $A,B\\in V^{N\\times M}$\n",
        "* $i\\in\\{1,...,N\\}$\n",
        "* $j\\in\\{1,...,M\\}$\n",
        "\n",
        "Then\n",
        "* $[A+B](i,j)=A(i,j)+B(i,j)$\n",
        "\n",
        "##Scalar Multiplication of Matrix\n",
        "\n",
        "Suppose that\n",
        "* $\\lambda\\in F$\n",
        "\n",
        "Then\n",
        "* $[\\lambda\\cdot A](i,j)=\\lambda \\cdot (A(i,j))$\n",
        "\n",
        "##Set of Matrix is Vector Space\n",
        "\n",
        "Because each matrix is the function such that\n",
        "* $\\hat{F}\\subset F$\n",
        "* $M\\,:\\{1,...,N\\}\\times \\{1,...,M\\}\\to \\hat{F}$\n",
        "\n",
        "Given that $F$ is a field which is\n",
        "1. An Abelian Group under Addition\n",
        "* $\\forall a,b\\in F\\,:a+b=b+a\\in F$\n",
        "2. Have Communicative property of multiplication\n",
        "* $\\forall a,b\\in F\\,:ab=ba\\in F$\n",
        "3. Have Associativity property of multiplication\n",
        "* $\\forall a,b,c\\in F\\,:(ab)c=a(bc)$\n",
        "4. Have Multiplicative Identity\n",
        "* $\\forall a\\in F\\,:1\\cdot a=a$\n",
        "\n",
        "Implies that $V^{N\\times M}$ also have\n",
        "1. Additive Property of Vector Space\n",
        "2. Scalar Multiplicative Property of Vector Space\n",
        "3. Distributive Property of Scalar Multiplication over Vector Addition\n",
        "4. Distributive Property of Vector Addition over Scalar Multiplication\n",
        "\n",
        "Therefore\n",
        "* $V^{N\\times M}$ is a vector space\n",
        "\n",
        "Note that\n",
        "* $\\forall N_0,...,N_k\\in\\mathbb{N}\\,:V^{N_0\\times ...\\times N_k}$ is also a vector space because of the same reason."
      ],
      "metadata": {
        "id": "bMOcYJ7D-NH7"
      }
    },
    {
      "cell_type": "markdown",
      "source": [
        "##Row and Column Vector of Matrix\n",
        "\n",
        "Define\n",
        "* $A=V^{N\\times M}$\n",
        "* $j\\in \\{1,2,...,N\\}$\n",
        "* $i\\in \\{1,2,...,M\\}$\n",
        "\n",
        "Define Column Vector\n",
        "* $\\vec{v}_i=$ Column Vector of $A$ No.$i$\n",
        "* $\\vec{v}_i=[a_{1,i},...,a_{N,i}]\\in V^R$\n",
        "* $\\vec{v}_i\\in\\{$ Column $\\vec{v}$ of $A\\,\\}$\n",
        "* $\\text{span}(\\{$ Column $\\vec{v}$ of $A\\,\\})=$ Column Space of $A$\n",
        "\n",
        "Define Row Vector\n",
        "* $\\vec{v}^T_j=$ Row Vector of $A$ No.$j$\n",
        "* $\\vec{v}^T_j=[a_{j,1},...,a_{j,M}]\\in V^C$\n",
        "* $\\vec{v}^T_j\\in\\{$ Row $\\vec{v}$ of $A\\,\\}$\n",
        "* $\\text{span}(\\{$ Row $\\vec{v}$ of $A\\,\\})=$ Row Space of $A$\n",
        "\n",
        "Note that\n",
        "* $\\vec{v}_i\\neq\\hat{v}^T_j$\n",
        "* $\\vec{v}_i\\neq\\hat{v}^T_i$\n"
      ],
      "metadata": {
        "id": "dr22P0a7dqFd"
      }
    },
    {
      "cell_type": "markdown",
      "source": [
        "#Matrix Multiplication"
      ],
      "metadata": {
        "id": "s7ZLc_nggJFN"
      }
    },
    {
      "cell_type": "markdown",
      "source": [
        "##Matrix Multiplied by Vector\n",
        "\n",
        "Given that\n",
        "* $A\\in V^{M\\times N}$\n",
        "* $\\vec{v}=\\{$ Column $\\vec{v}$ of $A\\,\\}\\subset V^M$\n",
        "* $\\vec{x}=[x_1,...,x_N]\\in V^N$\n",
        "\n",
        "Then\n",
        "* $\\vec{y}=\\Sigma\\,x_i\\cdot\\vec{v}_i\\in A^M$\n",
        "\n",
        "##Interpretation\n",
        "\n",
        "The Implication is that $A$ transform $\\vec{x}$ to $\\vec{y}$ such that\n",
        "* $A\\,:\\vec{x}\\to\\vec{y}$\n",
        "\n",
        "Another implication is that the matrix multiplication can represent the linear span\n",
        "* $\\vec{y}\\in \\text{span}(\\{$ Column $\\vec{v}$ of $A\\,\\})=\\{A\\cdot\\vec{x}|\\vec{x}\\in V^N\\}=$ Column Space of $A$\n"
      ],
      "metadata": {
        "id": "gPEz_jo5dZ41"
      }
    },
    {
      "cell_type": "markdown",
      "source": [
        "##Matrix Multiplied by Matrix\n",
        "\n",
        "Define Matrix\n",
        "* $A\\in V^{M\\times N}$\n",
        "* $B\\in V^{N\\times C}$\n",
        "\n",
        "Define Index Set\n",
        "* $i\\in\\{1,...,M\\}$\n",
        "* $j\\in\\{1,...,C\\}$\n",
        "\n",
        "Define Vector\n",
        "* $\\vec{a}_i^T=$ Row Vector of $A$ No.$i$\n",
        "* $\\vec{b}_j=$ Column Vector of $B$ No.$j$\n",
        "\n",
        "Then\n",
        "* $[A\\cdot B](i,j)=\\hat{a}_i^T\\cdot\\vec{b}_j=\\Sigma_{k=1}^N\\,A(i,k)\\cdot B(k,j)$\n",
        "\n",
        "Note that\n",
        "* $A\\cdot B\\in V^{M\\times C}$\n",
        "* $A\\in V^{M\\times N_0}\\,:B\\in V^{N_1\\times C}\\,:A\\cdot B=\\emptyset\\iff N_0\\neq N_1$\n",
        "\n",
        "##Interpretation\n",
        "\n",
        "Matrix multiplication can be interpreted as nested linear map such that\n",
        "* $B\\,:V^C\\to V^N$\n",
        "* $A\\,:V^N\\to V^M$\n",
        "* $A\\cdot B\\,:V^C\\to V^M$\n",
        "\n",
        "in other words\n",
        "* $B\\cdot \\vec{x}=\\vec{y}_1$\n",
        "* $A\\cdot \\vec{y}_1=\\vec{y}_2$\n",
        "* $A\\cdot B\\cdot \\vec{x}=\\vec{y}_2$\n",
        "\n",
        "Both $A$ and $B$ is the linear map that can have different domain and range, implies that in some case $B\\cdot A$ is undefined because range of $A$ is not in the domain of $B$\n",
        "* $B\\cdot A=\\emptyset\\iff V^M\\neq V^C$\n",
        "* $B\\cdot A=\\emptyset\\iff M\\neq C$\n",
        "\n",
        "The another interpretation is linear map $A$ transform every column vector of $B$ such that\n",
        "* $\\forall\\vec{b}\\in\\{$ Column $\\vec{v}$ of $B\\,\\}\\,:A\\cdot\\vec{b}\\in\\{$ Column $\\vec{v}$ of $A\\cdot B\\,\\}$"
      ],
      "metadata": {
        "id": "z5f0DQEMiemk"
      }
    },
    {
      "cell_type": "markdown",
      "source": [
        "##Transpose\n",
        "\n",
        "Suppose that\n",
        "* $M\\in V^{R\\times C}$\n",
        "* $M(i,j)\\in F$\n",
        "\n",
        "Transpose is defined as\n",
        "* $M^T\\in V^{C\\times R}$\n",
        "* $M(i,j)=M^T(j,i)$\n",
        "* $\\{$ Row $\\vec{v}$ of $M\\,\\}=\\{$ Column $\\vec{v}$ of $M^T\\,\\}$\n",
        "* $\\{$ Column $\\vec{v}$ of $M\\,\\}=\\{$ Row $\\vec{v}$ of $M^T\\,\\}$"
      ],
      "metadata": {
        "id": "B6GZsrsTfZLw"
      }
    },
    {
      "cell_type": "markdown",
      "source": [
        "##Transpose is Distributed over Matrix Addition\n",
        "\n",
        "Prove that\n",
        "* $\\forall A,B\\in V^{N\\times N}\\,:(A+B)^T=A^T+B^T$"
      ],
      "metadata": {
        "id": "mQwh4_WfcLOS"
      }
    },
    {
      "cell_type": "markdown",
      "source": [
        "###Solution\n",
        "\n",
        "Given that\n",
        "* $[A+B](i,j)=A(i,j)+B(i,j)$\n",
        "* $A^T(i,j)=A(j,i)$\n",
        "\n",
        "Therefore\n",
        "* $[(A+B)^T](i,j)=A^T(i,j)+B^T(i,j)$"
      ],
      "metadata": {
        "id": "NqMQEEQV9xHO"
      }
    },
    {
      "cell_type": "markdown",
      "source": [
        "##Matrix Multiplication is not Communicative\n",
        "\n",
        "Prove that\n",
        "* $\\forall A,B\\in V^{N\\times N}\\,:(A\\cdot B)^T=B^T\\cdot A^T$\n"
      ],
      "metadata": {
        "id": "TIz_Iw3-UY_7"
      }
    },
    {
      "cell_type": "markdown",
      "source": [
        "###Solution\n",
        "\n",
        "Define $A$\n",
        "* $A\\in V^{N\\times N}$\n",
        "* $\\vec{a}^T_i\\{$ Row $\\vec{v}$ of $A\\,\\}$\n",
        "* $\\vec{a}_j\\{$ Column $\\vec{v}$ of $B\\,\\}$\n",
        "* $\\vec{a}^T_i=\\vec{a}_i\\lor \\vec{a}^T_i\\neq \\vec{a}_i$\n",
        "\n",
        "Define $B$\n",
        "* $B\\in V^{N\\times N}$\n",
        "* $\\vec{b}^T_i\\{$ Row $\\vec{v}$ of $B\\,\\}$\n",
        "* $\\vec{b}_j\\{$ Column $\\vec{v}$ of $B\\,\\}$\n",
        "* $\\vec{b}^T_i=\\vec{b}_i\\lor \\vec{b}^T_i\\neq \\vec{b}_i$\n",
        "\n",
        "###Part 1: Prove that $A\\cdot B\\neq B\\cdot A$\n",
        "\n",
        "Given that\n",
        "* $[A\\cdot B](i,j)=\\vec{a}^T_i\\cdot\\vec{b}_j$\n",
        "* $[B\\cdot A](i,j)=\\vec{b}^T_i\\cdot\\vec{a}_j$\n",
        "\n",
        "According to Dot Product\n",
        "* $\\forall\\vec{x},\\vec{y}\\in V^N\\,:\\vec{x}\\cdot\\vec{y}=\\vec{y}\\cdot\\vec{x}\\in F$\n",
        "\n",
        "Implies that\n",
        "* $[A\\cdot B](i,j)=\\vec{a}^T_i\\cdot\\vec{b}_j$\n",
        "* $[B\\cdot A](i,j)=\\vec{a}_j\\cdot \\vec{b}^T_i$\n",
        "\n",
        "If $\\vec{a}^T_i=\\vec{a}_i$ and $\\vec{b}^T_i=\\vec{b}_i$\n",
        "\n",
        "Implies that\n",
        "* $[A\\cdot B](i,j)=[B\\cdot A](i,j)$\n",
        "\n",
        "If one of this statement true\n",
        "* $\\vec{a}^T_i\\neq\\vec{a}_i$ and $\\vec{b}^T_i=\\vec{b}_i$\n",
        "* $\\vec{a}^T_i=\\vec{a}_i$ and $\\vec{b}^T_i\\neq \\vec{b}_i$\n",
        "\n",
        "Implies that\n",
        "* $[A\\cdot B](i,j)\\neq [B\\cdot A](i,j)$\n",
        "\n",
        "Therefore\n",
        "* $A\\cdot B\\neq B\\cdot A$\n",
        "\n",
        "###Part 2: Prove that $(A\\cdot B)^T=B^T\\cdot A^T$\n",
        "\n",
        "Calculate $(A\\cdot B)^T$\n",
        "* $[A\\cdot B](i,j)=\\vec{a}^T_i\\cdot\\vec{b}_j$\n",
        "* $[(A\\cdot B)^T](i,j)=[A\\cdot B](j,i)=\\vec{a}^T_j\\cdot\\vec{b}_i$\n",
        "\n",
        "Calculate $B^T\\cdot A^T$\n",
        "\n",
        "Given that\n",
        "* $\\vec{b}_i=\\{$ Row $\\vec{v}$ of $B^T\\,\\}$\n",
        "* $\\vec{a}_j^T=\\{$ Column $\\vec{v}$ of $A^T\\,\\}$\n",
        "\n",
        "Implies that\n",
        "* $[B^T\\cdot A^T](i,j)=\\vec{b}_i\\cdot\\vec{a}_j^T$\n",
        "\n",
        "Therefore\n",
        "* $(A\\cdot B)^T=B^T\\cdot A^T$\n",
        "\n",
        "###Part 3: Transpose have no distributive property over matrix multiplication\n",
        "\n",
        "Given that\n",
        "* $(A\\cdot B)^T=B^T\\cdot A^T$\n",
        "* $A\\cdot B\\neq B\\cdot A$\n",
        "* $A^T\\cdot B^T\\neq B^T\\cdot A^T$\n",
        "\n",
        "Implies that\n",
        "* $(A\\cdot B)^T=B^T\\cdot A^T\\neq A^T\\cdot B^T$\n",
        "\n",
        "Therefore\n",
        "* $(A\\cdot B)^T\\neq A^T\\cdot B^T$\n",
        "\n",
        "###Conclusion\n",
        "\n",
        "$1^{\\text{st}}$ Statement\n",
        "\n",
        "Matrix multiplication is not communicative.\n",
        "* $A\\cdot B\\neq B\\cdot A$\n",
        "* $\\exists A,B\\in V^{N\\times N}\\,:A\\cdot B\\neq B\\cdot A$\n",
        "\n",
        "$2^{\\text{nd}}$ Statement\n",
        "\n",
        "* $\\forall A,B\\in V^{N\\times N}\\,:(A\\cdot B)^T=B^T\\cdot A^T$\n",
        "\n",
        "$3^{\\text{nd}}$ Statement\n",
        "\n",
        "Transpose have no distributive property over matrix multiplication.\n",
        "* $(A\\cdot B)^T\\neq A^T\\cdot B^T$\n"
      ],
      "metadata": {
        "id": "dmON0QiWt3tX"
      }
    },
    {
      "cell_type": "markdown",
      "source": [
        "##Matrix Multiplication is Distributed over Matrix Addition\n",
        "\n",
        "Prove that\n",
        "* $(A+B)\\cdot C=A\\cdot C+B\\cdot C$\n",
        "* $C\\cdot (A+B)=C\\cdot A+C\\cdot B$"
      ],
      "metadata": {
        "id": "Xc2MaQVs3_F6"
      }
    },
    {
      "cell_type": "markdown",
      "source": [
        "###Solution\n",
        "\n",
        "###Part 1: $(A+B)\\cdot C=A\\cdot C+B\\cdot C$\n",
        "\n",
        "Define Matrix\n",
        "* $A,B\\in V^{N\\times M}$\n",
        "* $C\\in V^{M\\times N}$\n",
        "\n",
        "Define Vector\n",
        "* $\\vec{a}_i^T\\in \\{$ Row $\\vec{v}$ of $A\\,\\}$\n",
        "* $\\vec{b}_i^T\\in \\{$ Row $\\vec{v}$ of $B\\,\\}$\n",
        "* $\\vec{c}_j\\in \\{$ Column $\\vec{v}$ of $C\\,\\}$\n",
        "\n",
        "Calculate\n",
        "* $[A\\cdot C](i,j)=\\vec{a}_i^T\\cdot \\vec{c}_j$\n",
        "* $[B\\cdot C](i,j)=\\vec{b}_i^T\\cdot \\vec{c}_j$\n",
        "* $[(A+B)\\cdot C](i,j)=(\\vec{a}_i^T+\\vec{b}_i^T)\\cdot \\vec{c}_j$\n",
        "\n",
        "According to Dot Product\n",
        "* $\\forall \\vec{x},\\vec{y},\\vec{z}\\in V^N\\,:(\\vec{x}+\\vec{y})\\cdot\\vec{z}=\\vec{x}\\cdot\\vec{z}+\\vec{y}\\cdot\\vec{z}\\in F$\n",
        "\n",
        "Implies that\n",
        "* $[(A+B)\\cdot C](i,j)=\\vec{a}_i^T\\cdot \\vec{c}_j+\\vec{b}_i^T\\cdot \\vec{c}_j$\n",
        "\n",
        "Therefore\n",
        "* $(A+B)\\cdot C=A\\cdot C+B\\cdot C$\n",
        "\n",
        "###Part 2: $C\\cdot (A+B)=C\\cdot A+C\\cdot B$\n",
        "\n",
        "Define Vector\n",
        "* $\\vec{a}_i\\in \\{$ Column $\\vec{v}$ of $A\\,\\}$\n",
        "* $\\vec{b}_i\\in \\{$ Column $\\vec{v}$ of $B\\,\\}$\n",
        "* $\\vec{c}_j^T\\in \\{$ Row $\\vec{v}$ of $C\\,\\}$\n",
        "\n",
        "Calculate\n",
        "* $[C\\cdot A](j,i)=\\vec{c}_j^T\\cdot \\vec{a}_i$\n",
        "* $[C\\cdot B](j,i)=\\vec{c}_j^T\\cdot \\vec{b}_i$\n",
        "* $[C\\cdot (A+B)](j,i)=\\vec{c}_j^T\\cdot (\\vec{a}_i+\\vec{b}_i)$\n",
        "\n",
        "Therefore\n",
        "* $C\\cdot (A+B)=C\\cdot A+C\\cdot B$\n",
        "\n",
        "###Conclusion\n",
        "\n",
        "$1^{\\text{st}}$ Statement\n",
        "\n",
        "* $\\forall A,B\\in V^{N\\times M}\\,:\\forall C\\in V^{M\\times P}$\n",
        "* $(A+B)\\cdot C=A\\cdot C+B\\cdot C$\n",
        "\n",
        "$2^{\\text{nd}}$ Statement\n",
        "\n",
        "* $\\forall A,B\\in V^{N\\times M}\\,:\\forall C\\in V^{P\\times N}$\n",
        "* $C\\cdot (A+B)=C\\cdot A+C\\cdot B$\n",
        "\n",
        "\n",
        "\n"
      ],
      "metadata": {
        "id": "ClVq0Zi94VTB"
      }
    },
    {
      "cell_type": "markdown",
      "source": [
        "##Associative Property of Dot Product\n",
        "\n",
        "Prove that\n",
        "* $\\forall\\vec{x},\\vec{y},\\vec{z}\\in V^N\\,:(\\vec{x}\\cdot\\vec{y})\\cdot\\vec{z}=\\vec{x}\\cdot(\\vec{y}\\cdot\\vec{z})$"
      ],
      "metadata": {
        "id": "mhTzZjFMfzP2"
      }
    },
    {
      "cell_type": "markdown",
      "source": [
        "###Solution\n",
        "\n",
        "Define\n",
        "* $a=\\vec{x}\\cdot\\vec{y}$\n",
        "* $b=\\vec{y}\\cdot\\vec{z}$\n",
        "\n",
        "Calculate $(\\vec{x}\\cdot\\vec{y})\\cdot\\vec{z}$\n",
        "* $(\\vec{x}\\cdot\\vec{y})\\cdot\\vec{z}=\\Sigma_j\\,(\\Sigma_i\\,x_iy_i)z_j$\n",
        "* $(\\vec{x}\\cdot\\vec{y})\\cdot\\vec{z}=\\Sigma_j\\,x_j(\\Sigma_i\\,y_iz_i)$\n",
        "\n",
        "Calculate $\\vec{x}\\cdot(\\vec{y}\\cdot\\vec{z})$\n",
        "* $\\vec{x}\\cdot(\\vec{y}\\cdot\\vec{z})=\\Sigma_i\\,x_i(\\Sigma_j\\,y_jz_j)$\n",
        "\n",
        "Therefore\n",
        "* $(\\vec{x}\\cdot\\vec{y})\\cdot\\vec{z}=\\vec{x}\\cdot(\\vec{y}\\cdot\\vec{z})$"
      ],
      "metadata": {
        "id": "Bp0dciZ-fzP3"
      }
    },
    {
      "cell_type": "markdown",
      "source": [
        "##Associative Property of Matrix Multiplication\n",
        "\n",
        "Prove that\n",
        "* $\\forall A,B,C\\in V^{N\\times N}\\,:(A\\cdot B)\\cdot C=A\\cdot (B\\cdot C)$"
      ],
      "metadata": {
        "id": "4iBwmnSu7_rK"
      }
    },
    {
      "cell_type": "markdown",
      "source": [
        "###Solution\n",
        "\n",
        "Suppose that\n",
        "* $A,B,C\\in V^{N\\times N}$\n",
        "* $\\vec{a}_i\\in\\{$ Column $\\vec{v}$ of $A\\,\\}$\n",
        "* $\\vec{a}_i^T\\in\\{$ Row $\\vec{v}$ of $A\\,\\}$\n",
        "* $\\vec{b}_i\\in\\{$ Column $\\vec{v}$ of $B\\,\\}$\n",
        "* $\\vec{b}_i^T\\in\\{$ Row $\\vec{v}$ of $B\\,\\}$\n",
        "* $\\vec{c}_i\\in\\{$ Column $\\vec{v}$ of $C\\,\\}$\n",
        "* $\\vec{c}_i^T\\in\\{$ Row $\\vec{v}$ of $C\\,\\}$\n",
        "\n",
        "Given that\n",
        "* $[A\\cdot B](i,j)=\\vec{a}_i^T\\cdot\\vec{b}_j$\n",
        "* $[B\\cdot C](i,j)=\\vec{b}_i^T\\cdot\\vec{c}_j$\n",
        "\n",
        "Calculate $(A\\cdot B)\\cdot C$\n",
        "* $[(A\\cdot B)\\cdot C](i,j)=\\Sigma_k\\,[A\\cdot B](i,k)\\cdot \\vec{c}_j(k)$\n",
        "* $[(A\\cdot B)\\cdot C](i,j)=\\Sigma_k\\,(\\vec{a}_i^T\\cdot\\vec{b}_k)c_{k,j}$\n",
        "* $[(A\\cdot B)\\cdot C](i,j)=\\Sigma_k\\,(\\Sigma_s\\,a_{i,s}b_{s,k})c_{k,j}$\n",
        "\n",
        "\n",
        "Calculate $A\\cdot (B\\cdot C)$\n",
        "* $[A\\cdot (B\\cdot C)](i,j)=\\Sigma_k\\,\\vec{a}_i^T(k)\\cdot[B\\cdot C](k,j)$\n",
        "* $[A\\cdot (B\\cdot C)](i,j)=\\Sigma_k\\,a_{i,k}(\\vec{b}_k^T\\cdot\\vec{c}_j)$\n",
        "* $[A\\cdot (B\\cdot C)](i,j)=\\Sigma_k\\,a_{i,k}(\\Sigma_s\\,b_{k,s}c_{s,j})$\n",
        "* $[A\\cdot (B\\cdot C)](i,j)=\\Sigma_s\\,a_{i,s}(\\Sigma_k\\,b_{s,k}c_{k,j})$\n",
        "\n",
        "Given that field $F$ have multiplicative distributive property over addition\n",
        "* $(a+b)c=ac+bc$\n",
        "\n",
        "Such that\n",
        "* $(a_1b_1+a_2b_2)c_1+(a_1b_1+a_2b_2)c_2=a_1b_1c_1+a_1b_1c_2+a_2b_2c_1+a_2b_2c_2$\n",
        "* $(a_1b_1+a_2b_2)c_1+(a_1b_1+a_2b_2)c_2=a_1(b_1c_1+b_1c_2)+a_2(b_2c_1+b_2c_2)$\n",
        "\n",
        "Implies that\n",
        "* $\\Sigma_k\\,(\\Sigma_s\\,a_{i,s}b_{s,k})c_{k,j}=\\Sigma_s\\,a_{i,s}(\\Sigma_k\\,b_{s,k}c_{k,j})$\n",
        "\n",
        "Therefore\n",
        "* $A\\cdot(B\\cdot C)=(A\\cdot B)\\cdot C$\n",
        "\n"
      ],
      "metadata": {
        "id": "pPAN62ZYZB1e"
      }
    },
    {
      "cell_type": "markdown",
      "source": [
        "#Type of Matrix"
      ],
      "metadata": {
        "id": "DSNQLTNHl8NN"
      }
    },
    {
      "cell_type": "markdown",
      "source": [
        "##Square Matrix\n",
        "\n",
        "Square Matrix is the Matrix that have the same number of columns and row.\n",
        "* $A\\in V^{N\\times N}$\n",
        "\n",
        "On the other hand, rectangle matrix does not have same number of columns and row.\n",
        "* $R,C\\in\\mathbb{N}$\n",
        "* $R\\neq C$\n",
        "* $B\\in V^{R\\times C}$"
      ],
      "metadata": {
        "id": "V2yBCbPzsiTy"
      }
    },
    {
      "cell_type": "markdown",
      "source": [
        "##Symmetric Matrix\n",
        "\n",
        "Given that $M$ is Square Matrix.\n",
        "* $M\\in V^{N\\times N}$\n",
        "\n",
        "Symmetric Matrix is defined as\n",
        "* $M(i,j)=M(j,i)$\n",
        "* $M=M^T$\n",
        "* $\\{$ Row $\\vec{v}$ of $M\\,\\}=\\{$ Column $\\vec{v}$ of $M\\,\\}$"
      ],
      "metadata": {
        "id": "snWNeGxtgO1X"
      }
    },
    {
      "cell_type": "markdown",
      "source": [
        "##Identity Matrix\n",
        "\n",
        "Define Identity Matrix\n",
        "* $I\\,:\\{1,...,N\\}\\times \\{1,...,N\\}\\to F$\n",
        "* $I\\in V^{N\\times N}$\n",
        "\n",
        "Define element with in the Identity Matrix\n",
        "* $\\forall a\\in \\{1,...,N\\}\\,:I(a,a)=1$\n",
        "* $\\forall a,b\\in \\{1,...,N\\}\\,:a\\neq b\\iff I(a,b)=0$\n",
        "\n",
        "Identity Matrix is Symmetric Matrix.\n",
        "* $I=I^T\\in V^{N\\times N}$\n",
        "* $\\{$ Row $\\vec{v}$ of $I\\,\\}=\\{$ Column $\\vec{v}$ of $I\\,\\}$\n",
        "\n",
        "Note that\n",
        "* $\\{$ Row $\\vec{v}$ of $I\\,\\}=$ Standard Basis of $V^N$\n",
        "\n",
        "$\\{$ Row $\\vec{v}$ of $I\\,\\}$ is Linear Independence, such that\n",
        "* $\\vec{0}=\\Sigma\\,a\\cdot\\vec{b}\\iff a_1=...=a_N=0$\n",
        "\n",
        "$\\{$ Row $\\vec{v}$ of $I\\,\\}$ is the Standard Basis of $V^N$ such that\n",
        "* $\\forall\\vec{v}\\in V^N\\,:\\exists a\\subset F\\,:\\vec{b}=\\{$ Row $\\vec{v}$ of $I\\,\\}\\,:\\vec{v}=\\Sigma\\,a\\cdot\\vec{b}$\n",
        "* $\\forall \\vec{v}\\in V^N\\,:\\vec{v}\\in\\text{span}(\\{$ Row $\\vec{v}$ of $I\\,\\})$\n",
        "* $\\forall \\vec{v}\\in\\text{span}(\\{$ Row $\\vec{v}$ of $I\\,\\})\\,:\\vec{v}\\in V^N$\n",
        "* $V^N=\\text{span}(\\{$ Row $\\vec{v}$ of $I\\,\\})$\n",
        "\n",
        "\n"
      ],
      "metadata": {
        "id": "Vb-meh1zpswn"
      }
    },
    {
      "cell_type": "markdown",
      "source": [
        "##Identity Matrix does not change the Matrix\n",
        "\n",
        "Prove that\n",
        "* $A\\cdot I=I\\cdot A=A$"
      ],
      "metadata": {
        "id": "fDb3eoL_hB8H"
      }
    },
    {
      "cell_type": "markdown",
      "source": [
        "###Solution\n",
        "\n",
        "###Part 1: $A\\cdot I$\n",
        "\n",
        "Define\n",
        "* $A\\in V^{P\\times N}$\n",
        "* $I\\in V^{N\\times N}$\n",
        "* $I=$ Identity Matrix\n",
        "* $\\vec{b}_j\\in\\{$ Column $\\vec{v}$ of $I\\,\\}$\n",
        "\n",
        "Note that\n",
        "* $\\vec{b}_j(i)=0\\iff i\\neq j$\n",
        "* $\\vec{b}_j(j)=1$\n",
        "* $\\forall a\\in F\\,:a\\cdot0=0$\n",
        "\n",
        "Calculate $A\\cdot I$\n",
        "* $[A\\cdot I](i,j)=\\vec{a}^T_i\\cdot\\vec{b}_j$\n",
        "* $[A\\cdot I](i,j)=\\vec{a}^T_i(j)\\vec{b}_j(j)$\n",
        "* $[A\\cdot I](i,j)=a_{i,j}$\n",
        "* $[A\\cdot I](i,j)=A(i,j)$\n",
        "\n",
        "Therefore\n",
        "* $A\\cdot I=A$\n",
        "\n",
        "###Part 2: $I\\cdot S$\n",
        "\n",
        "Define\n",
        "* $S\\in V^{N\\times P}$\n",
        "* $\\vec{s}_i\\in\\{$ Column $\\vec{v}$ of $S\\,\\}$\n",
        "\n",
        "Calculate $I\\cdot S$\n",
        "* $[I\\cdot S](i,j)=\\vec{b}_i^T\\cdot \\vec{s}_j$\n",
        "* $[I\\cdot S](i,j)=\\vec{b}_i^T(i)\\cdot \\vec{s}_j(i)$\n",
        "* $[I\\cdot S](i,j)=s_{i,j}$\n",
        "* $[I\\cdot S](i,j)=S(i,j)$\n",
        "\n",
        "Therefore\n",
        "* $I\\cdot S=S$\n",
        "\n",
        "###Part 3: $C\\cdot I=I\\cdot C$\n",
        "\n",
        "Define\n",
        "* $C\\in V^{N\\times N}$\n",
        "\n",
        "Given that\n",
        "* $A\\cdot I=A$\n",
        "* $I\\cdot S=S$\n",
        "\n",
        "Therefore\n",
        "* $C\\cdot I=I\\cdot C=C$\n",
        "\n",
        "###Conclusion\n",
        "\n",
        "$1^{\\text{st}}$ Statement\n",
        "\n",
        "* $\\forall A\\in V^{P\\times N}\\,:A\\cdot I=A$\n",
        "\n",
        "$2^{\\text{nd}}$ Statement\n",
        "\n",
        "* $\\forall A\\in V^{N\\times P}\\,:I\\cdot A=A$\n",
        "\n",
        "\n",
        "$3^{\\text{rd}}$ Statement\n",
        "\n",
        "* $\\forall A\\in V^{N\\times N}\\,:A\\cdot I=I\\cdot A=A$\n",
        "\n"
      ],
      "metadata": {
        "id": "lSnBbPk3hOKF"
      }
    },
    {
      "cell_type": "markdown",
      "source": [
        "##Inverse Matrix\n",
        "\n",
        "Suppose that\n",
        "* $A\\in V^{N\\times N}$\n",
        "\n",
        "The Inverse matrix is defined as\n",
        "* $A^-\\in V^{N\\times N}$\n",
        "\n",
        "Such that\n",
        "* $A\\cdot A^-=A^-\\cdot A=I$\n",
        "\n",
        "Note that Singular Matrix is the matrix that have no inverse, such that\n",
        "* $\\forall A\\in\\{$ Singular Matrix $\\}\\,:\\forall B\\in V^{N\\times N}\\,:A\\cdot B,B\\cdot A\\neq I$"
      ],
      "metadata": {
        "id": "5IuPkJQSmEI8"
      }
    }
  ]
}