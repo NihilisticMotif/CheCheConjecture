{
  "nbformat": 4,
  "nbformat_minor": 0,
  "metadata": {
    "colab": {
      "provenance": [],
      "toc_visible": true,
      "authorship_tag": "ABX9TyNxOnX8yPmI9i/uPfDOO4U5",
      "include_colab_link": true
    },
    "kernelspec": {
      "name": "python3",
      "display_name": "Python 3"
    },
    "language_info": {
      "name": "python"
    }
  },
  "cells": [
    {
      "cell_type": "markdown",
      "metadata": {
        "id": "view-in-github",
        "colab_type": "text"
      },
      "source": [
        "<a href=\"https://colab.research.google.com/github/NihilisticMotif/CheCheConjecture/blob/main/LinearAlgebra/Finite_Vector_Space_Part_2_Linear_Span_and_Basis.ipynb\" target=\"_parent\"><img src=\"https://colab.research.google.com/assets/colab-badge.svg\" alt=\"Open In Colab\"/></a>"
      ]
    },
    {
      "cell_type": "markdown",
      "source": [
        "#Introduction\n",
        "\n",
        "This is the second part of my Finite Vector Space Series. The purpose of this lecture is to\n",
        "1. Learn the definition of Matrix and Standard Basis of $V^N$\n",
        "2. Applying the definition of Matrix, Standard Basis, the theorem in previous chapter and Gauss Elimination to prove new theorem about Linear Span and Basis.\n",
        "\n",
        "You can read the recommendation lecture here\n",
        "1. Finite Vector Space Part 1: Definition.ipynb\n",
        "* https://colab.research.google.com/drive/1FNB9UOtcOSCURKrgTOvg7PfeZ1HR_-H5?usp=sharing\n",
        "2. Gaussian Elimination Part 1: Introduction.ipynb\n",
        "* https://colab.research.google.com/drive/1_4to60P2_vUQkb2-C4V21T_mcCGEVjY-?usp=sharing"
      ],
      "metadata": {
        "id": "zobWL0GxrnGC"
      }
    },
    {
      "cell_type": "markdown",
      "source": [
        "#Definition"
      ],
      "metadata": {
        "id": "HogQ_Q-dep4O"
      }
    },
    {
      "cell_type": "markdown",
      "source": [
        "##Matrix\n",
        "\n",
        "Define $I(n)$ as map between natural number and indexing set.\n",
        "* $\\forall n\\in\\mathbb{N}\\,:I(n)=\\{1,...,n\\}$\n",
        "* $I\\,:\\mathbb{N}\\to\\{1,...,n\\}$\n",
        "* $i\\in I(m)$\n",
        "* $j\\in I(n)$\n",
        "\n",
        "Matrix is the 2 dimensional array of numbers.\n",
        "* $A\\,:I(m)\\times I(n)\\to a_{i,j}$\n",
        "* $A(i,j)=a_{i,j}$\n",
        "* $A=A_{m\\times n}=\\begin{bmatrix}\n",
        "a_{1,1}&a_{1,2}&...&a_{1,n}\\\\\n",
        "a_{2,1}&a_{2,2}&...&a_{2,n}\\\\\n",
        "...&...&...&...\\\\\n",
        "a_{m,1}&a_{m,2}&...&a_{m,n}\n",
        "\\end{bmatrix}$\n",
        "\n",
        "Matrix is also a function that map 2 set $I(m)$ and $I(n)$ with the number with in the matrix $a_{i,j}$\n",
        "* https://math.stackexchange.com/questions/1811886/what-is-the-most-rigorous-definition-of-a-matrix\n",
        "\n",
        "\n",
        "\n"
      ],
      "metadata": {
        "id": "pBuboN80H8AZ"
      }
    },
    {
      "cell_type": "markdown",
      "source": [
        "###Row and Column Space\n",
        "\n",
        "Define\n",
        "* $M\\in V^{N\\times N}$\n",
        "* $M=\\begin{bmatrix}\n",
        "v_{1,1}&v_{1,2}&...&v_{1,n}\\\\\n",
        "v_{2,1}&v_{2,2}&...&v_{2,n}\\\\\n",
        "...&...&...&...\\\\\n",
        "v_{m,1}&v_{m,2}&...&v_{m,n}\n",
        "\\end{bmatrix}$\n",
        "* $M(i,j)=v_{i,j}$\n",
        "\n",
        "###Column Vector\n",
        "\n",
        "The set of all column vectors of $M=\\{$ Column $\\vec{v}$ of $M\\,\\}$\n",
        "* $\\forall \\vec{v}_i\\in \\{$ Column $\\vec{v}$ of $M\\,\\}\\,:\\vec{v}_i=(\\,v_{1,i},...,v_{N,i}\\,)$\n",
        "* $\\forall \\vec{v}_i\\in \\{$ Column $\\vec{v}$ of $M\\,\\}\\,:\\vec{v}_i=(\\,M(1,i),...,M(N,i)\\,)$\n",
        "* Column Space $=\\text{span}(\\{$ Column $\\vec{v}$ of $M\\,\\})$\n",
        "\n",
        "\n",
        "###Row Vector\n",
        "\n",
        "The set of all row vectors of $M=\\{$ Row $\\vec{v}$ of $M\\,\\}$\n",
        "* $\\forall \\vec{v}_i\\in \\{$ Row $\\vec{v}$ of $M\\,\\}\\,:\\vec{v}_i=(\\,v_{i,1},...,v_{i,N}\\,)$\n",
        "* $\\forall \\vec{v}_i\\in \\{$ Row $\\vec{v}$ of $M\\,\\}\\,:\\vec{v}_i=(\\,M(i,1),...,M(i,N)\\,)$\n",
        "* Row Space $=\\text{span}(\\{$ Row $\\vec{v}$ of $M\\,\\})$\n",
        "\n"
      ],
      "metadata": {
        "id": "fUBnAmlVnlgw"
      }
    },
    {
      "cell_type": "markdown",
      "source": [
        "###Matrix multiply with Vector\n",
        "\n",
        "Then Define $M$\n",
        "* $M=\\begin{bmatrix}\n",
        "v_{1,1}&v_{1,2}&...&v_{1,m}\\\\\n",
        "v_{2,1}&v_{2,2}&...&v_{2,m}\\\\\n",
        "...&...&...&...\\\\\n",
        "v_{N,1}&v_{N,2}&...&v_{N,m}\n",
        "\\end{bmatrix}$\n",
        "\n",
        "Define the Column Vector of $M$\n",
        "* $\\{$ Column $\\vec{v}$ of $M\\,\\}=\\{\\vec{v}_1,\\vec{v}_2,...,\\vec{v}_m\\}\\subset V^N$\n",
        "* $|\\{$ Column $\\vec{v}$ of $M\\,\\}|=m$\n",
        "\n",
        "Given that\n",
        "* $\\text{span}(\\{$ Column $\\vec{v}$ of $M\\,\\})=\\text{span}(\\vec{v}_1,...,\\vec{v}_m)$\n",
        "* $\\text{span}(\\{$ Column $\\vec{v}$ of $M\\,\\})=\\{x_1\\vec{v}_1+...+x_m\\vec{v}_m|x_1,...,x_m\\in F\\}$\n",
        "* Linear Combination $=\\vec{y}=x_1\\vec{v}_1+...+x_m\\vec{v}_m$\n",
        "\n",
        "Then Define $\\vec{x}$\n",
        "* $\\vec{x}=(x_1,...,x_m)\\in V^m$\n",
        "\n",
        "Then Define $\\vec{y}$\n",
        "* $\\vec{y}=M\\cdot\\vec{x}\\in V^N$\n",
        "\n",
        "##Interpretation of Matrix\n",
        "\n",
        "One of the main purpose of matrix is to define the linear combination and linear span of the given sets of scalar numbers $\\vec{x}$ and set of vectors $\\{\\vec{v}_1,...,\\vec{v}_m\\}=\\{$ Column $\\vec{v}$ of $M\\,\\}$ such that\n",
        "* $\\vec{y}=M\\cdot\\vec{x}$ is the particular linear combination of $\\{\\vec{v}_1,...,\\vec{v}_m\\}$\n",
        "\n",
        "The other interpretation of Matrix $M$ is $M$ is the linear map (function) between 2 Vector Space, $V^m$ and $V^N$ such that\n",
        "* $\\forall M\\in V^{m\\times n}\\,:M\\,:V^m\\to V^N$\n",
        "* $\\forall\\vec{x}\\in V^m\\,:M\\cdot\\vec{x}\\in V^N$"
      ],
      "metadata": {
        "id": "HT11ooiCVll-"
      }
    },
    {
      "cell_type": "markdown",
      "source": [
        "###Transpose\n",
        "\n",
        "Define\n",
        "* $M\\in V^{N\\times N}$\n",
        "\n",
        "Then\n",
        "* $M(a,a)=M^T(a,a)$\n",
        "* $M(a,b)=M^T(b,a)$\n",
        "* $\\{$ Row $\\vec{v}$ of $M\\,\\}=\\{$ Column $\\vec{v}$ of $M^T\\,\\}$\n",
        "* $\\{$ Column $\\vec{v}$ of $M\\,\\}=\\{$ Row $\\vec{v}$ of $M^T\\,\\}$\n",
        "\n",
        "Interpretation\n",
        "* $\\{M^T\\cdot\\vec{x}|\\vec{x}\\in V^N\\}=\\text{span}(\\{$ Row $\\vec{v}$ of $M\\,\\})$"
      ],
      "metadata": {
        "id": "X47NP8Go7tOL"
      }
    },
    {
      "cell_type": "markdown",
      "source": [
        "##Basis of Vector Space $V^N$"
      ],
      "metadata": {
        "id": "n27w7XhrgLFF"
      }
    },
    {
      "cell_type": "markdown",
      "source": [
        "###Orthonormal Basis\n",
        "\n",
        "It is the basis vector $\\vec{b}_i$ in the Basis $B$ in which\n",
        "* $B$ is Linear Independence\n",
        "* $\\forall\\vec{b}_i\\in B\\,:\\vec{b}_i\\cdot\\vec{b}_i=1$\n",
        "* $\\forall\\vec{b}_i,\\vec{b}_j\\in B\\,:\\vec{b}_i\\cdot\\vec{b}_j=0\\iff \\vec{b}_i\\neq\\vec{b}_j$\n",
        "\n",
        "Reference\n",
        "* https://mathworld.wolfram.com/OrthonormalBasis.html"
      ],
      "metadata": {
        "id": "KHBxfihYgfw8"
      }
    },
    {
      "cell_type": "markdown",
      "source": [
        "###Standard Basis\n",
        "\n",
        "It is the special type of Orthonormal Basis that every vector within $B$ has a single nonzero entry with value 1.\n",
        "* $\\forall i,j\\in\\{1,...,N\\}\\land\\forall \\vec{b}_j\\in B\\,:\\vec{b}_j(i)=0\\iff i\\neq j$\n",
        "* $\\forall i\\in\\{1,...,N\\}\\land\\forall \\vec{b}_i\\in B\\,:\\vec{b}_i(i)=1$\n",
        "\n",
        "Reference\n",
        "* https://mathworld.wolfram.com/StandardBasis.html\n"
      ],
      "metadata": {
        "id": "lOzppIjoglxv"
      }
    },
    {
      "cell_type": "markdown",
      "source": [
        "###Identity Matrix\n",
        "\n",
        "Define Identity Matrix\n",
        "* $I\\,:\\{1,...,N\\}\\times \\{1,...,N\\}\\to F$\n",
        "* $I\\in V^{N\\times N}$\n",
        "* $I(a,b)\\in I$\n",
        "\n",
        "Define element with in the Identity Matrix\n",
        "* $\\forall a\\in \\{1,...,N\\}\\,:I(a,a)=1$\n",
        "* $\\forall a,b\\in \\{1,...,N\\}\\,:a\\neq b\\iff I(a,b)=0$\n",
        "\n",
        "Identity Matrix is Symmetric Matrix\n",
        "* $I=I^T\\in V^{N\\times N}$\n",
        "* $\\{$ Row $\\vec{v}$ of $I\\,\\}=\\{$ Column $\\vec{v}$ of $I\\,\\}$\n",
        "\n",
        "Note that\n",
        "* $\\{$ Row $\\vec{v}$ of $I\\,\\}=$ Standard Basis of $V^N$\n",
        "\n",
        "$\\{$ Row $\\vec{v}$ of $I\\,\\}$ is Linear Independence, such that\n",
        "* $\\vec{0}=\\Sigma\\,a\\cdot\\vec{b}\\iff a_1=...=a_N=0$\n",
        "\n",
        "$\\{$ Row $\\vec{v}$ of $I\\,\\}$ is the Standard Basis of $V^N$ such that\n",
        "* $\\exists a\\subset F\\land \\vec{b}=\\{$ Row $\\vec{v}$ of $I\\,\\}\\,:\\vec{v}=\\Sigma\\,a\\cdot\\vec{b}$\n",
        "* $\\forall \\vec{v}\\in V^N\\,:\\vec{v}\\in\\text{span}(\\{$ Row $\\vec{v}$ of $I\\,\\})$\n",
        "* $\\forall \\vec{v}\\in\\text{span}(\\{$ Row $\\vec{v}$ of $I\\,\\})\\,:\\vec{v}\\in V^N$\n",
        "* $V^N=\\text{span}(\\{$ Row $\\vec{v}$ of $I\\,\\})$\n",
        "\n",
        "\n"
      ],
      "metadata": {
        "id": "Vb-meh1zpswn"
      }
    },
    {
      "cell_type": "markdown",
      "source": [
        "##Gauss Elimination\n",
        "\n",
        "It is the algorithm that is used for solving this equation\n",
        "* $M\\cdot\\vec{x}=\\vec{y}$\n",
        "\n",
        "Where\n",
        "* $M\\in V^{N\\times N}$\n",
        "* $\\vec{x},\\vec{y}\\in V^N$\n",
        "\n",
        "We want to find $\\vec{x}=\\,?$\n",
        "\n",
        "##Reduced Row Echelon Form of Matrix\n",
        "\n",
        "The matrix in Reduced Row Echelon Form is the special type of matrix that transformed by Gauss Elimination algorithm, such that\n",
        "* $\\text{GE}(M,\\vec{y})=\\{\\text{rref}(M),\\vec{x}\\}$\n",
        "* the input value of $\\vec{y}$ does not effect $\\text{rref}(M)$\n",
        "\n",
        "Note that\n",
        "* $\\{$ Row $\\vec{v}$ of $M\\,\\}\\in\\text{span}(\\{$ Row $\\vec{v}$ of $\\text{rref}(M)\\,\\})$\n",
        "\n",
        "You can read more about Gauss Elimination and Reduced Row Echelon Form of Matrix in this documentation.\n",
        "* Gaussian Elimination Part 1: Introduction.ipynb\n",
        "* https://colab.research.google.com/drive/1_4to60P2_vUQkb2-C4V21T_mcCGEVjY-?usp=sharing\n",
        "\n"
      ],
      "metadata": {
        "id": "oiZX2N12kHMX"
      }
    },
    {
      "cell_type": "markdown",
      "source": [
        "#Linear Span"
      ],
      "metadata": {
        "id": "xAtFOQMNLOyf"
      }
    },
    {
      "cell_type": "markdown",
      "source": [
        "##Replacing $\\vec{v}$ with $\\vec{x}$, get the same Linear Span\n",
        "\n",
        "Suppose that\n",
        "* $\\forall S\\subset V^N$\n",
        "* $\\forall \\vec{v}_i\\in S$\n",
        "* $\\forall \\lambda\\in F-0$\n",
        "\n",
        "Prove that\n",
        "* $\\exists \\vec{x}\\in\\text{span}(S)\\,:\\text{span}(S)=\\text{span}(\\{S-\\vec{v}_i\\}\\cup\\{\\vec{x}\\})$\n",
        "* $\\forall \\vec{x}\\in\\text{span}(S)+\\lambda\\cdot\\vec{v}_i\\,:\\text{span}(S)=\\text{span}(\\{S-\\vec{v}_i\\}\\cup\\{\\vec{x}\\})$\n",
        "\n"
      ],
      "metadata": {
        "id": "yBIUD0rFAtb-"
      }
    },
    {
      "cell_type": "markdown",
      "source": [
        "###Solution\n",
        "\n",
        "Define $S$\n",
        "* $S=\\{\\vec{v}_1,...,\\vec{v}_N\\}\\subset V^N$\n",
        "* $\\text{span}(S)=\\{\\Sigma\\,a\\cdot\\vec{v}|a\\subset F\\}$\n",
        "\n",
        "Define $\\vec{x}$\n",
        "* $\\vec{x}\\in \\{\\text{span}(S)+\\lambda\\cdot\\vec{v}_i|\\lambda\\in F-0\\}$\n",
        "* $\\vec{x}=b_i\\cdot\\vec{v}_i+...+b_j\\cdot\\vec{v}_j$\n",
        "\n",
        "Define $\\vec{u}$\n",
        "* $\\vec{u}\\in\\text{span}(S)$\n",
        "* $\\vec{u}=\\Sigma\\, c\\cdot\\vec{v}$\n",
        "* $\\vec{u}=c_1\\cdot\\vec{v}_1+...c_i\\cdot\\vec{v}_i+...+c_j\\cdot\\vec{v}_j$\n",
        "\n",
        "Define $\\vec{w}$\n",
        "* $\\vec{w}\\in\\text{span}(\\{S-\\vec{v}_i\\}\\cup\\vec{x})$\n",
        "* $\\vec{w}=c_1\\cdot\\vec{v}_1+...+0\\cdot\\vec{v}_i+...+x_j\\cdot\\vec{v}_j+\\lambda \\cdot\\vec{x}$\n",
        "* $\\vec{w}=c_1\\cdot\\vec{v}_1+...+0\\cdot\\vec{v}_i+...+x_j\\cdot\\vec{v}_j+\\lambda \\cdot(b_i\\cdot\\vec{v}_i+...+b_j\\cdot\\vec{v}_j)$\n",
        "* $\\vec{w}=c_1\\cdot\\vec{v}_1+...+0\\cdot\\vec{v}_i+...+x_j\\cdot\\vec{v}_j+\\lambda \\cdot b_i\\cdot\\vec{v}_i+...+\\lambda b_j\\cdot\\vec{v}_j$\n",
        "* $\\vec{w}=c_1\\cdot\\vec{v}_1+...+\\lambda \\cdot b_i\\cdot\\vec{v}_i+...+(\\lambda b_j+x_j)\\cdot\\vec{v}_j$\n",
        "\n",
        "Check if $\\vec{u}-\\vec{w}=\\vec{0}$\n",
        "* $\\vec{u}-\\vec{w}=c_i\\cdot\\vec{v}_i+...+c_j\\cdot\\vec{v}_j-(\\lambda \\cdot b_i\\cdot\\vec{v}_i+...+(\\lambda b_j+x_j)\\cdot\\vec{v}_j)$\n",
        "* $\\vec{u}-\\vec{w}=(c_i-\\lambda \\cdot b_i)\\cdot\\vec{v}_i+...+(c_j-\\lambda b_j+x_j)\\cdot\\vec{v}_j$\n",
        "\n",
        "If: $\\lambda=\\frac{c_i}{b_i}$\n",
        "* $\\vec{u}-\\vec{w}=0\\cdot\\vec{v}_i+(c_{i+1}-b_{i+1}\\cdot\\frac{c_i}{b_i}+x_{i+1})\\cdot\\vec{v}_{i+1}+...+(c_j-\\frac{c_i}{b_i}\\cdot b_j+x_j)$\n",
        "\n",
        "Because $F$ have unique additive inverse for every number with in $F$. There is the unique solution of $x_{i+1},...,x_j\\in F$ such that\n",
        "* $\\vec{u}-\\vec{w}=\\vec{0}$\n",
        "* $\\vec{w}-\\vec{u}=\\vec{0}$\n",
        "\n",
        "Implies that\n",
        "* $\\text{span}(S)=\\text{span}(\\{S-\\vec{v}_i\\}\\cup\\{\\vec{x}\\})$\n",
        "\n",
        "###Therefore\n",
        "\n",
        "$1^{\\text{st}}$ Statement\n",
        "\n",
        "You can replace any vector $\\vec{v}_i$ in $S$ with some $\\vec{x}$ and get the same linear span $\\text{span}(S)$\n",
        "* $\\exists \\vec{x}\\in\\text{span}(S)\\,:\\text{span}(S)=\\text{span}(\\{S-\\vec{v}_i\\}\\cup\\{\\vec{x}\\})$\n",
        "\n",
        "$2^{\\text{nd}}$ Statement\n",
        "\n",
        "You can replace any vector $\\vec{v}_i$ in $S$ with any $\\vec{x}$ and get the same linear span $\\text{span}(S)$ if $\\vec{x}$ have $\\vec{v}_i$ as one of its linear components.\n",
        "* $\\lambda\\neq0\\,:\\forall \\vec{x}\\in\\text{span}(S)+\\lambda\\cdot \\vec{v}_i\\,:\\text{span}(S)=\\text{span}(\\{S-\\vec{v}_i\\}\\cup\\{\\vec{x}\\})$\n"
      ],
      "metadata": {
        "id": "mJvf1D2Iq6r8"
      }
    },
    {
      "cell_type": "markdown",
      "source": [
        "##Row Space of $M$ is Row Space of RREF $M$\n",
        "\n",
        "Prove that\n",
        "* $\\forall M\\in V^{N\\times N}\\,:\\text{span}(\\{$ Row of $M\\,\\})=\\text{span}(\\{$ Row of $\\text{rref}(M)\\,\\})$"
      ],
      "metadata": {
        "id": "bs5S8TmplNKY"
      }
    },
    {
      "cell_type": "markdown",
      "source": [
        "###Solution\n",
        "\n",
        "Define\n",
        "* $M\\in V^{N\\times N}$\n",
        "* $\\text{rref}(M)=$ Reduced Row Echelon Form of $M$\n",
        "* $S=\\{$ Row $\\vec{v}$ of $M\\,\\}=$ Row Vectors of $M$\n",
        "* $S=\\{\\vec{v}_1,...,\\vec{v}_N\\}$\n",
        "* $\\vec{v}_i,\\vec{v}_j\\in S$\n",
        "\n",
        "Gauss Elimination algorithm transform $M$ to $\\text{rref}(M)$ such that\n",
        "\n",
        "$1^{\\text{st}}$ Process\n",
        "\n",
        "Scaling $\\vec{v}_i$ with non zero number.\n",
        "* $\\forall a\\in F-0\\,:a\\cdot\\vec{v}_i$\n",
        "\n",
        "$2^{\\text{nd}}$ Process\n",
        "\n",
        "Additing $\\vec{v}_i$ with the Linear Combination of other vector except itself.\n",
        "* $\\forall \\vec{u}\\in\\text{span}(S-\\vec{v}_i)\\,:\\vec{v}_i+\\vec{u}$\n",
        "\n",
        "Given that we can replace any vector $\\vec{v}_i$ in $S$ with $\\vec{x}$ and get the same $S$\n",
        "* $\\lambda\\neq 0\\,:\\forall \\vec{x}\\in\\text{span}(S)+\\lambda\\cdot \\vec{v}_i\\,:\\text{span}(S)=\\text{span}(\\{S-\\vec{v}_i\\}\\cup\\{\\vec{x}\\})$\n",
        "\n",
        "Implies that\n",
        "1. The first process is equivalent to replace $\\vec{v}_i$ with $\\vec{x}=\\lambda\\cdot\\vec{v}_i$\n",
        "* $\\text{span}(S)=\\text{span}(\\{S-\\vec{v}_i\\}\\cup \\{\\lambda\\cdot\\vec{v}_i\\})$\n",
        "2. The second process is equivalent to replace $\\vec{v}_i$ with $\\vec{x}=\\Sigma\\,a\\cdot\\vec{v}+\\lambda\\cdot\\vec{v}_i$\n",
        "* $\\text{span}(S)=\\text{span}(\\{S-\\vec{v}_i\\}\\cup \\{\\Sigma\\,a\\cdot\\vec{v}+\\lambda\\cdot\\vec{v}_i\\})$\n",
        "\n",
        "Therefore\n",
        "* $\\text{span}(S)=\\text{span}(\\{$ Row $\\vec{v}$ of $M\\,\\})=\\text{span}(\\{$ Row $\\vec{v}$ of $\\text{rref}(M)\\,\\})$\n",
        "\n",
        "\n"
      ],
      "metadata": {
        "id": "MV5U_5qTojIj"
      }
    },
    {
      "cell_type": "markdown",
      "source": [
        "##$N-1$ Vectors Linear Span is not $V^N$\n",
        "\n",
        "Prove that\n",
        "* $\\forall S\\subset V^N\\,: |S|\\leq N-1\\implies\\text{span}(S)\\neq V^N$"
      ],
      "metadata": {
        "id": "BB_O58YP6uJ9"
      }
    },
    {
      "cell_type": "markdown",
      "source": [
        "###Solution\n",
        "\n",
        "Define\n",
        "* $M\\in V^{N\\times N}$\n",
        "* $S=\\{\\vec{s}_1,...,\\vec{s}_{N-1}\\}$\n",
        "* $S\\cup\\vec{0}=\\{$ Row $\\vec{v}$ of $M\\,\\}$\n",
        "\n",
        "Given that\n",
        "\n",
        "$1^{\\text{st}}$ Statement\n",
        "* $\\forall M\\in V^{N\\times N}\\,:\\text{span}(\\{$ Row of $M\\,\\})=\\text{span}(\\{$ Row of $\\text{rref}(M)\\,\\})$\n",
        "\n",
        "$2^{\\text{nd}}$ Statement\n",
        "* $\\{$ Row $\\vec{v}$ of $I\\,\\}$ is the Standard Basis of $V^N$\n",
        "\n",
        "$3^{\\text{rd}}$ Statement\n",
        "\n",
        "Gauss Elimination algorithm transform $M$ to $\\text{rref}(M)$ such that\n",
        "1. Scaling $\\vec{v}_i$ with non zero number.\n",
        "* $\\forall a\\in F-0\\,:a\\cdot\\vec{v}_i$\n",
        "2. Additing $\\vec{v}_i$ with the Linear Combination of other vector except itself.\n",
        "* $\\forall \\vec{u}\\in\\text{span}(S-\\vec{v}_i)\\,:\\vec{v}_i+\\vec{u}$\n",
        "\n",
        "Because $\\vec{0}$ is Additive Identity, such that\n",
        "* $\\forall \\lambda\\in F\\,:\\vec{v}+\\lambda\\,\\cdot\\vec{0}=\\vec{v}$\n",
        "\n",
        "Implies that there is no ways to transform Matrix $M$ to Identity Matrix $I$ therefore\n",
        "* $\\exists\\vec{b}\\in\\{$ Row $\\vec{v}$ of $I\\,\\}\\,:\\vec{b}\\not\\in \\{$ Row of $\\text{rref}(M)\\,\\}$\n",
        "* $\\exists\\vec{b}\\in V^N\\,:\\vec{b}\\not\\in \\text{span}(S)$\n",
        "\n",
        "###Therefore\n",
        "\n",
        "$1^{\\text{st}}$ Statement\n",
        "* $\\forall S\\subset V^N\\,: |S|\\leq N-1\\implies\\text{span}(S)\\neq V^N$\n",
        "\n",
        "$2^{\\text{nd}}$ Statement\n",
        "* $\\forall M\\in V^{N\\times N}\\,:\\vec{0}\\in\\{$ Row of $M\\,\\}\\implies \\text{rref}(M)\\neq I$\n"
      ],
      "metadata": {
        "id": "pKEd9phNvnwA"
      }
    },
    {
      "cell_type": "markdown",
      "source": [
        "##If $|S|=N$ and $S$ is Linear Dependence implies that $S\\neq V^N$\n",
        "\n",
        "Prove that\n",
        "* $\\forall S\\subset V^N\\,:|S|= N\\land S$ is Linear Dependence $\\implies \\text{span}(S)\\neq V^N$"
      ],
      "metadata": {
        "id": "ksGvosEPzXKz"
      }
    },
    {
      "cell_type": "markdown",
      "source": [
        "###Solution\n",
        "\n",
        "Define $S$\n",
        "* $S\\subset V^N$\n",
        "* $|S|=N$\n",
        "* $S=\\{\\vec{s}_1,...,\\vec{s}_N\\}$\n",
        "* $S$ is Linear Dependence\n",
        "\n",
        "Define $M$\n",
        "* $M\\in V^{N\\times N}$\n",
        "* $S=\\{$ Row $\\vec{v}$ of $M\\,\\}$\n",
        "\n",
        "According to this theorems\n",
        "\n",
        "$1^{\\text{st}}$ Statement\n",
        "* $\\forall M\\in V^{N\\times N}\\,:\\text{span}(\\{$ Row of $M\\,\\})=\\text{span}(\\{$ Row of $\\text{rref}(M)\\,\\})$\n",
        "\n",
        "$2^{\\text{nd}}$ Statement\n",
        "* $\\{$ Row $\\vec{v}$ of $I\\,\\}$ is the Standard Basis of $V^N$\n",
        "\n",
        "$3^{\\text{rd}}$ Statement\n",
        "\n",
        "Gauss Elimination algorithm transform $M$ to $\\text{rref}(M)$ such that\n",
        "1. Scaling $\\vec{v}_i$ with non zero number.\n",
        "* $\\forall a\\in F-0\\,:a\\cdot\\vec{v}_i$\n",
        "2. Additing $\\vec{v}_i$ with the Linear Combination of other vector except itself.\n",
        "* $\\forall \\vec{u}\\in\\text{span}(S-\\vec{v}_i)\\,:\\vec{v}_i+\\vec{u}$\n",
        "\n",
        "$4^{\\text{th}}$ Statement\n",
        "\n",
        "* $\\exists\\vec{v}_i\\in S\\,:\\vec{v}_i\\in\\text{span}(S-\\vec{v}_i)\\iff S$ is Linear Dependence\n",
        "\n",
        "Because $S$ is Linear Dependence, implies that after transforming $M$ to $\\text{rref}(M)$. There will be $\\vec{0}$ in $\\text{rref}(M)$\n",
        "* $\\vec{0}\\in\\{$ Row $\\vec{v}$ of $\\text{rref}(M)\\,\\}$\n",
        "\n",
        "Because $|\\{$ Row $\\vec{v}$ of $\\text{rref}(M)\\,\\}|=N$ implies that\n",
        "* $\\exists \\vec{b}\\in\\{$ Row $\\vec{v}$ of $I\\,\\}\\,:\\vec{b}\\not\\in \\{$ Row $\\vec{v}$ of $\\text{rref}(M)\\,\\}$\n",
        "* $\\exists \\vec{v}\\in V^N\\,:\\vec{v}\\not\\in S$\n",
        "\n",
        "###Therefore\n",
        "\n",
        "$1^{\\text{st}}$ Statement\n",
        "* $\\forall S\\subset V^N\\,:|S|= N\\land S$ is Linear Dependence $\\implies \\text{span}(S)\\neq V^N$\n",
        "\n",
        "$2^{\\text{nd}}$ Statement\n",
        "* $\\forall M\\in V^{N\\times N}\\,:\\{$ Row of $M\\,\\}$ is Linear Dependence $\\implies \\text{rref}(M)\\neq I$\n"
      ],
      "metadata": {
        "id": "byvIE_8nzn52"
      }
    },
    {
      "cell_type": "markdown",
      "source": [
        "##$M$ is Linear Dependence if and only if RREF $M$ $\\neq$ $I$\n",
        "\n",
        "Prove that\n",
        "* $\\forall M\\in V^{N\\times N}\\,:\\{$ Row of $M\\,\\}$ is Linear Dependence $\\iff \\text{rref}(M)\\neq I$\n"
      ],
      "metadata": {
        "id": "QfMQJXxFkJbY"
      }
    },
    {
      "cell_type": "markdown",
      "source": [
        "###Solution\n",
        "\n",
        "According to this theorem\n",
        "\n",
        "$1^{\\text{st}}$ Statement\n",
        "* $\\forall M\\in V^{N\\times N}\\,:\\{$ Row of $M\\,\\}$ is Linear Dependence $\\implies \\text{rref}(M)\\neq I$\n",
        "\n",
        "$2^{\\text{nd}}$ Statement\n",
        "* $\\forall M\\in V^{N\\times N}\\,:\\{$ Row $\\vec{v}$ of $M\\,\\}$ is Linear Independence $\\iff \\text{rref}(M)=I$\n",
        "\n",
        "$3^{\\text{rd}}$ Statement\n",
        "* $\\forall S\\subset V^N\\,:S$ is Linear Independence $\\lor\\,S$ is Linear Dependence\n",
        "\n",
        "Therefore\n",
        "* $\\forall M\\in V^{N\\times N}\\,:\\{$ Row of $M\\,\\}$ is Linear Dependence $\\iff \\text{rref}(M)\\neq I$\n",
        "\n"
      ],
      "metadata": {
        "id": "OiPJQQ_dkrct"
      }
    },
    {
      "cell_type": "markdown",
      "source": [
        "##Linear Dependence Span is the Linear Independence Span\n",
        "\n",
        "Prove that\n",
        "* $\\forall A\\subset V^N\\,:\\exists B\\subset A\\,:\\text{span}(A)=\\text{span}(B)\\land B$ is Linear Independence $\\iff A\\neq\\{\\vec{0}\\}$"
      ],
      "metadata": {
        "id": "n0bYNIOiza4D"
      }
    },
    {
      "cell_type": "markdown",
      "source": [
        "###Solution\n",
        "\n",
        "###Part 1: $A=$ $\\vec{0}$\n",
        "\n",
        "If: $A=\\{\\vec{0}\\}$\n",
        "\n",
        "Given that\n",
        "* $\\forall a\\in F\\,:\\vec{0}=a\\cdot\\vec{0}$\n",
        "\n",
        "Implies that\n",
        "* $\\{\\vec{0}\\}$ is Linear Dependence\n",
        "\n",
        "According to set theory\n",
        "* $\\forall A\\subset S\\,:|S|=1\\implies A=S$\n",
        "\n",
        "Therefore\n",
        "* $\\forall B\\subset \\{\\vec{0}\\}\\,:B$ is Linear Dependence\n",
        "\n",
        "###Part 2: $A$ is Linear Independence\n",
        "\n",
        "If: $A$ is Linear Independence\n",
        "\n",
        "According to set theory\n",
        "* $\\exists! A\\subset S\\,:A=S$\n",
        "\n",
        "Therefore\n",
        "* $\\exists! B\\subset A\\,:\\text{span}(A)=\\text{span}(B)\\land B$ is Linear Dependence\n",
        "\n",
        "###Part 3: $A$ is Linear Dependence\n",
        "\n",
        "If:\n",
        "* $A$ is Linear Dependence\n",
        "* $A\\neq\\{\\vec{0}\\}$\n",
        "\n",
        "According to this theorem\n",
        "* $\\forall\\vec{v}\\in V^N-\\vec{0}\\,:\\{\\vec{v}\\}$ is Linear Independence\n",
        "\n",
        "Implies that\n",
        "* $|A|\\geq 2$\n",
        "* $\\forall \\vec{v}\\in A-0\\,:\\{\\vec{v}\\}$ is Linear Independence\n",
        "\n",
        "###Therefore\n",
        "* $\\forall A\\subset V^N\\,:\\exists B\\subset A\\,:\\text{span}(A)=\\text{span}(B)\\land B$ is Linear Independence $\\iff A\\neq\\{\\vec{0}\\}$\n"
      ],
      "metadata": {
        "id": "u5nNl4QRFFkW"
      }
    },
    {
      "cell_type": "markdown",
      "source": [
        "#Basis"
      ],
      "metadata": {
        "id": "7NqnNmB1LSjE"
      }
    },
    {
      "cell_type": "markdown",
      "source": [
        "##$V^N$ has $N$ Basis\n",
        "\n",
        "Prove that\n",
        "* $\\forall B\\subset V^N\\,:[B$ is Linear Independence $\\land\\,|B|=N]\\iff B$ is Basis of $V^N$"
      ],
      "metadata": {
        "id": "wv_vFplEjPCF"
      }
    },
    {
      "cell_type": "markdown",
      "source": [
        "###Solution\n",
        "\n",
        "###Defining $M$\n",
        "\n",
        "Define $M$\n",
        "* $M\\in V^{N\\times N}$\n",
        "* $\\text{rref}(M)=$ Reduced Row Echelon Form of $M$\n",
        "* $B=\\{$ Row $\\vec{v}$ of $M\\,\\}=\\{\\vec{r}_1,...,\\vec{r}_N\\}$\n",
        "\n",
        "$B$ is Linear Independence, such that\n",
        "* $\\forall a\\subset F\\,:\\vec{0}=\\Sigma\\,a\\cdot \\vec{r}\\land a=0$\n",
        "\n",
        "###Part 1: If $B$ is Linear Independence and $|B|=N$\n",
        "\n",
        "$1^{\\text{st}}$ Statement\n",
        "* $\\forall M\\in V^{N\\times N}\\,:\\text{span}(\\{$ Row of $M\\,\\})=\\text{span}(\\{$ Row of $\\text{rref}(M)\\,\\})$\n",
        "\n",
        "$2^{\\text{nd}}$ Statement\n",
        "* $\\forall \\vec{r}_i\\in B\\,:\\vec{r}_i\\not\\in\\text{span}(B-\\vec{r}_i)\\iff B$ is Linear Independence\n",
        "\n",
        "Implies that\n",
        "* $\\forall \\vec{r}_i\\in B$\n",
        "* $\\forall \\vec{u}\\in \\text{span}(B-\\vec{r}_i)$\n",
        "* $\\vec{r}_i-\\vec{u}\\neq\\vec{0}$\n",
        "\n",
        "$3^{\\text{rd}}$ Statement\n",
        "* $\\forall\\vec{v}\\in V^N-\\vec{0}\\,:\\forall a\\neq0\\,:\\vec{0}\\neq a\\cdot\\vec{v}$\n",
        "* $\\forall\\vec{v}\\in V^N\\,:\\vec{0}\\neq 0\\cdot\\vec{v}$\n",
        "\n",
        "$4^{\\text{th}}$ Statement\n",
        "\n",
        "Gauss Elimination algorithm transform $M$ to $\\text{rref}(M)$ such that\n",
        "1. Scaling $\\vec{v}_i$ with non zero number.\n",
        "* $\\forall a\\in F-0\\,:a\\cdot\\vec{v}_i$\n",
        "2. Additing $\\vec{v}_i$ with the Linear Combination of other vector except itself.\n",
        "* $\\forall \\vec{u}\\in\\text{span}(S-\\vec{v}_i)\\,:\\vec{v}_i+\\vec{u}$\n",
        "\n",
        "Because of the statement no.2 and 3, there is no ways to transform $M$ to $\\text{rref}(M)$ using Gauss Elimination algorithm  such that\n",
        "* $\\vec{0}\\in\\{$ Row $\\vec{v}$ of $\\text{rref}(M)\\,\\}$\n",
        "\n",
        "We can transform $\\{$ Row $\\vec{v}$ of $M\\,\\}$ in Elimination process such that\n",
        "* $\\hat{r}_2=\\vec{r}_2-\\lambda\\cdot\\vec{r}_1=(0,x_2,...,x_N)$\n",
        "* $\\hat{r}_3=\\vec{r}_3-\\lambda\\cdot\\vec{r}_2=(0,0,...,x_N)$\n",
        "* $\\hat{r}_{i+1}=\\vec{r}_{i+1}-\\lambda\\cdot\\vec{r}_i=(0,0,...,x_i,...,x_N)$\n",
        "* $\\hat{r}_N=\\vec{r}_N-\\lambda\\cdot\\vec{r}_{N-1}=(0,0,...,0,x_N)$\n",
        "\n",
        "We can transform $\\{$ Row $\\vec{v}$ of $M\\,\\}$ in Back Substitution process such that\n",
        "* $\\hat{r}_{N-1}=\\vec{r}_{N-1}-\\vec{r}_N=(0,...,x_{N-1},0)$\n",
        "* $\\hat{r}_{j}=\\vec{r}_{j}-\\vec{r}_{j+1}=(0,...,0,x_j,0,...,0)$\n",
        "* $\\hat{r}_1=\\vec{r}_1-\\vec{r}_2=(x_1,0,...,0)$\n",
        "\n",
        "We can scale $\\{$ Row $\\vec{v}$ of $M\\,\\}$ such that\n",
        "* $\\text{rref}(M)=I$\n",
        "* $\\{$ Row $\\vec{v}$ of $\\text{rref}(M)\\,\\}=\\{$ Row $\\vec{v}$ of $I\\,\\}$\n",
        "* $\\{$ Row $\\vec{v}$ of $I\\,\\}$ is the Basis of $V^N$\n",
        "\n",
        "Therefore\n",
        "* $\\{$ Row $\\vec{v}$ of $M\\,\\}$ is the Basis of $V^N$\n",
        "* $[B$ is Linear Independence $\\land |B|=N]\\implies B$ is the Basis of $V^N$\n",
        "\n",
        "###Part 2: $B$ is the Basis of $V^N$\n",
        "\n",
        "$B$ is the Basis of $V^N$ if and only if\n",
        "1. $B$ is Linear Independence\n",
        "* $\\forall a\\subset F\\,:\\vec{0}=\\Sigma\\,a\\cdot\\vec{b}\\land a=0$\n",
        "2. $\\text{span}(B)$ is identical to $V^N$\n",
        "* $\\text{span}(B)=V^N$\n",
        "\n",
        "According to this theorem\n",
        "* $\\forall \\vec{v}_i\\in S\\,:\\vec{v}_i\\not\\in\\text{span}(S-\\vec{v}_i)\\iff S$ is Linear Independence\n",
        "\n",
        "Implies that, we can use the same argument to conclude that\n",
        "* $\\vec{0}\\not\\in\\{$ Row $\\vec{v}$ of $\\text{rref}(M)\\,\\}$\n",
        "* $\\text{rref}(M)=I$\n",
        "\n",
        "###Therefore\n",
        "\n",
        "$1^{\\text{st}}$ Statement\n",
        "* $[B$ is Linear Independence $\\land |B|=N]\\iff B$ is the Basis of $V^N$\n",
        "\n",
        "$2^{\\text{nd}}$ Statement\n",
        "* $\\forall M\\in V^{N\\times N}\\,:\\{$ Row $\\vec{v}$ of $M\\,\\}$ is Linear Independence $\\iff \\text{rref}(M)=I$\n",
        "\n",
        "\n",
        "\n"
      ],
      "metadata": {
        "id": "47WBkcAijRDN"
      }
    },
    {
      "cell_type": "markdown",
      "source": [
        "##There is Unit Basis in $V^N$\n",
        "\n",
        "Prove that\n",
        "* $\\exists B\\subset V^N\\,:\\forall \\vec{b}\\in B\\,:|\\vec{b}|=1\\land B$ is the Basis of $V^N$"
      ],
      "metadata": {
        "id": "ym7Tq5mVyxW9"
      }
    },
    {
      "cell_type": "markdown",
      "source": [
        "###Solution\n",
        "\n",
        "Define\n",
        "* $B$ is the Basis of $V^N$\n",
        "* $\\forall\\vec{b}\\in B\\,:|\\vec{b}|=1$\n",
        "\n",
        "According to this theorem\n",
        "* $\\forall B\\subset V^N\\,:[B$ is Linear Independence $\\land\\,|B|=N]\\iff B$ is Basis of $V^N$\n",
        "\n",
        "Implies that\n",
        "* $|B|=N$\n",
        "\n",
        "Given that\n",
        "* $\\forall S\\subset V^N\\,:\\vec{0}\\in\\text{span}(S)$\n",
        "* $\\lambda\\neq0\\,:\\forall \\vec{x}\\in\\text{span}(S)+\\lambda\\cdot \\vec{v}_i\\,:\\text{span}(S)=\\text{span}(\\{S-\\vec{v}_i\\}\\cup\\{\\vec{x}\\})$\n",
        "\n",
        "Therefore\n",
        "* $\\exists B\\subset V^N\\,:\\forall\\vec{b}\\in B\\,:|\\vec{b}|=1\\land B$ is the Basis of $V^N$"
      ],
      "metadata": {
        "id": "JrwaPzZqy1B1"
      }
    },
    {
      "cell_type": "markdown",
      "source": [
        "##Hyperplane have $N-1$ Basis Vectors\n",
        "\n",
        "Prove that\n",
        "* $\\forall \\vec{n},B\\neq\\vec{0}:|B|=N-1\\land B$ is Linear Independence $\\iff B$ is Basis of $\\{\\vec{x}\\cdot\\vec{n}=0|\\vec{x}\\in V^N\\}$"
      ],
      "metadata": {
        "id": "L7V1ywusUViq"
      }
    },
    {
      "cell_type": "markdown",
      "source": [
        "###Solution Part 1: If $B$ is the Basis of Hyperplane\n",
        "\n",
        "Define\n",
        "* $\\vec{n}=(n_1,...,n_N)\\in V^N-\\vec{0}$\n",
        "\n",
        "We can to count the Basis of Hyperplane\n",
        "* Hyperplane $=\\{\\vec{x}\\cdot\\vec{n}=0|\\vec{x}\\in V^N\\}$\n",
        "\n",
        "Define Indexing Map\n",
        "* $i,j\\in \\{1,...,N\\}$\n",
        "* $i\\neq j$\n",
        "\n",
        "Define\n",
        "* $B_0\\cup B_1=$ All Basis of Hyperplane"
      ],
      "metadata": {
        "id": "WYewSzsKuy36"
      }
    },
    {
      "cell_type": "markdown",
      "source": [
        "###Define $B_0$\n",
        "* $\\vec{b}_i\\in B_0\\iff \\vec{n}(i)=0$\n",
        "\n",
        "Define: $\\vec{b}_i$\n",
        "* $\\vec{b}_i(i)=1$\n",
        "* $\\vec{b}_i(j)=0$\n",
        "\n",
        "Such that\n",
        "* $\\vec{b}_i\\cdot\\vec{n}=0$\n",
        "\n",
        "Check if $B_0$ Linear Independence\n",
        "* $\\vec{0}=\\Sigma\\,a\\cdot \\vec{b}$\n",
        "\n",
        "Given that\n",
        "* $\\forall a,b\\in F-0\\,:ab\\neq0$\n",
        "* $\\forall a\\in F-0\\,:\\forall\\vec{v}\\neq\\vec{0}\\,:\\vec{0}\\neq a\\cdot\\vec{v}$\n",
        "* $\\forall \\vec{b}_j\\in B_0-\\vec{b}_i\\,:\\vec{b}_i(i)=1\\neq \\vec{b}_j(i)=0$\n",
        "\n",
        "Implies that\n",
        "* $\\forall a\\subset F\\,:\\vec{0}=\\Sigma\\,a\\cdot \\vec{b}\\land a=0$\n",
        "\n",
        "Therefore\n",
        "* $B_0$ is Linear Independence."
      ],
      "metadata": {
        "id": "2aABteKEGXKn"
      }
    },
    {
      "cell_type": "markdown",
      "source": [
        "###Define $B_1$\n",
        "* $\\vec{b}_i\\in B_1 \\iff\\vec{n}(i)\\neq 0$ and there are 2 or more  non $0$ elements with in $\\vec{n}$.\n",
        "\n",
        "Define Indexing Map\n",
        "* $\\vec{n}(i_1)\\neq 0\\iff i_1$ is first non zero element of $\\vec{n}$.\n",
        "* $\\vec{n}(i_2)\\neq 0\\iff i_2$ is second non zero element of $\\vec{n}$.\n",
        "* ...\n",
        "* $\\vec{n}(i_k)\\neq 0\\iff i_k$ is $k^{\\text{th}}$ non zero element of $\\vec{n}$.\n",
        "\n",
        "Define: $\\vec{b}_1$\n",
        "* $\\vec{b}_{1}(i_1)=x_1\\neq0$\n",
        "* $\\vec{b}_1(i_2)=-x_2\\neq0$\n",
        "* $\\forall j\\not\\in \\{i_1,i_2\\}\\,:\\vec{b}_1(j)=0$\n",
        "\n",
        "Define: $\\vec{b}_k$\n",
        "* $\\vec{b}_k(i_1)=x_1\\neq0$\n",
        "* $\\vec{b}_k(i_{k+1})=-x_{k+1}\\neq0$\n",
        "* $\\forall j\\not\\in \\{i_1,i_{k+1}\\}\\,:\\vec{b}_1(j)=0$\n",
        "\n",
        "Such that\n",
        "* $\\vec{b}_k\\cdot \\vec{n}=0+...+0+x_1\\cdot n_{i}-x_{k+1}\\cdot n_{k+1}=0$\n",
        "\n",
        "Check if $B_1$ Linear Independence\n",
        "* $\\vec{0}=\\Sigma\\,a\\vec{b}$\n",
        "\n",
        "Given that\n",
        "1. The first non zero element of every vector with in $B_1$ is not equal to $0$\n",
        "* $\\vec{b}_1(i_1),...,\\vec{b}_k(i_1)\\not\\in\\{0\\}$\n",
        "2. The $i_{k+1}^{\\text{th}}$ elements of every vector equal to $0$ except $\\vec{b}_k$\n",
        "* $\\forall i_{k+1}>i_1\\,:\\forall j\\not\\in\\{i_1,i_{k+1}\\}\\,:\\vec{b}_k(i_{k+1})\\neq0=\\vec{b}_j(i_{k+1})$\n",
        "\n",
        "Implies that\n",
        "* $0=a_1\\vec{b}_1(i)+...+a_j\\vec{b}_j(i)+a_i\\vec{b}_i(i)$\n",
        "* $0=0+...+0+a_i\\vec{b}_i(i)\\iff a_i=0$\n",
        "* $\\forall a\\subset F\\,:\\vec{0}=\\Sigma\\,a\\vec{b}\\land a\\neq 0$\n",
        "\n",
        "Therefore\n",
        "* $B_1$ is Linear Independence."
      ],
      "metadata": {
        "id": "BLh6yZ6QGa-D"
      }
    },
    {
      "cell_type": "markdown",
      "source": [
        "###$|B_0\\cup B_1|=?$\n",
        "\n",
        "###Case No.1\n",
        "* $\\vec{n}(i)\\neq0$\n",
        "* $\\forall j\\neq i\\,:\\vec{n}(j)=0$\n",
        "\n",
        "Implies that\n",
        "* $|B_0|=N-1$\n",
        "* $|B_1|=0$\n",
        "\n",
        "###Case No.2\n",
        "* $\\forall i\\in I(N)\\,:\\vec{n}(i)\\neq0$\n",
        "\n",
        "Implies that\n",
        "* $|B_0|=0$\n",
        "* $|B_1|=N-1$\n",
        "\n",
        "###Case No.3\n",
        "* $\\forall \\vec{n}\\in V^N$\n",
        "\n",
        "Define\n",
        "1. $\\hat{I}_0=$ Set of all index of zero element with in $\\vec{n}$\n",
        "* $\\forall \\hat{i}_0\\in \\hat{I}_0\\subset I(N)\\,:\\vec{n}(\\hat{i}_0)=0$\n",
        "2. $\\hat{I}_1=$ Set of all index of non zero element with in $\\vec{n}$\n",
        "* $\\forall \\hat{i}_1\\in \\hat{I}_1\\subset I(N)\\,:\\vec{n}(\\hat{i}_1)\\neq0$\n",
        "\n",
        "Implies that\n",
        "* $|B_0|=|\\hat{I}_0|$\n",
        "* $|B_1|=|\\hat{I}_1|-1$\n",
        "* $|\\hat{I}_0\\cup \\hat{I}_1|=N$\n",
        "* $|B_0\\cup B_1|=N-1$"
      ],
      "metadata": {
        "id": "mCRMl_oAGeBl"
      }
    },
    {
      "cell_type": "markdown",
      "source": [
        "###Check if $B_0\\cup B_1$ Linear Independence\n",
        "\n",
        "Denote that\n",
        "* $\\vec{u}\\in B_0$\n",
        "* $\\vec{v}\\in B_1$\n",
        "\n",
        "Given that\n",
        "* $\\forall\\hat{i}_0\\in \\hat{I}_0\\,:\\vec{v}(\\hat{i}_0)=0$\n",
        "* $\\forall\\hat{i}_1\\in \\hat{I}_1\\,:\\vec{u}(\\hat{i}_1)=0$\n",
        "* $\\forall\\vec{x}\\in B_0\\cup B_1\\,:\\vec{x}\\neq\\vec{0}$\n",
        "* $B_0$ is Linear Independence.\n",
        "* $B_1$ is Linear Independence.\n",
        "\n",
        "Implies that\n",
        "* $B_0\\cup B_1$ is Linear Independence\n",
        "\n",
        "Given that\n",
        "* $\\forall\\vec{b}\\in B_0\\cup B_1\\,:\\vec{b}\\cdot\\vec{n}=0$\n",
        "\n",
        "Define\n",
        "* $\\vec{x}\\in\\text{span}(B_0\\cup B_1)$\n",
        "* $\\vec{x}=\\Sigma\\,\\lambda\\cdot\\vec{b}$\n",
        "\n",
        "Then\n",
        "* $\\vec{x}\\cdot\\vec{n}=\\Sigma\\,\\lambda\\cdot (\\vec{b}\\cdot\\vec{n})$\n",
        "\n",
        "Because $F$ is\n",
        "1. Abelian Group under Addition\n",
        "* $a+b=b+a$\n",
        "2. Have Multiplicative Associativity\n",
        "* $a(bc)=(ab)c$\n",
        "\n",
        "Implies that Multiplication of $F$ distributes over Addition\n",
        "* $a(b+c)=ab+ac$\n",
        "\n",
        "Therefore\n",
        "* $\\vec{x}\\cdot\\vec{n}=\\Sigma\\,\\lambda\\cdot (\\vec{b}\\cdot\\vec{n})$\n",
        "* $\\vec{x}\\cdot\\vec{n}=(\\Sigma\\,\\lambda\\cdot \\vec{b})\\cdot\\vec{n}$\n",
        "* $\\vec{x}\\cdot\\vec{n}=0$\n",
        "* $\\forall\\vec{x}\\in\\text{span}(B_0\\cup B_1)\\,:\\vec{x}\\cdot\\vec{n}=0$\n",
        "* $\\text{span}(B_0\\cup B_1)=\\{\\vec{x}\\cdot\\vec{n}=0|\\vec{x}\\in V^N\\}$\n",
        "\n",
        "###Therefore\n",
        "\n",
        "$1^{\\text{st}}$ Statement\n",
        "\n",
        "Every Subspace Hyperplane have $N-1$ Basis\n",
        "* $\\forall \\vec{n}\\in V^N-\\vec{0}\\,:\\exists B\\subset V^N\\,:B$ is Basis of $\\{\\vec{x}\\cdot\\vec{n}=0|\\vec{x}\\in V^N\\}\\implies |B|=N-1\\land B$ is Linear Independence\n",
        "\n",
        "$2^{\\text{nd}}$ Statement\n",
        "\n",
        "Scalar Multiplication is distributed over dot product\n",
        "* $\\forall\\vec{v},\\vec{u}\\in V^N\\,:\\forall a,b\\in F\\,:(a\\cdot\\vec{v})\\cdot(b\\cdot\\vec{u})=(ab)\\cdot(\\vec{v}\\cdot\\vec{u})$\n",
        "\n",
        "$3^{\\text{rd}}$ Statement\n",
        "\n",
        "* $\\forall\\vec{b}\\in B\\,:\\forall\\vec{x}\\in \\text{span}(B)\\,:\\vec{b}\\cdot\\vec{n}=0\\iff\\vec{x}\\cdot\\vec{n}=0$\n",
        "\n",
        "\n"
      ],
      "metadata": {
        "id": "xSnxQCADGhqt"
      }
    },
    {
      "cell_type": "markdown",
      "source": [
        "###Solution Part 2: If $B$ is Linear Independence and $|B|=N-1$\n",
        "\n",
        "Define\n",
        "* $|B|=N-1$\n",
        "* $B$ is Linear Independence\n",
        "* $M\\in V^{N\\times N}$\n",
        "* $\\{$ Row $\\vec{v}$ of $M\\,\\}=B\\cup\\vec{0}$\n",
        "* $\\{$ Row $\\vec{v}$ of $M\\,\\}=\\{\\vec{r}_1,...,\\vec{r}_{N-1},\\vec{0}\\}$\n",
        "* $\\{$ Column $\\vec{v}$ of $M\\,\\}=\\{\\vec{c}_1,...,\\vec{c}_{N-1},\\vec{c}_N\\}$\n",
        "\n",
        "According to this theorems\n",
        "\n",
        "$1^{\\text{st}}$ Statement\n",
        "* $\\forall M\\in V^{N\\times N}\\,:\\text{span}(\\{$ Row of $M\\,\\})=\\text{span}(\\{$ Row of $\\text{rref}(M)\\,\\})$\n",
        "\n",
        "$2^{\\text{nd}}$ Statement\n",
        "* $\\{$ Row $\\vec{v}$ of $I\\,\\}$ is the Standard Basis of $V^N$\n",
        "\n",
        "$3^{\\text{rd}}$ Statement\n",
        "\n",
        "Gauss Elimination algorithm transform $M$ to $\\text{rref}(M)$ such that\n",
        "1. Scaling $\\vec{v}_i$ with non zero number.\n",
        "* $\\forall a\\in F-0\\,:a\\cdot\\vec{v}_i$\n",
        "2. Additing $\\vec{v}_i$ with the Linear Combination of other vector except itself.\n",
        "* $\\forall \\vec{u}\\in\\text{span}(S-\\vec{v}_i)\\,:\\vec{v}_i+\\vec{u}$\n",
        "\n",
        "$4^{\\text{th}}$ Statement\n",
        "* $\\forall \\vec{v}_i\\in S\\,:\\vec{v}_i\\not\\in\\text{span}(S-\\vec{v}_i)\\iff S$ is Linear Independence\n",
        "\n",
        "Implies that there is a single $\\vec{0}$ left after transforming $M$ to $\\text{rref}(M)$\n",
        "* $\\vec{0}=\\vec{r}_N$\n",
        "* $\\vec{r}_i=\\vec{r}_N\\iff i\\neq N$\n",
        "\n",
        "Because the last row vector $\\vec{0}$ is additive identity, such that\n",
        "* $\\forall \\vec{v}\\in V^N\\,:\\forall a\\in F\\,:\\vec{v}=\\vec{v}+a\\cdot\\vec{0}$\n",
        "\n",
        "Implies that the $\\text{rref}(M)$ will looks like this\n",
        "\n",
        "$$\\begin{bmatrix}\n",
        "1&0&0&...&0&x_1\\\\\n",
        "0&1&0&...&0&x_2\\\\\n",
        "0&0&1&...&0&x_3\\\\\n",
        "...&...&...&...&...&...\\\\\n",
        "0&0&0&...&1&x_{N-1}\\\\\n",
        "0&0&0&...&0&0\\\\\n",
        "\\end{bmatrix}$$\n",
        "\n",
        "Define\n",
        "* $\\text{rref}(M)\\cdot \\vec{x}_0=\\vec{0}$\n",
        "* $\\vec{x}_0(N)=-1$\n",
        "\n",
        "If: $x_i=0\\implies \\vec{x}_0(i)=0$\n",
        "\n",
        "If: $x_i\\neq0\\implies \\vec{x}_0(i)=x_i$\n",
        "\n",
        "Because there is one unique solution of $\\vec{x}_0$ that satisfy 2 condition\n",
        "1. The dot product between every row vector of $\\text{rref}(M)$ and $\\vec{x}_0$ equal to $0$\n",
        "* $\\text{rref}(M)\\cdot \\vec{x}_0=\\vec{0}$\n",
        "2. The last element of $\\vec{x}_0$ is $0$\n",
        "* $\\vec{x}_0(N)=-1$\n",
        "\n",
        "We can conclude that all of the possible solution of $\\text{rref}(M)\\cdot \\vec{x}_0=\\vec{0}$ have only one basis\n",
        "* $X=\\{\\text{rref}(M)\\cdot \\vec{x}_0=\\vec{0}|\\vec{x}_0\\in V^N\\}\\implies X$ have 1 Basis\n",
        "\n",
        "Given that\n",
        "\n",
        "$1^{\\text{st}}$ Statement\n",
        "* $\\forall M\\in V^{N\\times N}\\,:\\text{span}(\\{$ Row of $M\\,\\})=\\text{span}(\\{$ Row of $\\text{rref}(M)\\,\\})$\n",
        "\n",
        "$2^{\\text{nd}}$ Statement\n",
        "* $\\forall\\vec{b}\\in B\\,:\\forall\\vec{x}\\in \\text{span}(B)\\,:\\vec{b}\\cdot\\vec{n}=0\\iff\\vec{x}\\cdot\\vec{n}=0$\n",
        "\n",
        "Implies that\n",
        "* $\\exists \\vec{n}\\in V^N\\,:|B|=N-1\\land B$ is Linear Independence $\\implies B=\\{\\vec{x}\\cdot\\vec{n}=0|\\vec{x}\\in V^N\\}$\n",
        "\n",
        "###Therefore\n",
        "\n",
        "$1^{\\text{st}}$ Statement\n",
        "\n",
        "Hyperplane always have $N-1$ Basis Vectors.\n",
        "* $\\forall \\vec{n},B\\neq \\vec{0}\\,:|B|=N-1\\land B$ is Linear Independence $\\iff B$ is the Basis of $\\{\\vec{x}\\cdot\\vec{n}=0|\\vec{x}\\in V^N\\}$\n",
        "\n",
        "$2^{\\text{nd}}$ Statement\n",
        "\n",
        "Because Row space of $M$ and $\\text{rref}(M)$ is the same thing, and dot product have distributive property over scalar multiplication and vector addition. We can conclude that\n",
        "* $\\text{rref}(M)\\cdot\\vec{x}_0=\\vec{0}\\iff M\\cdot\\vec{x}_0=\\vec{0}$\n",
        "\n",
        "Note that the solution of all $\\vec{x}_0$ is called Null Space.\n"
      ],
      "metadata": {
        "id": "c2QFu4nXvCJI"
      }
    },
    {
      "cell_type": "markdown",
      "source": [
        "##$m> N$ Vectors is not Linear Independence\n",
        "\n",
        "Prove that\n",
        "* $\\forall S\\subset V^N\\,:|S|>N\\implies S$ is Linear Dependence"
      ],
      "metadata": {
        "id": "-uiPpg4_y-R1"
      }
    },
    {
      "cell_type": "markdown",
      "source": [
        "###Solution\n",
        "\n",
        "Define\n",
        "* $S=\\{\\vec{s}_1,...,\\vec{s}_m\\}$\n",
        "\n",
        "Suppose that\n",
        "* $B\\subset S$\n",
        "* $B$ is Linear Independence\n",
        "* $|B|=N$\n",
        "\n",
        "According to this theorem\n",
        "* $[B$ is Linear Independence $\\land |B|=N]\\iff B$ is the Basis of $V^N$\n",
        "\n",
        "Implies that\n",
        "* $V^N$ have exactly $N$ Basis\n",
        "* $\\forall \\vec{x}\\in\\text{span}(S)\\,:\\vec{x}\\in\\text{span}(B)$\n",
        "\n",
        "Suppose that\n",
        "* $B\\subset S$\n",
        "* $B$ is Linear Independence\n",
        "* $|B|< N$\n",
        "\n",
        "According to this theorem\n",
        "* $\\forall S\\subset V^N\\,:S$ is Linear Independence $\\lor\\,S$ is Linear Dependence\n",
        "\n",
        "Implies that\n",
        "* $\\exists P\\subset S\\,:P$ is Linear Dependence\n",
        "\n",
        "Therefore\n",
        "* $\\forall S\\subset V^N\\,:|S|>N\\implies S$ is Linear Dependence\n"
      ],
      "metadata": {
        "id": "EEtkJ3VCzGZB"
      }
    }
  ]
}