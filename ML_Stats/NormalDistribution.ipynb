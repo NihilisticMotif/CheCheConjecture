{
  "nbformat": 4,
  "nbformat_minor": 0,
  "metadata": {
    "colab": {
      "provenance": [],
      "collapsed_sections": [
        "vftP2yBl7o1d",
        "Dp6_qZle2S6k",
        "N97XfdqfleY4"
      ],
      "mount_file_id": "1CaLFmmJX1fH8m_CMM1FqCGzJbkOrbCvv",
      "authorship_tag": "ABX9TyMBQ5VRlgBV2mpnc8HLg+SP",
      "include_colab_link": true
    },
    "kernelspec": {
      "name": "python3",
      "display_name": "Python 3"
    },
    "language_info": {
      "name": "python"
    }
  },
  "cells": [
    {
      "cell_type": "markdown",
      "metadata": {
        "id": "view-in-github",
        "colab_type": "text"
      },
      "source": [
        "<a href=\"https://colab.research.google.com/github/NihilisticMotif/CheCheConjecture/blob/main/ML_Stats/NormalDistribution.ipynb\" target=\"_parent\"><img src=\"https://colab.research.google.com/assets/colab-badge.svg\" alt=\"Open In Colab\"/></a>"
      ]
    },
    {
      "cell_type": "markdown",
      "source": [
        "#Get Data"
      ],
      "metadata": {
        "id": "vftP2yBl7o1d"
      }
    },
    {
      "cell_type": "code",
      "source": [
        "from google.colab import drive\n",
        "\n",
        "import math\n",
        "import pandas as pd\n",
        "import numpy as np\n",
        "import matplotlib.pyplot as plt\n",
        "import sympy as smp\n",
        "from scipy import integrate\n",
        "import random"
      ],
      "metadata": {
        "id": "NwBBx-7rL8uU"
      },
      "execution_count": null,
      "outputs": []
    },
    {
      "cell_type": "code",
      "source": [
        "drive.mount('/content/drive')"
      ],
      "metadata": {
        "colab": {
          "base_uri": "https://localhost:8080/"
        },
        "id": "BQRV_IGohz91",
        "outputId": "2c1998c7-e7bb-4ced-ec49-0ff88767d211"
      },
      "execution_count": null,
      "outputs": [
        {
          "output_type": "stream",
          "name": "stdout",
          "text": [
            "Drive already mounted at /content/drive; to attempt to forcibly remount, call drive.mount(\"/content/drive\", force_remount=True).\n"
          ]
        }
      ]
    },
    {
      "cell_type": "code",
      "source": [
        "drive.mount('/content/drive')\n",
        "\n",
        "path='/content/drive/MyDrive/CheCheConjecture/ML_Stats/DataSet/K_RealEstate01_ArslanAli.csv'\n",
        "'''\n",
        "Source of the example data set: https://www.kaggle.com/datasets/arslanali4343/real-estate-dataset\n",
        "'''\n",
        "df = pd.read_csv(path)\n",
        "df.astype(float)"
      ],
      "metadata": {
        "colab": {
          "base_uri": "https://localhost:8080/"
        },
        "id": "G-q5Wk3oLqae",
        "outputId": "5da0ee59-ea6b-4405-b2ad-a9a9218079de"
      },
      "execution_count": null,
      "outputs": [
        {
          "output_type": "stream",
          "name": "stdout",
          "text": [
            "Drive already mounted at /content/drive; to attempt to forcibly remount, call drive.mount(\"/content/drive\", force_remount=True).\n"
          ]
        },
        {
          "output_type": "execute_result",
          "data": {
            "text/plain": [
              "        CRIM    ZN  INDUS  CHAS    NOX     RM   AGE     DIS  RAD    TAX  \\\n",
              "0    0.00632  18.0   2.31   0.0  0.538  6.575  65.2  4.0900  1.0  296.0   \n",
              "1    0.02731   0.0   7.07   0.0  0.469  6.421  78.9  4.9671  2.0  242.0   \n",
              "2    0.02729   0.0   7.07   0.0  0.469  7.185  61.1  4.9671  2.0  242.0   \n",
              "3    0.03237   0.0   2.18   0.0  0.458  6.998  45.8  6.0622  3.0  222.0   \n",
              "4    0.06905   0.0   2.18   0.0  0.458  7.147  54.2  6.0622  3.0  222.0   \n",
              "..       ...   ...    ...   ...    ...    ...   ...     ...  ...    ...   \n",
              "506  0.98765   0.0  12.50   0.0  0.561  6.980  89.0  2.0980  3.0  320.0   \n",
              "507  0.23456   0.0  12.50   0.0  0.561  6.980  76.0  2.6540  3.0  320.0   \n",
              "508  0.44433   0.0  12.50   0.0  0.561  6.123  98.0  2.9870  3.0  320.0   \n",
              "509  0.77763   0.0  12.70   0.0  0.561  6.222  34.0  2.5430  3.0  329.0   \n",
              "510  0.65432   0.0  12.80   0.0  0.561  6.760  67.0  2.9870  3.0  345.0   \n",
              "\n",
              "     PTRATIO       B  LSTAT  MEDV  \n",
              "0       15.3  396.90   4.98  24.0  \n",
              "1       17.8  396.90   9.14  21.6  \n",
              "2       17.8  392.83   4.03  34.7  \n",
              "3       18.7  394.63   2.94  33.4  \n",
              "4       18.7  396.90   5.33  36.2  \n",
              "..       ...     ...    ...   ...  \n",
              "506     23.0  396.00  12.00  12.0  \n",
              "507     23.0  343.00  25.00  32.0  \n",
              "508     23.0  343.00  21.00  54.0  \n",
              "509     23.0  343.00  76.00  67.0  \n",
              "510     23.0  321.00  45.00  24.0  \n",
              "\n",
              "[511 rows x 14 columns]"
            ],
            "text/html": [
              "\n",
              "  <div id=\"df-9784928b-dfb4-45b0-8621-a186be358c10\" class=\"colab-df-container\">\n",
              "    <div>\n",
              "<style scoped>\n",
              "    .dataframe tbody tr th:only-of-type {\n",
              "        vertical-align: middle;\n",
              "    }\n",
              "\n",
              "    .dataframe tbody tr th {\n",
              "        vertical-align: top;\n",
              "    }\n",
              "\n",
              "    .dataframe thead th {\n",
              "        text-align: right;\n",
              "    }\n",
              "</style>\n",
              "<table border=\"1\" class=\"dataframe\">\n",
              "  <thead>\n",
              "    <tr style=\"text-align: right;\">\n",
              "      <th></th>\n",
              "      <th>CRIM</th>\n",
              "      <th>ZN</th>\n",
              "      <th>INDUS</th>\n",
              "      <th>CHAS</th>\n",
              "      <th>NOX</th>\n",
              "      <th>RM</th>\n",
              "      <th>AGE</th>\n",
              "      <th>DIS</th>\n",
              "      <th>RAD</th>\n",
              "      <th>TAX</th>\n",
              "      <th>PTRATIO</th>\n",
              "      <th>B</th>\n",
              "      <th>LSTAT</th>\n",
              "      <th>MEDV</th>\n",
              "    </tr>\n",
              "  </thead>\n",
              "  <tbody>\n",
              "    <tr>\n",
              "      <th>0</th>\n",
              "      <td>0.00632</td>\n",
              "      <td>18.0</td>\n",
              "      <td>2.31</td>\n",
              "      <td>0.0</td>\n",
              "      <td>0.538</td>\n",
              "      <td>6.575</td>\n",
              "      <td>65.2</td>\n",
              "      <td>4.0900</td>\n",
              "      <td>1.0</td>\n",
              "      <td>296.0</td>\n",
              "      <td>15.3</td>\n",
              "      <td>396.90</td>\n",
              "      <td>4.98</td>\n",
              "      <td>24.0</td>\n",
              "    </tr>\n",
              "    <tr>\n",
              "      <th>1</th>\n",
              "      <td>0.02731</td>\n",
              "      <td>0.0</td>\n",
              "      <td>7.07</td>\n",
              "      <td>0.0</td>\n",
              "      <td>0.469</td>\n",
              "      <td>6.421</td>\n",
              "      <td>78.9</td>\n",
              "      <td>4.9671</td>\n",
              "      <td>2.0</td>\n",
              "      <td>242.0</td>\n",
              "      <td>17.8</td>\n",
              "      <td>396.90</td>\n",
              "      <td>9.14</td>\n",
              "      <td>21.6</td>\n",
              "    </tr>\n",
              "    <tr>\n",
              "      <th>2</th>\n",
              "      <td>0.02729</td>\n",
              "      <td>0.0</td>\n",
              "      <td>7.07</td>\n",
              "      <td>0.0</td>\n",
              "      <td>0.469</td>\n",
              "      <td>7.185</td>\n",
              "      <td>61.1</td>\n",
              "      <td>4.9671</td>\n",
              "      <td>2.0</td>\n",
              "      <td>242.0</td>\n",
              "      <td>17.8</td>\n",
              "      <td>392.83</td>\n",
              "      <td>4.03</td>\n",
              "      <td>34.7</td>\n",
              "    </tr>\n",
              "    <tr>\n",
              "      <th>3</th>\n",
              "      <td>0.03237</td>\n",
              "      <td>0.0</td>\n",
              "      <td>2.18</td>\n",
              "      <td>0.0</td>\n",
              "      <td>0.458</td>\n",
              "      <td>6.998</td>\n",
              "      <td>45.8</td>\n",
              "      <td>6.0622</td>\n",
              "      <td>3.0</td>\n",
              "      <td>222.0</td>\n",
              "      <td>18.7</td>\n",
              "      <td>394.63</td>\n",
              "      <td>2.94</td>\n",
              "      <td>33.4</td>\n",
              "    </tr>\n",
              "    <tr>\n",
              "      <th>4</th>\n",
              "      <td>0.06905</td>\n",
              "      <td>0.0</td>\n",
              "      <td>2.18</td>\n",
              "      <td>0.0</td>\n",
              "      <td>0.458</td>\n",
              "      <td>7.147</td>\n",
              "      <td>54.2</td>\n",
              "      <td>6.0622</td>\n",
              "      <td>3.0</td>\n",
              "      <td>222.0</td>\n",
              "      <td>18.7</td>\n",
              "      <td>396.90</td>\n",
              "      <td>5.33</td>\n",
              "      <td>36.2</td>\n",
              "    </tr>\n",
              "    <tr>\n",
              "      <th>...</th>\n",
              "      <td>...</td>\n",
              "      <td>...</td>\n",
              "      <td>...</td>\n",
              "      <td>...</td>\n",
              "      <td>...</td>\n",
              "      <td>...</td>\n",
              "      <td>...</td>\n",
              "      <td>...</td>\n",
              "      <td>...</td>\n",
              "      <td>...</td>\n",
              "      <td>...</td>\n",
              "      <td>...</td>\n",
              "      <td>...</td>\n",
              "      <td>...</td>\n",
              "    </tr>\n",
              "    <tr>\n",
              "      <th>506</th>\n",
              "      <td>0.98765</td>\n",
              "      <td>0.0</td>\n",
              "      <td>12.50</td>\n",
              "      <td>0.0</td>\n",
              "      <td>0.561</td>\n",
              "      <td>6.980</td>\n",
              "      <td>89.0</td>\n",
              "      <td>2.0980</td>\n",
              "      <td>3.0</td>\n",
              "      <td>320.0</td>\n",
              "      <td>23.0</td>\n",
              "      <td>396.00</td>\n",
              "      <td>12.00</td>\n",
              "      <td>12.0</td>\n",
              "    </tr>\n",
              "    <tr>\n",
              "      <th>507</th>\n",
              "      <td>0.23456</td>\n",
              "      <td>0.0</td>\n",
              "      <td>12.50</td>\n",
              "      <td>0.0</td>\n",
              "      <td>0.561</td>\n",
              "      <td>6.980</td>\n",
              "      <td>76.0</td>\n",
              "      <td>2.6540</td>\n",
              "      <td>3.0</td>\n",
              "      <td>320.0</td>\n",
              "      <td>23.0</td>\n",
              "      <td>343.00</td>\n",
              "      <td>25.00</td>\n",
              "      <td>32.0</td>\n",
              "    </tr>\n",
              "    <tr>\n",
              "      <th>508</th>\n",
              "      <td>0.44433</td>\n",
              "      <td>0.0</td>\n",
              "      <td>12.50</td>\n",
              "      <td>0.0</td>\n",
              "      <td>0.561</td>\n",
              "      <td>6.123</td>\n",
              "      <td>98.0</td>\n",
              "      <td>2.9870</td>\n",
              "      <td>3.0</td>\n",
              "      <td>320.0</td>\n",
              "      <td>23.0</td>\n",
              "      <td>343.00</td>\n",
              "      <td>21.00</td>\n",
              "      <td>54.0</td>\n",
              "    </tr>\n",
              "    <tr>\n",
              "      <th>509</th>\n",
              "      <td>0.77763</td>\n",
              "      <td>0.0</td>\n",
              "      <td>12.70</td>\n",
              "      <td>0.0</td>\n",
              "      <td>0.561</td>\n",
              "      <td>6.222</td>\n",
              "      <td>34.0</td>\n",
              "      <td>2.5430</td>\n",
              "      <td>3.0</td>\n",
              "      <td>329.0</td>\n",
              "      <td>23.0</td>\n",
              "      <td>343.00</td>\n",
              "      <td>76.00</td>\n",
              "      <td>67.0</td>\n",
              "    </tr>\n",
              "    <tr>\n",
              "      <th>510</th>\n",
              "      <td>0.65432</td>\n",
              "      <td>0.0</td>\n",
              "      <td>12.80</td>\n",
              "      <td>0.0</td>\n",
              "      <td>0.561</td>\n",
              "      <td>6.760</td>\n",
              "      <td>67.0</td>\n",
              "      <td>2.9870</td>\n",
              "      <td>3.0</td>\n",
              "      <td>345.0</td>\n",
              "      <td>23.0</td>\n",
              "      <td>321.00</td>\n",
              "      <td>45.00</td>\n",
              "      <td>24.0</td>\n",
              "    </tr>\n",
              "  </tbody>\n",
              "</table>\n",
              "<p>511 rows × 14 columns</p>\n",
              "</div>\n",
              "    <div class=\"colab-df-buttons\">\n",
              "\n",
              "  <div class=\"colab-df-container\">\n",
              "    <button class=\"colab-df-convert\" onclick=\"convertToInteractive('df-9784928b-dfb4-45b0-8621-a186be358c10')\"\n",
              "            title=\"Convert this dataframe to an interactive table.\"\n",
              "            style=\"display:none;\">\n",
              "\n",
              "  <svg xmlns=\"http://www.w3.org/2000/svg\" height=\"24px\" viewBox=\"0 -960 960 960\">\n",
              "    <path d=\"M120-120v-720h720v720H120Zm60-500h600v-160H180v160Zm220 220h160v-160H400v160Zm0 220h160v-160H400v160ZM180-400h160v-160H180v160Zm440 0h160v-160H620v160ZM180-180h160v-160H180v160Zm440 0h160v-160H620v160Z\"/>\n",
              "  </svg>\n",
              "    </button>\n",
              "\n",
              "  <style>\n",
              "    .colab-df-container {\n",
              "      display:flex;\n",
              "      gap: 12px;\n",
              "    }\n",
              "\n",
              "    .colab-df-convert {\n",
              "      background-color: #E8F0FE;\n",
              "      border: none;\n",
              "      border-radius: 50%;\n",
              "      cursor: pointer;\n",
              "      display: none;\n",
              "      fill: #1967D2;\n",
              "      height: 32px;\n",
              "      padding: 0 0 0 0;\n",
              "      width: 32px;\n",
              "    }\n",
              "\n",
              "    .colab-df-convert:hover {\n",
              "      background-color: #E2EBFA;\n",
              "      box-shadow: 0px 1px 2px rgba(60, 64, 67, 0.3), 0px 1px 3px 1px rgba(60, 64, 67, 0.15);\n",
              "      fill: #174EA6;\n",
              "    }\n",
              "\n",
              "    .colab-df-buttons div {\n",
              "      margin-bottom: 4px;\n",
              "    }\n",
              "\n",
              "    [theme=dark] .colab-df-convert {\n",
              "      background-color: #3B4455;\n",
              "      fill: #D2E3FC;\n",
              "    }\n",
              "\n",
              "    [theme=dark] .colab-df-convert:hover {\n",
              "      background-color: #434B5C;\n",
              "      box-shadow: 0px 1px 3px 1px rgba(0, 0, 0, 0.15);\n",
              "      filter: drop-shadow(0px 1px 2px rgba(0, 0, 0, 0.3));\n",
              "      fill: #FFFFFF;\n",
              "    }\n",
              "  </style>\n",
              "\n",
              "    <script>\n",
              "      const buttonEl =\n",
              "        document.querySelector('#df-9784928b-dfb4-45b0-8621-a186be358c10 button.colab-df-convert');\n",
              "      buttonEl.style.display =\n",
              "        google.colab.kernel.accessAllowed ? 'block' : 'none';\n",
              "\n",
              "      async function convertToInteractive(key) {\n",
              "        const element = document.querySelector('#df-9784928b-dfb4-45b0-8621-a186be358c10');\n",
              "        const dataTable =\n",
              "          await google.colab.kernel.invokeFunction('convertToInteractive',\n",
              "                                                    [key], {});\n",
              "        if (!dataTable) return;\n",
              "\n",
              "        const docLinkHtml = 'Like what you see? Visit the ' +\n",
              "          '<a target=\"_blank\" href=https://colab.research.google.com/notebooks/data_table.ipynb>data table notebook</a>'\n",
              "          + ' to learn more about interactive tables.';\n",
              "        element.innerHTML = '';\n",
              "        dataTable['output_type'] = 'display_data';\n",
              "        await google.colab.output.renderOutput(dataTable, element);\n",
              "        const docLink = document.createElement('div');\n",
              "        docLink.innerHTML = docLinkHtml;\n",
              "        element.appendChild(docLink);\n",
              "      }\n",
              "    </script>\n",
              "  </div>\n",
              "\n",
              "\n",
              "<div id=\"df-ef7325c6-c159-4406-9350-fea24bb8d8c7\">\n",
              "  <button class=\"colab-df-quickchart\" onclick=\"quickchart('df-ef7325c6-c159-4406-9350-fea24bb8d8c7')\"\n",
              "            title=\"Suggest charts\"\n",
              "            style=\"display:none;\">\n",
              "\n",
              "<svg xmlns=\"http://www.w3.org/2000/svg\" height=\"24px\"viewBox=\"0 0 24 24\"\n",
              "     width=\"24px\">\n",
              "    <g>\n",
              "        <path d=\"M19 3H5c-1.1 0-2 .9-2 2v14c0 1.1.9 2 2 2h14c1.1 0 2-.9 2-2V5c0-1.1-.9-2-2-2zM9 17H7v-7h2v7zm4 0h-2V7h2v10zm4 0h-2v-4h2v4z\"/>\n",
              "    </g>\n",
              "</svg>\n",
              "  </button>\n",
              "\n",
              "<style>\n",
              "  .colab-df-quickchart {\n",
              "      --bg-color: #E8F0FE;\n",
              "      --fill-color: #1967D2;\n",
              "      --hover-bg-color: #E2EBFA;\n",
              "      --hover-fill-color: #174EA6;\n",
              "      --disabled-fill-color: #AAA;\n",
              "      --disabled-bg-color: #DDD;\n",
              "  }\n",
              "\n",
              "  [theme=dark] .colab-df-quickchart {\n",
              "      --bg-color: #3B4455;\n",
              "      --fill-color: #D2E3FC;\n",
              "      --hover-bg-color: #434B5C;\n",
              "      --hover-fill-color: #FFFFFF;\n",
              "      --disabled-bg-color: #3B4455;\n",
              "      --disabled-fill-color: #666;\n",
              "  }\n",
              "\n",
              "  .colab-df-quickchart {\n",
              "    background-color: var(--bg-color);\n",
              "    border: none;\n",
              "    border-radius: 50%;\n",
              "    cursor: pointer;\n",
              "    display: none;\n",
              "    fill: var(--fill-color);\n",
              "    height: 32px;\n",
              "    padding: 0;\n",
              "    width: 32px;\n",
              "  }\n",
              "\n",
              "  .colab-df-quickchart:hover {\n",
              "    background-color: var(--hover-bg-color);\n",
              "    box-shadow: 0 1px 2px rgba(60, 64, 67, 0.3), 0 1px 3px 1px rgba(60, 64, 67, 0.15);\n",
              "    fill: var(--button-hover-fill-color);\n",
              "  }\n",
              "\n",
              "  .colab-df-quickchart-complete:disabled,\n",
              "  .colab-df-quickchart-complete:disabled:hover {\n",
              "    background-color: var(--disabled-bg-color);\n",
              "    fill: var(--disabled-fill-color);\n",
              "    box-shadow: none;\n",
              "  }\n",
              "\n",
              "  .colab-df-spinner {\n",
              "    border: 2px solid var(--fill-color);\n",
              "    border-color: transparent;\n",
              "    border-bottom-color: var(--fill-color);\n",
              "    animation:\n",
              "      spin 1s steps(1) infinite;\n",
              "  }\n",
              "\n",
              "  @keyframes spin {\n",
              "    0% {\n",
              "      border-color: transparent;\n",
              "      border-bottom-color: var(--fill-color);\n",
              "      border-left-color: var(--fill-color);\n",
              "    }\n",
              "    20% {\n",
              "      border-color: transparent;\n",
              "      border-left-color: var(--fill-color);\n",
              "      border-top-color: var(--fill-color);\n",
              "    }\n",
              "    30% {\n",
              "      border-color: transparent;\n",
              "      border-left-color: var(--fill-color);\n",
              "      border-top-color: var(--fill-color);\n",
              "      border-right-color: var(--fill-color);\n",
              "    }\n",
              "    40% {\n",
              "      border-color: transparent;\n",
              "      border-right-color: var(--fill-color);\n",
              "      border-top-color: var(--fill-color);\n",
              "    }\n",
              "    60% {\n",
              "      border-color: transparent;\n",
              "      border-right-color: var(--fill-color);\n",
              "    }\n",
              "    80% {\n",
              "      border-color: transparent;\n",
              "      border-right-color: var(--fill-color);\n",
              "      border-bottom-color: var(--fill-color);\n",
              "    }\n",
              "    90% {\n",
              "      border-color: transparent;\n",
              "      border-bottom-color: var(--fill-color);\n",
              "    }\n",
              "  }\n",
              "</style>\n",
              "\n",
              "  <script>\n",
              "    async function quickchart(key) {\n",
              "      const quickchartButtonEl =\n",
              "        document.querySelector('#' + key + ' button');\n",
              "      quickchartButtonEl.disabled = true;  // To prevent multiple clicks.\n",
              "      quickchartButtonEl.classList.add('colab-df-spinner');\n",
              "      try {\n",
              "        const charts = await google.colab.kernel.invokeFunction(\n",
              "            'suggestCharts', [key], {});\n",
              "      } catch (error) {\n",
              "        console.error('Error during call to suggestCharts:', error);\n",
              "      }\n",
              "      quickchartButtonEl.classList.remove('colab-df-spinner');\n",
              "      quickchartButtonEl.classList.add('colab-df-quickchart-complete');\n",
              "    }\n",
              "    (() => {\n",
              "      let quickchartButtonEl =\n",
              "        document.querySelector('#df-ef7325c6-c159-4406-9350-fea24bb8d8c7 button');\n",
              "      quickchartButtonEl.style.display =\n",
              "        google.colab.kernel.accessAllowed ? 'block' : 'none';\n",
              "    })();\n",
              "  </script>\n",
              "</div>\n",
              "    </div>\n",
              "  </div>\n"
            ],
            "application/vnd.google.colaboratory.intrinsic+json": {
              "type": "dataframe",
              "summary": "{\n  \"name\": \"df\",\n  \"rows\": 511,\n  \"fields\": [\n    {\n      \"column\": \"CRIM\",\n      \"properties\": {\n        \"dtype\": \"number\",\n        \"std\": 8.564433333509855,\n        \"min\": 0.00632,\n        \"max\": 88.9762,\n        \"samples\": [\n          0.08387,\n          0.24522,\n          0.15086\n        ],\n        \"num_unique_values\": 509,\n        \"semantic_type\": \"\",\n        \"description\": \"\"\n      }\n    },\n    {\n      \"column\": \"ZN\",\n      \"properties\": {\n        \"dtype\": \"number\",\n        \"std\": 23.234838381032187,\n        \"min\": 0.0,\n        \"max\": 100.0,\n        \"samples\": [\n          25.0,\n          30.0,\n          18.0\n        ],\n        \"num_unique_values\": 26,\n        \"semantic_type\": \"\",\n        \"description\": \"\"\n      }\n    },\n    {\n      \"column\": \"INDUS\",\n      \"properties\": {\n        \"dtype\": \"number\",\n        \"std\": 6.828174588309387,\n        \"min\": 0.46,\n        \"max\": 27.74,\n        \"samples\": [\n          2.46,\n          2.31,\n          15.04\n        ],\n        \"num_unique_values\": 79,\n        \"semantic_type\": \"\",\n        \"description\": \"\"\n      }\n    },\n    {\n      \"column\": \"CHAS\",\n      \"properties\": {\n        \"dtype\": \"number\",\n        \"std\": 0.25283777534076946,\n        \"min\": 0.0,\n        \"max\": 1.0,\n        \"samples\": [\n          1.0,\n          0.0\n        ],\n        \"num_unique_values\": 2,\n        \"semantic_type\": \"\",\n        \"description\": \"\"\n      }\n    },\n    {\n      \"column\": \"NOX\",\n      \"properties\": {\n        \"dtype\": \"number\",\n        \"std\": 0.11530992214681604,\n        \"min\": 0.385,\n        \"max\": 0.871,\n        \"samples\": [\n          0.401,\n          0.538\n        ],\n        \"num_unique_values\": 82,\n        \"semantic_type\": \"\",\n        \"description\": \"\"\n      }\n    },\n    {\n      \"column\": \"RM\",\n      \"properties\": {\n        \"dtype\": \"number\",\n        \"std\": 0.7038016463619768,\n        \"min\": 3.561,\n        \"max\": 8.78,\n        \"samples\": [\n          3.863,\n          5.012\n        ],\n        \"num_unique_values\": 444,\n        \"semantic_type\": \"\",\n        \"description\": \"\"\n      }\n    },\n    {\n      \"column\": \"AGE\",\n      \"properties\": {\n        \"dtype\": \"number\",\n        \"std\": 28.09913037471996,\n        \"min\": 2.9,\n        \"max\": 100.0,\n        \"samples\": [\n          84.6,\n          33.8\n        ],\n        \"num_unique_values\": 357,\n        \"semantic_type\": \"\",\n        \"description\": \"\"\n      }\n    },\n    {\n      \"column\": \"DIS\",\n      \"properties\": {\n        \"dtype\": \"number\",\n        \"std\": 2.09863136242663,\n        \"min\": 1.1296,\n        \"max\": 12.1265,\n        \"samples\": [\n          2.847,\n          1.4261\n        ],\n        \"num_unique_values\": 416,\n        \"semantic_type\": \"\",\n        \"description\": \"\"\n      }\n    },\n    {\n      \"column\": \"RAD\",\n      \"properties\": {\n        \"dtype\": \"number\",\n        \"std\": 8.688468797353902,\n        \"min\": 1.0,\n        \"max\": 24.0,\n        \"samples\": [\n          7.0,\n          2.0\n        ],\n        \"num_unique_values\": 9,\n        \"semantic_type\": \"\",\n        \"description\": \"\"\n      }\n    },\n    {\n      \"column\": \"TAX\",\n      \"properties\": {\n        \"dtype\": \"number\",\n        \"std\": 167.9035316492596,\n        \"min\": 187.0,\n        \"max\": 711.0,\n        \"samples\": [\n          300.0,\n          345.0\n        ],\n        \"num_unique_values\": 67,\n        \"semantic_type\": \"\",\n        \"description\": \"\"\n      }\n    },\n    {\n      \"column\": \"PTRATIO\",\n      \"properties\": {\n        \"dtype\": \"number\",\n        \"std\": 2.200347566127839,\n        \"min\": 12.6,\n        \"max\": 23.0,\n        \"samples\": [\n          12.6,\n          19.6\n        ],\n        \"num_unique_values\": 47,\n        \"semantic_type\": \"\",\n        \"description\": \"\"\n      }\n    },\n    {\n      \"column\": \"B\",\n      \"properties\": {\n        \"dtype\": \"number\",\n        \"std\": 90.88267879563416,\n        \"min\": 0.32,\n        \"max\": 396.9,\n        \"samples\": [\n          396.3,\n          395.11\n        ],\n        \"num_unique_values\": 360,\n        \"semantic_type\": \"\",\n        \"description\": \"\"\n      }\n    },\n    {\n      \"column\": \"LSTAT\",\n      \"properties\": {\n        \"dtype\": \"number\",\n        \"std\": 7.797415936527355,\n        \"min\": 1.73,\n        \"max\": 76.0,\n        \"samples\": [\n          27.26,\n          22.6\n        ],\n        \"num_unique_values\": 460,\n        \"semantic_type\": \"\",\n        \"description\": \"\"\n      }\n    },\n    {\n      \"column\": \"MEDV\",\n      \"properties\": {\n        \"dtype\": \"number\",\n        \"std\": 9.484262294196043,\n        \"min\": 5.0,\n        \"max\": 67.0,\n        \"samples\": [\n          8.7,\n          22.5\n        ],\n        \"num_unique_values\": 231,\n        \"semantic_type\": \"\",\n        \"description\": \"\"\n      }\n    }\n  ]\n}"
            }
          },
          "metadata": {},
          "execution_count": 5
        }
      ]
    },
    {
      "cell_type": "markdown",
      "source": [
        "#Normal Distribution"
      ],
      "metadata": {
        "id": "Dp6_qZle2S6k"
      }
    },
    {
      "cell_type": "markdown",
      "source": [
        "###Standard Deviation"
      ],
      "metadata": {
        "id": "N97XfdqfleY4"
      }
    },
    {
      "cell_type": "markdown",
      "source": [
        "**What is Standard Deviation?**\n",
        "\n",
        "* A standard deviation (or σ) = a measure of how dispersed the data is in relation to the mean.\n",
        "* Low standard deviation = data are clustered around the mean\n",
        "* High standard deviation = data are more spread out.\n",
        "\n",
        "(https://www.nlm.nih.gov/nichsr/stats_tutorial/section2/mod8_sd.html)"
      ],
      "metadata": {
        "id": "4naGIG89lls-"
      }
    },
    {
      "cell_type": "markdown",
      "source": [
        "**Standard Deviation Formula**\n",
        "\n",
        "$s = \\sqrt{\\frac{\\sum_{i=1}^n (x_i - \\overline{x})^2}{n-1}}$\n",
        "\n",
        "* $s=$ Standard Deviation $\\geq0$\n",
        "* $n=$ number of all data points.\n",
        "* $\\overline{x}=\\sum_{i=1}^n\\frac{x_i}{n}$\n",
        "\n",
        "**The Difference Between Variance And Standard Deviation**\n",
        "* Variance = $\\text{Standard Deviation}^2=s^2$\n",
        "* reference: https://byjus.com/maths/difference-between-variance-and-standard-deviation/\n",
        "\n",
        "**The Difference Between Population and sample standard deviation**\n",
        "* If the data is being considered a population on its own $\\implies s = \\text{Population standard deviation} = \\sqrt{\\frac{\\sum_{i=1}^n (x_i - \\overline{x})^2}{n}}$\n",
        "* If the data is a sample from a larger population, $\\implies s = \\text{Sample standard deviation} = \\sqrt{\\frac{\\sum_{i=1}^n (x_i - \\overline{x})^2}{n-1}}$\n",
        "* reference: https://www.khanacademy.org/math/statistics-probability/summarizing-quantitative-data/variance-standard-deviation-sample/a/population-and-sample-standard-deviation-review"
      ],
      "metadata": {
        "id": "o-LAS48gx5cs"
      }
    },
    {
      "cell_type": "markdown",
      "source": [
        "**Question: Why using $n-1$ instead of $n$ for calculating Sample Standard Deviation?**\n",
        "\n",
        "Answer: The variable $n$ of sample is less than $n$ of Population. Thus when using the same equation, the Standard Deviation of sample also less than the Standard Deviation of population.\n",
        "\n",
        "Using $n-1$ give a result a little bit bigger than using $n$, thus $n-1$ is used in order to approximate the Standard Deviation of sample.\n",
        "\n",
        "Also, the $n-1$ is used instead of $n-r$ because $n-1$ usually give result better than other number.\n",
        "\n",
        "reference: https://stats.stackexchange.com/questions/3931/intuitive-explanation-for-dividing-by-n-1-when-calculating-standard-deviation"
      ],
      "metadata": {
        "id": "56ZD3KL9AnhC"
      }
    },
    {
      "cell_type": "code",
      "source": [
        "def StandardDeviation(x):\n",
        "  ans=0\n",
        "  for i in x:\n",
        "    ans+=pow(i-x.mean(),2)\n",
        "  ans/=x.shape[0]\n",
        "  ans=math.sqrt(ans)\n",
        "  return ans\n",
        "\n",
        "name=df.columns[1]\n",
        "\n",
        "print('s = '+str(StandardDeviation(df[name])))"
      ],
      "metadata": {
        "colab": {
          "base_uri": "https://localhost:8080/"
        },
        "id": "k3ULehSG3CFh",
        "outputId": "4c1414fa-4160-4bff-a3e1-0e8fb104a4e7"
      },
      "execution_count": null,
      "outputs": [
        {
          "output_type": "stream",
          "name": "stdout",
          "text": [
            "s = 23.21209257197624\n"
          ]
        }
      ]
    },
    {
      "cell_type": "markdown",
      "source": [
        "###Probability Distribution Function"
      ],
      "metadata": {
        "id": "igWgWzLWDCQR"
      }
    },
    {
      "cell_type": "markdown",
      "source": [
        "**The relationship between Standard Deviation and bell curve (Probability Distribution Function)**\n",
        "\n",
        "$P(x)=\\frac{\\exp{((-\\frac{1}{2})*(\\frac{x-\\overline{x}}{s})^2)}}{s\\sqrt{2\\pi}}=\\frac{1}{s\\sqrt{2\\pi}}*e^{(-\\frac{1}{2})*(\\frac{x-\\overline{x}}{s})^2}$\n",
        "\n",
        "* $s=$ Standard Deviation $\\geq0$\n",
        "* $n=$ number of all data points.\n",
        "* $\\overline{x}=\\sum_{i=1}^n\\frac{x_i}{n}$"
      ],
      "metadata": {
        "id": "ifnMob0R_tp7"
      }
    },
    {
      "cell_type": "markdown",
      "source": [
        "**Properties of Probability Distribution Function**\n",
        "* $P(x)\\in(0,\\infty]$\n",
        "* domain of $P(x)=x\\in[-\\infty,\\infty]$\n",
        "* the total area under the curves of $P(x)=1$"
      ],
      "metadata": {
        "id": "SY61tjqkD5RI"
      }
    },
    {
      "cell_type": "code",
      "source": [
        "# This code count the frequency of value\n",
        "# x axis = value (value of the data)\n",
        "# y axis = fequency (how often the data have the same value)\n",
        "\n",
        "space=20\n",
        "name=df.columns[-2]\n",
        "df[name].value_counts(bins=space)\n",
        "\n",
        "fig, ax = plt.subplots()\n",
        "df[name].value_counts(bins=space).plot(ax=ax, kind='bar')\n",
        "plt.show()\n",
        "dflist=df[name].value_counts(bins=space)#.index#.tolist()\n",
        "print((dflist))#.left))"
      ],
      "metadata": {
        "colab": {
          "base_uri": "https://localhost:8080/"
        },
        "id": "9K8B4bVDXRqw",
        "outputId": "d2a35ac5-f2a1-4971-98c8-4512c0db68b4"
      },
      "execution_count": null,
      "outputs": [
        {
          "output_type": "display_data",
          "data": {
            "text/plain": [
              "<Figure size 640x480 with 1 Axes>"
            ],
            "image/png": "[encoded data removed]"
          },
          "metadata": {}
        },
        {
          "output_type": "stream",
          "name": "stdout",
          "text": [
            "(5.444, 9.157]      112\n",
            "(9.157, 12.87]      103\n",
            "(12.87, 16.584]      84\n",
            "(1.655, 5.444]       76\n",
            "(16.584, 20.298]     59\n",
            "(20.298, 24.011]     34\n",
            "(24.011, 27.724]     19\n",
            "(27.724, 31.438]     15\n",
            "(31.438, 35.151]      5\n",
            "(35.151, 38.865]      2\n",
            "(42.578, 46.292]      1\n",
            "(72.286, 76.0]        1\n",
            "(46.292, 50.005]      0\n",
            "(50.005, 53.719]      0\n",
            "(53.719, 57.432]      0\n",
            "(57.432, 61.146]      0\n",
            "(61.146, 64.86]       0\n",
            "(64.86, 68.573]       0\n",
            "(68.573, 72.286]      0\n",
            "(38.865, 42.578]      0\n",
            "Name: LSTAT, dtype: int64\n"
          ]
        }
      ]
    },
    {
      "cell_type": "code",
      "source": [
        "def StandardDeviation(x):\n",
        "  ans=0\n",
        "  for i in x:\n",
        "    ans+=pow(i-x.mean(),2)\n",
        "  ans/=x.shape[0]\n",
        "  ans=math.sqrt(ans)\n",
        "  return ans\n",
        "\n",
        "def BellCurve(Data, Domain=np.arange(-100,100,0.01)):\n",
        "  XLine=Domain\n",
        "  YLine=(np.exp(-(1/2)*pow((XLine-Data.mean())/StandardDeviation(Data),2)))/(math.sqrt(np.pi*2)*StandardDeviation(Data))\n",
        "  return [XLine,YLine]\n",
        "\n",
        "fx=BellCurve(df[name])\n",
        "\n",
        "plt.plot(fx[0],fx[1],color='black')\n",
        "#plt.axvline(df[name].mean()-0.675*StandardDeviation(df[name]),color='red') # reference: https://stackoverflow.com/questions/24988448/how-to-draw-vertical-lines-on-a-given-plot\n",
        "plt.axvline(df[name].mean(),color='green')\n",
        "#plt.axvline(df[name].mean()+0.675*StandardDeviation(df[name]),color='blue') # reference: https://www.statology.org/find-quartiles-with-mean-standard-deviation/\n",
        "plt.xlabel(\"Value of the data point in each row\")\n",
        "plt.ylabel(\"Fequency of the value\")\n",
        "plt.grid()\n",
        "plt.show()"
      ],
      "metadata": {
        "colab": {
          "base_uri": "https://localhost:8080/"
        },
        "id": "-VoUkzjx6SyZ",
        "outputId": "ef611432-d59f-4ac4-e807-f30508062b76"
      },
      "execution_count": null,
      "outputs": [
        {
          "output_type": "display_data",
          "data": {
            "text/plain": [
              "<Figure size 640x480 with 1 Axes>"
            ],
            "image/png": "[encoded data removed]"
          },
          "metadata": {}
        }
      ]
    },
    {
      "cell_type": "code",
      "source": [
        "def StandardDeviation(x):\n",
        "  ans=0\n",
        "  for i in x:\n",
        "    ans+=pow(i-x.mean(),2)\n",
        "  ans/=x.shape[0]\n",
        "  ans=math.sqrt(ans)\n",
        "  return ans\n",
        "\n",
        "def BellCurve(Data, Domain=np.arange(-100,100,0.01)):\n",
        "  XLine=Domain\n",
        "  YLine=(np.exp(-(1/2)*pow((XLine-Data.mean())/StandardDeviation(Data),2)))/(math.sqrt(np.pi*2)*StandardDeviation(Data))\n",
        "  return [XLine,YLine]\n",
        "\n",
        "fx=BellCurve(df[name])\n",
        "fig, ax = plt.subplots()\n",
        "space=10\n",
        "\n",
        "bins = 100\n",
        "n, bins, patches = ax.hist(\n",
        "  df[name],        # This parameter are the sequence of data.\n",
        "  bins,            # This parameter is an optional parameter and it contains the integer\n",
        "  density = 1,     # This parameter is an optional parameter and it contains the boolean values.\n",
        "                   # density = counts / (sum(counts) * np.diff(bins))\n",
        "  color ='black',\n",
        "  alpha = 0.7\n",
        "  # reference: https://www.geeksforgeeks.org/matplotlib-axes-axes-hist-in-python/\n",
        "  )\n",
        "\n",
        "plt.axvline(df[name].mean(),color='blue')\n",
        "ax.plot(fx[0],fx[1], '--',color='red')\n",
        "plt.grid()\n",
        "plt.show()"
      ],
      "metadata": {
        "colab": {
          "base_uri": "https://localhost:8080/"
        },
        "id": "lDaj20TGb306",
        "outputId": "2191b343-65bf-40b6-c2f8-c04dd314aab6"
      },
      "execution_count": null,
      "outputs": [
        {
          "output_type": "display_data",
          "data": {
            "text/plain": [
              "<Figure size 640x480 with 1 Axes>"
            ],
            "image/png": "[encoded data removed]"
          },
          "metadata": {}
        }
      ]
    },
    {
      "cell_type": "markdown",
      "source": [
        "**This is how `density=1` works in ax.hist**\n",
        "\n",
        "Histogram Graph = $f(x)=h_x$\n",
        "* $h_x=$ height of the histogram in the respect of input $x$\n",
        "* $w=$ width of the histogram\n",
        "* Area under the histogram = $\\Sigma_{i=1}^nh_iw$\n",
        "\n",
        "When `density=0`\n",
        "* Nothing is change.\n",
        "\n",
        "When `density=1`\n",
        "* `ax.hist` will modify $ = 1$ in order to make comparison between Normal distribution and $f(x)$ becomes easy."
      ],
      "metadata": {
        "id": "BkrAklMR2t1R"
      }
    },
    {
      "cell_type": "code",
      "source": [
        "# This is how density=1 works in ax.hist\n",
        "# density = BinHeight / (100 * NumberOfAllBin * BinWidth)\n",
        "# \\therefore density dx = (np.sum(density * BinWidth) == 1)\n",
        "# reference: https://matplotlib.org/stable/api/_as_gen/matplotlib.pyplot.hist.html\n",
        "\n",
        "binn=100\n",
        "\n",
        "Frequency=df[name].value_counts(bins=binn).tolist()\n",
        "Start=list(df[name].value_counts(bins=binn).index.left)\n",
        "End=list(df[name].value_counts(bins=binn).index.right)\n",
        "NumberOfAllBin=df[name].shape[0]\n",
        "BinWidth=((End[0]-Start[0])/binn)\n",
        "\n",
        "df01 = pd.DataFrame({'density=0':[], 'density=1':[]})\n",
        "\n",
        "for i in range(len(Frequency)):\n",
        "  df01=df01.append(\n",
        "      pd.DataFrame(\n",
        "          {'density=0':[Frequency[i]],\n",
        "           'density=1':[Frequency[i]/(100*NumberOfAllBin*BinWidth)]}),  # this column is approximately equal to n\n",
        "           #   density = BinHeight / (100 * NumberOfAllBin * BinWidth)\n",
        "           ignore_index = True)\n",
        "\n",
        "print('df01')\n",
        "print(df01)\n",
        "\n",
        "'''\n",
        "# In order to plot this graph properly, you must sort [Start,End] pair and re order Frequency in its correct order.\n",
        "'''"
      ],
      "metadata": {
        "colab": {
          "base_uri": "https://localhost:8080/"
        },
        "id": "AquYKC5Ilwqc",
        "outputId": "28c79b9e-3a44-41cb-ebe6-06d0d4fa7b69"
      },
      "execution_count": null,
      "outputs": [
        {
          "output_type": "stream",
          "name": "stdout",
          "text": [
            "df01\n",
            "    density=0  density=1\n",
            "0        28.0   0.073748\n",
            "1        28.0   0.073748\n",
            "2        26.0   0.068480\n",
            "3        23.0   0.060578\n",
            "4        23.0   0.060578\n",
            "..        ...        ...\n",
            "95        0.0   0.000000\n",
            "96        0.0   0.000000\n",
            "97        0.0   0.000000\n",
            "98        0.0   0.000000\n",
            "99        0.0   0.000000\n",
            "\n",
            "[100 rows x 2 columns]\n"
          ]
        },
        {
          "output_type": "stream",
          "name": "stderr",
          "text": [
            "<ipython-input-10-7bce412b6190>:17: FutureWarning: The frame.append method is deprecated and will be removed from pandas in a future version. Use pandas.concat instead.\n",
            "  df01=df01.append(\n",
            "<ipython-input-10-7bce412b6190>:17: FutureWarning: The frame.append method is deprecated and will be removed from pandas in a future version. Use pandas.concat instead.\n",
            "  df01=df01.append(\n",
            "<ipython-input-10-7bce412b6190>:17: FutureWarning: The frame.append method is deprecated and will be removed from pandas in a future version. Use pandas.concat instead.\n",
            "  df01=df01.append(\n",
            "<ipython-input-10-7bce412b6190>:17: FutureWarning: The frame.append method is deprecated and will be removed from pandas in a future version. Use pandas.concat instead.\n",
            "  df01=df01.append(\n",
            "<ipython-input-10-7bce412b6190>:17: FutureWarning: The frame.append method is deprecated and will be removed from pandas in a future version. Use pandas.concat instead.\n",
            "  df01=df01.append(\n",
            "<ipython-input-10-7bce412b6190>:17: FutureWarning: The frame.append method is deprecated and will be removed from pandas in a future version. Use pandas.concat instead.\n",
            "  df01=df01.append(\n",
            "<ipython-input-10-7bce412b6190>:17: FutureWarning: The frame.append method is deprecated and will be removed from pandas in a future version. Use pandas.concat instead.\n",
            "  df01=df01.append(\n",
            "<ipython-input-10-7bce412b6190>:17: FutureWarning: The frame.append method is deprecated and will be removed from pandas in a future version. Use pandas.concat instead.\n",
            "  df01=df01.append(\n",
            "<ipython-input-10-7bce412b6190>:17: FutureWarning: The frame.append method is deprecated and will be removed from pandas in a future version. Use pandas.concat instead.\n",
            "  df01=df01.append(\n",
            "<ipython-input-10-7bce412b6190>:17: FutureWarning: The frame.append method is deprecated and will be removed from pandas in a future version. Use pandas.concat instead.\n",
            "  df01=df01.append(\n",
            "<ipython-input-10-7bce412b6190>:17: FutureWarning: The frame.append method is deprecated and will be removed from pandas in a future version. Use pandas.concat instead.\n",
            "  df01=df01.append(\n",
            "<ipython-input-10-7bce412b6190>:17: FutureWarning: The frame.append method is deprecated and will be removed from pandas in a future version. Use pandas.concat instead.\n",
            "  df01=df01.append(\n",
            "<ipython-input-10-7bce412b6190>:17: FutureWarning: The frame.append method is deprecated and will be removed from pandas in a future version. Use pandas.concat instead.\n",
            "  df01=df01.append(\n",
            "<ipython-input-10-7bce412b6190>:17: FutureWarning: The frame.append method is deprecated and will be removed from pandas in a future version. Use pandas.concat instead.\n",
            "  df01=df01.append(\n",
            "<ipython-input-10-7bce412b6190>:17: FutureWarning: The frame.append method is deprecated and will be removed from pandas in a future version. Use pandas.concat instead.\n",
            "  df01=df01.append(\n",
            "<ipython-input-10-7bce412b6190>:17: FutureWarning: The frame.append method is deprecated and will be removed from pandas in a future version. Use pandas.concat instead.\n",
            "  df01=df01.append(\n",
            "<ipython-input-10-7bce412b6190>:17: FutureWarning: The frame.append method is deprecated and will be removed from pandas in a future version. Use pandas.concat instead.\n",
            "  df01=df01.append(\n",
            "<ipython-input-10-7bce412b6190>:17: FutureWarning: The frame.append method is deprecated and will be removed from pandas in a future version. Use pandas.concat instead.\n",
            "  df01=df01.append(\n",
            "<ipython-input-10-7bce412b6190>:17: FutureWarning: The frame.append method is deprecated and will be removed from pandas in a future version. Use pandas.concat instead.\n",
            "  df01=df01.append(\n",
            "<ipython-input-10-7bce412b6190>:17: FutureWarning: The frame.append method is deprecated and will be removed from pandas in a future version. Use pandas.concat instead.\n",
            "  df01=df01.append(\n",
            "<ipython-input-10-7bce412b6190>:17: FutureWarning: The frame.append method is deprecated and will be removed from pandas in a future version. Use pandas.concat instead.\n",
            "  df01=df01.append(\n",
            "<ipython-input-10-7bce412b6190>:17: FutureWarning: The frame.append method is deprecated and will be removed from pandas in a future version. Use pandas.concat instead.\n",
            "  df01=df01.append(\n",
            "<ipython-input-10-7bce412b6190>:17: FutureWarning: The frame.append method is deprecated and will be removed from pandas in a future version. Use pandas.concat instead.\n",
            "  df01=df01.append(\n",
            "<ipython-input-10-7bce412b6190>:17: FutureWarning: The frame.append method is deprecated and will be removed from pandas in a future version. Use pandas.concat instead.\n",
            "  df01=df01.append(\n",
            "<ipython-input-10-7bce412b6190>:17: FutureWarning: The frame.append method is deprecated and will be removed from pandas in a future version. Use pandas.concat instead.\n",
            "  df01=df01.append(\n",
            "<ipython-input-10-7bce412b6190>:17: FutureWarning: The frame.append method is deprecated and will be removed from pandas in a future version. Use pandas.concat instead.\n",
            "  df01=df01.append(\n",
            "<ipython-input-10-7bce412b6190>:17: FutureWarning: The frame.append method is deprecated and will be removed from pandas in a future version. Use pandas.concat instead.\n",
            "  df01=df01.append(\n",
            "<ipython-input-10-7bce412b6190>:17: FutureWarning: The frame.append method is deprecated and will be removed from pandas in a future version. Use pandas.concat instead.\n",
            "  df01=df01.append(\n",
            "<ipython-input-10-7bce412b6190>:17: FutureWarning: The frame.append method is deprecated and will be removed from pandas in a future version. Use pandas.concat instead.\n",
            "  df01=df01.append(\n",
            "<ipython-input-10-7bce412b6190>:17: FutureWarning: The frame.append method is deprecated and will be removed from pandas in a future version. Use pandas.concat instead.\n",
            "  df01=df01.append(\n",
            "<ipython-input-10-7bce412b6190>:17: FutureWarning: The frame.append method is deprecated and will be removed from pandas in a future version. Use pandas.concat instead.\n",
            "  df01=df01.append(\n",
            "<ipython-input-10-7bce412b6190>:17: FutureWarning: The frame.append method is deprecated and will be removed from pandas in a future version. Use pandas.concat instead.\n",
            "  df01=df01.append(\n",
            "<ipython-input-10-7bce412b6190>:17: FutureWarning: The frame.append method is deprecated and will be removed from pandas in a future version. Use pandas.concat instead.\n",
            "  df01=df01.append(\n",
            "<ipython-input-10-7bce412b6190>:17: FutureWarning: The frame.append method is deprecated and will be removed from pandas in a future version. Use pandas.concat instead.\n",
            "  df01=df01.append(\n",
            "<ipython-input-10-7bce412b6190>:17: FutureWarning: The frame.append method is deprecated and will be removed from pandas in a future version. Use pandas.concat instead.\n",
            "  df01=df01.append(\n",
            "<ipython-input-10-7bce412b6190>:17: FutureWarning: The frame.append method is deprecated and will be removed from pandas in a future version. Use pandas.concat instead.\n",
            "  df01=df01.append(\n",
            "<ipython-input-10-7bce412b6190>:17: FutureWarning: The frame.append method is deprecated and will be removed from pandas in a future version. Use pandas.concat instead.\n",
            "  df01=df01.append(\n",
            "<ipython-input-10-7bce412b6190>:17: FutureWarning: The frame.append method is deprecated and will be removed from pandas in a future version. Use pandas.concat instead.\n",
            "  df01=df01.append(\n",
            "<ipython-input-10-7bce412b6190>:17: FutureWarning: The frame.append method is deprecated and will be removed from pandas in a future version. Use pandas.concat instead.\n",
            "  df01=df01.append(\n",
            "<ipython-input-10-7bce412b6190>:17: FutureWarning: The frame.append method is deprecated and will be removed from pandas in a future version. Use pandas.concat instead.\n",
            "  df01=df01.append(\n",
            "<ipython-input-10-7bce412b6190>:17: FutureWarning: The frame.append method is deprecated and will be removed from pandas in a future version. Use pandas.concat instead.\n",
            "  df01=df01.append(\n",
            "<ipython-input-10-7bce412b6190>:17: FutureWarning: The frame.append method is deprecated and will be removed from pandas in a future version. Use pandas.concat instead.\n",
            "  df01=df01.append(\n",
            "<ipython-input-10-7bce412b6190>:17: FutureWarning: The frame.append method is deprecated and will be removed from pandas in a future version. Use pandas.concat instead.\n",
            "  df01=df01.append(\n",
            "<ipython-input-10-7bce412b6190>:17: FutureWarning: The frame.append method is deprecated and will be removed from pandas in a future version. Use pandas.concat instead.\n",
            "  df01=df01.append(\n",
            "<ipython-input-10-7bce412b6190>:17: FutureWarning: The frame.append method is deprecated and will be removed from pandas in a future version. Use pandas.concat instead.\n",
            "  df01=df01.append(\n",
            "<ipython-input-10-7bce412b6190>:17: FutureWarning: The frame.append method is deprecated and will be removed from pandas in a future version. Use pandas.concat instead.\n",
            "  df01=df01.append(\n",
            "<ipython-input-10-7bce412b6190>:17: FutureWarning: The frame.append method is deprecated and will be removed from pandas in a future version. Use pandas.concat instead.\n",
            "  df01=df01.append(\n",
            "<ipython-input-10-7bce412b6190>:17: FutureWarning: The frame.append method is deprecated and will be removed from pandas in a future version. Use pandas.concat instead.\n",
            "  df01=df01.append(\n",
            "<ipython-input-10-7bce412b6190>:17: FutureWarning: The frame.append method is deprecated and will be removed from pandas in a future version. Use pandas.concat instead.\n",
            "  df01=df01.append(\n",
            "<ipython-input-10-7bce412b6190>:17: FutureWarning: The frame.append method is deprecated and will be removed from pandas in a future version. Use pandas.concat instead.\n",
            "  df01=df01.append(\n",
            "<ipython-input-10-7bce412b6190>:17: FutureWarning: The frame.append method is deprecated and will be removed from pandas in a future version. Use pandas.concat instead.\n",
            "  df01=df01.append(\n",
            "<ipython-input-10-7bce412b6190>:17: FutureWarning: The frame.append method is deprecated and will be removed from pandas in a future version. Use pandas.concat instead.\n",
            "  df01=df01.append(\n",
            "<ipython-input-10-7bce412b6190>:17: FutureWarning: The frame.append method is deprecated and will be removed from pandas in a future version. Use pandas.concat instead.\n",
            "  df01=df01.append(\n",
            "<ipython-input-10-7bce412b6190>:17: FutureWarning: The frame.append method is deprecated and will be removed from pandas in a future version. Use pandas.concat instead.\n",
            "  df01=df01.append(\n",
            "<ipython-input-10-7bce412b6190>:17: FutureWarning: The frame.append method is deprecated and will be removed from pandas in a future version. Use pandas.concat instead.\n",
            "  df01=df01.append(\n",
            "<ipython-input-10-7bce412b6190>:17: FutureWarning: The frame.append method is deprecated and will be removed from pandas in a future version. Use pandas.concat instead.\n",
            "  df01=df01.append(\n",
            "<ipython-input-10-7bce412b6190>:17: FutureWarning: The frame.append method is deprecated and will be removed from pandas in a future version. Use pandas.concat instead.\n",
            "  df01=df01.append(\n",
            "<ipython-input-10-7bce412b6190>:17: FutureWarning: The frame.append method is deprecated and will be removed from pandas in a future version. Use pandas.concat instead.\n",
            "  df01=df01.append(\n",
            "<ipython-input-10-7bce412b6190>:17: FutureWarning: The frame.append method is deprecated and will be removed from pandas in a future version. Use pandas.concat instead.\n",
            "  df01=df01.append(\n",
            "<ipython-input-10-7bce412b6190>:17: FutureWarning: The frame.append method is deprecated and will be removed from pandas in a future version. Use pandas.concat instead.\n",
            "  df01=df01.append(\n",
            "<ipython-input-10-7bce412b6190>:17: FutureWarning: The frame.append method is deprecated and will be removed from pandas in a future version. Use pandas.concat instead.\n",
            "  df01=df01.append(\n",
            "<ipython-input-10-7bce412b6190>:17: FutureWarning: The frame.append method is deprecated and will be removed from pandas in a future version. Use pandas.concat instead.\n",
            "  df01=df01.append(\n",
            "<ipython-input-10-7bce412b6190>:17: FutureWarning: The frame.append method is deprecated and will be removed from pandas in a future version. Use pandas.concat instead.\n",
            "  df01=df01.append(\n",
            "<ipython-input-10-7bce412b6190>:17: FutureWarning: The frame.append method is deprecated and will be removed from pandas in a future version. Use pandas.concat instead.\n",
            "  df01=df01.append(\n",
            "<ipython-input-10-7bce412b6190>:17: FutureWarning: The frame.append method is deprecated and will be removed from pandas in a future version. Use pandas.concat instead.\n",
            "  df01=df01.append(\n",
            "<ipython-input-10-7bce412b6190>:17: FutureWarning: The frame.append method is deprecated and will be removed from pandas in a future version. Use pandas.concat instead.\n",
            "  df01=df01.append(\n",
            "<ipython-input-10-7bce412b6190>:17: FutureWarning: The frame.append method is deprecated and will be removed from pandas in a future version. Use pandas.concat instead.\n",
            "  df01=df01.append(\n",
            "<ipython-input-10-7bce412b6190>:17: FutureWarning: The frame.append method is deprecated and will be removed from pandas in a future version. Use pandas.concat instead.\n",
            "  df01=df01.append(\n",
            "<ipython-input-10-7bce412b6190>:17: FutureWarning: The frame.append method is deprecated and will be removed from pandas in a future version. Use pandas.concat instead.\n",
            "  df01=df01.append(\n",
            "<ipython-input-10-7bce412b6190>:17: FutureWarning: The frame.append method is deprecated and will be removed from pandas in a future version. Use pandas.concat instead.\n",
            "  df01=df01.append(\n",
            "<ipython-input-10-7bce412b6190>:17: FutureWarning: The frame.append method is deprecated and will be removed from pandas in a future version. Use pandas.concat instead.\n",
            "  df01=df01.append(\n",
            "<ipython-input-10-7bce412b6190>:17: FutureWarning: The frame.append method is deprecated and will be removed from pandas in a future version. Use pandas.concat instead.\n",
            "  df01=df01.append(\n",
            "<ipython-input-10-7bce412b6190>:17: FutureWarning: The frame.append method is deprecated and will be removed from pandas in a future version. Use pandas.concat instead.\n",
            "  df01=df01.append(\n",
            "<ipython-input-10-7bce412b6190>:17: FutureWarning: The frame.append method is deprecated and will be removed from pandas in a future version. Use pandas.concat instead.\n",
            "  df01=df01.append(\n",
            "<ipython-input-10-7bce412b6190>:17: FutureWarning: The frame.append method is deprecated and will be removed from pandas in a future version. Use pandas.concat instead.\n",
            "  df01=df01.append(\n",
            "<ipython-input-10-7bce412b6190>:17: FutureWarning: The frame.append method is deprecated and will be removed from pandas in a future version. Use pandas.concat instead.\n",
            "  df01=df01.append(\n",
            "<ipython-input-10-7bce412b6190>:17: FutureWarning: The frame.append method is deprecated and will be removed from pandas in a future version. Use pandas.concat instead.\n",
            "  df01=df01.append(\n",
            "<ipython-input-10-7bce412b6190>:17: FutureWarning: The frame.append method is deprecated and will be removed from pandas in a future version. Use pandas.concat instead.\n",
            "  df01=df01.append(\n",
            "<ipython-input-10-7bce412b6190>:17: FutureWarning: The frame.append method is deprecated and will be removed from pandas in a future version. Use pandas.concat instead.\n",
            "  df01=df01.append(\n",
            "<ipython-input-10-7bce412b6190>:17: FutureWarning: The frame.append method is deprecated and will be removed from pandas in a future version. Use pandas.concat instead.\n",
            "  df01=df01.append(\n",
            "<ipython-input-10-7bce412b6190>:17: FutureWarning: The frame.append method is deprecated and will be removed from pandas in a future version. Use pandas.concat instead.\n",
            "  df01=df01.append(\n",
            "<ipython-input-10-7bce412b6190>:17: FutureWarning: The frame.append method is deprecated and will be removed from pandas in a future version. Use pandas.concat instead.\n",
            "  df01=df01.append(\n",
            "<ipython-input-10-7bce412b6190>:17: FutureWarning: The frame.append method is deprecated and will be removed from pandas in a future version. Use pandas.concat instead.\n",
            "  df01=df01.append(\n",
            "<ipython-input-10-7bce412b6190>:17: FutureWarning: The frame.append method is deprecated and will be removed from pandas in a future version. Use pandas.concat instead.\n",
            "  df01=df01.append(\n",
            "<ipython-input-10-7bce412b6190>:17: FutureWarning: The frame.append method is deprecated and will be removed from pandas in a future version. Use pandas.concat instead.\n",
            "  df01=df01.append(\n",
            "<ipython-input-10-7bce412b6190>:17: FutureWarning: The frame.append method is deprecated and will be removed from pandas in a future version. Use pandas.concat instead.\n",
            "  df01=df01.append(\n",
            "<ipython-input-10-7bce412b6190>:17: FutureWarning: The frame.append method is deprecated and will be removed from pandas in a future version. Use pandas.concat instead.\n",
            "  df01=df01.append(\n",
            "<ipython-input-10-7bce412b6190>:17: FutureWarning: The frame.append method is deprecated and will be removed from pandas in a future version. Use pandas.concat instead.\n",
            "  df01=df01.append(\n",
            "<ipython-input-10-7bce412b6190>:17: FutureWarning: The frame.append method is deprecated and will be removed from pandas in a future version. Use pandas.concat instead.\n",
            "  df01=df01.append(\n",
            "<ipython-input-10-7bce412b6190>:17: FutureWarning: The frame.append method is deprecated and will be removed from pandas in a future version. Use pandas.concat instead.\n",
            "  df01=df01.append(\n",
            "<ipython-input-10-7bce412b6190>:17: FutureWarning: The frame.append method is deprecated and will be removed from pandas in a future version. Use pandas.concat instead.\n",
            "  df01=df01.append(\n",
            "<ipython-input-10-7bce412b6190>:17: FutureWarning: The frame.append method is deprecated and will be removed from pandas in a future version. Use pandas.concat instead.\n",
            "  df01=df01.append(\n",
            "<ipython-input-10-7bce412b6190>:17: FutureWarning: The frame.append method is deprecated and will be removed from pandas in a future version. Use pandas.concat instead.\n",
            "  df01=df01.append(\n",
            "<ipython-input-10-7bce412b6190>:17: FutureWarning: The frame.append method is deprecated and will be removed from pandas in a future version. Use pandas.concat instead.\n",
            "  df01=df01.append(\n",
            "<ipython-input-10-7bce412b6190>:17: FutureWarning: The frame.append method is deprecated and will be removed from pandas in a future version. Use pandas.concat instead.\n",
            "  df01=df01.append(\n",
            "<ipython-input-10-7bce412b6190>:17: FutureWarning: The frame.append method is deprecated and will be removed from pandas in a future version. Use pandas.concat instead.\n",
            "  df01=df01.append(\n",
            "<ipython-input-10-7bce412b6190>:17: FutureWarning: The frame.append method is deprecated and will be removed from pandas in a future version. Use pandas.concat instead.\n",
            "  df01=df01.append(\n",
            "<ipython-input-10-7bce412b6190>:17: FutureWarning: The frame.append method is deprecated and will be removed from pandas in a future version. Use pandas.concat instead.\n",
            "  df01=df01.append(\n",
            "<ipython-input-10-7bce412b6190>:17: FutureWarning: The frame.append method is deprecated and will be removed from pandas in a future version. Use pandas.concat instead.\n",
            "  df01=df01.append(\n",
            "<ipython-input-10-7bce412b6190>:17: FutureWarning: The frame.append method is deprecated and will be removed from pandas in a future version. Use pandas.concat instead.\n",
            "  df01=df01.append(\n"
          ]
        },
        {
          "output_type": "execute_result",
          "data": {
            "text/plain": [
              "'\\n# In order to plot this graph properly, you must sort [Start,End] pair and re order Frequency in its correct order.\\n'"
            ],
            "application/vnd.google.colaboratory.intrinsic+json": {
              "type": "string"
            }
          },
          "metadata": {},
          "execution_count": 10
        }
      ]
    },
    {
      "cell_type": "code",
      "source": [
        "print(n)"
      ],
      "metadata": {
        "colab": {
          "base_uri": "https://localhost:8080/"
        },
        "id": "m6O6Gtpob1bg",
        "outputId": "58fd3b92-9191-4ebc-9b68-311f7ff2ba85"
      },
      "execution_count": null,
      "outputs": [
        {
          "output_type": "stream",
          "name": "stdout",
          "text": [
            "[0.01053964 0.03161891 0.04479346 0.05269819 0.06060291 0.05796801\n",
            " 0.07377746 0.06060291 0.05269819 0.05006328 0.07377746 0.06850764\n",
            " 0.03161891 0.04742837 0.05006328 0.05796801 0.03688873 0.0553331\n",
            " 0.03425382 0.03688873 0.04742837 0.03425382 0.04215855 0.01580946\n",
            " 0.01580946 0.02107927 0.02634909 0.00263491 0.01580946 0.02371418\n",
            " 0.01317455 0.00790473 0.00526982 0.01580946 0.00790473 0.00790473\n",
            " 0.00263491 0.01317455 0.01053964 0.00526982 0.00263491 0.\n",
            " 0.         0.00526982 0.00526982 0.         0.         0.00263491\n",
            " 0.00263491 0.         0.         0.         0.         0.\n",
            " 0.         0.         0.         0.         0.00263491 0.\n",
            " 0.         0.         0.         0.         0.         0.\n",
            " 0.         0.         0.         0.         0.         0.\n",
            " 0.         0.         0.         0.         0.         0.\n",
            " 0.         0.         0.         0.         0.         0.\n",
            " 0.         0.         0.         0.         0.         0.\n",
            " 0.         0.         0.         0.         0.         0.\n",
            " 0.         0.         0.         0.00263491]\n"
          ]
        }
      ]
    },
    {
      "cell_type": "markdown",
      "source": [
        "**Why does increasing the standard deviation of a normal distribution result in a flatter curve?**\n",
        "The total area under the curves of Probability Distribution Function has to be equal to 1. Standard deviation is a measure of expansion of possibility of $x$ values. The more Standard deviation, means there is more variety of $x$ values. Thus more values will be found farther away from the mean. This flattens the curve.\n",
        "\n",
        "reference:\n",
        "* https://www.quora.com/Why-does-increasing-the-standard-deviation-of-a-normal-distribution-result-in-a-flatter-curve\n",
        "* https://qr.ae/prlYKv"
      ],
      "metadata": {
        "id": "yYJnf3V3Eg5I"
      }
    },
    {
      "cell_type": "markdown",
      "source": [
        "###Z score"
      ],
      "metadata": {
        "id": "CEyihFCtVKtz"
      }
    },
    {
      "cell_type": "markdown",
      "source": [
        "**What is Z score (a.k.a. The standard score)?**\n",
        "\n",
        "$Z=\\frac{x-\\overline{x}}{s}$\n",
        "\n",
        "* $Z=$ Z score\n",
        "* $Z=0\\implies$ the score is equal to the mean.\n",
        "* $Z>0\\implies$ the score is above the mean.\n",
        "* $Z<0\\implies$ the score indicating it is below the mean.\n",
        "* $\\overline{x}=$ mean value of $x$\n",
        "* $s=$ Standard Deviation\n",
        "\n",
        "reference:\n",
        "* https://www.investopedia.com/terms/z/zscore.asp#toc-how-the-z-score-is-used\n",
        "* https://statistics.laerd.com/statistical-guides/standard-score.php\n",
        "* https://youtu.be/5S-Zfa-vOXs"
      ],
      "metadata": {
        "id": "vmbC1GmqVeG5"
      }
    },
    {
      "cell_type": "markdown",
      "source": [
        "###Percentile"
      ],
      "metadata": {
        "id": "CJJAMUq813en"
      }
    },
    {
      "cell_type": "markdown",
      "source": [
        "**Definition**\n",
        "* Percentile (n)= a value on a scale of 100 that indicates the percent of a distribution that is equal to or below it. (https://www.merriam-webster.com/dictionary/percentile)\n",
        "\n",
        "**Formula**\n",
        "* $\\int_{-\\infty}^{P_x}f(x)\\,dx=$ area under the curve from point $-\\infty$ to $P_x$\n",
        " * This integral also means $\\%$ of the data that have value less than or equal to $P_x$"
      ],
      "metadata": {
        "id": "kb_UeChoIHHN"
      }
    },
    {
      "cell_type": "code",
      "source": [
        "Ms=60\n",
        "SDs=65\n",
        "\n",
        "def BellCurve(Ms=0,SDs=1, Domain=np.arange(-150,300,0.01)):\n",
        "  XLine=Domain\n",
        "  YLine=[]\n",
        "  for i in XLine:\n",
        "    YLine.append((pow(float(np.exp(1)),-(1/2)*pow((i-Ms)/SDs,2)))/(math.sqrt(np.pi*2)*SDs))\n",
        "  YLine=np.array(YLine)\n",
        "  return [XLine,YLine]\n",
        "\n",
        "fx=BellCurve(Ms=Ms,SDs=SDs)\n",
        "plt.plot(fx[0],fx[1],color='black')\n",
        "\n",
        "colors=[\n",
        "    'red',\n",
        "    '#995500',\n",
        "    'green',\n",
        "    'green',\n",
        "    'purple',\n",
        "    'orange',\n",
        "    'red'\n",
        "]\n",
        "for i in range(7):\n",
        "  plt.axvline((i-3)*SDs+Ms,color=colors[i])\n",
        "\n",
        "plt.axvline(Ms,color='blue')\n",
        "plt.xlabel(\"Value of the data point in each row\")\n",
        "plt.ylabel(\"Fequency of the value\")\n",
        "plt.grid()\n",
        "plt.show()"
      ],
      "metadata": {
        "colab": {
          "base_uri": "https://localhost:8080/"
        },
        "outputId": "c322ffa3-7f95-494b-8787-c4e1ed148822",
        "id": "UVoDT-eEKqNp"
      },
      "execution_count": null,
      "outputs": [
        {
          "output_type": "display_data",
          "data": {
            "text/plain": [
              "<Figure size 640x480 with 1 Axes>"
            ],
            "image/png": "[encoded data removed]"
          },
          "metadata": {}
        }
      ]
    },
    {
      "cell_type": "markdown",
      "source": [
        "**Note:**\n",
        "\n",
        "The area under graph outside red line ($-3s+\\overline{x}$ and $3s+\\overline{x}$) is very small, which means that, there are rarely a data point that have value below or above that interval. (https://en.wikipedia.org/wiki/Percentile)"
      ],
      "metadata": {
        "id": "i51oDxO8KrXq"
      }
    },
    {
      "cell_type": "code",
      "source": [
        "# Integral Normal Distribution function when set\n",
        "\n",
        "LessScore = integrate.quad(\n",
        "    lambda x: (np.exp(-(1/2)*pow((x-Ms)/SDs,2)))/(math.sqrt(np.pi*2)*SDs),\n",
        "    -np.inf,\n",
        "    3*SDs+Ms)\n",
        "\n",
        "print('Percentile =',float(LessScore[0]*100))\n",
        "\n",
        "# reference: https://docs.scipy.org/doc/scipy/tutorial/integrate.html"
      ],
      "metadata": {
        "colab": {
          "base_uri": "https://localhost:8080/"
        },
        "outputId": "65189a9c-b6da-48bf-a4fd-f09be2950e62",
        "id": "hUZ2r8KmL1fe"
      },
      "execution_count": null,
      "outputs": [
        {
          "output_type": "stream",
          "name": "stdout",
          "text": [
            "Percentile = 99.865010196837\n"
          ]
        }
      ]
    },
    {
      "cell_type": "markdown",
      "source": [
        "#Exercise"
      ],
      "metadata": {
        "id": "XVr1AZHh1bBs"
      }
    },
    {
      "cell_type": "markdown",
      "source": [
        "**Given that:**\n",
        "\n",
        "* There were 50 students take the exam.\n",
        "* Sarah scored 70.\n",
        "* The means score was 60.\n",
        "* Standard deviation is 15.\n",
        "* The exercise is based on this website: https://statistics.laerd.com/statistical-guides/standard-score-2.php"
      ],
      "metadata": {
        "id": "G-NVc8ZxVaGR"
      }
    },
    {
      "cell_type": "markdown",
      "source": [
        "###**Question No.1, How well Sarah perform in an exam compare to other students?**"
      ],
      "metadata": {
        "id": "OzX-t_NXef3H"
      }
    },
    {
      "cell_type": "code",
      "source": [
        "def ZScore(xs,ms,sds):\n",
        "  Zs=(xs-ms)/sds\n",
        "  return Zs\n",
        "\n",
        "Ms=60\n",
        "SDs=15\n",
        "Sarah=70\n",
        "SarahZ=ZScore(Sarah,Ms,SDs)\n",
        "\n",
        "print('Delta =', Sarah-Ms)\n",
        "print('Zscore =', ZScore(Sarah,Ms,SDs))"
      ],
      "metadata": {
        "colab": {
          "base_uri": "https://localhost:8080/"
        },
        "id": "0Fg841P6XW0K",
        "outputId": "0ee2d197-25f2-4cdc-9ebd-73b4b04e489d"
      },
      "execution_count": null,
      "outputs": [
        {
          "output_type": "stream",
          "name": "stdout",
          "text": [
            "Delta = 10\n",
            "Zscore = 0.6666666666666666\n"
          ]
        }
      ]
    },
    {
      "cell_type": "code",
      "source": [
        "# Integral Normal Distribution function when set\n",
        "\n",
        "LessScore = integrate.quad(\n",
        "    lambda x: (np.exp(-(1/2)*pow((x-Ms)/SDs,2)))/(math.sqrt(np.pi*2)*SDs),\n",
        "    -np.inf,\n",
        "    Sarah)\n",
        "\n",
        "MoreScore = integrate.quad(\n",
        "    lambda x: (np.exp(-(1/2)*pow((x-Ms)/SDs,2)))/(math.sqrt(np.pi*2)*SDs),\n",
        "    Sarah,\n",
        "    np.inf)\n",
        "\n",
        "print('% of people who scored less than Sarah is',float(LessScore[0]))\n",
        "print('% of people who scored greater than Sarah is',float(MoreScore[0]))\n",
        "\n",
        "print()\n",
        "print('Sarah score is',float(LessScore[0]*100),'percentile')\n",
        "\n",
        "# reference: https://docs.scipy.org/doc/scipy/tutorial/integrate.html"
      ],
      "metadata": {
        "colab": {
          "base_uri": "https://localhost:8080/"
        },
        "id": "pUNzL-mLSuEq",
        "outputId": "d1062310-60fd-43e8-9150-40cee7eac064"
      },
      "execution_count": null,
      "outputs": [
        {
          "output_type": "stream",
          "name": "stdout",
          "text": [
            "% of people who scored less than Sarah is 0.7475074624530773\n",
            "% of people who scored greater than Sarah is 0.25249253754691475\n",
            "\n",
            "Sarah score is 74.75074624530774 percentile\n"
          ]
        }
      ]
    },
    {
      "cell_type": "markdown",
      "source": [
        "**Note**\n",
        "\n",
        "In this website (https://statistics.laerd.com/statistical-guides/standard-score-2.php) use Z-table instead of integral.\n",
        "\n",
        "This integral does not have an antiderivative in terms of elementary functions, therefore it is impossible to compute this integral exactly. The alternative way is to create a table that represents the value of each integrals with respect to each means and standard deviation.\n",
        "\n",
        "However, the easier ways to do this is to create a table that represents the value of each integrals with respect to each first and second digits of z score.\n",
        "\n",
        "Reference: https://math.stackexchange.com/questions/2643327/where-do-the-values-in-a-z-table-come-from"
      ],
      "metadata": {
        "id": "D1nWXynGcfn_"
      }
    },
    {
      "cell_type": "markdown",
      "source": [
        "**The answer in website is $74.86$**"
      ],
      "metadata": {
        "id": "GRwq_X0QXtKq"
      }
    },
    {
      "cell_type": "markdown",
      "source": [
        "###**Question No.2, What was the lowest score of the students who came in the top 10% of the class?**"
      ],
      "metadata": {
        "id": "QbVB-XNieoE6"
      }
    },
    {
      "cell_type": "markdown",
      "source": [
        "Given that:\n",
        "* $\\int_{-\\infty}^{P_x}f(x)\\,dx=$ area under the curve from point $-\\infty$ to $P_x$\n",
        "* We want to find $P_x$"
      ],
      "metadata": {
        "id": "oq3KrTt-7ldd"
      }
    },
    {
      "cell_type": "code",
      "source": [
        "P_ans=(30,0)\n",
        "X_ans=0\n",
        "random=0\n",
        "learning=1\n",
        "Percentile=900\n",
        "\n",
        "while int(1000*P_ans[0])!=Percentile:\n",
        "  X_ans=learning*np.random.rand(1)[0]\n",
        "  P_ans=integrate.quad(\n",
        "      lambda x: (np.exp(-(1/2)*pow((x-Ms)/SDs,2)))/(math.sqrt(np.pi*2)*SDs),\n",
        "      -np.inf,\n",
        "      X_ans)\n",
        "  if P_ans[0]<0.9:\n",
        "    learning+=1\n",
        "  else:\n",
        "    learning-=1\n",
        "  #print('Calculate =', P_ans)\n",
        "\n",
        "\n",
        "print('Finish')\n",
        "print('\\nX input =',X_ans)\n",
        "print('Percentile =',P_ans)\n",
        "print()\n",
        "print('Therefore the lowest score of students who came in the top 10% is greater than',X_ans)\n"
      ],
      "metadata": {
        "colab": {
          "base_uri": "https://localhost:8080/"
        },
        "id": "ixEq98RwPnU1",
        "outputId": "42350e57-87c7-4597-8ce1-8f5e00bdf041"
      },
      "execution_count": null,
      "outputs": [
        {
          "output_type": "stream",
          "name": "stdout",
          "text": [
            "Finish\n",
            "\n",
            "X input = 79.28948631044877\n",
            "Percentile = (0.9007724931429085, 1.41424928515942e-08)\n",
            "\n",
            "Therefore the lowest score of students who came in the top 10% is greater than 79.28948631044877\n"
          ]
        }
      ]
    },
    {
      "cell_type": "markdown",
      "source": [
        "**The answer in website is $79.23$**"
      ],
      "metadata": {
        "id": "OqRXeGeJXjx8"
      }
    },
    {
      "cell_type": "markdown",
      "source": [
        "###Question No.3, How well did Sarah perform in her Maths coursework compared to her English Literature coursework?"
      ],
      "metadata": {
        "id": "HX1xYIH3ZJgA"
      }
    },
    {
      "cell_type": "markdown",
      "source": [
        "**Given that:**\n",
        "* English Exam Means Score = 60\n",
        "* English Exam Standard Deviation Score = 15\n",
        "* English Exam Score of Sarah = 70\n",
        "* Mathematics Exam Means Score = 68\n",
        "* Mathematics Exam Standard Deviation Score = 6\n",
        "* Mathematics Exam Score of Sarah = 72"
      ],
      "metadata": {
        "id": "zVgrXI7MZXZs"
      }
    },
    {
      "cell_type": "code",
      "source": [
        "# Integral Normal Distribution function when set\n",
        "Ms=60\n",
        "SDs=15\n",
        "Sarah=70\n",
        "\n",
        "Engg = integrate.quad(\n",
        "    lambda x: (np.exp(-(1/2)*pow((x-Ms)/SDs,2)))/(math.sqrt(np.pi*2)*SDs),\n",
        "    -np.inf,\n",
        "    Sarah)\n",
        "\n",
        "Ms=68\n",
        "SDs=6\n",
        "Sarah=72\n",
        "Matt = integrate.quad(\n",
        "    lambda x: (np.exp(-(1/2)*pow((x-Ms)/SDs,2)))/(math.sqrt(np.pi*2)*SDs),\n",
        "    -np.inf,\n",
        "    Sarah)\n",
        "\n",
        "print('English Percentile =',float(Engg[0]*100))\n",
        "print('Math Percentile =',float(Matt[0]*100))\n",
        "\n",
        "# reference: https://docs.scipy.org/doc/scipy/tutorial/integrate.html"
      ],
      "metadata": {
        "colab": {
          "base_uri": "https://localhost:8080/"
        },
        "outputId": "ae0034ba-92e3-4d80-883b-38ac5791017a",
        "id": "ZZtSgoD4aDPj"
      },
      "execution_count": null,
      "outputs": [
        {
          "output_type": "stream",
          "name": "stdout",
          "text": [
            "English Percentile = 74.75074624530774\n",
            "Math Percentile = 74.75074624530771\n"
          ]
        }
      ]
    },
    {
      "cell_type": "markdown",
      "source": [
        "**Note**\n",
        "* Sarah performed both exam equally well.\n",
        "* z score can be used for this comparison too."
      ],
      "metadata": {
        "id": "4PE4mJw4bGu7"
      }
    }
  ]
}