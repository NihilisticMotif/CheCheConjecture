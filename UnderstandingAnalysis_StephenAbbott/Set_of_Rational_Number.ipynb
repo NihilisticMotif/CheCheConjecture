{
  "nbformat": 4,
  "nbformat_minor": 0,
  "metadata": {
    "colab": {
      "provenance": [],
      "toc_visible": true,
      "collapsed_sections": [
        "ESXh0SP0woZ1",
        "NJmAPy8dt5EK",
        "935I8ZKit-kA",
        "o5AzeuacuZRH"
      ],
      "authorship_tag": "ABX9TyOgpFG8wD45SvAaE68BN7yw",
      "include_colab_link": true
    },
    "kernelspec": {
      "name": "python3",
      "display_name": "Python 3"
    },
    "language_info": {
      "name": "python"
    }
  },
  "cells": [
    {
      "cell_type": "markdown",
      "metadata": {
        "id": "view-in-github",
        "colab_type": "text"
      },
      "source": [
        "<a href=\"https://colab.research.google.com/github/NihilisticMotif/CheCheConjecture/blob/main/UnderstandingAnalysis_StephenAbbott/Set_of_Rational_Number.ipynb\" target=\"_parent\"><img src=\"https://colab.research.google.com/assets/colab-badge.svg\" alt=\"Open In Colab\"/></a>"
      ]
    },
    {
      "cell_type": "markdown",
      "source": [
        "#Introduction\n",
        "\n",
        "This lecture cover basic group theory and other property of rational number (which also including natural number and integer), and why some real number cannot be expressed as rational number.\n",
        "\n",
        "This lecture does not include how to construct real and complex number from rational number, how to compare them and how to construct finite group, ring and field.\n",
        "\n",
        "**Table of content**\n",
        "1. Group\n",
        "2. Set of Natural Number $\\mathbb{N}$\n",
        "3. Set of Integer $\\mathbb{Z}$\n",
        "4. Set of Rational Number $\\mathbb{Q}$\n",
        "5. Number that is not Rational"
      ],
      "metadata": {
        "id": "d0ZcrgXrkgjA"
      }
    },
    {
      "cell_type": "markdown",
      "source": [
        "#Group\n"
      ],
      "metadata": {
        "id": "jGVsxqOcS8Sm"
      }
    },
    {
      "cell_type": "markdown",
      "source": [
        "The set of all mathematical object that satisfy 4 property\n",
        "1. Close under the defined operation\n",
        "* $\\forall x,y\\in G\\,:x\\,\\star\\,y\\in G$\n",
        "2. Have the identity element\n",
        "* $\\forall x\\in G\\land 0\\in G\\,:x\\,\\star\\,0=x$\n",
        "3. Have the inverse element\n",
        "* $\\forall x\\in G\\land \\exists y\\in G:x\\,\\star\\,y=0$\n",
        "4. Have the Associativity property\n",
        "* $\\forall x,y\\in G:x\\,\\star\\,(z\\,\\star\\,y)=(x\\,\\star\\,z)\\,\\star\\,y$\n",
        "\n",
        "Example of group\n",
        "* e.g. set of all integer, vector space, set of real and complex number, ring, field etc."
      ],
      "metadata": {
        "id": "58BAVCPLvCbm"
      }
    },
    {
      "cell_type": "markdown",
      "source": [
        "##Abelian Group\n",
        "\n",
        "The group that have the Commutativity property.\n",
        "* $\\forall x,y\\in G\\,:x\\,\\star\\, y=y\\,\\star\\, x$\n",
        "* e.g. set of all integer, vector space, set of real and complex number, ring, field etc.\n",
        "* Not every group is abelian group."
      ],
      "metadata": {
        "id": "M9stvaG9vFVt"
      }
    },
    {
      "cell_type": "markdown",
      "source": [
        "##Ring\n"
      ],
      "metadata": {
        "id": "kXB3lujKvHyt"
      }
    },
    {
      "cell_type": "markdown",
      "source": [
        "The abelian group that close under addition and multiplication.\n",
        "* e.g. $\\mathbb{Z},\\mathbb{Q},\\mathbb{R},\\mathbb{C}$ etc.\n",
        "\n",
        "**Note**\n",
        "* The set of all integer $\\mathbb{Z}$ is close under multiplication, but does not have multiplicative inverse for every element with in the set (ring).\n",
        "* $\\forall x,y\\in\\mathbb{Z}\\,:xy\\in\\mathbb{Z}$\n",
        "* $\\exists x,y\\in\\mathbb{Z}\\,:\\frac{x}{y}\\in \\mathbb{Z}$"
      ],
      "metadata": {
        "id": "HjnEzKjIvJal"
      }
    },
    {
      "cell_type": "markdown",
      "source": [
        "##Field"
      ],
      "metadata": {
        "id": "rVuW1NspvLUM"
      }
    },
    {
      "cell_type": "markdown",
      "source": [
        "The ring that close under addition, multiplication and division (it have multiplicative inverse for every number within the set).\n",
        "* e.g. $\\mathbb{Q},\\mathbb{R},\\mathbb{C}$ etc.\n",
        "\n",
        "**Reference**\n",
        "* Different between Ring, Groups and field by MathStackExchange https://math.stackexchange.com/questions/75/what-are-the-differences-between-rings-groups-and-fields\n",
        "* Definition of Abelian Group by Brilliant https://brilliant.org/wiki/abelian-group/"
      ],
      "metadata": {
        "id": "htco6j0EvNIl"
      }
    },
    {
      "cell_type": "markdown",
      "source": [
        "#Set of Natural Number $\\mathbb{N}$"
      ],
      "metadata": {
        "id": "n9rAijzdwKbF"
      }
    },
    {
      "cell_type": "markdown",
      "source": [
        "##Peano axioms\n",
        "\n",
        "Peano axioms are the set of rules (axioms) of natural number and the set where the natural number belongs to.\n",
        "1. $1\\in\\mathbb{N}$\n",
        "2. $\\forall x\\in\\mathbb{N}\\,:x+1\\in\\mathbb{N}$\n",
        "3. $\\forall x\\in\\mathbb{N}\\land\\exists y\\in\\mathbb{N}\\,:x=y\\implies x+1=y+1$\n",
        "4. $\\forall x\\in\\mathbb{N}\\,:x+1\\neq 1$\n",
        "4. $S\\subset \\mathbb{N}\\land 1\\in S\\land \\forall s\\in S\\,:s+1\\in S\\iff S=\\mathbb{N}$\n",
        "\n",
        "##Note\n",
        "* The $\\mathbb{N}$ is not a Group, because it does not have additive inverse $-a$ for each $a$ and additive identity $0$.\n",
        "* $1$ is the least number of $\\mathbb{N}$\n",
        "\n",
        "##The Well-ordering Principle\n",
        "\n",
        "According to Peano Axiom\n",
        "* $1\\in\\mathbb{N}$\n",
        "* $\\forall n\\in\\mathbb{N}\\,:n+1\\in\\mathbb{N}$\n",
        "* $\\forall n\\in\\mathbb{N}\\,:n< n+1$\n",
        "\n",
        "Implies that\n",
        "* $1< 1+1=2< 2+1 = 3 <\\, ...$\n",
        "* Every number within $\\mathbb{N}$ have well defined order.\n",
        "* $1$ is the smallest number of $\\mathbb{N}$\n",
        "\n",
        "##Proof by Induction\n",
        "\n",
        "This technique is used when the statement that we want to prove is related to the set of all natural number ($S=\\mathbb{N}$) given the 5th criteria of Peano axioms. First we just prove the first statement when $s\\in S\\land s=1$ and then we just prove the case where $s_n=s_{n-1}+1$"
      ],
      "metadata": {
        "id": "87bJsNGn3f-j"
      }
    },
    {
      "cell_type": "markdown",
      "source": [
        "#Set of Integer $\\mathbb{Z}$"
      ],
      "metadata": {
        "id": "OJd9EtU3tcTm"
      }
    },
    {
      "cell_type": "markdown",
      "source": [
        "##What is $\\mathbb{Z}\\,?$\n",
        "\n",
        "Natural Number ( $\\mathbb{N}$ ) have only 2 properties of additive Group.\n",
        "1. Close under addition.\n",
        "* $\\forall a,b\\in\\mathbb{N}\\,:a+b\\in\\mathbb{N}$\n",
        "2. Associativity\n",
        "* $\\forall a,b,c\\in\\mathbb{N}\\,:(a+b)+c=a+(b+c)$\n",
        "3. Does not have additive identity\n",
        "* $\\forall a,b\\in\\mathbb{N}\\,:a+b\\neq a$\n",
        "4. Does not have additive inverse\n",
        "* $\\forall a,b\\in\\mathbb{N}\\,:a+b\\neq 0$\n",
        "\n",
        "Integer ( $\\mathbb{Z}$ ) defines\n",
        "1. $0$ as additive\n",
        "* $\\forall a\\in\\mathbb{Z}\\,:a+0=a$\n",
        "2. $-1$ as additive inverse\n",
        "* $\\forall a\\in\\mathbb{Z}\\,:a-a=-a+a=0$\n",
        "\n",
        "Thus $\\mathbb{Z}$ is Additive Group.\n",
        "\n"
      ],
      "metadata": {
        "id": "3pSYHPoIxOZT"
      }
    },
    {
      "cell_type": "markdown",
      "source": [
        "##Why negative number multiplied with positive number give negative number?\n",
        "\n",
        "Prove that\n",
        "* $\\forall n,m\\in\\mathbb{Z}^--0\\,:nm>0$"
      ],
      "metadata": {
        "id": "4EXuImAvW8bM"
      }
    },
    {
      "cell_type": "markdown",
      "source": [
        "###Solution\n",
        "\n",
        "Define\n",
        "* $\\mathbb{N}=\\{1,2,...\\}$\n",
        "* $\\forall n\\in\\mathbb{N}\\,:n>0$\n",
        "* $\\mathbb{N}\\subset\\mathbb{Z}$\n",
        "* $\\mathbb{Z}=\\{...,-2,-1,0,1,2,...\\}$ as the set of all integers.\n",
        "\n",
        "According to Group theory, every Group have 4 properties.\n",
        "1. Close under the defined operation\n",
        "* $\\forall x,y\\in G\\,:x\\,\\star\\,y\\in G$\n",
        "2. Have the identity element\n",
        "* $\\forall x\\in G\\land 0\\in G\\,:x\\,\\star\\,0=x$\n",
        "3. Have the inverse element\n",
        "* $\\forall x\\in G\\land \\exists y\\in G:x\\,\\star\\,y=0$\n",
        "4. Have the Associativity property\n",
        "* $\\forall x,y,z\\in G:x\\,\\star\\,(z\\,\\star\\,y)=(x\\,\\star\\,z)\\,\\star\\,y$\n",
        "\n",
        "Implies that $\\mathbb{Z}$ is Additive Group\n",
        "* $\\forall a,b\\in\\mathbb{Z}\\,:a+b\\in\\mathbb{Z}$\n",
        "* $\\forall a\\in\\mathbb{Z}\\land 0\\in\\mathbb{Z}\\,:a+0=a$\n",
        "* $\\forall a\\in\\mathbb{Z}\\,:a-a=0$\n",
        "* $\\forall a,b,c\\in\\mathbb{Z}\\,:(a+b)+c=a+(b+c)$\n",
        "\n",
        "Define Subtraction as function that map all number within Group with its inverse\n",
        "* $\\forall a\\in\\mathbb{Z}\\,:a-a=0$\n",
        "\n",
        "Define Multiplication as repeat addition.\n",
        "* $\\forall n,m\\in\\mathbb{N}\\,:nm=\\Sigma_{i=1}^mn=n+...+n>0$\n",
        "* $\\forall n,m\\in\\mathbb{N}\\,:nm=\\Sigma_{i=1}^nm=m+...+m>0$\n",
        "* $\\forall n,m\\in\\mathbb{N}\\,:nm=\\Sigma_{i=1}^nm=\\Sigma_{i=1}^mn>0$\n",
        "\n",
        "Define Multiplication with zero as zero, because there is no addition (zero time addition).\n",
        "* $\\forall n\\in\\mathbb{N}\\,:0\\cdot n=0$\n",
        "\n",
        "Define Multiplication with negative number as adding its inverse\n",
        "* $\\forall n\\in\\mathbb{N}\\,:-1\\cdot n=-n< 0$\n",
        "* $\\forall n\\in\\mathbb{N}\\,:-2\\cdot n=-n-n=-2n< 0$\n",
        "* $\\forall n\\in\\mathbb{N}\\land\\forall m\\in\\mathbb{Z}^--0\\,:nm=-n-...-n< 0$\n",
        "\n",
        "Given that the inverse of positive number is its negative number pair and vice versa.\n",
        "* $\\{\\forall n\\in\\mathbb{N}\\,:n-n=0\\land n>0\\}\\iff \\{\\forall n\\in\\mathbb{Z}^--0\\,:n-n=0\\land n< 0\\}$\n",
        "\n",
        "Therefore negative number multiply with negative number is always positive number\n",
        "* $\\forall n,m\\in\\mathbb{Z}^--0\\,:nm>0$"
      ],
      "metadata": {
        "id": "IwJRLqHYylWK"
      }
    },
    {
      "cell_type": "markdown",
      "source": [
        "##Implication for the real number\n",
        "\n",
        "* $\\mathbb{N}\\subset\\mathbb{Z}\\subset\\mathbb{Q}\\subset\\mathbb{R}$\n",
        "* Set of $\\mathbb{Z},\\mathbb{Q},\\mathbb{R}$ are all additive group that close under multiplication implies that $\\forall a,b\\in\\mathbb{R}^--0\\,:ab>0$"
      ],
      "metadata": {
        "id": "00oshhgjxALK"
      }
    },
    {
      "cell_type": "markdown",
      "source": [
        "##Order of $\\mathbb{Z}$\n",
        "\n",
        "According to Peano Axiom\n",
        "* $1\\in\\mathbb{N}$\n",
        "* $\\forall n\\in\\mathbb{N}\\,:n+1\\in\\mathbb{N}$\n",
        "* $\\forall n\\in\\mathbb{N}\\,:n< n+1$\n",
        "\n",
        "Implies that\n",
        "* $1< 1+1=2< 2+1 = 3 <\\, ...$\n",
        "* Every number within $\\mathbb{N}$ have well defined order.\n",
        "* $1$ is the smallest number of $\\mathbb{N}$\n",
        "\n",
        "Given that\n",
        "* $\\forall n\\in\\mathbb{N}\\,:n = n+0$\n",
        "* $\\forall n\\in\\mathbb{N}\\,:n > 0$\n",
        "* $\\forall n\\in\\mathbb{N}\\,:n-n=0$\n",
        "* $\\forall n\\in\\mathbb{N}\\,:n-n-1=-1 < 0$\n",
        "* $\\forall n\\in\\mathbb{N}\\,:- n < 0$\n",
        "* $\\forall n\\in\\mathbb{N}\\,:-n-1 < -n$\n",
        "* $\\forall n\\in\\mathbb{N}\\,:-n\\in\\mathbb{N}^-$\n",
        "* $\\mathbb{Z}=\\mathbb{N}^-\\cup \\{0\\}\\cup\\mathbb{N}$\n",
        "\n",
        "Implies that\n",
        "* $... < -2 < -1 < 0 < 1 < 2 < ...$\n",
        "* Every number within $\\mathbb{Z}$  have well defined order, but the smallest and the largest number are both diverge (it both approach $-\\infty$ and $\\infty$ respectively)."
      ],
      "metadata": {
        "id": "_hq37xVPFiW3"
      }
    },
    {
      "cell_type": "markdown",
      "source": [
        "##Prove that $\\mathbb{Z}$ have no Multiplicative Inverse\n",
        "\n",
        "Prove that\n",
        "* $\\forall a,b\\in\\mathbb{Z}-1\\,:ab\\neq 1$"
      ],
      "metadata": {
        "id": "PeEkAlzb0PKG"
      }
    },
    {
      "cell_type": "markdown",
      "source": [
        "###Solution\n",
        "\n",
        "Given that\n",
        "* The definition of multiplication is repeat addition\n",
        "* $\\forall a,b\\in\\mathbb{Z}\\,:ab=\\pm (a...+a)=\\pm (b+...+b)\\in\\mathbb{Z}$\n",
        "* $\\mathbb{Z}$ is additive group, implies that it is close under multiplication\n",
        "\n",
        "Suppose that\n",
        "* $\\sim[\\forall a,b\\in\\mathbb{Z}-1\\,:ab\\neq 1]$\n",
        "* $\\exists a,b\\in\\mathbb{Z}-1\\,:ab=1$\n",
        "\n",
        "Given that\n",
        "* $\\forall x\\in\\mathbb{Z}\\,:0\\cdot x=0$\n",
        "* $\\forall x< 0\\land \\forall y>0\\,:xy< 0$\n",
        "* $\\forall x,y > 0\\,:xy>0$\n",
        "* $\\forall x,y < 0\\,:xy>0$\n",
        "\n",
        "Implies that\n",
        "* $a,b\\neq 0$\n",
        "* $a,b > 0\\lor a,b < 0$\n",
        "\n",
        "Given that\n",
        "* $a,b \\neq 1$\n",
        "\n",
        "According to Peano Axioms\n",
        "* $1\\in\\mathbb{N}$\n",
        "* $\\forall n\\in\\mathbb{N}\\,:n+1\\in\\mathbb{N}$\n",
        "\n",
        "Given that\n",
        "* $0$ is defined as additive identity.\n",
        "* $\\mathbb{Z}^--0$ is defined as set of all additive inverse of $\\mathbb{N}$\n",
        "* $\\mathbb{Z}=\\{\\mathbb{Z}^--0\\}\\cup 0\\cup \\mathbb{N}$\n",
        "\n",
        "Implies that\n",
        "* $\\forall a,b\\in\\mathbb{Z}\\,:a\\neq b\\implies |a-b|\\geq 1$\n",
        "\n",
        "If: $a,b > 0\\implies a,b > 1$\n",
        "\n",
        "Given that\n",
        "* $ab=\\Sigma_{i=1}^{b-1}[a]+a>a$\n",
        "* $ab=\\Sigma_{i=1}^{a-1}[b]+b>b$\n",
        "\n",
        "Implies that\n",
        "* $\\forall a,b>1\\,:ab > a\\land ab > b$\n",
        "* $\\therefore \\forall a,b>1\\,:ab\\neq 1$\n",
        "\n",
        "If: $a,b < 0\\implies a,b < -1$\n",
        "\n",
        "Given that\n",
        "* $(-1)^2=1$\n",
        "* $|ab|=|a|\\cdot|b|$\n",
        "* $\\forall a<-1\\,: |a|>1$\n",
        "\n",
        "Implies that\n",
        "* $|ab| =ab > 1$\n",
        "* $\\forall a,b< -1\\,:ab > |a|\\land ab > |b|$\n",
        "* $\\therefore \\forall a,b< -1\\,:ab\\neq 1$\n",
        "\n",
        "\n",
        "Therefore\n",
        "* $\\forall a,b\\in\\mathbb{Z}-1\\,:ab\\neq 1$\n",
        "* The set of all integer does not have multiplicative inverse.\n",
        "\n",
        "\n",
        "\n",
        "\n"
      ],
      "metadata": {
        "id": "SoILCh9GOdI3"
      }
    },
    {
      "cell_type": "markdown",
      "source": [
        "###Other Implication\n",
        "\n",
        "* $\\forall a,b \\in\\mathbb{N}-1\\,:ab>a\\land ab>b$\n",
        "* $\\forall a,b \\in\\mathbb{Z}^--0\\,:ab\\geq 1$\n",
        "* $\\forall a,b\\in\\mathbb{Z}\\,:a\\neq b\\implies |a-b|\\geq 1$\n"
      ],
      "metadata": {
        "id": "DuiubggNdJuw"
      }
    },
    {
      "cell_type": "markdown",
      "source": [
        "##Prove that there exists $b$ which is not multiple of $a$\n",
        "\n",
        "* $\\exists a,b\\in\\mathbb{Z}\\land \\forall x\\in\\mathbb{Z}\\,:ax\\neq b$"
      ],
      "metadata": {
        "id": "1eaFj4B6Ysw6"
      }
    },
    {
      "cell_type": "markdown",
      "source": [
        "###Solution\n",
        "\n",
        "Given that\n",
        "* $\\forall v,\\hat{v}\\in\\mathbb{Z}-1\\,:v\\cdot \\hat{v}\\neq 1$\n",
        "* $\\forall v\\in\\mathbb{Z}\\,:1\\cdot v=v$\n",
        "\n",
        "Implies that\n",
        "* $\\forall \\hat{a}\\in\\mathbb{Z}\\,:a\\cdot \\hat{a}\\cdot b\\neq b$\n",
        "\n",
        "Suppose that\n",
        "* $b\\not\\in\\{ax|x\\in\\mathbb{Z}\\}$\n",
        "\n",
        "Implies that\n",
        "* $b=ax+r\\iff 1\\leq r\\leq a-1$\n",
        "\n",
        "According to Peano Axioms\n",
        "* $\\forall n\\in\\mathbb{N}\\,:n\\neq n+1$\n",
        "* $\\forall n\\in\\mathbb{N}\\,:n+1\\in\\mathbb{N}$\n",
        "* $\\therefore\\forall n,m\\in\\mathbb{N}\\,:n\\neq n+m$\n",
        "* $\\therefore\\forall n, m\\in\\mathbb{N}\\,:\\pm n\\neq \\pm n+m$\n",
        "\n",
        "Therefore\n",
        "* $\\forall x\\in\\mathbb{Z}\\,:ax\\neq ax+r$"
      ],
      "metadata": {
        "id": "oOGAmgtLkCkj"
      }
    },
    {
      "cell_type": "markdown",
      "source": [
        "##Prove that there is no negative power in $\\mathbb{Z}$\n",
        "\n",
        "Prove that\n",
        "* $\\forall n\\in\\mathbb{N}\\land x\\in\\mathbb{Z}\\,:x^{-n}\\not\\in\\mathbb{Z}$"
      ],
      "metadata": {
        "id": "ESXh0SP0woZ1"
      }
    },
    {
      "cell_type": "markdown",
      "source": [
        "###Solution\n",
        "\n",
        "Define power as repeat multiplication, such that\n",
        "* $x^1=x$\n",
        "* $x^2=x\\cdot x$\n",
        "* $x^3=x\\cdot x\\cdot x$\n",
        "* $\\forall x\\in\\mathbb{Z}\\land \\forall n\\in\\mathbb{N}\\,:x^n=\\Pi_{i=1}^nx=x\\cdot ...\\cdot x$\n",
        "* $\\forall x\\in\\mathbb{Z}\\land \\forall n,m\\in\\mathbb{N}\\,:x^n\\cdot x^m=x^{n+m}=x^{m+n}$\n",
        "\n",
        "Given that\n",
        "* $\\forall x\\in\\mathbb{Z}\\,:1\\cdot x=x$\n",
        "\n",
        "Then define\n",
        "* $x^0=1$ because it means multiplication $0$ times\n",
        "\n",
        "We can define negative power such that\n",
        "* $\\forall x\\in\\mathbb{Z}\\land \\forall n\\in\\mathbb{N}\\,:x^n\\cdot x^{-n}=x^{n-n}=x^0=1$\n",
        "\n",
        "However given that\n",
        "* $\\exists x\\in\\mathbb{Z}\\,:x^n\\neq 1$\n",
        "* $\\forall a,b\\in\\mathbb{Z}-1\\,:ab\\neq 1$\n",
        "* $\\mathbb{Z}$ does not have multiplicative inverse\n",
        "\n",
        "Implies that\n",
        "* $\\forall x\\in\\mathbb{Z}\\land \\forall n\\in\\mathbb{N}\\,:x^{-n}\\not\\in\\mathbb{Z}$"
      ],
      "metadata": {
        "id": "1YvDfWm4w7r2"
      }
    },
    {
      "cell_type": "markdown",
      "source": [
        "#Set of Rational $\\mathbb{Q}$"
      ],
      "metadata": {
        "id": "NJmAPy8dt5EK"
      }
    },
    {
      "cell_type": "markdown",
      "source": [
        "##Construct $\\mathbb{Q}$ from $\\mathbb{Z}$\n",
        "\n",
        "###Multiplicative Inverse\n",
        "\n",
        "Given that\n",
        "* The definition of multiplication is repeat addition\n",
        "* $\\forall a,b\\in\\mathbb{Z}\\,:ab=\\pm (a...+a)=\\pm (b+...+b)\\in\\mathbb{Z}$\n",
        "* $\\mathbb{Z}$ is additive group, implies that it is close under multiplication\n",
        "\n",
        "Multiplication of $\\mathbb{Z}$ satisfy only 3 properties out of 4 properties of group which is\n",
        "1. Close under the multiplication\n",
        "* $\\forall a,b\\in\\mathbb{Z}\\,:ab\\in\\mathbb{Z}$\n",
        "2. Have the multiplicative identity\n",
        "* $\\forall a\\in\\mathbb{Z}\\,:1\\cdot a=a$\n",
        "3. Have the Associativity property\n",
        "* $\\forall a,b,c\\in\\mathbb{Z}\\,:a(bc)=(ab)c$\n",
        "\n",
        "Every element of $\\mathbb{Z}$ except $\\pm 1$ does not have multiplicative inverse\n",
        "* $\\forall a,b\\in\\mathbb{Z}-\\{\\pm 1\\}\\,:ab\\neq 1$\n",
        "\n",
        "Define Multiplicative Inverse such that\n",
        "* $\\forall a\\in\\mathbb{Z}\\,:a\\cdot\\frac{1}{a}=\\frac{a}{a}=1$\n",
        "\n",
        "Define product of Integer $a$ and Multiplicative Inverse of $b$ such that\n",
        "* $\\forall a,b\\in\\mathbb{Z}\\,:a\\cdot\\frac{1}{b}=\\frac{a}{b}$\n",
        "\n",
        "Define\n",
        "* $\\mathbb{Q}=\\{\\frac{q}{p}|q,p\\in\\mathbb{Z}\\}$\n",
        "\n",
        "###Division by positive number\n",
        "\n",
        "Given that\n",
        "* $\\forall n,m\\in\\mathbb{N}\\,:nm\\cdot\\frac{1}{m}=n$\n",
        "\n",
        "Implies that\n",
        "* $\\forall n,m\\in\\mathbb{N}\\,:\\frac{n}{m}=\\frac{a}{b}\\iff \\gcd(a,b)=1$\n",
        "\n",
        "###Division by negative number\n",
        "\n",
        "Given that\n",
        "* $\\forall n,m\\in\\mathbb{Z}^--0\\,:nm>0$\n",
        "* $\\forall a\\in\\mathbb{Z}\\,:a\\cdot\\frac{1}{a}=\\frac{a}{a}=1$\n",
        "\n",
        "Implies that\n",
        "* $-1\\cdot -1=-1\\cdot \\frac{1}{-1}=1\\implies \\frac{1}{-1}=-1$\n",
        "* $\\forall n,m\\in\\mathbb{N}\\,:\\frac{-n}{-m}=\\frac{n}{m}$\n",
        "* $\\forall n,m\\in\\mathbb{N}\\,:\\frac{-n}{m}=\\frac{n}{-m}=-1\\cdot \\frac{n}{m}$\n",
        "\n",
        "###Devision by $0$\n",
        "\n",
        "Given that\n",
        "* $\\forall n\\in\\mathbb{Z}\\,:n\\cdot\\frac{1}{m}=1$\n",
        "* $\\forall m,n\\in\\mathbb{Z}\\,:mn\\cdot\\frac{1}{m}=n$\n",
        "\n",
        "Implies that\n",
        "* $\\forall n\\in\\mathbb{Z}\\,:0\\cdot n\\cdot\\frac{1}{0}=n$\n",
        "\n",
        "Given that\n",
        "* $\\forall n\\in\\mathbb{Z}\\,:0\\cdot n=0$\n",
        "\n",
        "Implies that\n",
        "* $\\forall n\\in\\mathbb{Z}\\,:\\frac{0}{0}=n=1$\n",
        "\n",
        "Therefore\n",
        "* $\\frac{1}{0}=\\emptyset$\n",
        "\n",
        "###Redefine $\\mathbb{Q}$\n",
        "\n",
        "Given that\n",
        "* $\\frac{1}{0}=\\emptyset$\n",
        "* $\\forall n,m\\in\\mathbb{N}\\,:\\frac{-n}{m}=\\frac{n}{-m}=-1\\cdot \\frac{n}{m}$\n",
        "\n",
        "Implies that\n",
        "* $\\mathbb{Q}=\\{\\frac{q}{p}|q\\in\\mathbb{Z}\\land p\\in\\mathbb{N}\\}$"
      ],
      "metadata": {
        "id": "yAch_ZyBWf7Y"
      }
    },
    {
      "cell_type": "markdown",
      "source": [
        "##Compare 2 Rational Number\n",
        "\n",
        "###Multiplication property of $\\mathbb{Q}$\n",
        "\n",
        "$\\mathbb{Q}=\\{\\frac{q}{p}|q\\in\\mathbb{Z}\\land p\\in\\mathbb{N}\\}$ is the additive and multiplicative group (field)\n",
        "1. $\\forall a,b\\in\\mathbb{Q}\\,:ab\\in\\mathbb{Q}$\n",
        "2. $\\forall a\\in\\mathbb{Q}\\,:1\\cdot a=a$\n",
        "3. $\\forall a\\in\\mathbb{Q}\\,:\\frac{a}{a}=1$\n",
        "4. $\\forall a,b,c\\in\\mathbb{Q}\\,:a(bc)=(ab)c$\n",
        "\n",
        "Define\n",
        "* $p>1$\n",
        "\n",
        "###Define $0 < \\frac{q}{p} < 1$\n",
        "\n",
        "Given that\n",
        "1. $\\frac{1}{p}$ is multiplicative inverse of $p$\n",
        "* $\\forall p\\in\\mathbb{Q}\\,:\\frac{1}{p}\\cdot p=\\frac{p}{p}=1$\n",
        "2. Multiplication is repeat addition\n",
        "* $\\forall n,m\\in\\mathbb{N}\\,:nm=mn=\\Sigma_{i=1}^nm=\\Sigma_{i=1}^mn$\n",
        "3. $0$ is additive identity\n",
        "* $\\forall n\\in\\mathbb{Z}\\,:n=n+0$\n",
        "\n",
        "Implies that\n",
        "* $\\frac{1}{p}\\cdot p=\\Sigma_{i=1}^p\\frac{1}{p}=1$\n",
        "* $\\frac{1}{p}\\cdot p=\\Sigma_{i=1}^{p-1}[\\frac{1}{p}]+\\frac{1}{p}=1$\n",
        "* $\\frac{1}{p}\\cdot p=\\Sigma_{i=1}^{p-2}[\\frac{1}{p}]+\\frac{2}{p}=1$\n",
        "* $0\\leq n< p\\,:\\frac{1}{p}\\cdot p=\\Sigma_{i=1}^{p-n}[\\frac{1}{p}]+\\frac{n}{p}=1$\n",
        "* $0 < \\frac{1}{p} < \\frac{2}{p} < ... <\\frac{p-1}{p} < 1$\n",
        "* $\\forall p\\in\\mathbb{N}\\,:0 < \\frac{1}{p+1}< 1$\n",
        "\n",
        "Therefore\n",
        "* $\\forall q,p\\in\\mathbb{N}\\,:q < p \\implies 0 < \\frac{q}{p}< 1$\n",
        "\n",
        "###Define $\\frac{q}{p} > 1$\n",
        "\n",
        "\n",
        "According to Peano Axiom\n",
        "* $1\\in\\mathbb{N}$\n",
        "* $\\forall n\\in\\mathbb{N}\\,:n+1\\in\\mathbb{N}$\n",
        "* $\\forall n\\in\\mathbb{N}\\,:n < n+1$\n",
        "\n",
        "Implies that\n",
        "* $\\forall q,p\\in\\mathbb{N}\\land\\exists m,r\\in\\mathbb{N}\\,:q > p\\implies \\frac{q}{p}=\\frac{pm+r}{p}=m+\\frac{r}{p} > 1$\n",
        "\n",
        "Therefore\n",
        "* $\\forall q,p\\in\\mathbb{N}\\land\\exists m,r\\in\\mathbb{N}\\,:q > p\\implies \\frac{q}{p} > 1$\n",
        "\n",
        "###Define $\\frac{q}{p} < 0$\n",
        "\n",
        "Given that\n",
        "* $\\forall q,p\\in\\mathbb{N}\\,:q < p \\implies 0 < \\frac{q}{p}< 1$\n",
        "* $\\forall q,p\\in\\mathbb{N}\\,:q > p \\implies \\frac{q}{p}> 1$\n",
        "\n",
        "Define\n",
        "* $\\forall q,p\\in\\mathbb{N}\\,:q < p \\implies -1 < \\frac{-q}{p}< 0$\n",
        "* $\\forall q,p\\in\\mathbb{N}\\,:q > p \\implies \\frac{-q}{p}> -1$\n",
        "\n",
        "Such that\n",
        "* $\\frac{q}{p}-\\frac{q}{p}=0$\n",
        "* $\\forall a\\in\\mathbb{Q}\\,:a-a=0$\n",
        "\n",
        "###How to know if $\\frac{a}{b} > \\frac{q}{p}$\n",
        "\n",
        "Just check if one of 3 options is true\n",
        "1. $ap > qb$\n",
        "2. $ap = qb$\n",
        "3. $ap < qb$\n",
        "\n",
        "How to calculate addition?\n",
        "* $\\frac{a}{b} + \\frac{q}{p}=\\frac{ap+bq}{bp}$\n",
        "\n",
        "##Other Implication\n",
        "\n",
        "* $\\forall a,b\\in\\mathbb{Q}\\,:0 < |a|,|b| < 1\\implies \\{|ab|< |a|\\lor |ab|<|b|\\}$\n",
        "\n",
        "\n",
        "Given that $\\mathbb{Q}\\subset\\mathbb{R}$ and $\\mathbb{R}$ is the field that have property of $\\mathbb{Q}$ implies that\n",
        "* $\\forall a,b\\in\\mathbb{R}\\,:0 < |a|,|b| < 1\\implies \\{|ab|< |a|\\lor |ab|<|b|\\}$\n",
        "\n",
        "\n",
        "\n"
      ],
      "metadata": {
        "id": "EGeclOJVXmdt"
      }
    },
    {
      "cell_type": "markdown",
      "source": [
        "##Prove that there is negative power in $\\mathbb{Q}$\n",
        "\n",
        "Prove that\n",
        "* $\\forall n,m\\in\\mathbb{N}\\,:0 < (m+1)^{-n}< 1$"
      ],
      "metadata": {
        "id": "A9RK1lcOk6LJ"
      }
    },
    {
      "cell_type": "markdown",
      "source": [
        "###Solution\n",
        "\n",
        "Define power as repeat multiplication, such that\n",
        "* $x^1=x$\n",
        "* $x^2=x\\cdot x$\n",
        "* $x^3=x\\cdot x\\cdot x$\n",
        "* $\\forall x\\in\\mathbb{Z}\\land \\forall n\\in\\mathbb{N}\\,:x^n=\\Pi_{i=1}^nx=x\\cdot ...\\cdot x$\n",
        "* $\\forall x\\in\\mathbb{Z}\\land \\forall n,m\\in\\mathbb{N}\\,:x^n\\cdot x^m=x^{n+m}=x^{m+n}$\n",
        "\n",
        "Given that\n",
        "* $\\forall x\\in\\mathbb{Z}\\,:1\\cdot x=x$\n",
        "\n",
        "Then define\n",
        "* $x^0=1$ because it means multiplication $0$ times\n",
        "* $x^{-1}=\\frac{1}{x}$ because it means multiplication by inverse of $x$ $1$ times\n",
        "* $x^{-n}=\\frac{1}{x^n}$ because it means multiplication by inverse of $x$ $n$ times\n",
        "\n",
        "Consider\n",
        "* $(m+1)^{-n}$\n",
        "* $m+1>1$\n",
        "\n",
        "According to Binomial Theorem\n",
        "* $(x+y)^n=\\Sigma_{i=0}^nx^iy^{n-i}$\n",
        "\n",
        "Implies that\n",
        "* $n=1\\implies (m+1)^n=m+1 > 1$\n",
        "* $(m+1)^n=\\Sigma_{i=0}^nm^i > 1$\n",
        "* $(m+1)^n=0 < \\frac{1}{(m+1)^n}< 1$\n",
        "\n",
        "Therefore\n",
        "* $\\forall n,m\\in\\mathbb{N}\\,:0 < (m+1)^{-n}< 1$\n"
      ],
      "metadata": {
        "id": "2y_k_K3emYq0"
      }
    },
    {
      "cell_type": "markdown",
      "source": [
        "##Cardinality of $\\mathbb{Q}$\n",
        "\n",
        "###What is Cardinality?\n",
        "* The number of all element in the set\n",
        "\n",
        "###What is Pigeonhole principle?\n",
        "* The way to determine if one set have more element than the other set (larger carginality) by check if the elements from 2 set can be paired together.\n",
        "* If every element can be paired together without any element left than 2 set have the same cardinality.\n",
        "* If there exists an element that cannot be pair then the set where that element belongs to is the larger set.\n",
        "\n",
        "###Set of integer and natural number have same Cardinality\n",
        "\n",
        "* $|\\mathbb{N}|=|\\mathbb{Z}|$ because I can map the elements from 2 set together such that\n",
        "* $\\begin{bmatrix}\n",
        "f(1)=0&f(2)=1&f(3)=-1&f(4)=2\\\\\n",
        "...&f(2n)=n& f(2n+1)=-n&...\n",
        "\\end{bmatrix}$\n",
        "\n",
        "###Set of real number have larger Cardinality than natural number\n",
        "\n",
        "\n",
        "* $|\\mathbb{N}|< |\\mathbb{R}|$ because there exists an element of $\\mathbb{R}$ that does not mapped any number within $\\mathbb{Z}$\n",
        "* $\\begin{bmatrix}\n",
        "f(1)=0.34345464870895...\\\\\n",
        "f(2)=0.33742888277477...\\\\\n",
        "f(3)=0.89580985858378...\\\\\n",
        "...\\\\\n",
        "f(n)=0.53564683784345...\\\\\n",
        "...\\\\\n",
        "\\end{bmatrix}$\n",
        "* $\\forall n\\in\\mathbb{N}\\land \\exists a\\in\\mathbb{R}\\,:f(n)\\neq a\\implies |\\mathbb{N}| < |\\mathbb{R}|$\n",
        "\n",
        "###Set of integer and rational number have same Cardinality\n",
        "\n",
        "* $\\begin{bmatrix}\n",
        "f(1)=1&f(2)=\\frac{1}{2}&f(5)=\\frac{1}{3}&f(6)=\\frac{1}{4}\\\\\n",
        "f(3)=2&1&f(7)=\\frac{2}{3}&...\\\\\n",
        "f(4)=3&f(8)=\\frac{3}{2}&...\\\\\n",
        "f(9)=4&...\n",
        "\\end{bmatrix}$\n",
        "* $\\forall n\\in\\mathbb{N}\\land\\forall p\\in\\mathbb{Q}\\,:f(n)=p\\implies |\\mathbb{N}|=|\\mathbb{Q}|$\n",
        "\n",
        "###Reference\n",
        "* Cardinality of the Continuum by jHan https://youtu.be/iaUwNuaSLUk?si=VEba30KAMt8LdlXe\n"
      ],
      "metadata": {
        "id": "A8gUMjvaxq-K"
      }
    },
    {
      "cell_type": "markdown",
      "source": [
        "#Number that is not Rational\n"
      ],
      "metadata": {
        "id": "935I8ZKit-kA"
      }
    },
    {
      "cell_type": "markdown",
      "source": [
        "##Prove that there is infinite rational number whose its root is irrational number.\n",
        "\n",
        "* $\\exists x\\in\\mathbb{Z}\\,:\\sqrt{x}\\not\\in \\mathbb{Q}$\n"
      ],
      "metadata": {
        "id": "u3MLfDJGIV7I"
      }
    },
    {
      "cell_type": "markdown",
      "source": [
        "###Prove Statement No.1\n",
        "\n",
        "Prove that\n",
        "* $\\forall x\\in\\{px|x\\in\\mathbb{Z}\\}\\,:x^2\\in\\{px|x\\in\\mathbb{Z}\\}$\n",
        "\n",
        "###Solution\n",
        "\n",
        "* $x=pn\\implies x^2=p^2n^2=p(pn^2)=pn_1$"
      ],
      "metadata": {
        "id": "N6LIBT_Zi2Fp"
      }
    },
    {
      "cell_type": "markdown",
      "source": [
        "###Prove Statement No.2\n",
        "* $\\forall x\\in\\mathbb{Z}-\\{px|x\\in\\mathbb{Z}\\}\\,:x^2\\not\\in\\{px|x\\in\\mathbb{Z}\\}$\n",
        "\n",
        "Define\n",
        "* $0< r,\\epsilon < p$\n",
        "* $r=p-\\epsilon$\n",
        "* $\\forall r\\in (0,p)\\cap\\mathbb{N}\\,:p\\nmid r$\n",
        "\n",
        "Then\n",
        "* $x=pn+r\\implies x^2=p^2n^2+2pnr+r^2$\n",
        "\n",
        "Implies that\n",
        "* $x^2=p^2n^2+2pnr+r^2$\n",
        "* $x^2=p(pn^2+2nr)+r^2$\n",
        "* $x^2=p(pn^2+2nr)+(p-\\epsilon)^2$\n",
        "* $x^2=p(pn^2+2nr)+p^2-2p\\epsilon+\\epsilon$\n",
        "* $x^2=p(pn^2+2nr+p-2\\epsilon)+\\epsilon$\n",
        "\n",
        "Given that\n",
        "* $\\forall r\\in (0,p)\\cap\\mathbb{N}\\,:p\\nmid r\\implies p\\nmid ϵ\\implies x^2\\nmid p$\n",
        "\n",
        "Therefore\n",
        "* $\\therefore \\forall x\\in \\mathbb{Z}-\\{px|x\\in\\mathbb{Z}\\}\\,:x^2\\not\\in\\{px|x\\in\\mathbb{Z}\\}$\n"
      ],
      "metadata": {
        "id": "O46ehMSVi9K0"
      }
    },
    {
      "cell_type": "markdown",
      "source": [
        "###Prove Statement No.3\n",
        "* $\\forall x\\in\\mathbb{Z}\\,:x^2\\in\\mathbb{Z}$\n",
        "\n",
        "Given that the set of integer $\\mathbb{Z}$ is a ring, implies that $\\mathbb{Z}$ is close under addition and multiplication\n",
        "* $\\forall x,y\\in\\mathbb{Z}\\,:x+y\\in\\mathbb{Z}$\n",
        "* $\\forall x,y\\in\\mathbb{Z}\\,:xy\\in\\mathbb{Z}$\n",
        "\n",
        "Therefore\n",
        "* $\\forall x\\in\\mathbb{Z}\\,:x^2\\in\\mathbb{Z}$\n",
        "\n",
        "Note\n",
        "* \"It is important to understand that no proof exists in a vacuum: a proof only exists in the context of the axioms and definitions you are assuming are already true.\" ( https://math.stackexchange.com/questions/2236939/proving-closure-of-mathbbz-under-multiplication )"
      ],
      "metadata": {
        "id": "lwXWjTFporUi"
      }
    },
    {
      "cell_type": "markdown",
      "source": [
        "###Solution (Prove main statement)\n",
        "* $\\exists p\\in\\mathbb{Z}\\,:\\sqrt{p}\\not\\in\\mathbb{Q}$\n",
        "\n",
        "###Case 1\n",
        "\n",
        "This statement only indicate that if x is integer, then x square is also an integer. But does not indicate that every square root of integer are also integer.\n",
        "\n",
        "$\\forall x\\in\\mathbb{Z}\\,:x^2\\in\\mathbb{Z}$\n",
        "\n",
        "$x\\in\\mathbb{Z}\\implies x^2\\in\\mathbb{Z}$\n",
        "\n",
        "$\\exists x\\in\\mathbb{Z}\\,:\\sqrt{x}\\in\\mathbb{Q}$\n",
        "\n",
        "$x\\in\\mathbb{Z}\\implies \\{x\\in\\mathbb{Q}\\}\\lor\\{x\\not\\in\\mathbb{Q}\\}$\n",
        "\n",
        "Consider this statement where $E=$ set of specific examples and $G=$ set of everything in general, and $E\\subset G$.\n",
        "\n",
        "$\\forall e\\in E\\,:e\\in G$\n",
        "\n",
        "$e\\in E\\implies e\\in G$\n",
        "\n",
        "$\\exists g\\in G\\,:g\\in E$\n",
        "\n",
        "$g\\in G\\implies \\{g\\in E\\}\\lor\\{g\\not\\in E\\}$\n",
        "\n",
        "Implies that the fact that $\\forall x\\in\\mathbb{Z}\\,:x^2\\in\\mathbb{Z}$ and $\\mathbb{Z}\\subset\\mathbb{Q}$ does not prove that $\\exists x\\in\\mathbb{Z}\\,:\\sqrt{x}\\not\\in\\mathbb{Q}$\n",
        "\n",
        "###Case 2 (using prove by contradiction)\n",
        "\n",
        "Assume that: $\\forall p\\in\\mathbb{Z}\\,:\\sqrt{p}\\in\\mathbb{Q}$\n",
        "* $z\\in\\mathbb{Z}$\n",
        "* $n\\in\\mathbb{N}$\n",
        "* $\\sqrt{p}=\\frac{z}{n}$\n",
        "* $p^2=\\frac{z^2}{n^2}$\n",
        "* $p^2n^2=p(pn^2)=z^2$\n",
        "\n",
        "Given that\n",
        "* $\\forall x\\in\\{px|x\\in\\mathbb{Z}\\}\\,:x^2\\in\\{px|x\\in\\mathbb{Z}\\}$\n",
        "* $\\forall x\\in\\mathbb{Z}-\\{px|x\\in\\mathbb{Z}\\}\\,:x^2\\not\\in\\{px|x\\in\\mathbb{Z}\\}$\n",
        "* $\\mathbb{Z}=\\{px|x\\in\\mathbb{Z}\\}\\cup[\\mathbb{Z}-\\{px|x\\in\\mathbb{Z}\\}]$\n",
        "\n",
        "Implies that\n",
        "* $z^2\\in\\{px|x\\in\\mathbb{Z}\\}\\implies z\\in\\{px|x\\in\\mathbb{Z}\\}$\n",
        "\n",
        "Define\n",
        "* $z=pr$\n",
        "\n",
        "Then\n",
        "* $\\sqrt{p}=\\frac{z}{n}$\n",
        "* $\\sqrt{p}=\\frac{pr}{n}$\n",
        "* $p=\\frac{p^2r^2}{n^2}$\n",
        "* $n^2p=p^2r^2$\n",
        "* $n^2=pr^2$\n",
        "\n",
        "Implies that\n",
        "* $\\mathbb{N}\\subset\\mathbb{Z}$\n",
        "* $n^2\\in\\{px|x\\in\\mathbb{Z}\\}\\implies n\\in\\{px|x\\in\\mathbb{Z}\\}$\n",
        "* $n|p\\land z|p\\implies \\frac{z}{n}\\neq \\sqrt{p}$\n",
        "\n",
        "Therefore that\n",
        "* $\\sim[\\forall p\\in\\mathbb{Z}\\,:\\sqrt{p}\\in\\mathbb{Q}]$\n",
        "* $\\exists p\\in\\mathbb{Z}\\,:\\sqrt{p}\\not\\in\\mathbb{Q}$\n",
        "\n",
        "Reference (about logical quantifiers)\n",
        "* https://youtu.be/GJpezCUMOxA?si=Tns42ABVEXvE5adp\n",
        "* https://youtu.be/jLVKV5LJjaw?si=-ep8TxbY5lATB4_a"
      ],
      "metadata": {
        "id": "honSPtrSgmeF"
      }
    },
    {
      "cell_type": "markdown",
      "source": [
        "###Implication\n",
        "\n",
        "This means that there are infinite real number that can be expressed as\n",
        "* $\\{a^b|a,b\\in\\mathbb{Q}\\}$\n",
        "* $\\{(\\frac{p}{q})^\\frac{a}{b}|a,p\\in\\mathbb{Z}\\land q,b\\in\\mathbb{N}\\}$\n",
        "\n",
        "but cannot be expressed in the term as\n",
        "* $\\{\\frac{p}{q}|p\\in\\mathbb{Z}\\land q\\in\\mathbb{N}\\}$\n",
        "\n",
        "This number is called Radical Number and $\\{a^b|a,b\\in\\mathbb{Q}\\}$ is the set of all radical number.\n",
        "\n",
        "###Transcendental Number\n",
        "\n",
        "* $\\exists x\\in\\mathbb{R}\\,:x\\not\\in \\{a^b|a,b\\in\\mathbb{Q}\\}$\n",
        "* $\\pi,e\\not\\in \\{a^b|a,b\\in\\mathbb{Q}\\}$\n",
        "* However this documentation does not prove this statement because it is out of topic."
      ],
      "metadata": {
        "id": "ku72a_Z40wdK"
      }
    }
  ]
}