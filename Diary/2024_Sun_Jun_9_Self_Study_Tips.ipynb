{
  "nbformat": 4,
  "nbformat_minor": 0,
  "metadata": {
    "colab": {
      "provenance": [],
      "authorship_tag": "ABX9TyN23gd/idVa73NW0qD2w5DC",
      "include_colab_link": true
    },
    "kernelspec": {
      "name": "python3",
      "display_name": "Python 3"
    },
    "language_info": {
      "name": "python"
    }
  },
  "cells": [
    {
      "cell_type": "markdown",
      "metadata": {
        "id": "view-in-github",
        "colab_type": "text"
      },
      "source": [
        "<a href=\"https://colab.research.google.com/github/NihilisticMotif/CheCheConjecture/blob/main/Diary/2024_Sun_Jun_9_Self_Study_Tips.ipynb\" target=\"_parent\"><img src=\"https://colab.research.google.com/assets/colab-badge.svg\" alt=\"Open In Colab\"/></a>"
      ]
    },
    {
      "cell_type": "markdown",
      "source": [
        "#Note:\n",
        "\n",
        "This post has 2 sections, which are Thai and English versions."
      ],
      "metadata": {
        "id": "h515wxMnPrm3"
      }
    },
    {
      "cell_type": "markdown",
      "source": [
        "#English Version"
      ],
      "metadata": {
        "id": "irNLLRTMQQwv"
      }
    },
    {
      "cell_type": "markdown",
      "source": [
        "I have studied various disciplines of mathematics e.g. Algorithm, Linear Algebra, Machine Learning and documented it in GitHub ( https://github.com/NihilisticM.../CheCheConjecture/tree/main ) for half a year now, because I want to learn new things. Sometimes, I feel that my study progress is too slow than it could be, because\n",
        "1. Studying new things is hard.\n",
        "2. I need to be sure that I understand the concept 100% correctly.\n",
        "3. Thinking about the scope of the documentation\n",
        "4. Making sure that my math study note is easy to read\n",
        "5. Creating Diagram, Desmos and Matplotlib Mathematical Visualization\n",
        "6. Coding, Debugging and Data Cleaning\n",
        "7. Not good at fundamentals, such as attempting to prove the fundamental theorem of calculus without understanding the rigorous definition of limit."
      ],
      "metadata": {
        "id": "sNjVsr4KQU8g"
      }
    },
    {
      "cell_type": "markdown",
      "source": [
        "##My mathematics study advice are\n",
        "1. Spending 80% of time on learning directly from online courses, YouTube Math Study Playlist and/or Online Textbook in order to understand the fundamentals correctly.\n",
        "2. Spending 20% of time on creating mathematical content in your style in order to practice creativity, understand the connection between subjects and how the concepts be applied in new context.\n",
        "3. If you cannot understand the concept and/or solve the exercise, it is recommended to do other math study documentation projects or ask the question in the simple and/or special case and try to solve it.\n",
        "4. Note the questions. (This question can be used for create new content later)\n",
        "5. Spending free time on watching random math videos such as 3Blue1Brown, Numberphile, Veritasium etc. to understand the mathematics in a bigger picture without focusing on the details.\n",
        "6. Before and/or after writing the documentation, write a to do list.\n",
        "7. If you do not understand what you have learned in a reasonable amount of time, just post the clearly defined detailed question in social media such as Facebook groups, Math Stack Exchange ( https://math.stackexchange.com/ ) etc.\n",
        "8. Spending free time researching, watching videos and/or listening to podcasts about learning techniques such as space repetition, deliberate practice, Pomodoro Technique etc."
      ],
      "metadata": {
        "id": "heBjrWdKPpnE"
      }
    },
    {
      "cell_type": "markdown",
      "source": [
        "##My advice on how to write documentation.\n",
        "1. Before writing the Math documentation, write the clear purpose of the documentation. The content should have balance between deep understanding (e.g. show the proof of the theorem and/or algorithm, the implementation of the algorithm etc.) and wide understanding (understanding the meaning of theorem and algorithm without formal proof, show how to use API without implementing it from scratch etc. Then it is recommended to write the documentation about the missing detail later as a future project.) such as\n",
        " * How does FFT works?\n",
        " * Prove about the property of Vector Space\n",
        " * Show the solution of the exercise from the mathematics textbook in the particular chapter.\n",
        " * etc.\n",
        "2. Write the Headline of that documentation.\n",
        "3. Before creating the visualization, thinking about its purpose and drawing it on the paper, then implement the visualization through taking the photo of the diagram on paper, Desmos, Matplotlib etc.\n",
        "4. Only use ChatGPT for data cleaning because you (as the learner) suppose to learn by doing exercise and implementing algorithms from scratch by yourself.\n",
        "5. Research about how to write clean code (easy to read code) such as\n",
        " * Detail variable name\n",
        " * Calling function and OOP\n",
        " * etc.\n",
        "6. Write what you understand quickly without too much case about the readable content, then reread the entire section and make it more easy to read.\n",
        "7. If you spend an hour debugging, then commenting (or deleting) the error code and implementing it again.\n",
        "8. Research about different debugging and code testing techniques.\n",
        "9. Each mathematics documentation should be finished within 2 weeks or less."
      ],
      "metadata": {
        "id": "aaQmTrEWQaY4"
      }
    },
    {
      "cell_type": "markdown",
      "source": [
        "##This is the my recommended Learning Resource list\n",
        "1. How to self study pure math - a step-by-step guide (by Aleph 0)\n",
        " * https://youtu.be/byNaO_zn2fI?si=RJwk97k82rMQlMFN\n",
        " * Videos introduce the recommended math textbook such as  “Linear Algebra Done Right” by Sheldon Axler, “Understanding Analysis” by Stephen Abbott etc.\n",
        "2. How to learn machine learning as a complete beginner: a self-study guide (by Aleph 0)\n",
        " * https://youtu.be/0F2paWV4eEA?si=y1vNV9jvEr7QZ8w5\n",
        " * Video introduce the recommended Machine Learning textbooks such as The 100-page Machine Learning Handbook by Andriy Burkov etc. other interesting Keyword such as CNN, Recursive Neural Network, Reinforcement Learning, Transformer etc. and Deep Learning Study Road Map\n",
        "3. MathMajor\n",
        " * https://www.youtube.com/@mathmajor\n",
        " * This YouTube Channel have several Math Study Playlist in various disciplines such as Complex Analysis, Linear Algebra, Abstract Algebra ฯลฯ\n",
        "4. Michael Penn\n",
        " * https://www.youtube.com/@MichaelPennMath\n",
        " * The creator of MathMajor also created the video for this channel.\n",
        " * This channel has various interesting and difficult mathematical problems.\n",
        "5. StatQuest with Josh Starmer\n",
        " * https://www.youtube.com/@statquest\n",
        " * This channel is about different ML Algorithms and Statistical Techniques such as Random Distribution, Unsupervised Learning, P value etc without rigorous proof writing\n",
        "6. Free Code Camp\n",
        " * https://www.youtube.com/@freecodecamp/videos\n",
        " * This youtube channel is about various IT Technology such as Cloud Computing, Python, Rust, Git etc and Computer Science Concepts such as Data Structure and Algorithm, Machine Learning etc.\n",
        "7. Khan Academy\n",
        " * https://en.khanacademy.org/?_gl=1*13vnjhn*_gcl_au*Nzk4NTg1NTc2LjE3MTA3Nzc1Mjc.*_ga*ODY2MTY2NDYyLjE3MTA3Nzc1Mjg.*_ga_19G17DJYEE*MTcxNzkxNjE5Ny4zMi4wLjE3MTc5MTYxOTcuMC4wLjA\n",
        " * This website is suitable for learning basic Precalculus, Calculus, Linear Algebra and Statistics. It emphasize on the basic concept more than Rigorous Proof Writing\n",
        "8. Learning How to Learn: Powerful mental tools to help you master tough subjects\n",
        " * https://www.coursera.org/learn/learning-how-to-learn\n",
        " * This is a course about study techniques and other related cognitive psychology."
      ],
      "metadata": {
        "id": "FUjXSLVJQezQ"
      }
    },
    {
      "cell_type": "markdown",
      "source": [
        "##Advice for Beginner\n",
        "\n",
        "For anybody who want to start mathematical project similar to my project, I recommend to start with\n",
        "1. Basic Python\n",
        "2. Big O Complexity, Data Structure and Algorithm for Beginner.\n",
        "3. Set Theory, Logic and Proof Writing for Beginner"
      ],
      "metadata": {
        "id": "gpugu7pjQiw5"
      }
    },
    {
      "cell_type": "markdown",
      "source": [
        "#Thai Version"
      ],
      "metadata": {
        "id": "VWuNHgBGP4cR"
      }
    },
    {
      "cell_type": "markdown",
      "source": [
        "ผมได้เอาเวลาว่างศึกษาคณิตศาสตร์แขนงต่างๆ เช่น Algorithm, Linear Algebra, Machine Learning etc. แล้วบันทึกสิ่งที่ศึกษาลงในGitHub ( https://github.com/NihilisticM.../CheCheConjecture/tree/main ) โดยใช้Google Colab, Python และ Latex ไปประมาณครึ่งปีได้แล้ว เพราะผมอยากเรียนรู้สิ่งใหม่ๆ บางทีผมทำงาน math study note documentation ช่าไปหน่อย สาเหตุเพราะ\n",
        "1. การศึกษาสิ่งใหม่ๆ เป็นเรื่องที่ค่อนข้างยาก\n",
        "2. ผมต้องทำความเข้าใจ concept ต่างๆ ให้ถูกต้อง 100 %\n",
        "3. การคิดว่า Scope ของ Documentation\n",
        "4. การจดบันทึกสิ่งที่ตนเองค้นคว้ามา ให้อ่านง่าย\n",
        "5. การทำDiagram, Desmos และ MatPlotlib Math Visualization\n",
        "6. การเขียนProof Writing และ Exercise\n",
        "7. การ Coding, Debugging และ Data Cleaning\n",
        "8. ผมไม่เก่งเรื่อง prerequisite ของบางศาสตร์ เช่น ผมเคยพยายามproof fundamental theorem of calculus โดยที่ผมยังไม่เข้าใจคุณสมบัติของ Limit อย่าง ถ่องแท้ ฯลฯ"
      ],
      "metadata": {
        "id": "IZiuPAyaP6Fi"
      }
    },
    {
      "cell_type": "markdown",
      "source": [
        "##คำแนะนำในการเรียนคณิตศาสตร์ของผมคือ\n",
        "1. ให้เอาเวลา 80% เรียนตามCourse Online, YouTube Math Study Playlist และ/หรือ Online Textbook เพื่อเข้าใจพื้นฐานอย่างถ่องแท้\n",
        "2. ให้เอาเวลา 20% สร้าง Mathematical content ในรูปแบบของตนเอง เพื่อฝึกความคิดสร้างสรรค์ และ ทำความเข้าใจว่าศาสตร์ต่างๆ นำมาแก้ปัญหาแบบใดได้บ้าง และ เกี่ยวข้องกันอย่างไร\n",
        "3. หากแก้โจทย์ไม่ได้ และ/หรือ เรียนไม่รู้เรื่อง ให้ทำ documentationเรื่องอื่นๆ แทน หรือ ให้ลองตั้งคำถามที่เรียนง่ายขึ้นและ/หรือเกี่ยวกับSpecial Case แล้วตอบคำถามดังกล่าว แล้วค่อยลองนำมาประยุกต์กับเรื่องที่ตนจดจ่ออยู่\n",
        "4. หากมีคำถามต่างๆ ให้จดบันทึกไว้ แล้วอาจนำไปใช้ประกอบMath content ได้\n",
        "5. เอาเวลาว่างๆ เช่น ก่อนนอน ดู video สับเปเหระ เกี่ยวกับคณิตศาสตร์ผ่านๆ (เช่น 3Blue1Brown, Numberphile, แมทเล่าให้ฟัง, Veritasium etc.) เพื่อทำความเข้าใจเกี่ยวกับภาพรวมของคณิตศาสตร์ โดยไม่ต้องเข้าใจละเอียดมากนัก\n",
        "6. ก่อน และ/หลัง เขียนDocumentation ให้เขียน To Do List\n",
        "หากเรียนไม่รู้เรื่องจริงๆ ให้post คำถาม (ควรมีลายละเอียดที่ชัดเจน) ลงในSocial Media เช่น กลุ่ม Facebook, Math Stack Exchange ( https://math.stackexchange.com/ ) ฯลฯ\n",
        "7. ในเวลาว่างให้ลองศึกษา Study technique ต่างๆ เช่น space repetition, deliberate practise และ Pomodoro Technique"
      ],
      "metadata": {
        "id": "k0pHxk9uP9W9"
      }
    },
    {
      "cell_type": "markdown",
      "source": [
        "##คำแนะนำในการเขียน Documentation\n",
        "1. ก่อนเขียน Math documentation ให้กำหนดเป้าหมายของ documentation ให้ชัดเจนก่อน ให้ Balance ระหว่าง การเขียนdocument เกี่ยวกับ concept เชิงลึก (เข้าใจที่มาที่ไป, proof writing, Implementation ฯลฯ) กับ การเขียนdocument เกี่ยวกับ concept แบบไม่ต้องลงลึกมาก (เข้าใจ Theorem เฉพาะเรื่อง ความหมายโดยไม่ต้องรู้ที่มาที่ไปและเขียนproof ดังกล่าว, เข้าใจวัตถุประสงค์ของAlgorithm ต่างๆ และสามารถ เรียกAPIใช้งานได้ โดยยังไม่ต้องรู้วิธีการImpliment ฯลฯ แล้วค่อยศึกษาเรื่องที่เราไม่รู้ในอนาคตทีหลัง) เช่น\n",
        " * ต้องการทำความเข้าใจว่า FFT ใช้ทำอะไรได้บ้าง\n",
        " * proof เกี่ยวกับ คุณสมบัติต่างๆ ของVector Space\n",
        " * เปรียบเทียบ, แสดงวิธี Implement, Big O Complexity และ การทำงานของ Sorting Algorithm ต่างๆ\n",
        " * แสดงsolution ต่างๆ ใน Mathematics textbook บทนั้นๆ\n",
        "ฯลฯ\n",
        "2. เขียนHeadline คล่าวๆ ว่าในdocumentation ดังกล่าวมีหัวข้อย่อยๆ อะไรบ้าง\n",
        "3. ก่อนทำ Mathematical Visualization ให้วาดรูปลงกระดาษ และ กำหนดเป้าหมายของvisualization นั้นๆ ก่อนทำการVisualization (โดยวาดรูป, Desmos, Matplotlib ฯลฯ)\n",
        "4. ใช้ ChatGPTเฉพาะตอนทำ Data Cleaning เท่านั้น เพราะ ผมแนะนำว่า ผู้เรียนควรแก้โจทย์ และ เขียนAlgorithm เอง เพื่อทำความเข้าใจ Concept ต่างๆ อย่างถ่องแท้\n",
        "5. ค้นคว่าเกี่ยวกับการเขียน Clean Code แล้วนำมาปรับใช้ เช่น\n",
        " * เขียนชื่อ Variable ให้ชัดเจน\n",
        " * การเรียกใช้Function และ OOP\n",
        " * etc.\n",
        "6. เน้นเขียนเร็วๆ ให้ตนเองอ่านได้ง่าย แล้วค่อยเก็บลายละเอียดหลังจากทำงานเสร็จไป\n",
        "7. หากDebug ไปประมาณหนึ่งชั่วโมงแล้ว และยังมี Error ให้ลบ (comment) code ที่ตนคิดว่าน่าจะเขียนผิด แล้วเขียนใหม่ ดู\n",
        "8. ค้นคว้าเกี่ยวกับDebugging และ Code Testing Technique ต่างๆ เพื่อเขียนCodeให้ถูกต้อง\n",
        "9. Documentation ควรเสร็จภายในเวลาไม่เกิน 2 อาทิตย์"
      ],
      "metadata": {
        "id": "8aeU6UwjQA6n"
      }
    },
    {
      "cell_type": "markdown",
      "source": [
        "##นี้คือ Learning Resource ที่ผมแนะนำ\n",
        "1. How to self study pure math - a step-by-step guide (by Aleph 0)\n",
        " * https://youtu.be/byNaO_zn2fI?si=RJwk97k82rMQlMFN\n",
        " * Video นี้ได้แนะนำเกี่ยวกับ หนังสือคณิตศาสตร์ต่างๆ เช่น “Linear Algebra Done Right” by Sheldon Axler, “Understanding Analysis” by Stephen Abbott ฯลฯ\n",
        "2. How to learn machine learning as a complete beginner: a self-study guide (by Aleph 0)\n",
        " * https://youtu.be/0F2paWV4eEA?si=y1vNV9jvEr7QZ8w5\n",
        " * Video นี้ได้แนะนำเกี่ยวกับ หนังสือ Machine Learning ต่างๆ เช่น The 100-page Machine Learning Handbook by Andriy Burkov ฯลฯ , Keyword ที่น่าสนใจเช่น CNN, Recursive Neural Network, Reinforcement Learning, Transformer ฯลฯ และ Deep Learning Study Road Map\n",
        "3. MathMajor\n",
        " * https://www.youtube.com/@mathmajor\n",
        " * ช่องนี้ได้ทำ Math Study Playlist แขนงต่างๆ เช่น Complex Analysis, Linear Algebra, Abstract Algebra ฯลฯ\n",
        "4. Michael Penn\n",
        " * https://www.youtube.com/@MichaelPennMath\n",
        " * คนทำช่องนี้เป็นคนเดี่ยวกับคนที่ทำMathMajor\n",
        " * ช่องนี้รวบรวมโจทย์ที่น่าสนใจแต่ค่อนข้างยาก\n",
        "5. StatQuest with Josh Starmer\n",
        " * https://www.youtube.com/@statquest\n",
        " * ช่องนี้เกี่ยวกับการทำงานของML Algorithm ต่างๆ และStatistical Technique เช่น Random Distribution, Unsupervised Learning, P value ฯลฯ โดยไม่มี proof writingเกี่ยวข้องและเป็นแนวApply Math\n",
        "6. Free Code Camp\n",
        " * https://www.youtube.com/@freecodecamp/videos\n",
        " * ช่องนี้จะสอนเกี่ยวกับการใช้Technology ต่างๆ เช่น Cloud Computing, Python, Rust, Git ฯลฯ รวมทั้งสอนเกี่ยวกับ Computer Science Concept ต่างๆ เช่น Data Structure and Algorithm, Machine Learning ฯลฯ\n",
        "7. Khan Academy\n",
        " * https://en.khanacademy.org/?_gl=1*13vnjhn*_gcl_au*Nzk4NTg1NTc2LjE3MTA3Nzc1Mjc.*_ga*ODY2MTY2NDYyLjE3MTA3Nzc1Mjg.*_ga_19G17DJYEE*MTcxNzkxNjE5Ny4zMi4wLjE3MTc5MTYxOTcuMC4wLjA\n",
        " * เหมาะสำหรับศึกษา Precalculus, Calculus, Linear Algebra และ Statistics พื้นฐาน โดยเน้นไปที่เข้าใจConceptเบื่องต้นมากกว่าRigorous Proof Writing\n",
        "8. Learning How to Learn: Powerful mental tools to help you master tough subjects\n",
        " * https://www.coursera.org/learn/learning-how-to-learn\n",
        " * course นี้เกี่ยวกับ เทคนิกการเรียนรู้แบบต่างๆ และจิตวิทยาที่เกี่ยวกับการเรียนรู้"
      ],
      "metadata": {
        "id": "ceB_UKIrQFub"
      }
    },
    {
      "cell_type": "markdown",
      "source": [
        "##คำแนะนำสำหรับผู้เริ่มต้น\n",
        "\n",
        "สำหรับใครก็ตามที่อยากเริ่มต้นทำ Project คล้ายๆ กับผมทำ ผมแนะนำว่าให้เริ่มจาก\n",
        "1. พื้นฐาน Python\n",
        "2. Big O Complexity และ Data Structure and Algorithm for Beginner.\n",
        "3. Set Theory, Logic และ Proof Writing for Beginner"
      ],
      "metadata": {
        "id": "HwGRRx_nQIYk"
      }
    }
  ]
}