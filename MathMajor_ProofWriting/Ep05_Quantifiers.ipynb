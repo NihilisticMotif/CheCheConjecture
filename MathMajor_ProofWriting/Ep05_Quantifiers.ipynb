{
  "nbformat": 4,
  "nbformat_minor": 0,
  "metadata": {
    "colab": {
      "provenance": [],
      "authorship_tag": "ABX9TyNSRVLoAGwgW5GnDlsdDRB3",
      "include_colab_link": true
    },
    "kernelspec": {
      "name": "python3",
      "display_name": "Python 3"
    },
    "language_info": {
      "name": "python"
    }
  },
  "cells": [
    {
      "cell_type": "markdown",
      "metadata": {
        "id": "view-in-github",
        "colab_type": "text"
      },
      "source": [
        "<a href=\"https://colab.research.google.com/github/NihilisticMotif/CheCheConjecture/blob/main/MathMajor_ProofWriting/Ep05_Quantifiers.ipynb\" target=\"_parent\"><img src=\"https://colab.research.google.com/assets/colab-badge.svg\" alt=\"Open In Colab\"/></a>"
      ]
    },
    {
      "cell_type": "markdown",
      "source": [
        "##Quantifier\n",
        "\n",
        "* $\\forall:$ For all\n",
        "* $\\exists:$ There exists"
      ],
      "metadata": {
        "id": "rlZxkpq9CZiq"
      }
    },
    {
      "cell_type": "markdown",
      "source": [
        "###Example No.1\n",
        "\n",
        "For every $n\\in\\mathbb{N},2n$ is even\n",
        "\n",
        "* $\\{2n|n\\in\\mathbb{N}\\}$ is even"
      ],
      "metadata": {
        "id": "7pdzTdV7CouI"
      }
    },
    {
      "cell_type": "markdown",
      "source": [
        "###Example No.2\n",
        "\n",
        "Every subset of $S=\\{1,2,...,10\\}$ has 10 or fewer elements\n",
        "\n",
        "* $\\forall s\\subset S,|s|\\leq|S|$"
      ],
      "metadata": {
        "id": "DNRpAPDUDJSB"
      }
    },
    {
      "cell_type": "markdown",
      "source": [
        "###Example No.3\n",
        "\n",
        "$\\frac{d}{dx}[e^x]=e^x$\n",
        "\n",
        "* $\\exists f\\,:f'(x)=f(x)$"
      ],
      "metadata": {
        "id": "SBCirMUxDvPp"
      }
    },
    {
      "cell_type": "markdown",
      "source": [
        "###Example No.4\n",
        "\n",
        "There is a subset of $\\mathbb{N}$ with 3030 elements\n",
        "\n",
        "* $\\exists S\\subset \\mathbb{N}\\,:|S|=3030$\n"
      ],
      "metadata": {
        "id": "XqP93SY0ECSY"
      }
    },
    {
      "cell_type": "markdown",
      "source": [
        "###Example No.5\n",
        "\n",
        "Every odd integer is one more than an even integer.\n",
        "\n",
        "* $n\\in\\{2x+1|x\\in\\mathbb{Z}\\}$\n",
        "\n",
        "* $\\forall x\\in\\mathbb{Z},\\,\\forall n\\in\\{2x+1\\},\\exists m\\in\\{2x\\}:n=m+1$"
      ],
      "metadata": {
        "id": "57qSFgXGEjQn"
      }
    },
    {
      "cell_type": "markdown",
      "source": [
        "###Example No.6\n",
        "\n",
        "If $f$ is continuous on $[a,b],f(a)< 0\\land f(b)>0\\implies f(c)=0$ for some $c\\in(a,b)$\n",
        "\n",
        "* $\\forall f(x)\\in[f(a),f(b)]\\land f(a)< 0\\land f(b)>0\\implies\\exists c\\in(a,b)\\,: f(c)=0$"
      ],
      "metadata": {
        "id": "1_ju9CcNGap8"
      }
    },
    {
      "cell_type": "markdown",
      "source": [
        "###Example No.7\n",
        "\n",
        "$\\forall x,y,z,n\\in\\mathbb{N}\\land n\\geq3\\,:\\not\\exists x^n+y^n=z^n$"
      ],
      "metadata": {
        "id": "LHcy1KZfHi7P"
      }
    },
    {
      "cell_type": "markdown",
      "source": [
        "##Negating Quantifier\n",
        "\n",
        "* $\\sim(\\forall x\\,:P(x))=\\exists x\\,:\\sim P(x)$\n",
        " * $x=$ introvert\n",
        " * $P(x)=x$ are single\n",
        " * $\\forall x\\,:P(x)=$ all introvert are single\n",
        " * $\\sim\\forall x\\,:P(x)=$ Not all introvert are single.\n",
        " * $\\exists x\\,:\\sim P(x)=$ Some introverts are not single.\n",
        "* $\\sim(\\exists x\\,:Q(x))=\\forall x\\,:\\sim Q(x)$\n",
        " * $x=$ vegan\n",
        " * $Q(x)=x$ eats meat.\n",
        " * $\\exists x\\,:Q(x)=$ some vegan eat meat.\n",
        " * $\\sim(\\exists x\\,:Q(x))=$ there is no vegan that eat meat.\n",
        " * $\\forall x\\,:\\sim Q(x)=$ all vegan does not eat meat.\n",
        "\n",
        "##Negating Conditions\n",
        "\n",
        "* $\\sim(P\\implies Q)=P\\land\\sim Q$"
      ],
      "metadata": {
        "id": "nuUBDDftIkL5"
      }
    },
    {
      "cell_type": "markdown",
      "source": [
        "##Logical Inference\n",
        "\n",
        "Suppose $P\\implies Q$ is true\n",
        "* Modus Ponens: $P=T\\implies Q=T$\n",
        "* Modus Tollens: $P=F\\implies Q=F$\n",
        "\n",
        "Suppose $P\\lor Q$ is true\n",
        "* Elimination: $P=F\\implies Q=T$"
      ],
      "metadata": {
        "id": "ReubGM94PVMl"
      }
    },
    {
      "cell_type": "markdown",
      "source": [
        "##Necessary and Sufficient Conditions\n",
        "\n",
        "Suppose that\n",
        "* $A\\subset B$\n",
        "\n",
        "Then\n",
        "* $x\\in A\\implies x\\in B$\n",
        "* $x\\not\\in B\\implies x\\not\\in A$\n",
        "\n",
        "Suppose that\n",
        "* $A\\implies B$\n",
        "\n",
        "Then\n",
        "* Statement $A$ is sufficient conditions for Statement $B$\n",
        "* Statement $B$ is necessary conditions for Statement $A$"
      ],
      "metadata": {
        "id": "FbtUomHQjsjB"
      }
    },
    {
      "cell_type": "markdown",
      "source": [
        "#Practise Problem\n",
        "\n",
        "note\n",
        "* The goal of this practise problems is to **practising to negating the condition.** Not to prove if the statement is true or false.\n",
        "* negating = make (a clause, sentence, or proposition) negative in meaning."
      ],
      "metadata": {
        "id": "MC2DbhdPl0Lr"
      }
    },
    {
      "cell_type": "markdown",
      "source": [
        "###Problem No.1\n",
        "\n",
        "Sentence\n",
        "* All integer multiple of 6 are also multiple of 2 and 3.\n",
        "\n",
        "Original Statement\n",
        "* $\\forall x\\in\\mathbb{Z},[\\forall x_6=6x]\\implies [\\exists z_2,z_3\\in\\mathbb{Z}:x_6=2z_2,3z_3]$\n",
        "\n",
        "Negation Statement\n",
        "* $\\forall x\\in\\mathbb{Z},[\\forall x_6=6x]\\land [\\forall z_2,z_3\\in\\mathbb{Z}:x_6\\neq 2z_2\\land x_6\\neq 3z_3]$"
      ],
      "metadata": {
        "id": "FW2fjaVG6XWz"
      }
    },
    {
      "cell_type": "markdown",
      "source": [
        "###Problem No.2\n",
        "\n",
        "Sentence\n",
        "* All parallelograms are quadrilaterals.\n",
        "\n",
        "Original Statement\n",
        "* $\\forall p\\in P\\implies p\\in Q$\n",
        "\n",
        "Nagation Statement\n",
        "* $\\forall p\\in P\\land p\\not\\in Q$\n",
        "* $\\forall p\\in P\\implies p\\not\\in Q$"
      ],
      "metadata": {
        "id": "feXXZG1Q9cHM"
      }
    },
    {
      "cell_type": "markdown",
      "source": [
        "###Problem No.2\n",
        "\n",
        "Sentence\n",
        "* All parallelograms are quadrilaterals.\n",
        "\n",
        "Original Statement\n",
        "* $\\forall p\\in P\\,:p\\in Q$\n",
        "\n",
        "Nagation Statement\n",
        "* $\\exists p\\in P\\,:p\\not\\in Q$"
      ],
      "metadata": {
        "id": "zhKdT8NXdSb6"
      }
    },
    {
      "cell_type": "markdown",
      "source": [
        "###Problem No.3\n",
        "\n",
        "Sentence\n",
        "* For every M in $\\mathbb{R}$, there exists $δ>0$ such that $|x-a|<\\delta$ implies $f(x)>M$\n",
        "\n",
        "Original Statement\n",
        "* $\\forall M\\in\\mathbb{R}\\,,\\exists \\delta>0\\,:[|x-a|<\\delta]\\implies [f(x)>M]$\n",
        "\n",
        "Nagation Statement\n",
        "* $\\exists M\\in\\mathbb{R}\\,,\\forall \\delta>0\\,:[|x-a|<\\delta]\\land [f(x)\\leq M]$\n"
      ],
      "metadata": {
        "id": "ITwedtW7TgVS"
      }
    },
    {
      "cell_type": "markdown",
      "source": [
        "###Problem No.4\n",
        "\n",
        "Sentence\n",
        "* For every x and y in $\\mathbb{R}$, if x < y then f(x) $\\leq$ f(y).\n",
        "\n",
        "Original Statement\n",
        "* $∀x,y\\in\\mathbb{R}\\,:x< y\\implies f(x)\\leq f(y)$\n",
        "\n",
        "Nagation Statement\n",
        "* $\\exists x,y\\in\\mathbb{R}\\,:x< y\\land f(x)> f(y)$\n"
      ],
      "metadata": {
        "id": "5tOqIIS6VzCu"
      }
    },
    {
      "cell_type": "markdown",
      "source": [
        "###Problem No.5\n",
        "\n",
        "Sentence\n",
        "* Every non zero real number have multiplicative inverse.\n",
        "\n",
        "Original Statement\n",
        "* $\\forall x\\in\\mathbb{R}- 0\\,,\\exists y\\in\\mathbb{R}\\,:xy=1$\n",
        "\n",
        "Nagation Statement\n",
        "* $\\exists x\\in\\mathbb{R}-0\\,,\\forall y\\in\\mathbb{R}\\,:xy\\neq1$\n"
      ],
      "metadata": {
        "id": "5lF-fmO2YnlK"
      }
    },
    {
      "cell_type": "markdown",
      "source": [
        "###Problem No.6\n",
        "\n",
        "Sentence\n",
        "* There are non zero 2x2 matrix A and B, such that AB = 0\n",
        "\n",
        "Original Statement\n",
        "* $\\exists A,B\\in\\mathbb{R^{2\\times 2}}-0^{2\\times 2}\\,:AB=0$\n",
        "\n",
        "Nagation Statement\n",
        "* $\\forall A,B\\in\\mathbb{R^{2\\times 2}}-0^{2\\times 2}\\,:AB\\neq0$\n"
      ],
      "metadata": {
        "id": "2AOAxfmkYnuj"
      }
    },
    {
      "cell_type": "markdown",
      "source": [
        "###Problem No.7\n",
        "\n",
        "Original Statement\n",
        "* $\\forall x\\in\\mathbb{Z^+},x>3$\n",
        "\n",
        "Nagation Statement\n",
        "* $\\exists x\\in\\mathbb{Z^+},x\\leq3$\n",
        "\n"
      ],
      "metadata": {
        "id": "LdJMPEEkao_N"
      }
    },
    {
      "cell_type": "markdown",
      "source": [
        "###Problem No.8\n",
        "\n",
        "Original Statement\n",
        "* $\\forall x\\in\\mathbb{Z}\\,,\\exists y\\in\\mathbb{Z}\\,:y>x$\n",
        "\n",
        "Nagation Statement\n",
        "* $\\exists x\\in\\mathbb{Z}\\,,\\forall y\\in\\mathbb{Z}\\,:y\\leq x$"
      ],
      "metadata": {
        "id": "__IFCssGapD0"
      }
    },
    {
      "cell_type": "markdown",
      "source": [
        "###Problem No.9\n",
        "\n",
        "Sentence\n",
        "* Some number in a domain is the largest number.\n",
        "\n",
        "Original Statement\n",
        "* $\\exists x\\in D\\,,\\forall y\\in D\\,:y\\leq x$\n",
        "\n",
        "Nagation Statement\n",
        "* $\\forall x\\in D\\,,\\exists y\\in D\\,:y> x$\n"
      ],
      "metadata": {
        "id": "IMOggZSKQteE"
      }
    },
    {
      "cell_type": "markdown",
      "source": [
        "#Bonus\n",
        "* https://youtu.be/JVjv0CCzHok?si=pmgFccEGynn7Mybq"
      ],
      "metadata": {
        "id": "c1XJnxxWIfqU"
      }
    },
    {
      "cell_type": "markdown",
      "source": [
        "##Implies $\\implies$\n",
        "* $P\\implies Q$\n",
        "\n",
        "Given that\n",
        "* $S=\\{\\{0,1,2,...,a\\},s_2,s_3,...\\}$\n",
        "* $s_1=\\{0,1,2,...,a\\}$\n",
        "* All A is B. (There is no such thing that is A, but not B.)\n",
        "\n",
        "Implies that\n",
        "* $x\\in s_1\\implies x\\in S$ is True\n",
        " * X is A. X is B.\n",
        "* $x\\not\\in s_1\\implies x\\in S$ is True\n",
        " * X is not A. X is B\n",
        "* $x\\not\\in s_1\\implies x\\not\\in S$ is True\n",
        " * X is not A and B\n",
        "* $x\\in s_1\\implies x\\not\\in S$ is False\n",
        " * X is A, but not B."
      ],
      "metadata": {
        "id": "fE-gmvtbIhFh"
      }
    },
    {
      "cell_type": "markdown",
      "source": [
        "##Unique Exists $\\exists!$\n",
        "* $\\exists!x\\in S$ means there is an one unique element $x$ in set $S$\n",
        "* $\\forall y\\in\\mathbb{R}-0,\\exists!x\\in\\mathbb{R}:xy=1$"
      ],
      "metadata": {
        "id": "eL4o9D1kIk_p"
      }
    },
    {
      "cell_type": "markdown",
      "source": [
        "##Comma $,$\n",
        "\n",
        "* It is used for seperate logical statements."
      ],
      "metadata": {
        "id": "woKzi8O-Ioip"
      }
    },
    {
      "cell_type": "markdown",
      "source": [
        "##Colon $:$\n",
        "* such that\n",
        "* $\\exists x\\in\\mathbb{R},\\forall y\\in\\mathbb{R}:xy=0$\n",
        "* https://mathworld.wolfram.com/Colon.html"
      ],
      "metadata": {
        "id": "b5pEdtoQKuOo"
      }
    },
    {
      "cell_type": "markdown",
      "source": [
        "#Reference\n",
        "* https://youtu.be/KCMGWRoPuMY?si=2v-GzeL_7cD1gBxX\n",
        "* https://youtu.be/jLVKV5LJjaw?si=pJYbfsQ-nUhVhLPu\n",
        "* https://youtu.be/GJpezCUMOxA?si=HClW84LPmnoDjK53\n",
        "* https://youtu.be/0d9zJdKU8SA?si=dTrt3HwND9anxATs\n",
        "* https://youtu.be/0IUaKfm-3E4?si=AVa7xhVMsrX96w0l\n",
        "* https://youtu.be/JVjv0CCzHok?si=KitTsNq9ofxZ1cDZ"
      ],
      "metadata": {
        "id": "H5kuBzf-lBcd"
      }
    }
  ]
}