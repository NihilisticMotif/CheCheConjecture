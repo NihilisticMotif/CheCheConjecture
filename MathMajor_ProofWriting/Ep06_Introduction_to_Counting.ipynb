{
  "nbformat": 4,
  "nbformat_minor": 0,
  "metadata": {
    "colab": {
      "provenance": [],
      "authorship_tag": "ABX9TyODOoPDJhAk5xHOOH84G2qW",
      "include_colab_link": true
    },
    "kernelspec": {
      "name": "python3",
      "display_name": "Python 3"
    },
    "language_info": {
      "name": "python"
    }
  },
  "cells": [
    {
      "cell_type": "markdown",
      "metadata": {
        "id": "view-in-github",
        "colab_type": "text"
      },
      "source": [
        "<a href=\"https://colab.research.google.com/github/NihilisticMotif/CheCheConjecture/blob/main/MathMajor_ProofWriting/Ep06_Introduction_to_Counting.ipynb\" target=\"_parent\"><img src=\"https://colab.research.google.com/assets/colab-badge.svg\" alt=\"Open In Colab\"/></a>"
      ]
    },
    {
      "cell_type": "markdown",
      "source": [
        "##List\n",
        "\n",
        "List is an order sequence of elements. It can have duplicate elements. (Set does not have duplicate elements.)\n",
        "\n",
        "* $A=(a_1,a_2,...,a_n)$\n",
        "\n",
        "##Multiplication Principle\n",
        "\n",
        "There are $\\Pi_{i=1}^mn_i$ lists of elements\n",
        "* The first element $\\in n_1$\n",
        "* The second element $\\in n_2$\n",
        "* ...\n",
        "* The m-th element $\\in n_m$"
      ],
      "metadata": {
        "id": "g9rj2YfFRYfr"
      }
    },
    {
      "cell_type": "markdown",
      "source": [
        "###Example No.1\n",
        "\n",
        "How many length 4 lists start with $\\{a,b\\}$ and end with 3 entries from $\\{1,2,3\\}$ without repitition?\n",
        "\n",
        "$2*3! = 12$"
      ],
      "metadata": {
        "id": "7HBqcIXDTpa-"
      }
    },
    {
      "cell_type": "markdown",
      "source": [
        "###Example No.2\n",
        "\n",
        "How many length $k$ lists that satisfy 2 conditions.\n",
        "* odd-th element, cannot be repititive\n",
        "* element $\\in\\{x\\in\\mathbb{N}|x\\leq m\\}$\n",
        "\n",
        "Example:\n",
        "* If $m=100\\land k=10$\n",
        "* $(1,2,3,4,5,6,7,8,9,10)$ satisfy the condition\n",
        " * $(1,3,5,7,9)$ are all unique\n",
        "* $(1,2,1,4,5,6,7,8,9,10)$ is not satisfy the condition\n",
        " * $(1,1,5,7,9)$ are not all unique\n",
        "* $(1,2,2,4,5,6,7,8,9,10)$ is satisfy the condition\n",
        " * $(1,2,5,7,9)$ are all unique\n",
        "\n",
        "***\n",
        "###Solution\n",
        "\n",
        "###If: $k\\in|\\{2n|n\\in\\mathbb{N}\\}|$\n",
        "* $|k_1|=\\frac{k}{2}\\implies $ there are $m^{\\frac{k}{2}}$\n",
        "* $|k_2|=\\frac{k}{2}\\implies $ there are $(\\frac{2m}{k})!$ lists\n",
        "* $\\therefore$ there are $(\\frac{2m}{k})!*m^{\\frac{k}{2}}$\n",
        "\n",
        "###If: $k\\in|\\{2n-1|n\\in\\mathbb{N}\\}|$\n",
        "* $|k_1|=\\frac{k-1}{2}\\implies $ there are $m^{\\frac{k-1}{2}}$\n",
        "* $|k_2|=\\frac{k-1}{2}+1\\implies $ there are $(\\frac{2m}{k+1})!$ lists\n",
        "* $\\therefore$ there are $(\\frac{2m}{k+1}!)*m^{\\frac{k}{2}}$"
      ],
      "metadata": {
        "id": "63DkFOqBUeE4"
      }
    },
    {
      "cell_type": "markdown",
      "source": [
        "##Addition Principle\n",
        "\n",
        "Suppose that:\n",
        "* $S=S_1\\cup S_2\\cup ... \\cup S_n$\n",
        "* $i\\neq j\\land S_i\\cap S_j=\\emptyset$\n",
        "\n",
        "Then\n",
        "* $|S|=\\sum_{i=1}^n S_i$\n",
        "\n",
        "##Subtraction Principle\n",
        "\n",
        "$|\\overline{A}|=|U|-|A|$"
      ],
      "metadata": {
        "id": "H1EAacGLPmge"
      }
    },
    {
      "cell_type": "markdown",
      "source": [
        "##Permutation\n",
        "\n",
        "* Permutation is the number of all possible arrangements of the elements.\n",
        "\n",
        "$P(n,k)=n*(n-1)*(n-2)*(n-k+1)=\\Pi_{i=1}^k(n-i+1)$\n",
        "\n",
        "$\\exists 0\\leq k\\leq n\\implies P(n,k)=\\frac{n!}{(n-k)!}$"
      ],
      "metadata": {
        "id": "tX8wPT0eS3Mj"
      }
    },
    {
      "cell_type": "markdown",
      "source": [
        "##Exercise"
      ],
      "metadata": {
        "id": "-oJLgj94Uff2"
      }
    },
    {
      "cell_type": "markdown",
      "source": [
        "###Exercise No.1\n",
        "\n",
        "How many 8-bit binary string (e.g. 11010011)?\n",
        "\n",
        "###Solution\n",
        "\n",
        "$2^8$"
      ],
      "metadata": {
        "id": "cnTlxHssUhEt"
      }
    },
    {
      "cell_type": "markdown",
      "source": [
        "###Exercise No.2\n",
        "\n",
        "How many 8-bit binary string (e.g. 10010001) that have 0 as 2nd, 4th and 7th digit?\n",
        "\n",
        "###Solution\n",
        "\n",
        "$2^5$"
      ],
      "metadata": {
        "id": "7gvNRuH_U6vg"
      }
    },
    {
      "cell_type": "markdown",
      "source": [
        "###Exercise No.3\n",
        "\n",
        "How many 8-bit binary string (e.g. 10010001) that contain at least one 1?\n",
        "\n",
        "###Solution\n",
        "\n",
        "$2^8-1$"
      ],
      "metadata": {
        "id": "yW2tRHMGVPKW"
      }
    },
    {
      "cell_type": "markdown",
      "source": [
        "###Exercise No.4\n",
        "\n",
        "How many 5 permutations are there of $\\{1,2,...,8\\}$ so that whatever 3 appears it is followed by 4?\n",
        "\n",
        "***\n",
        "###Solution\n",
        "\n",
        "$(3,4,X,X,X)$\n",
        "\n",
        "$(X,3,4,X,X)$\n",
        "\n",
        "$(X,X,3,4,X)$\n",
        "\n",
        "$(X,X,X,3,4)$\n",
        "\n",
        "$(3,4,3,4,X)$\n",
        "\n",
        "$(3,4,X,3,4)$\n",
        "\n",
        "$(X,3,4,3,4)$\n",
        "\n",
        "$(X,X,X,X,X)$\n",
        "\n",
        "$X=\\{1,2,4,5,6,7,8\\}$\n",
        "\n",
        "$\\therefore 4*7^3+3*7+7^5$"
      ],
      "metadata": {
        "id": "hi_WSYEOV2kq"
      }
    },
    {
      "cell_type": "markdown",
      "source": [
        "###Exercise No.5\n",
        "\n",
        "There are\n",
        "* 12 math books\n",
        "* 3 philosophy books\n",
        "* 5 art books\n",
        "\n",
        "on a shelf. How many arrangements of books are possible given that all the books with the same subject are grouped together.\n",
        "\n",
        "***\n",
        "###Solution\n",
        "\n",
        "$3!(12!*3!*5!)$"
      ],
      "metadata": {
        "id": "H1GHf5_dB092"
      }
    },
    {
      "cell_type": "markdown",
      "source": [
        "###Exercise No.6\n",
        "\n",
        "How many possible ways of arrangement of 7 cards from 52 cards given that the arrangement have no club?\n",
        "\n",
        "***\n",
        "###Solution\n",
        "\n",
        "$\\frac{(52-13)!}{(52-13-7)!}=\\frac{39!}{32!}=39*38*37*36*35*34*33$"
      ],
      "metadata": {
        "id": "sKXa72hKDiqK"
      }
    },
    {
      "cell_type": "markdown",
      "source": [
        "###Exercise No.7\n",
        "\n",
        "How many 5 digit number can be written using 1,2,3,4,5,6,7 and 8, all the number is unique and the even digit numbers are arranged next to each other?\n",
        "\n",
        "***\n",
        "###Solution\n",
        "\n",
        "$4!*4*5+4*4!*4*3+3*4*3*4!+2*4!*4=2688$"
      ],
      "metadata": {
        "id": "2PhcAHViKqMV"
      }
    },
    {
      "cell_type": "markdown",
      "source": [
        "#Reference\n",
        "* https://youtu.be/6AOaKs1qeqU?si=YoJ_-khDVnbL5ra6\n",
        "* https://youtu.be/TmKACd3jjRs?si=N3qb_c6K1Dr8PXkX"
      ],
      "metadata": {
        "id": "kg0NH34ZLZiv"
      }
    }
  ]
}