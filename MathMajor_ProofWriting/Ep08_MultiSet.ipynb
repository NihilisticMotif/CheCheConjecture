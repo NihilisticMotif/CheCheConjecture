{
  "nbformat": 4,
  "nbformat_minor": 0,
  "metadata": {
    "colab": {
      "provenance": [],
      "toc_visible": true,
      "authorship_tag": "ABX9TyMduZOb8vXOX3BKo/6hfcAE",
      "include_colab_link": true
    },
    "kernelspec": {
      "name": "python3",
      "display_name": "Python 3"
    },
    "language_info": {
      "name": "python"
    }
  },
  "cells": [
    {
      "cell_type": "markdown",
      "metadata": {
        "id": "view-in-github",
        "colab_type": "text"
      },
      "source": [
        "<a href=\"https://colab.research.google.com/github/NihilisticMotif/CheCheConjecture/blob/main/MathMajor_ProofWriting/Ep08_MultiSet.ipynb\" target=\"_parent\"><img src=\"https://colab.research.google.com/assets/colab-badge.svg\" alt=\"Open In Colab\"/></a>"
      ]
    },
    {
      "cell_type": "markdown",
      "source": [
        "#Set of A and B\n",
        "\n",
        "$|A\\cup B|=|A|+|B|-|A\\cap B|$"
      ],
      "metadata": {
        "id": "DVVg73OH86oP"
      }
    },
    {
      "cell_type": "markdown",
      "source": [
        "***\n",
        "##Example No.1\n",
        "\n",
        "$A=\\{1,2,...50\\}$\n",
        "\n",
        "$B=\\{\\text{x is divisible by 2 or 7}|x\\in A\\}$\n",
        "\n",
        "$|B|=?$"
      ],
      "metadata": {
        "id": "kGsdUowe_B71"
      }
    },
    {
      "cell_type": "markdown",
      "source": [
        "###Solution\n",
        "\n",
        "$|B|=25+7-3=29$"
      ],
      "metadata": {
        "id": "UeJbUqORTPGm"
      }
    },
    {
      "cell_type": "markdown",
      "source": [
        "***\n",
        "##Example No.2\n",
        "\n",
        "How many integers that $0< x< 10^7$ have 4 digits = 1 or 2 digit = 9?"
      ],
      "metadata": {
        "id": "Ao3LVNdi8N6-"
      }
    },
    {
      "cell_type": "markdown",
      "source": [
        "###Solution\n",
        "\n",
        "Case 4 Ones\n",
        "* $1\\,,\\_\\,,\\_\\,,1\\,,1\\,,1\\,,\\_$\n",
        "* $\\binom{7}{4}*9^3=7*5*9^3$\n",
        "\n",
        "Case 2 Nines\n",
        "* $\\_\\,,\\_\\,,\\_\\,,9\\,,9\\,,\\_\\,,\\_$\n",
        "* $\\binom{7}{2}*9^5=3*7*9^5$\n",
        "\n",
        "Case Ones and Nines\n",
        " * $1\\,,1\\,,\\_\\,,9\\,,9\\,,1\\,,1$\n",
        "  * $7*8*\\binom{6}{2}=2^3*3*5*7$\n",
        "\n",
        "###Answer\n",
        "* $7*5*9^3+3*7*9^5-2^3*3*5*7$"
      ],
      "metadata": {
        "id": "3aykc_5uTUA9"
      }
    },
    {
      "cell_type": "markdown",
      "source": [
        "***\n",
        "#MultiSet\n",
        "\n",
        "* Set is the collection of elements and have no repeat elements, and the order of the element does not matter.\n",
        " * e.g. $x=\\{x_1,x_2,x_3\\}=\\{x_2,x_3,x_1\\}=\\{x_3,x_2,x_1\\}$\n",
        "* List is the collection of elements, the element can be repeat and the order of the element does matter.\n",
        " * e.g. $x=[1,1,2,3,4,5]\\neq [5,1,1,2,3,4]$\n",
        "* Multiset is the collection of elements, the element can be repeat and the order of the element does not matter.\n",
        " * Any set is the multi set that do not have repeat elements.\n",
        " * e.g. $x=[1,1,2,3,4,5]= [5,1,1,2,3,4]$\n",
        " * $|x|=6$\n",
        " * $m_x(1)=2$\n",
        " * $m_x(5)=1$\n",
        "\n",
        "##Example\n",
        "\n",
        "Given that: $S=\\{s_1,s_2,s_3,s_4,...\\}$\n",
        "\n",
        "* $[s_1],[s_2],[s_3],[s_4]$ are the multiset of $S$ with 1 elements\n",
        "* $[s_1,s_1],[s_1,s_2],[s_2,s_3],[s_4,s_4],...$ are the multiset of $S$ with 2 elements\n",
        "* $[s_1,s_1,s_1],[s_1,s_2,s_2],[s_1,s_2,s_3],[s_3,s_4,s_4],...$ are the multiset of $S$ with 3 elements\n",
        "* $[s_1,s_1,s_1,...],[s_1,s_2,s_2,...],[s_1,s_2,s_3,...],[s_3,s_4,s_4,...],...$ are the multiset of $S$ with $n$ elements"
      ],
      "metadata": {
        "id": "Ta3w7yEiN8Ze"
      }
    },
    {
      "cell_type": "markdown",
      "source": [
        "***\n",
        "##How to find number of all multisets of $S$?\n",
        "\n",
        "Given that:\n",
        "* $S=\\{s_1,s_2,...,s_n\\}$\n",
        "* $|S|=n$\n",
        "* $K=$ multiset of $S$ e.g. $[s_1,s_2,s_2,...,s_{n-1}]$ etc.\n",
        "* $|K|=k$\n",
        "* How many possible $K$ are there?"
      ],
      "metadata": {
        "id": "9JyrgOJ-G-ZG"
      }
    },
    {
      "cell_type": "markdown",
      "source": [
        "###Solution\n",
        "\n",
        "* $K=[s_1^{m_1},s_2^{m_2},...,s_n^{m_n}]$\n",
        "* $m\\in\\{0,1,2,...,k\\}=$ number of all duplicate element inside $K$\n",
        "* $M=\\{m_1,m_2,...,m_{k-1},m_k|0\\leq m\\leq k\\land\\Sigma_{i=1}^km_i=k\\}$\n",
        "\n",
        "$\\hat{M}=[1,...,1,0,1,...,1,0,...,0,1,...,1]$\n",
        "* $c(1)=k$\n",
        "* $c(0)=n-1$\n",
        "* $|\\hat{M}|=k+n-1$\n",
        "\n",
        "There are $\\binom{k+n-1}{k}$ multiset length $k$ of $S$"
      ],
      "metadata": {
        "id": "QmCP9OWuTjwA"
      }
    },
    {
      "cell_type": "markdown",
      "source": [
        "***\n",
        "##Exercise No. 1\n",
        "\n",
        "Finding number of all set $K$ where\n",
        "* $K\\subset N$\n",
        "* $|K|=k$\n",
        "* $|N|=n$\n",
        "\n",
        "\n",
        "\n"
      ],
      "metadata": {
        "id": "7MHiMFdLVKeG"
      }
    },
    {
      "cell_type": "markdown",
      "source": [
        "###Solution\n",
        "\n",
        "$\\text{Ans:}\\binom{n}{k}=\\frac{n!}{k!(n-k)!}$"
      ],
      "metadata": {
        "id": "Gdvk9gTiTrON"
      }
    },
    {
      "cell_type": "markdown",
      "source": [
        "***\n",
        "##Exercise No.2\n",
        "\n",
        "Finding number of all set $K$ where\n",
        "* $K\\subset N$\n",
        "* $|K|\\leq k$\n",
        "* $|N|=n$"
      ],
      "metadata": {
        "id": "yB9bhErylL7k"
      }
    },
    {
      "cell_type": "markdown",
      "source": [
        "###Solution\n",
        "\n",
        "$\\text{Ans:}\\sum_{i=0}^k\\binom{n}{i}=\\sum_{i=0}^k\\frac{n!}{i!(n-i)!}$"
      ],
      "metadata": {
        "id": "y0QWP042TvZm"
      }
    },
    {
      "cell_type": "markdown",
      "source": [
        "***\n",
        "##Exercise No.3\n",
        "\n",
        "Finding the number of all K where\n",
        "* $|K|=10$\n",
        "* $\\sum_{i=1}^{10}K_i=100$\n",
        "* $K\\subset\\mathbb{Z^+}$\n",
        "* How many $K$ are there?"
      ],
      "metadata": {
        "id": "_O0Rzeg2Ihoo"
      }
    },
    {
      "cell_type": "markdown",
      "source": [
        "###Solution\n",
        "\n",
        "Given that\n",
        "* $\\hat{M}=(1,...,1,0,1,...,1,0,...,1)$\n",
        "\n",
        "$\\text{Ans:} \\binom{100+10-1}{10-1}$"
      ],
      "metadata": {
        "id": "O0-yfO5ST3te"
      }
    },
    {
      "cell_type": "markdown",
      "source": [
        "***\n",
        "##Exercise No. 4\n",
        "\n",
        "Finding the number of all K where\n",
        "* $|K|=10$\n",
        "* $\\sum_{i=1}^{9}K_i\\leq100$\n",
        "* $K\\in\\mathbb{Z^+}$\n",
        "* How many $K$ are there?"
      ],
      "metadata": {
        "id": "swAo_mRHT6sp"
      }
    },
    {
      "cell_type": "markdown",
      "source": [
        "###Solution\n",
        "\n",
        "$\\text{Ans:} \\,\\Sigma_{i=0}^{100}\\binom{i+10-1}{10-1}$"
      ],
      "metadata": {
        "id": "SS1Nm1oGT8eo"
      }
    },
    {
      "cell_type": "markdown",
      "source": [
        "***\n",
        "##Exercise No. 5\n",
        "* $x,y,z\\in\\mathbb{Z^+}$\n",
        "* How many solution of $x+y+z=17$"
      ],
      "metadata": {
        "id": "u_GkrAzKVk0v"
      }
    },
    {
      "cell_type": "markdown",
      "source": [
        "###Solution\n",
        "\n",
        "$\\binom{17+3-1}{3-1}$"
      ],
      "metadata": {
        "id": "OPYqr_OjVztQ"
      }
    },
    {
      "cell_type": "markdown",
      "source": [
        "***\n",
        "##Exercise No. 6\n",
        "* How many $x,y\\in\\mathbb{Z}$ such that $0< x< y< 10$ ?"
      ],
      "metadata": {
        "id": "9oH5yK3VWCz5"
      }
    },
    {
      "cell_type": "markdown",
      "source": [
        "###Solution\n",
        "\n",
        "Ans: $\\binom{9}{2}=\\Sigma_{i=1}^8i=\\frac{8*(8+1)}{2}$"
      ],
      "metadata": {
        "id": "UE-C9HZ7WFtJ"
      }
    },
    {
      "cell_type": "markdown",
      "source": [
        "***\n",
        "##Exercise No. 7\n",
        "* How many possible solutions of $w,x,y,z\\in\\mathbb{Z}$ such that $0< w< x< y< z< 10$ ?"
      ],
      "metadata": {
        "id": "QcVu7tfqX1nK"
      }
    },
    {
      "cell_type": "markdown",
      "source": [
        "###Solution\n",
        "\n",
        "* $[0,w,0,0,x,y,0,z,0]$\n",
        "* $[1,2,3,4,5,6,7,8,9]$\n",
        "\n",
        "Ans: $\\binom{9}{4}$"
      ],
      "metadata": {
        "id": "rL_amYqvYA83"
      }
    },
    {
      "cell_type": "markdown",
      "source": [
        "***\n",
        "##Exercise No.8\n",
        "* How many $x,y\\in\\mathbb{Z}$ such that $0\\leq x\\leq y\\leq10$ ?"
      ],
      "metadata": {
        "id": "pI5WK5dkW-ns"
      }
    },
    {
      "cell_type": "markdown",
      "source": [
        "###Solution\n",
        "\n",
        "Ans: $\\binom{11}{2}+11=\\Sigma_{i=1}^{11}i=\\frac{11*(11+1)}{2}=\\binom{11-1+2}{2}$"
      ],
      "metadata": {
        "id": "S4MHwby8Yh8I"
      }
    },
    {
      "cell_type": "markdown",
      "source": [
        "***\n",
        "##Exercise No. 9\n",
        "* How many $w,x,y,z\\in\\mathbb{Z}$ such that $0\\leq w\\leq x\\leq y\\leq z\\leq 10$ ?"
      ],
      "metadata": {
        "id": "yniiZdvAZuqd"
      }
    },
    {
      "cell_type": "markdown",
      "source": [
        "###Solution\n",
        "\n",
        "* $[\\_,\\_,w,x,...,\\_]$\n",
        "* $[\\_,\\_,2,2,...,\\_]$\n",
        "* $[\\_,\\_,w,\\_,x,...]$\n",
        "* $[\\_,\\_,2,\\_,3,...]$\n",
        "\n",
        "\n",
        "Ans: $\\binom{10+4}{4}$"
      ],
      "metadata": {
        "id": "qk3sH1CgZydj"
      }
    },
    {
      "cell_type": "markdown",
      "source": [
        "***\n",
        "##Exercise No.10\n",
        "\n",
        "* Number of possible arrangements of [m,i,c,h,a,e,l]\n",
        "\n"
      ],
      "metadata": {
        "id": "qFdmmndJR4Ta"
      }
    },
    {
      "cell_type": "markdown",
      "source": [
        "###Solution\n",
        "\n",
        "Ans: $7!$"
      ],
      "metadata": {
        "id": "jCfe9LtIdzg1"
      }
    },
    {
      "cell_type": "markdown",
      "source": [
        "***\n",
        "##Exercise No.11\n",
        "\n",
        "* Number of all possible arrangement of [p,e,n,n]"
      ],
      "metadata": {
        "id": "cl-dihhKeBHO"
      }
    },
    {
      "cell_type": "markdown",
      "source": [
        "###Solution\n",
        "\n",
        "Ans: $\\binom{4}{2}2!$"
      ],
      "metadata": {
        "id": "i1U7vlvLeIYp"
      }
    },
    {
      "cell_type": "markdown",
      "source": [
        "***\n",
        "#Multinomial Coefficient\n",
        "\n",
        "Given that\n",
        "* $|K|=k$\n",
        "* $K$ is multisets that have elements with multiplicities $\\{m_1,m_2,...,m_r|\\Sigma_{i=1}^rm_i=k\\land r\\geq2\\land m\\in\\mathbb{Z^+}\\}$\n",
        " * e.g.\n",
        " * $K=[1,1,1,2,3,4,4],M=\\{m_1:3,m_2:1,m_3:1,m_4:2\\}$\n",
        " * $K=[1,1,1,2,2,3,3],M=\\{m_1:3,m_2:2,m_3:2\\}$\n",
        " * etc.  \n",
        "\n",
        "If all of the elements in $K$ is unique\n",
        "* $\\therefore$ There are $k!$ unique permutations of $K$\n",
        "\n",
        "If some elements in $K$ are duplicate\n",
        "* $\\therefore $ There are $\\binom{k}{m_1,m_2,...,m_r}=\\frac{k!}{m_1!*m_2!*...*m_r!}$ number of all permutations of $K$\n",
        "* Because there are $m_i!$ possible permutation for each duplicate elements with multiple of $m_i$, and the different order of the duplicate element are identical to each other."
      ],
      "metadata": {
        "id": "yPYB_miTEZEA"
      }
    },
    {
      "cell_type": "markdown",
      "source": [
        "***\n",
        "##Exercise No.1:\n",
        "* How many 4 digit possitive integers are there with no repeated digits or if there are repeated digits, all of the digits are odd?\n"
      ],
      "metadata": {
        "id": "6J25B_fDgAKb"
      }
    },
    {
      "cell_type": "markdown",
      "source": [
        "###Solution\n",
        "\n",
        "If the integers are even number\n",
        "* There are $5*4*3*2-4*3*2=5*4!-4!=(5-1)*4!=4*4!$ integers.\n",
        "\n",
        "If the integers are odd number\n",
        "* There are $5^4$ integers\n",
        "\n",
        "If the integers are even or odd number\n",
        "* There are $4*4!+5^4$ integers"
      ],
      "metadata": {
        "id": "_A2uPyzngEZU"
      }
    },
    {
      "cell_type": "markdown",
      "source": [
        "***\n",
        "##Exercise No.2\n",
        "* How many 6-digits integers are even or divisible by 5?"
      ],
      "metadata": {
        "id": "gouk7-RpUkpr"
      }
    },
    {
      "cell_type": "markdown",
      "source": [
        "###Solution\n",
        "\n",
        "Case 1: even 6-digit integers\n",
        "* $9*10^4*5$\n",
        "\n",
        "Case 2: 6-digits integer divisible by 5\n",
        "* $9*10^4*2$\n",
        "\n",
        "Case 3: Both\n",
        "* $9*10^4$\n",
        "\n",
        "Ans: $9*10^4(5+2-1)=9*10^4*6$\n"
      ],
      "metadata": {
        "id": "S_X-7SikUokj"
      }
    },
    {
      "cell_type": "markdown",
      "source": [
        "***\n",
        "##Exercise No.3\n",
        "* How many solution of $w,x,y,z$ ? given that\n",
        " * $w,x,y,z\\in\\mathbb{Z}$\n",
        " * $w+x+y+z=10$\n",
        " * $w\\geq5$\n",
        " * $x\\geq1$\n",
        " * $y,z\\geq0$"
      ],
      "metadata": {
        "id": "sSFVFaUsVagY"
      }
    },
    {
      "cell_type": "markdown",
      "source": [
        "###Solution\n",
        "\n",
        "Given that\n",
        "* $w\\geq 5$\n",
        "* $w-5\\geq 0$\n",
        "\n",
        "Define\n",
        "* $\\hat{w}\\geq 0$\n",
        "* $\\hat{w}+5\\geq 5$\n",
        "* $\\hat{x}\\geq 0$\n",
        "* $\\hat{x}+1\\geq 1$\n",
        "\n",
        "Implies that\n",
        "* $10=\\hat{w}+\\hat{x}+y+z+5+1$\n",
        "* $4=\\hat{w}+\\hat{x}+y+z$\n",
        "\n",
        "Answer: $\\binom{4+4-1}{4-1}=\\binom{7}{3}$\n",
        "\n",
        "\n",
        "\n",
        "\n",
        "\n"
      ],
      "metadata": {
        "id": "gSyqgrh0VpLV"
      }
    },
    {
      "cell_type": "markdown",
      "source": [
        "***\n",
        "#Reference:\n",
        "* https://youtu.be/Uit6j65RiSc?si=SeY1wTveJJBw3Rnw"
      ],
      "metadata": {
        "id": "_QS49MuCw46M"
      }
    }
  ]
}