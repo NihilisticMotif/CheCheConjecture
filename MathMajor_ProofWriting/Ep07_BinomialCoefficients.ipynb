{
  "nbformat": 4,
  "nbformat_minor": 0,
  "metadata": {
    "colab": {
      "provenance": [],
      "authorship_tag": "ABX9TyOWy6q1Ah/3+Hh87kH8ny4z",
      "include_colab_link": true
    },
    "kernelspec": {
      "name": "python3",
      "display_name": "Python 3"
    },
    "language_info": {
      "name": "python"
    }
  },
  "cells": [
    {
      "cell_type": "markdown",
      "metadata": {
        "id": "view-in-github",
        "colab_type": "text"
      },
      "source": [
        "<a href=\"https://colab.research.google.com/github/NihilisticMotif/CheCheConjecture/blob/main/MathMajor_ProofWriting/Ep07_BinomialCoefficients.ipynb\" target=\"_parent\"><img src=\"https://colab.research.google.com/assets/colab-badge.svg\" alt=\"Open In Colab\"/></a>"
      ]
    },
    {
      "cell_type": "markdown",
      "source": [
        "##Binomial Coefficients\n",
        "\n",
        "##Formula\n",
        "* $\\binom{n}{k}=\\frac{n!}{k!(n-k)!},0\\leq k\\leq n$\n",
        "\n",
        "##Idea\n",
        "\n",
        "###Given that\n",
        "* $N=\\{n_1,n_2,...,n_n\\}$\n",
        " * $n=|N|$\n",
        "* $S=(n_1,n_2,...,n_s),n_i\\neq n_j$\n",
        " * $s=|S|\\leq n$\n",
        "* $\\therefore $ number of all possible list of $S=n(n-1)(...)(n-s+1)=\\frac{n(n-1)(...)(n-s+1)(n-s)(...)(1)}{(n-s)(n-s-1)(...)(1)}=\\frac{n!}{(n-s)!}$\n",
        "\n",
        "###Given that\n",
        "* $N=\\{n_1,n_2,...,n_n\\}$\n",
        " * $n=|N|$\n",
        "* If 2 sets have same set of elements, both sets are the same set. (The arrangement does not matter)\n",
        " * $K\\subset N$\n",
        " * $k=|K|\\leq n$\n",
        " * $K=\\{n_1,n_2,...,n_k\\}=\\{n_2,n_1,...,n_k\\}$\n",
        " * There are $k!$ possible arrangements of $K$\n",
        "* $\\binom{n}{k}=$ number of all possible set $K$ that $K\\subset N$\n",
        " * $\\therefore \\binom{n}{k}=\\frac{n!}{k!(n-k)!}$\n",
        "\n",
        "##Example\n",
        "\n",
        "* $N=\\{1,2,3,4\\}$\n",
        "* $n=|N|=3$\n",
        "\n",
        "$\\begin{bmatrix}\n",
        "k & \\text{SubSet} & \\binom{n}{k}\\\\\n",
        "0 & \\emptyset & 1\\\\\n",
        "1 & \\{1\\},\\{2\\},\\{3\\},\\{4\\} & 4\\\\\n",
        "2 & \\{1,2\\},\\{1,3\\},\\{1,4\\},\\{2,3\\},\\{2,4\\},\\{3,4\\} & 6\\\\\n",
        "3 & \\{2,3,4\\},\\{1,3,4\\},\\{1,2,4\\},\\{1,2,3\\} & 4\\\\\n",
        "4 & \\{1,2,3,4\\} & 1\\\\\n",
        "k>4 & - & 0\\\\\n",
        "\\end{bmatrix}$"
      ],
      "metadata": {
        "id": "z5-cRjYLbAk2"
      }
    },
    {
      "cell_type": "markdown",
      "source": [
        "###Example No.1\n",
        "\n",
        "How many 6 element subsets of $\\{1,2,...,10\\}$\n",
        "\n",
        "***\n",
        "###Solution\n",
        "\n",
        "$\\binom{10}{6}=\\frac{10!}{6!4!}=\\frac{10*9*8*7}{4*3*2}=10*3*7$"
      ],
      "metadata": {
        "id": "WLBBb2-yeKpm"
      }
    },
    {
      "cell_type": "markdown",
      "source": [
        "###Example No.2\n",
        "\n",
        "How many 6 element subsets of $\\{1,2,...,10\\}$ with 2 or 3 even elements?\n",
        "\n",
        "***\n",
        "###Solution\n",
        "\n",
        "If: $2$ even elements\n",
        "\n",
        "* Number of all length 2 even number sets $=\\binom{5}{2}=\\frac{5!}{2!3!}=10$\n",
        "* Number of all length 4 odd number sets $=\\binom{5}{4}=\\frac{5!}{4!}=5$\n",
        "* Number of the combination of 2 sets $=\\binom{5}{2}*\\binom{5}{4}=50$\n",
        "\n",
        "If: $3$ even elements\n",
        "\n",
        "* Number of all length 3 even number sets $=\\binom{5}{3}=10$\n",
        "* Number of all length 3 0dd number sets $=\\binom{5}{3}=10$\n",
        "* Number of the combination of 2 sets $=\\binom{5}{3}*\\binom{5}{3}=100$\n",
        "\n",
        "If: $2$ or $3$ even elements\n",
        "* Number of all sets $=100+50=150$\n"
      ],
      "metadata": {
        "id": "B_sxKrGn5IFC"
      }
    },
    {
      "cell_type": "markdown",
      "source": [
        "##Observation\n",
        "\n",
        "$n,k\\in\\mathbb{N}\\implies\\binom{n+1}{k}=\\binom{n}{k-1}+\\binom{n}{k}$\n",
        "\n",
        "###Direct Calculation\n",
        "\n",
        "$\\frac{(n+1)!}{k!(n+1-k)!}=\\frac{n!}{(k-1)!(n-k+1)!}+\\frac{n!}{k!(n-k)!}$\n",
        "\n",
        "$\\frac{(n+1)!}{k!(n+1-k)!}=n!(\\frac{1}{(k-1)!(n-k+1)(n-k)!}+\\frac{1}{k(k-1)!(n-k)!})$\n",
        "\n",
        "$\\frac{(n+1)!}{k!(n+1-k)!}=\\frac{n!}{(k-1)!(n-k)!}(\\frac{1}{n-k+1}+\\frac{1}{k})$\n",
        "\n",
        "$\\frac{(n+1)!}{k!(n+1-k)!}=\\frac{n!}{(k-1)!(n-k)!}(\\frac{k+n-k+1}{k(n-k+1)})$\n",
        "\n",
        "$\\frac{(n+1)!}{k!(n+1-k)!}=\\frac{n!}{(k-1)!(n-k)!}(\\frac{n+1}{k(n-k+1)})$\n",
        "\n",
        "$\\frac{(n+1)!}{k!(n+1-k)!}=\\frac{(n+1)n!}{k(k-1)!(n-k+1)(n-k)!}$\n",
        "\n",
        "###Interpretation\n",
        "\n",
        "Given that\n",
        "* $0\\leq k \\leq n$\n",
        "* $N=\\{1,2,3,..,,n-1,n,n+1\\}\\land |N|=n$\n",
        "* $K\\subset N\\land |K|=n$\n",
        "\n",
        "Then\n",
        "* Number of all possible $K=\\binom{n+1}{k}$\n",
        "* Number of all possible $K$ that have $n+1=\\binom{n}{k-1}$\n",
        "* Number of all possible $K$ that does not have $n+1=\\binom{n}{k}$\n",
        "* $\\therefore \\binom{n+1}{k}=\\binom{n}{k-1}+\\binom{n}{k}$\n",
        "\n",
        "\n",
        "\n"
      ],
      "metadata": {
        "id": "Teo1l4doQtW9"
      }
    },
    {
      "cell_type": "markdown",
      "source": [
        "##Binomial Theorem\n",
        "\n",
        "$(x+y)^n=\\sum_{k=0}^n\\binom{n}{k}x^ky^{n-k}=\\sum_{k=0}^n\\frac{n!}{k!(n-k)!}x^ky^{n-k}$\n",
        "\n",
        "##Proof\n",
        "\n",
        "If: $n=1$\n",
        "\n",
        "$\\frac{1!}{0!1!}x^0y^1+\\frac{1!}{1!0!}x^1y^0=(x+y)^1$\n",
        "\n",
        "If: $n=j$\n",
        "\n",
        "$(x+y)^j=\\sum_{k=0}^j\\frac{j!}{k!(j-k)!}x^ky^{j-k}=\\sum_{k=0}^j\\binom{j}{k}x^ky^{j-k}$\n",
        "\n",
        "If: $n=j+1$\n",
        "\n",
        "$(x+y)^{j+1}=(x+y)^j(x+y)$\n",
        "\n",
        "$(x+y)^{j+1}=(\\sum_{k=0}^j\\binom{j}{k}x^ky^{j-k})(x+y)$\n",
        "\n",
        "$(x+y)^{j+1}=\\sum_{k=0}^j\\binom{j}{k}[x^{k+1}y^{j-k}+x^ky^{j-k+1}]$\n",
        "\n",
        "$(x+y)^{j+1}=xy^{j}+y^{j+1}+x^{j+1}+x^jy+\\sum_{k=1}^{j-1}\\binom{j-1}{k}[x^{k+1}y^{j-k}+x^ky^{j-k+1}]$\n",
        "\n",
        "$(x+y)^{j+1}=xy^{j}+y^{j+1}+x^{j+1}+x^jy+\\sum_{k=1}^{j-1}[\\binom{j-1}{k}[x^{k+1}y^{j-k}]+ \\sum_{k=1}^{j-1} [x^ky^{j-k+1}]$\n",
        "\n",
        "\n",
        "\n",
        "\n",
        "Given that\n",
        "* $\\binom{n+1}{k}=\\binom{n}{k-1}+\\binom{n}{k}$\n",
        "\n",
        "\n",
        "\n"
      ],
      "metadata": {
        "id": "4q8PsWoFEZSP"
      }
    },
    {
      "cell_type": "markdown",
      "source": [
        "##Binomial Theorem\n",
        "\n",
        "$(x+y)^n=\\sum_{k=0}^n\\binom{n}{k}x^ky^{n-k}=\\sum_{k=0}^n\\frac{n!}{k!(n-k)!}x^ky^{n-k}$\n",
        "\n",
        "##Proof\n",
        "\n",
        "If: $n=1$\n",
        "\n",
        "$\\frac{1!}{0!1!}x^0y^1+\\frac{1!}{1!0!}x^1y^0=(x+y)^1$\n",
        "\n",
        "If: $n=j$\n",
        "\n",
        "$(x+y)^j=\\sum_{k=0}^j\\frac{j!}{k!(j-k)!}x^ky^{j-k}=\\sum_{k=0}^j\\binom{j}{k}x^ky^{j-k}$\n",
        "\n",
        "If: $n=j+1$\n",
        "\n",
        "$(x+y)^{j+1}=\\sum_{k=0}^{j+1}\\frac{(j+1)!}{k!(j+1-k)!}x^ky^{j+1-k}$\n",
        "\n",
        "$(x+y)^{j+1}=(x+y)^j(x+j)$\n",
        "\n",
        "\n",
        "$\\therefore \\sum_{k=0}^{j+1}\\binom{j+1}{k}x^ky^{j+1-k}=\\sum_{k=0}^j[\\binom{j}{k}x^ky^{j-k}](x+y)$\n",
        "\n",
        "$\\sum_{k=0}^{j+1}\\binom{j+1}{k}x^ky^{j+1-k}=\\sum_{k=0}^j\\binom{j}{k}x^{k+1}y^{j-k}+\\sum_{k=0}^j\\binom{j}{k}x^{k}y^{j-k+1}$\n",
        "\n",
        "$\\sum_{k=0}^{j+1}\\binom{j+1}{k}x^ky^{j+1-k}=\\binom{j}{j}x^{j+1}y^0+\\sum_{k=0}^{j-1}\\binom{j}{k}x^{k+1}y^{j-k}+\\binom{j}{0}x^0y^{j+1}+\\sum_{k=1}^j\\binom{j}{k}x^{k}y^{j-k+1}$\n",
        "\n",
        "$\\sum_{k=0}^{j+1}\\binom{j+1}{k}x^ky^{j+1-k}=\\binom{j}{j}x^{j+1}y^0+\\binom{j}{0}x^0y^{j+1}+\\sum_{k=0}^{j-1}\\binom{j}{k}x^{k+1}y^{j-k}+\\sum_{k=1}^j\\binom{j}{k}x^{k}y^{j-k+1}$\n",
        "\n",
        "$\\sum_{k=0}^{j+1}\\binom{j+1}{k}x^ky^{j+1-k}=\\binom{j}{j}x^{j+1}y^0+\\binom{j}{0}x^0y^{j+1}+\\sum_{k=0}^{j-1}\\binom{j}{k}x^{k+1}y^{j-k}+\\sum_{k=0}^{j-1}\\binom{j}{k+1}x^{k+1}y^{j-k}$\n",
        "\n",
        "$\\sum_{k=0}^{j+1}\\binom{j+1}{k}x^ky^{j+1-k}=\\binom{j}{j}x^{j+1}y^0+\\binom{j}{0}x^0y^{j+1}+\\sum_{k=0}^{j-1}(\\binom{j}{k}+\\binom{j}{k+1})x^{k+1}y^{j-k}$\n",
        "\n",
        "$\\sum_{k=0}^{j}\\binom{j+1}{k}x^ky^{j+1-k}+\\binom{j+1}{j+1}x^{j+1}y^0=\\binom{j}{j}x^{j+1}y^0+\\binom{j}{0}x^0y^{j+1}+\\sum_{k=0}^{j-1}(\\binom{j}{k}+\\binom{j}{k+1})x^{k+1}y^{j-k}$\n",
        "\n",
        "$\\sum_{k=1}^{j}\\binom{j+1}{k}x^ky^{j+1-k}+\\binom{j+1}{j+1}x^{j+1}y^0+\\binom{j+1}{0}x^0y^{j+1}=\\binom{j}{j}x^{j+1}y^0+\\binom{j}{0}x^0y^{j+1}+\\sum_{k=0}^{j-1}(\\binom{j}{k}+\\binom{j}{k+1})x^{k+1}y^{j-k}$\n",
        "\n",
        "$\\sum_{k=0}^{j-1}\\binom{j+1}{k+1}x^{k+1}y^{j-k}+\\binom{j+1}{j+1}x^{j+1}y^0+\\binom{j+1}{0}x^0y^{j+1}=\\binom{j}{j}x^{j+1}y^0+\\binom{j}{0}x^0y^{j+1}+\\sum_{k=0}^{j-1}(\\binom{j}{k}+\\binom{j}{k+1})x^{k+1}y^{j-k}$\n",
        "\n",
        "\n",
        "According to Binomial: $\\binom{n+1}{k}=\\binom{n}{k-1}+\\binom{n}{k}$\n",
        "* $\\therefore\\binom{j+1}{k+1}=\\binom{j}{k}+\\binom{j}{k+1}$\n",
        "\n",
        "$\\therefore \\sum_{k=0}^{j+1}\\frac{(j+1)!}{k!(j+1-k)!}x^ky^{j+1-k}= \\sum_{k=0}^j\\frac{j!}{k!(j-k)!}x^ky^{j-k}*(x+y)$\n",
        "\n",
        "\n",
        "\n",
        "\n",
        "\n",
        "\n",
        "\n",
        "\n"
      ],
      "metadata": {
        "id": "wxYG7xdFZ2Yb"
      }
    },
    {
      "cell_type": "markdown",
      "source": [
        "##Exercise"
      ],
      "metadata": {
        "id": "dUK2eFA3tSQx"
      }
    },
    {
      "cell_type": "markdown",
      "source": [
        "###Exercise No.1\n",
        "\n",
        "Given that:\n",
        "* $A=\\{1,2,...,12\\}$\n",
        "* $B=\\{x\\in\\mathcal{P}(A)||x|=6\\}|$\n",
        "* $|B|=?$\n",
        "\n",
        "***\n",
        "###Solution\n",
        "\n",
        "$|B|=\\binom{12}{6}$"
      ],
      "metadata": {
        "id": "VVtT-z2ytV0s"
      }
    },
    {
      "cell_type": "markdown",
      "source": [
        "###Exercise No.2\n",
        "\n",
        "There are $165$ three element subsets of a set $A$. What is $|A|$ ?\n",
        "\n",
        "***\n",
        "###Solution\n",
        "\n",
        "$\\binom{|A|}{3}=165$\n",
        "\n",
        "$\\frac{|A|!}{(|A|-3)!}=3*5*11*3*2$\n",
        "\n",
        "$\\frac{|A|!}{(|A|-3)!}=11*10*9$\n",
        "\n",
        "$|A|(|A|-1)(|A|-2)=11*10*9$\n",
        "\n",
        "$\\therefore |A|=11$"
      ],
      "metadata": {
        "id": "RDWovKoNJ12l"
      }
    },
    {
      "cell_type": "markdown",
      "source": [
        "###Exercise No.3\n",
        "\n",
        "Eight people are to be seated around a table. A and B cannot sit next to each other. How many seat arrangement are possible?\n",
        "\n",
        "***\n",
        "###Solution\n",
        "\n",
        "$5*6!$\n",
        "\n"
      ],
      "metadata": {
        "id": "lfjxSRiUNuu_"
      }
    },
    {
      "cell_type": "markdown",
      "source": [
        "###Exercise No.4\n",
        "\n",
        "How many arrangement of 8 rooks in 10x10 chess board, such that 2 rooks cannot attack each other in a move?\n",
        "\n",
        "***\n",
        "###Solution\n",
        "\n",
        "How many row (x-axis space) arrangements of 8 rooks?\n",
        "* $\\frac{10!}{(10-8)!}=\\frac{10!}{2}$\n",
        "\n",
        "How many column (y-axis space) arrangements of 8 rooks?\n",
        "* $\\binom{10}{2}=\\frac{10!}{2*8!}$\n",
        "\n",
        "How many arrangement of 8 rooks?\n",
        "* $\\frac{10!}{2}*\\frac{10!}{2*8!}=3^4*5^2*8!$"
      ],
      "metadata": {
        "id": "ULXt5QknRanZ"
      }
    },
    {
      "cell_type": "markdown",
      "source": [
        "###Exercise No.5\n",
        "\n",
        "What is coefficient of $x^5y^4$ in $(x+y)^9$?\n",
        "\n",
        "***\n",
        "###Solution\n",
        "\n",
        "$\\binom{9}{5}$"
      ],
      "metadata": {
        "id": "GbFzoOsSVXMJ"
      }
    },
    {
      "cell_type": "markdown",
      "source": [
        "###Exercise No.6\n",
        "\n",
        "Show that\n",
        "* $\\Sigma_{k=0}^n(-2)^k\\binom{n}{k}=(-1)^n$\n",
        "\n",
        "***\n",
        "###Solution\n",
        "\n",
        "According to Binomial Theorem\n",
        "* $(x+y)^n=\\Sigma_{k=0}^n\\binom{n}{k}x^ky^{n-k}$\n",
        "\n",
        "$\\therefore (1-2)^n=(-1)^n=\\Sigma_{k=0}^n\\binom{n}{k}(-2)^k$"
      ],
      "metadata": {
        "id": "fz8lUElBllj8"
      }
    },
    {
      "cell_type": "markdown",
      "source": [
        "###Exercise No.7\n",
        "\n",
        "Show that\n",
        "* $\\Sigma_{k=0}^n(-3)^{k}5^{n-k}\\binom{n}{k}=\\Sigma_{k=0}^n\\binom{n}{k}$\n",
        "\n",
        "***\n",
        "###Solution\n",
        "\n",
        "Given that\n",
        "* $\\Sigma_{k=0}^n(-3)^{k}5^{n-k}\\binom{n}{k}=(5-3)^n=2^n$\n",
        "* $\\Sigma_{k=0}^n\\binom{n}{k}=\\binom{n}{0}+\\binom{n}{1}+...\\binom{n}{n-1}+\\binom{n}{n}=2^n$\n",
        "\n",
        "$\\therefore \\Sigma_{k=0}^n(-3)^{k}5^{n-k}\\binom{n}{k}=\\Sigma_{k=0}^n\\binom{n}{k}$\n",
        "\n",
        "\n"
      ],
      "metadata": {
        "id": "pBy79EYkmUCT"
      }
    },
    {
      "cell_type": "markdown",
      "source": [
        "##**Reference:**\n",
        "* https://youtu.be/Ysx1uK4rfEU?si=KjhI6nWtl8vliiuE"
      ],
      "metadata": {
        "id": "cMJ7xvQirlqv"
      }
    }
  ]
}