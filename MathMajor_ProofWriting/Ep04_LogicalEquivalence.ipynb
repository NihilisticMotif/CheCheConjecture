{
  "nbformat": 4,
  "nbformat_minor": 0,
  "metadata": {
    "colab": {
      "provenance": [],
      "authorship_tag": "ABX9TyN4fbjivngHudtsXxKuZGpp",
      "include_colab_link": true
    },
    "kernelspec": {
      "name": "python3",
      "display_name": "Python 3"
    },
    "language_info": {
      "name": "python"
    }
  },
  "cells": [
    {
      "cell_type": "markdown",
      "metadata": {
        "id": "view-in-github",
        "colab_type": "text"
      },
      "source": [
        "<a href=\"https://colab.research.google.com/github/NihilisticMotif/CheCheConjecture/blob/main/MathMajor_ProofWriting/Ep04_LogicalEquivalence.ipynb\" target=\"_parent\"><img src=\"https://colab.research.google.com/assets/colab-badge.svg\" alt=\"Open In Colab\"/></a>"
      ]
    },
    {
      "cell_type": "markdown",
      "source": [
        "##Implies Operation\n",
        "\n",
        "$\\{P\\implies Q\\}\\neq\\{Q\\implies P\\}$\n",
        "\n",
        "##Bi Conditional\n",
        "\n",
        "$\\{\\{P\\implies Q\\}\\land\\{Q\\implies P\\}\\}\\implies \\{P\\iff Q\\}$\n",
        "\n",
        "##Truth Table\n",
        "\n",
        "$\\begin{bmatrix}\n",
        "P & Q & P\\implies Q & P\\iff Q\\\\\n",
        "T & T & T & T\\\\\n",
        "T & F & T & F\\\\\n",
        "F & T & F & F\\\\\n",
        "F & F & T & T\\\\\n",
        "\\end{bmatrix}$\n",
        "\n",
        "##Logical Calculus\n",
        "\n",
        "Idea: every statement can be build from $\\land,\\lor,\\sim$"
      ],
      "metadata": {
        "id": "vhHbRH5ezxyl"
      }
    },
    {
      "cell_type": "markdown",
      "source": [
        "###Example No.1\n",
        "\n",
        "* $P:x\\in\\mathbb{N}$\n",
        "* $Q:x\\in\\mathbb{R}$\n",
        "\n",
        "$P\\implies Q:T$\n",
        "* If 3 is natural number, 3 is also real number\n",
        "* True\n",
        "\n",
        "$Q\\implies P:F$\n",
        "* If e is real number, e is also natural number\n",
        "* False"
      ],
      "metadata": {
        "id": "n227MmpX3UCF"
      }
    },
    {
      "cell_type": "markdown",
      "source": [
        "###Example No.2\n",
        "\n",
        "One of P and Q is true, but both is not true\n",
        "\n",
        "$(P\\lor Q)\\land \\sim(P\\land Q)$"
      ],
      "metadata": {
        "id": "82QPoy7Q3W7k"
      }
    },
    {
      "cell_type": "markdown",
      "source": [
        "###Example No.3\n",
        "\n",
        "$xy=0$ if $x=0$ or $y=0$\n",
        "\n",
        "* $P:x=0$\n",
        "* $Q:y=0$\n",
        "* $R:xy=0$\n",
        "\n",
        "$(P\\lor Q)\\iff R$"
      ],
      "metadata": {
        "id": "l9QmrLgA5Aqn"
      }
    },
    {
      "cell_type": "markdown",
      "source": [
        "###Example No.4\n",
        "\n",
        "$P\\iff Q$\n",
        "\n",
        "$(P\\implies Q)\\land(Q\\implies P)$\n",
        "\n",
        "$(P\\land Q)\\lor (\\sim P\\land \\sim Q)$"
      ],
      "metadata": {
        "id": "jQNatJvi54Jh"
      }
    },
    {
      "cell_type": "markdown",
      "source": [
        "***\n",
        "##Logical Rule\n",
        "\n",
        "**Commutativity Rule**\n",
        "* $\\{P\\land Q\\}=\\{Q\\land P\\}$\n",
        "* $\\{P\\lor Q \\}=\\{Q\\lor P \\}$\n",
        "\n",
        "**Associativity Rule**\n",
        "* $\\{P\\land(Q\\land R)\\}=\\{(P\\land Q)\\land R\\}$\n",
        "* $\\{P\\lor (Q\\lor  R)\\}=\\{(P\\lor Q)\\lor R\\}$\n",
        "\n",
        "**Distribution Rule**\n",
        "* $\\{P\\land(Q\\lor R)\\}=\\{(P\\land Q)\\lor(P\\land R)$\n",
        "* $\\{P\\lor(Q\\land R)\\}=\\{(P\\lor Q)\\land(P\\lor R)$\n",
        "\n",
        "**Contrapositive**\n",
        "* $\\{P\\implies Q\\}=\\{\\sim Q\\implies\\sim P\\}$\n",
        "\n",
        "**Demorgan Law**\n",
        "* $\\{\\sim(P\\land Q)\\}=\\{\\sim P\\lor \\sim Q\\}$\n",
        "* $\\{\\sim(P\\lor Q)\\}=\\{\\sim P\\land \\sim Q\\}$"
      ],
      "metadata": {
        "id": "CEyL-2kD7ak7"
      }
    },
    {
      "cell_type": "markdown",
      "source": [
        "***\n",
        "###Reference\n",
        "* https://youtu.be/H7hYAXFG7tY?si=lkA9i1ERgfuYPWR2"
      ],
      "metadata": {
        "id": "NaTFDKu7eexs"
      }
    }
  ]
}