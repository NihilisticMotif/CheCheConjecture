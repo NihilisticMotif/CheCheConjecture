{
  "nbformat": 4,
  "nbformat_minor": 0,
  "metadata": {
    "colab": {
      "provenance": [],
      "authorship_tag": "ABX9TyOey+And5Q96wEfnL2qyQnA",
      "include_colab_link": true
    },
    "kernelspec": {
      "name": "python3",
      "display_name": "Python 3"
    },
    "language_info": {
      "name": "python"
    }
  },
  "cells": [
    {
      "cell_type": "markdown",
      "metadata": {
        "id": "view-in-github",
        "colab_type": "text"
      },
      "source": [
        "<a href=\"https://colab.research.google.com/github/NihilisticMotif/CheCheConjecture/blob/main/MathMajor_ProofWriting/Ep03_MathematicalStatement.ipynb\" target=\"_parent\"><img src=\"https://colab.research.google.com/assets/colab-badge.svg\" alt=\"Open In Colab\"/></a>"
      ]
    },
    {
      "cell_type": "markdown",
      "source": [
        "##Statement\n",
        "* Statement is a sentence that either true or false.\n",
        "* Open sentence is the statement that have the truth value which depending on its input.\n",
        "\n",
        "**Example of true statement**\n",
        "* $P:1\\in\\mathbb{N}$\n",
        "* $Q:1+1=2$\n",
        "\n",
        "**Example of false statement**\n",
        "* $P:\\sqrt{2}\\in\\mathbb{Q}$\n",
        "* $Q:\\mathbb{Z}$ is a finite set\n",
        "\n",
        "**Example of Open sentence**\n",
        "* $R(x):x\\in\\mathbb{N}$\n",
        "* $P(f,g,x):f(x)=g'(x)$"
      ],
      "metadata": {
        "id": "7rpbG8aJiYF4"
      }
    },
    {
      "cell_type": "markdown",
      "source": [
        "***\n",
        "##Operation\n",
        "\n",
        "* $P\\land Q$ = $P$ and $Q$\n",
        "* $P\\lor Q$ = $P$ or $Q$\n",
        "* $\\sim P=$ not $P$\n",
        "* $P\\implies Q=$ If $P$ then $Q$\n",
        "\n",
        "***\n",
        "##Truth Table\n",
        "\n",
        "$\\begin{bmatrix}\n",
        "P & Q & P\\land Q & P\\lor Q & P\\implies Q\\\\\n",
        "T & T & T & T & T\\\\\n",
        "T & F & F & T & T\\\\\n",
        "F & T & F & T & F\\\\\n",
        "F & F & F & F & T\\\\\n",
        "\\end{bmatrix}$\n",
        "\n",
        "$\\begin{bmatrix}\n",
        "P & \\sim P\\\\\n",
        "T & F\\\\\n",
        "F & T\\\\\n",
        "\\end{bmatrix}$\n"
      ],
      "metadata": {
        "id": "VyBL8wOWk24F"
      }
    },
    {
      "cell_type": "markdown",
      "source": [
        "***\n",
        "###Example No.1\n",
        "\n",
        "Given that:\n",
        "* $P:2\\in\\mathbb{N}:T$\n",
        "* $Q:e\\in\\mathbb{N}:F$\n",
        "* $R:x\\in\\mathbb{R}\\implies |\\sin(x)|\\leq1:T$\n",
        "\n",
        "$P\\land Q:$ $2,e\\in\\mathbb{N}:F$\n",
        "\n",
        "$P\\lor Q:$ $\\{x\\in\\mathbb{N}|x\\in\\{2,e\\}\\}:T$\n",
        "\n",
        "$P\\land R:T$\n"
      ],
      "metadata": {
        "id": "UvdikMkprNDi"
      }
    },
    {
      "cell_type": "markdown",
      "source": [
        "***\n",
        "###Example No.2\n",
        "\n",
        "Given that:\n",
        "* $15|x\\implies 5|x\\land 3|x$\n",
        "\n"
      ],
      "metadata": {
        "id": "x7KhmD-etTmg"
      }
    },
    {
      "cell_type": "markdown",
      "source": [
        "***\n",
        "##Implies $\\implies$\n",
        "* $P\\implies Q$\n",
        "\n",
        "Given that\n",
        "* $S=\\{\\{0,1,2,...,a\\},s_2,s_3,...\\}$\n",
        "* $s_1=\\{0,1,2,...,a\\}$\n",
        "* All A is B. (There is no such thing that is A, but not B.)\n",
        "\n",
        "Implies that\n",
        "* $x\\in s_1\\implies x\\in S$ is True\n",
        " * X is A. X is B.\n",
        "* $x\\not\\in s_1\\implies x\\in S$ is True\n",
        " * X is not A. X is B\n",
        "* $x\\not\\in s_1\\implies x\\not\\in S$ is True\n",
        " * X is not A and B\n",
        "* $x\\in s_1\\implies x\\not\\in S$ is False\n",
        " * X is A, but not B.\n",
        "\n",
        "Reference\n",
        "* https://youtu.be/JVjv0CCzHok?si=pmgFccEGynn7Mybq"
      ],
      "metadata": {
        "id": "A3Tp_Kz-PAmi"
      }
    },
    {
      "cell_type": "markdown",
      "source": [
        "***\n",
        "##Reference\n",
        "* https://youtu.be/rV7J7CbTou8?si=yqRJHI713DeHqkMO"
      ],
      "metadata": {
        "id": "1gihDlsUf6gb"
      }
    }
  ]
}