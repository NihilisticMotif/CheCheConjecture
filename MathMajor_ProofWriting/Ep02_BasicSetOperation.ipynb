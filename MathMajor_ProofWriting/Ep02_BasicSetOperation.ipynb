{
  "nbformat": 4,
  "nbformat_minor": 0,
  "metadata": {
    "colab": {
      "provenance": [],
      "authorship_tag": "ABX9TyPHmgeufQwLwKJAP4LmY0/m",
      "include_colab_link": true
    },
    "kernelspec": {
      "name": "python3",
      "display_name": "Python 3"
    },
    "language_info": {
      "name": "python"
    }
  },
  "cells": [
    {
      "cell_type": "markdown",
      "metadata": {
        "id": "view-in-github",
        "colab_type": "text"
      },
      "source": [
        "<a href=\"https://colab.research.google.com/github/NihilisticMotif/CheCheConjecture/blob/main/MathMajor_ProofWriting/Ep02_BasicSetOperation.ipynb\" target=\"_parent\"><img src=\"https://colab.research.google.com/assets/colab-badge.svg\" alt=\"Open In Colab\"/></a>"
      ]
    },
    {
      "cell_type": "markdown",
      "source": [
        "##Set Notation\n",
        "\n",
        "Given that both $A$ and $B$ are sets\n",
        "\n",
        "* $A\\cup B=\\{x|x\\in A, x\\in B\\}$\n",
        "* $A\\cap B=\\{x|x\\in A\\land x\\in B\\}$\n",
        "* $A-B=\\{x|x\\in A\\land x\\not\\in B\\}$\n",
        "\n",
        "##Example\n",
        "\n",
        "Given that\n",
        "* $A\\in\\{a,b,c,d\\}$\n",
        "* $B\\in\\{c,d,e\\}$\n",
        "* $C\\in\\{c,f,g\\}$\n",
        "\n",
        "Then\n",
        "* $A\\cap B=\\{c,d\\}$\n",
        "* $B\\cup C=\\{c,d,e,f,g\\}$\n",
        "* $A\\cap(B\\cup C)=\\{c,d\\}$\n",
        "* $A-B=\\{a,b\\}$\n",
        "* $A\\times(B-C)=\\{a,b,c,d\\}\\times\\{d,e\\}=\\{(a,d),(b,d),(c,d),(d,d),(a,e),(b,e),(c,e),(d,e)\\}$\n",
        "* $B-A=\\{e\\}$"
      ],
      "metadata": {
        "id": "LLfvCVCTOsm8"
      }
    },
    {
      "cell_type": "markdown",
      "source": [
        "##Universal Set\n",
        "\n",
        "It is the set that contains every sets we are working with the subset.\n",
        "\n",
        "$\\overline{A}=U-A$\n",
        "\n",
        "##Example\n",
        "\n",
        "* $U=\\{x-1|x\\in\\mathbb{N}\\}=$ set of all positive integer\n",
        "* $B=\\{2^{x-1}|x\\in\\mathbb{N}\\}=$ set of all power of 2\n",
        "* $U-B=\\overline{B}=$ all integer that does not satisfy with the $B$ condition.\n",
        "* $A=\\{2x|x\\in\\mathbb{N}\\}=$ set of all even number\n",
        "* $\\overline{A}\\cap\\overline{B}=\\overline{A\\cup B}$"
      ],
      "metadata": {
        "id": "LU3VprUlQ1pb"
      }
    },
    {
      "cell_type": "markdown",
      "source": [
        "##Index Set\n",
        "\n",
        "For any set $I$ and any element $i\\in I$, we have a set $A_i$\n",
        "\n",
        "$S=\\cap_{i\\in I} A_i=\\{x|x\\in A_i\\land i\\in I\\}$\n",
        "* $S=A_{1}\\cap A_{2}\\cap ... \\cap A_{n}$\n",
        "\n",
        "$S=\\cup_{i\\in I} A_i=\\{x|x\\in A_i\\land i\\in I\\}$\n",
        "* $S=A_{1}\\cup A_{2}\\cup ... \\cup A_{n}$"
      ],
      "metadata": {
        "id": "sR3-ZZCgVsg5"
      }
    },
    {
      "cell_type": "markdown",
      "source": [
        "###Example No.1\n",
        "\n",
        "$I=\\mathbb{N},A_i=\\{2,4,...,2i\\}$\n",
        "* $A_1=\\{2\\}$\n",
        "* $A_4=\\{2,4,6,8\\}$\n",
        "* $A_{8}=\\{2,4,6,8,10,12,14,16\\}$\n",
        "* $\\cap_{i\\in I} A_i=\\{2\\}$\n",
        "* $\\cup_{i\\in I} A_i=\\{2x|x\\in\\mathbb{N}\\}$"
      ],
      "metadata": {
        "id": "dTgd22bCZ5mI"
      }
    },
    {
      "cell_type": "markdown",
      "source": [
        "###Example No.2\n",
        "\n",
        "$I=\\mathbb{N},A_i=\\{i,i+1,...,i^2\\}$\n",
        "* $A_1=\\{1\\}$\n",
        "* $A_4=\\{4,5,...,16\\}$\n",
        "* $A_8=\\{8,9,...,64\\}$\n",
        "* $\\cap_{i\\in I} A_i=\\emptyset$\n",
        "* $\\cup_{i\\in I} A_i=\\mathbb{N}$"
      ],
      "metadata": {
        "id": "qQm-cH93Z8k4"
      }
    },
    {
      "cell_type": "markdown",
      "source": [
        "###Example No.3\n",
        "\n",
        "$I=\\mathbb{Z},A_i=(i-1,i)$\n",
        "\n",
        "* $A_{-1}=(-2,1)$\n",
        "* $A_0=(-1,0)$\n",
        "* $A_1=(0,1)$\n",
        "* $a\\in\\mathbb{Z}\\implies A_a=(a-1,a)$\n",
        "* $\\cap_{i\\in I} A_i=\\emptyset$\n",
        "* $\\cup_{i\\in I} A_i=\\mathbb{R}-\\mathbb{Z}$"
      ],
      "metadata": {
        "id": "oVvOzjW1Z9QY"
      }
    },
    {
      "cell_type": "markdown",
      "source": [
        "###Example No.4\n",
        "\n",
        "$I=\\{x|x\\in\\mathbb{N}\\land x\\leq 100\\},A_i=\\{i,...,3i\\}$\n",
        "\n",
        "* $\\cap_{i\\in 100}A_i=\\emptyset$\n",
        "* $\\cup_{i\\in 100}A_i=\\{1,2,3...,300\\}=\\{x\\in\\mathbb{N}|x\\leq 300\\}$"
      ],
      "metadata": {
        "id": "ir4YwbrAa2ZX"
      }
    },
    {
      "cell_type": "markdown",
      "source": [
        "###Example No.5\n",
        "\n",
        "$I=\\mathbb{R},A_i={i}\\times[0,1]$\n",
        "\n",
        "* $\\cup_{i\\in\\mathbb{R}}\\{i\\}\\times[0,1]=[-\\infty,\\infty]\\times[0,1]$\n",
        "* $\\cap_{i\\in\\mathbb{R}}\\{i\\}\\times[0,1]=\\emptyset$"
      ],
      "metadata": {
        "id": "KG3KrAfkhcJs"
      }
    },
    {
      "cell_type": "markdown",
      "source": [
        "##Well Ordering Principle\n",
        "\n",
        "Every non-empty set of positive integer has a least element\n",
        "\n",
        "##Devision Algorithm\n",
        "\n",
        "* $q,r,a\\in\\mathbb{Z}\\land b\\in\\mathbb{N}$\n",
        "\n",
        "Implies that\n",
        "* $a=bq+r$\n",
        "* $\\gcd(bq+r,b)=\\gcd(r,b)$\n",
        "\n",
        "***\n",
        "###Proof\n",
        "\n",
        "Define\n",
        "* $b=\\hat{b}z$\n",
        "* $r=\\hat{r}z$\n",
        "* $a=mb+r=m\\hat{b}z+\\hat{r}z=(m\\hat{b}+\\hat{r})z$\n",
        "\n",
        "Implies that\n",
        "* $\\gcd((m\\hat{b}+\\hat{r})z,\\hat{b}z)=\\gcd(\\hat{r}z,\\hat{b}z)=z$\n",
        "\n",
        "Therefore\n",
        "* $\\gcd(mb+r,b)=\\gcd(b,r)$\n",
        "\n",
        "***\n",
        "###Reference\n",
        "* https://www.khanacademy.org/computing/computer-science/cryptography/modarithmetic/a/the-euclidean-algorithm"
      ],
      "metadata": {
        "id": "3akZFET3dzeb"
      }
    },
    {
      "cell_type": "markdown",
      "source": [
        "##Russel's Paradox\n",
        "\n",
        "$A=\\{x|x\\not\\in A\\}$\n",
        "\n",
        "###If: $x\\in A$\n",
        "\n",
        "$x\\in A\\implies x\\not\\in A$\n",
        "\n",
        "###If: $x\\not\\in A$\n",
        "\n",
        "$x\\not\\in A\\implies x\\in A$\n"
      ],
      "metadata": {
        "id": "MSfjDpTievdQ"
      }
    },
    {
      "cell_type": "markdown",
      "source": [
        "###Reference\n",
        "* https://youtu.be/mKSYu13YHTs?si=AKP02aGXbiwsoL3p"
      ],
      "metadata": {
        "id": "Yap4MoRRcCMZ"
      }
    }
  ]
}