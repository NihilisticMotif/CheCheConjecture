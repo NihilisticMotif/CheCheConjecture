{
  "nbformat": 4,
  "nbformat_minor": 0,
  "metadata": {
    "colab": {
      "provenance": [],
      "authorship_tag": "ABX9TyO5e/WL1HdHwbUTFNPKF7uO",
      "include_colab_link": true
    },
    "kernelspec": {
      "name": "python3",
      "display_name": "Python 3"
    },
    "language_info": {
      "name": "python"
    }
  },
  "cells": [
    {
      "cell_type": "markdown",
      "metadata": {
        "id": "view-in-github",
        "colab_type": "text"
      },
      "source": [
        "<a href=\"https://colab.research.google.com/github/NihilisticMotif/CheCheConjecture/blob/main/LinearAlgebraDoneRight/Ep01B_VectorSpace.ipynb\" target=\"_parent\"><img src=\"https://colab.research.google.com/assets/colab-badge.svg\" alt=\"Open In Colab\"/></a>"
      ]
    },
    {
      "cell_type": "markdown",
      "source": [
        "#Vector Space"
      ],
      "metadata": {
        "id": "Ri3iC-IBoY3v"
      }
    },
    {
      "cell_type": "markdown",
      "source": [
        "##Definition of Vector Space\n",
        "\n",
        "Definition\n",
        "* $F=\\mathbb{R}\\lor\\mathbb{C}$\n",
        "* $\\forall\\,\\vec{v},\\vec{u},\\vec{w}\\in F^n=V$\n",
        "* $\\forall\\,a,b\\in F$\n",
        "* $a,b=$ scalar value or number\n",
        "* $\\vec{v},\\vec{u},\\vec{w}=$ vector or point\n",
        "* $F=$ field, real or complex number field\n",
        "* $F^n=V=$ vector space over $F$\n",
        "* $F^0=\\{0\\}$\n",
        "\n",
        "Property of Addition\n",
        "* $\\vec{v}+\\vec{u}\\in F^n$\n",
        "* Commutativity: $\\vec{v}+\\vec{u}=\\vec{u}+\\vec{v}$\n",
        "* Associativity: $(\\vec{v}+\\vec{u})+\\vec{w}=\\vec{v}+(\\vec{u}+\\vec{w})$\n",
        "* Additive Identity: $\\vec{v}+\\vec{0}=\\vec{v}$\n",
        "* Additive Inverse: $\\vec{v}+(-\\vec{v})=\\vec{0}$\n",
        "\n",
        "Property of Scalar Multiplication\n",
        "* $a\\vec{v}\\in F^n$\n",
        "* Associativity: $(ab)\\vec{v}=a(b\\vec{v})$\n",
        "* Multiplicative Identity: $1*\\vec{v}=\\vec{v}$\n",
        "\n",
        "Distributive Property\n",
        "* $a(\\vec{v}+\\vec{u})=a\\vec{v}+a\\vec{u}$\n",
        "* $(a+b)\\vec{v}=a\\vec{v}+b\\vec{v}$\n",
        "\n",
        "Reference\n",
        "* https://youtu.be/TgKwz5Ikpc8?si=tK2tChSnIjDCQ_9o\n",
        "* https://link.springer.com/content/pdf/10.1007/978-3-031-41026-0.pdf"
      ],
      "metadata": {
        "id": "BmeQDaxSOqtx"
      }
    },
    {
      "cell_type": "markdown",
      "source": [
        "##Infitite Vector Space\n",
        "\n",
        "$F^{\\infty}=\\{(x_1,x_2,...):x_k\\in F\\}$"
      ],
      "metadata": {
        "id": "yFRco83DtCux"
      }
    },
    {
      "cell_type": "markdown",
      "source": [
        "##Vector Space over the set\n",
        "\n",
        "Definition\n",
        "* $\\forall S=\\text{Set},\\exists\\, F^S=$ Set of Function over $S$\n",
        "\n",
        "Example\n",
        "* $\\forall x\\in S\\land \\forall f(x),g(x)\\in F^S\\,:f(x)+g(x)\\in F^S$\n",
        "* $\\forall a\\in F\\land \\forall x\\in S\\land \\forall f(x)\\in F^S\\,:af(x)\\in F^S$\n",
        "* $S=[x_0,x_1]\\implies \\mathbb{R}^{S}=$ set of real-valued functions on the interval $[x_0,x_1]$\n",
        " * $x_0,x_1\\in\\mathbb{R}\\land x_0 \\leq x_1$\n",
        " * interval = A range of numbers between two points.\n",
        " * range = A set of different things of the same general type\n",
        "\n",
        "Note\n",
        "* $F^n\\subset F^S$\n",
        "* $\\vec{v}=\\{(x_1,...,x_n)|x\\in F\\}\\in F^n$\n",
        "* $\\vec{v}=$ function that use $\\{1,...,n\\}$ as its arguments, and create $\\{x_1,...,x_k\\}$ as its output.\n",
        "* $\\emptyset=$ empty set is not the vector space.\n",
        "\n"
      ],
      "metadata": {
        "id": "hiBNPwX5swAP"
      }
    },
    {
      "cell_type": "markdown",
      "source": [
        "***\n",
        "#Exercise"
      ],
      "metadata": {
        "id": "ZPVwX4lNoaeD"
      }
    },
    {
      "cell_type": "markdown",
      "source": [
        "***\n",
        "##Exercise No.1\n",
        "\n",
        "Suppose\n",
        "* $S\\neq\\emptyset$.\n",
        "* $V^S=$ set of functions from $S$ to $V$.\n",
        "\n",
        "Then\n",
        "1. Define natural addition and scalar multiplication over $V^S$.\n",
        "2. Show that $V^S$ is a vector space."
      ],
      "metadata": {
        "id": "-rAn-uEhz1Ae"
      }
    },
    {
      "cell_type": "markdown",
      "source": [
        "###Solution\n",
        "\n",
        "Define\n",
        "* $a,b,c\\in F$\n",
        "* $S=\\{1,2,...,n\\}$\n",
        "* $V=\\{v_1,v_2,...,v_n\\}$\n",
        "* $U=\\{u_1,u_2,...,u_n\\}$\n",
        "* $W=\\{w_1,w_2,...,w_n\\}$\n",
        "\n",
        "Then\n",
        "* $\\vec{v}=\\{f(x)=v_x|x\\in S\\land v_x\\in V\\}$\n",
        "* $\\vec{u}=\\{f(x)=u_x|x\\in S\\land u_x\\in U\\}$\n",
        "* $\\vec{w}=\\{f(x)=w_x|x\\in S\\land w_x\\in W\\}$\n",
        "* $\\vec{0}=\\{f(x)=0|x\\in S\\}$\n",
        "\n",
        "Given that\n",
        "* $\\vec{v}+\\vec{u}=\\vec{u}+\\vec{v}=\\{f(x)=v_x+u_x|x\\in S\\land v_x\\in V\\land u_x\\in U\\}$\n",
        "* $a\\vec{v}=\\{f(x)=av_x|x\\in S\\land v_x\\in V\\}$\n",
        "\n",
        "According to Vector Space, Vector Space have those properties.\n",
        "* Property of Addition\n",
        " * Commutativity: $\\vec{v}+\\vec{u}=\\vec{u}+\\vec{v}=\\{f(x)=v_x+u_x=u_x+v_x|x\\in S\\land v_x\\in V\\land u_x\\in U\\}$\n",
        " * Associativity: $(\\vec{v}+\\vec{u})+\\vec{w}=\\vec{v}+(\\vec{u}+\\vec{w})=\\{f(x)=(v+u)+w=v+(u+w)|x\\in S\\land v_x\\in V\\land u_x\\in U\\}$\n",
        " * Have additive identity: $\\vec{v}+\\vec{0}=\\{f(x)=v_x+0|x\\in S\\land v_x\\in V\\}$\n",
        " * Have additive inverse: $\\vec{v}-\\vec{v}=\\vec{0}=\\{f(x)=v_x-v_x=0|x\\in S\\land v_x\\in V\\}$\n",
        "* Property of Scalar Multiplication\n",
        " * Associativity: $a(b\\vec{v})=(ab)\\vec{v}=\\{f(x)=a(bv_x)=(ab)v_x|x\\in S\\land v_x\\in V\\}$\n",
        " * Have multiplicative identity: $1\\vec{v}=\\vec{v}=\\{f(x)=v_x=1*v_x|x\\in S\\land v_x\\in V\\}$\n",
        "* Distributive Property:\n",
        " * $a(\\vec{v}+\\vec{u})=a\\vec{v}+a\\vec{u}=\\{f(x)=a(v_x+u_x)=av_x+au_x|x\\in S\\land v_x\\in V\\land u_x\\in U\\}$\n",
        " * $(a+b)\\vec{v}=a\\vec{v}+b\\vec{v}=\\{f(x)=(a+b)v_x=av_x+bv_x|x\\in S\\land v_x\\in V\\}$\n",
        "\n",
        "Therefore\n",
        "* $\\vec{v},\\vec{u},\\vec{w},\\vec{0}\\in F^n$\n",
        "* $\\vec{v},\\vec{u},\\vec{w},\\vec{0}$ are the vector inside vector space.\n",
        "\n",
        "\n",
        "\n"
      ],
      "metadata": {
        "id": "Zhng9wbXz6YK"
      }
    },
    {
      "cell_type": "markdown",
      "source": [
        "***\n",
        "##Exercise No.2\n",
        "\n",
        "Define\n",
        "* $\\infty,-\\infty\\not\\in\\mathbb{R}$\n",
        "* $\\infty,-\\infty\\in\\mathbb{R}\\cup\\{-\\infty,\\infty\\}$\n",
        "* $\\forall x,y\\in\\mathbb{R}\\,:x+y\\in\\mathbb{R}$\n",
        "* $\\forall x,y\\in\\mathbb{R}\\,:xy\\in\\mathbb{R}$\n",
        "* $\\forall t\\in\\mathbb{R}$\n",
        "\n",
        "$\\begin{Bmatrix}\n",
        "t < 0&\\implies &t\\infty&=&-\\infty\\\\\n",
        "t = 0&\\implies &t\\infty&=&0\\\\\n",
        "t > 0&\\implies &t\\infty&=&\\infty\\\\\n",
        "t < 0&\\implies &t(-\\infty)&=&\\infty\\\\\n",
        "t = 0&\\implies &t(-\\infty)&=&0\\\\\n",
        "t > 0&\\implies &t(-\\infty)&=&-\\infty\\\\\n",
        "\\end{Bmatrix}$\n",
        "\n",
        "* $t+\\infty=\\infty+t=\\infty+\\infty=\\infty$\n",
        "* $t+(-\\infty)=(-\\infty)+t=(-\\infty)+(-\\infty)=(-\\infty)$\n",
        "* $\\infty+(-\\infty)=(-\\infty)+\\infty=0$\n",
        "\n",
        "Question\n",
        "* Is $\\mathbb{R}\\cup\\{-\\infty,\\infty\\}$ a vector space? and why?"
      ],
      "metadata": {
        "id": "o9mEg8_nz-oo"
      }
    },
    {
      "cell_type": "markdown",
      "source": [
        "###Solution\n",
        "\n",
        "$\\mathbb{R}\\cup\\{-\\infty,\\infty\\}$ is not the vector space because it does not satisfy certain properties.\n",
        "\n",
        "Here are some properties of Vector space that does not exists in $\\mathbb{R}\\cup\\{\\pm\\infty\\}$\n",
        "* Property of Addition\n",
        " 1. Have additive identity: $\\vec{v}+\\vec{0}=\\vec{v}$\n",
        " * $\\forall t\\in \\mathbb{R}\\,:\\pm\\infty+t=\\pm\\infty\\implies$ there are additive identities of $\\pm\\infty$ other than $0$\n",
        "* Property of Scalar Multiplication\n",
        " 1. Have multiplicative identity: $1\\vec{v}=\\vec{v}$\n",
        " * $\\forall t\\in \\mathbb{R}-0\\,:|t|(\\pm\\infty)=(\\pm\\infty)\\implies\\pm\\infty$ have many multiplicative identity of $\\pm\\infty$ other than $1$\n",
        "* Distributive Property: $(a+b)\\vec{v}=a\\vec{v}+b\\vec{v}$\n",
        " * $\\forall s,t\\in\\mathbb{R^+}-0\\land s>t\\,:(s-t)(\\pm\\infty)=(\\pm\\infty)\\neq s*(\\pm\\infty)-t*(\\pm\\infty)=0$"
      ],
      "metadata": {
        "id": "IwQ46z-tz-op"
      }
    },
    {
      "cell_type": "markdown",
      "source": [
        "***\n",
        "##Exercise No.3\n",
        "\n",
        "Define\n",
        "* $V=\\mathbb{R^n}$\n",
        "* $V_C=V\\times V=\\{(u,v)=u+vi|u,v\\in V\\}$\n",
        "\n",
        "Addition\n",
        "* $(u+vi)+(x+yi)=(u+x)+(v+y)i$\n",
        "\n",
        "Multiplication\n",
        "* $(u+vi)(x+yi)=(ux-vy)+(vx+uy)i$\n",
        "\n",
        "Prove that $V_C$ is a complex vector space.\n",
        "\n"
      ],
      "metadata": {
        "id": "L3CDFKfZz_MQ"
      }
    },
    {
      "cell_type": "markdown",
      "source": [
        "###Solution\n",
        "\n",
        "Define\n",
        "* $u+vi,x+yi,t+si\\in V_C$\n",
        "* $a,b\\in\\mathbb{C}$\n",
        "\n",
        "The property of Vector Space consist of\n",
        "* Property of Addition\n",
        " * $u+vi+x+yi\\in V_C$\n",
        " * Commutativity: $u+vi+x+yi=x+yi+u+vi$\n",
        " * Associativity: $(u+vi+x+yi)+t+si=u+vi+(x+yi+t+si)$\n",
        " * Additive Identity: $u+vi+0+0i=u+vi$\n",
        " * Additive Inverse: $u+vi-(u+vi)=u-u+(v-v)i=0+0i$\n",
        "* Property of Scalar Multiplication\n",
        " * $a(u+vi)\\in V_C$\n",
        " * Associativity: $(ab)(u+vi)=a(b(u+vi))$\n",
        " * Multiplicative Identity: $1(u+vi)=u+vi$\n",
        "* Distributive Property\n",
        " * $a(u+vi+x+yi)=a(u+vi)+a(x+yi)$\n",
        " * $(a+b)(u+vi)=a(u+vi)+b(u+vi)$\n",
        "\n",
        "The properties of complex number are\n",
        "* $(u+vi)+(x+yi)=(u+x)+(v+y)i$\n",
        "* $i^2=-1\\implies(u+vi)(x+yi)=ux+uyi+vxi+vyi^2=(ux-vy)+(vx+uy)i$\n",
        "\n",
        "Given that the set $V_C$ satisty both the property of vector space and complex number, therefore $V_C$ is a complex vector space.\n"
      ],
      "metadata": {
        "id": "WzcviQUGz_MR"
      }
    }
  ]
}