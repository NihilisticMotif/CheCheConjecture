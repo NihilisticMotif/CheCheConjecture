{
  "nbformat": 4,
  "nbformat_minor": 0,
  "metadata": {
    "colab": {
      "provenance": [],
      "collapsed_sections": [
        "0SBl7ziWaj5K"
      ],
      "toc_visible": true,
      "authorship_tag": "ABX9TyOOCZ7yMKTdO1krytH67jng",
      "include_colab_link": true
    },
    "kernelspec": {
      "name": "python3",
      "display_name": "Python 3"
    },
    "language_info": {
      "name": "python"
    }
  },
  "cells": [
    {
      "cell_type": "markdown",
      "metadata": {
        "id": "view-in-github",
        "colab_type": "text"
      },
      "source": [
        "<a href=\"https://colab.research.google.com/github/NihilisticMotif/CheCheConjecture/blob/main/Algorithm/LinkedList.ipynb\" target=\"_parent\"><img src=\"https://colab.research.google.com/assets/colab-badge.svg\" alt=\"Open In Colab\"/></a>"
      ]
    },
    {
      "cell_type": "markdown",
      "source": [
        "#Note"
      ],
      "metadata": {
        "id": "DswrISvUajee"
      }
    },
    {
      "cell_type": "markdown",
      "source": [
        "**What is Linked List?**\n",
        "\n",
        "* It is the data structure similar to array, but it is used when the size of the data is unknown."
      ],
      "metadata": {
        "id": "OLVGwPnXMfbF"
      }
    },
    {
      "cell_type": "markdown",
      "source": [
        "#Linked List"
      ],
      "metadata": {
        "id": "WdPG9IAQakre"
      }
    },
    {
      "cell_type": "code",
      "source": [
        "import numpy as np\n",
        "import math"
      ],
      "metadata": {
        "id": "7UJZr1_jdYoT"
      },
      "execution_count": null,
      "outputs": []
    },
    {
      "cell_type": "code",
      "source": [
        "class LinkedList:\n",
        "    def __init__(self, arr,i=0):\n",
        "      # times: O(n)\n",
        "      # space: O(n)\n",
        "      self.value=arr[i]\n",
        "      if i < len(arr)-1:\n",
        "        self.Next=LinkedList(arr,i+1)\n",
        "      else:\n",
        "        self.Next=None\n",
        "\n",
        "    def Index(self,index,count=0,ls=[]):\n",
        "      # times: O(n)\n",
        "      # space: O(1)\n",
        "      if count==index:\n",
        "        ls.append(self.value)\n",
        "      if self.Next!=None:\n",
        "        self.Next.Index(index,count+1,ls)\n",
        "      return ls[0]\n",
        "\n",
        "    def AddFirstElement(self,num):\n",
        "      # times: O(1)\n",
        "      # space: O(1)\n",
        "      n=self.value\n",
        "      self.value=num\n",
        "      self.Insert(1,n,1)\n",
        "\n",
        "    def Append(self,num):\n",
        "      # times: O(n)\n",
        "      # space: O(1)\n",
        "      if self.Next!=None:\n",
        "        self.Next.Append(num)\n",
        "      else:\n",
        "        self.Next=LinkedList([num],0)\n",
        "\n",
        "    def Insert(self,index,num,count=0):\n",
        "      # times: O(n)\n",
        "      # space: O(1)\n",
        "      if count==index:\n",
        "        if self.Next!=None:\n",
        "          self.Next = LinkedList(self.Next.Array([num]))\n",
        "        else:\n",
        "          self.Next = LinkedList([num],0)\n",
        "      elif self.Next!=None:\n",
        "        self.Next.Insert(index,num,count+1)\n",
        "      else:\n",
        "        print('Index Error')\n",
        "\n",
        "    def CountDuplicate(self):\n",
        "      # https://www.geeksforgeeks.org/count-duplicates-in-a-given-linked-list/\n",
        "      # https://www.geeksforgeeks.org/introduction-to-hashing-data-structure-and-algorithm-tutorials/\n",
        "      # time_: O(n)\n",
        "      # space: O(n)\n",
        "      # WHAT THIS FUNCTION DO?\n",
        "      #   This function return the total number of duplicate element in linked list.\n",
        "      #   In order to decrease time from O(n^2) to O(n), we have to compare the current element with all\n",
        "      #   previous element in hash table ( which takes O(1) instead of O(n) ) in each loop (O(n)).\n",
        "      #   Thus, it takes O(n) time.\n",
        "      # WHAT IS HASH TABLE?\n",
        "      #   Hash table is the data structure that store all the input data and generate each unique key for each input data.\n",
        "      #   It can access the input data with the given key in O(1) times and it takes O(n) space.\n",
        "      #   Thus, in some case, it is faster to access element in hash table than in other data structure (e.g. array, linked list etc.)\n",
        "      #   However the limitation of hash table is that, it can only store unique value, it cannot store null (or undefined) data,\n",
        "      #   and sometimes it might generate duplicate key, which can cause error when access the input data.\n",
        "      #   There are different technique for generate unique key and prevent duplicate key, but I do not show it in this lecture because it is off topic.\n",
        "      count=0\n",
        "      Current=self\n",
        "      Hash=set()\n",
        "      while Current!=None:\n",
        "        if Current.value in Hash:\n",
        "          count+=1\n",
        "        Hash.add(Current.value)\n",
        "        Current=Current.Next\n",
        "      else:\n",
        "        return count\n",
        "\n",
        "    def Remove(self,index,count=0):\n",
        "      # times: O(n)\n",
        "      # space: O(1)\n",
        "      if count==index:\n",
        "        if self.Next.Next!=None:\n",
        "          self.Next = LinkedList(self.Next.Next.Array([]))\n",
        "        else:\n",
        "          self.Next=None\n",
        "      elif self.Next!=None:\n",
        "        self.Next.Remove(index,count+1)\n",
        "      else:\n",
        "        print('Index Error')\n",
        "\n",
        "    def RemoveFirst(self):\n",
        "      # times: O(1)\n",
        "      # space: O(1)\n",
        "      ls=self.Next.Array()\n",
        "      return LinkedList(ls,0)\n",
        "\n",
        "    def Length(self,count,ls=[]):\n",
        "      # times: O(n)\n",
        "      # space: O(1)\n",
        "      count+=1\n",
        "      if self.Next!=None:\n",
        "        if self.Next.Next==None:\n",
        "          ls.append(count)\n",
        "        self.Next.Length(count,ls)\n",
        "      return ls[0]\n",
        "\n",
        "    def Array(self,ls=[]):\n",
        "      # times: O(n)\n",
        "      # space: O(1)\n",
        "      ls.append(self.value)\n",
        "      if self.Next!=None:\n",
        "        self.Next.Array(ls)\n",
        "      return ls\n",
        "\n",
        "    def PrintForward(self):\n",
        "      # time: O(n)\n",
        "      # space: O(1)\n",
        "      print(self.value)\n",
        "      if self.Next!=None:\n",
        "        self.Next.PrintForward()\n",
        "\n",
        "    def PrintBackward(self):\n",
        "      # time: O(n)\n",
        "      # space: O(1)\n",
        "      if self.Next.Next==None:\n",
        "        print(self.Next.value)\n",
        "        print(self.value)\n",
        "      else:\n",
        "        self.Next.PrintBackward()\n",
        "        print(self.value)\n",
        "\n",
        "    def Update(self,index,num,count):\n",
        "      # times: O(n)\n",
        "      # space: O(1)\n",
        "      if count==index:\n",
        "        self.value=num\n",
        "      if self.Next!=None:\n",
        "        self.Next.Update(index,num,count+1)\n",
        "\n",
        "def def_Index(ls,i):\n",
        "  return ls.Index(i,0,[])\n"
      ],
      "metadata": {
        "id": "PfY33Sq_aoEV"
      },
      "execution_count": null,
      "outputs": []
    },
    {
      "cell_type": "markdown",
      "source": [
        "##Test"
      ],
      "metadata": {
        "id": "584zxoxoMbYq"
      }
    },
    {
      "cell_type": "markdown",
      "source": [
        "###Initialize"
      ],
      "metadata": {
        "id": "g1BvIKOfabA4"
      }
    },
    {
      "cell_type": "code",
      "source": [
        "lss = np.sort(np.random.uniform(-10,10,50).astype(int))\n",
        "LkLs = LinkedList(lss,0)"
      ],
      "metadata": {
        "id": "arGBTMx5dlKu"
      },
      "execution_count": null,
      "outputs": []
    },
    {
      "cell_type": "code",
      "source": [
        "LkLs.value"
      ],
      "metadata": {
        "colab": {
          "base_uri": "https://localhost:8080/"
        },
        "id": "0X2uKqzz7ygn",
        "outputId": "d65d9156-a59e-47ec-9bfa-c9fea61390c4"
      },
      "execution_count": null,
      "outputs": [
        {
          "output_type": "execute_result",
          "data": {
            "text/plain": [
              "-9"
            ]
          },
          "metadata": {},
          "execution_count": 200
        }
      ]
    },
    {
      "cell_type": "markdown",
      "source": [
        "###PrintForward and PrintBackward"
      ],
      "metadata": {
        "id": "_qhzZSaCal-y"
      }
    },
    {
      "cell_type": "code",
      "source": [
        "LkLs.PrintForward()"
      ],
      "metadata": {
        "colab": {
          "base_uri": "https://localhost:8080/"
        },
        "id": "9dsL3pUr3f_e",
        "outputId": "ce8410ef-98f6-4832-b70e-721de6247476"
      },
      "execution_count": null,
      "outputs": [
        {
          "output_type": "stream",
          "name": "stdout",
          "text": [
            "-9\n",
            "-9\n",
            "-8\n",
            "-8\n",
            "-8\n",
            "-8\n",
            "-8\n",
            "-7\n",
            "-7\n",
            "-7\n",
            "-5\n",
            "-4\n",
            "-4\n",
            "-4\n",
            "-4\n",
            "-4\n",
            "-3\n",
            "-3\n",
            "-2\n",
            "-2\n",
            "-2\n",
            "-2\n",
            "-2\n",
            "-2\n",
            "-1\n",
            "-1\n",
            "0\n",
            "0\n",
            "1\n",
            "1\n",
            "1\n",
            "2\n",
            "2\n",
            "3\n",
            "3\n",
            "3\n",
            "3\n",
            "5\n",
            "5\n",
            "5\n",
            "5\n",
            "6\n",
            "7\n",
            "7\n",
            "7\n",
            "7\n",
            "8\n",
            "8\n",
            "8\n",
            "9\n"
          ]
        }
      ]
    },
    {
      "cell_type": "code",
      "source": [
        "LkLs.PrintBackward()"
      ],
      "metadata": {
        "colab": {
          "base_uri": "https://localhost:8080/"
        },
        "id": "gGaNg4cLccei",
        "outputId": "966b9ff7-4444-4fd2-bdd4-ad90180d50cc"
      },
      "execution_count": null,
      "outputs": [
        {
          "output_type": "stream",
          "name": "stdout",
          "text": [
            "9\n",
            "8\n",
            "8\n",
            "8\n",
            "7\n",
            "7\n",
            "7\n",
            "7\n",
            "6\n",
            "5\n",
            "5\n",
            "5\n",
            "5\n",
            "3\n",
            "3\n",
            "3\n",
            "3\n",
            "2\n",
            "2\n",
            "1\n",
            "1\n",
            "1\n",
            "0\n",
            "0\n",
            "-1\n",
            "-1\n",
            "-2\n",
            "-2\n",
            "-2\n",
            "-2\n",
            "-2\n",
            "-2\n",
            "-3\n",
            "-3\n",
            "-4\n",
            "-4\n",
            "-4\n",
            "-4\n",
            "-4\n",
            "-5\n",
            "-7\n",
            "-7\n",
            "-7\n",
            "-8\n",
            "-8\n",
            "-8\n",
            "-8\n",
            "-8\n",
            "-9\n",
            "-9\n"
          ]
        }
      ]
    },
    {
      "cell_type": "markdown",
      "source": [
        "###Remove"
      ],
      "metadata": {
        "id": "0SBl7ziWaj5K"
      }
    },
    {
      "cell_type": "code",
      "source": [
        "LkLs.Remove(2)"
      ],
      "metadata": {
        "id": "S9T-oUsI3ZO6"
      },
      "execution_count": null,
      "outputs": []
    },
    {
      "cell_type": "code",
      "source": [
        "LkLs.PrintForward()"
      ],
      "metadata": {
        "colab": {
          "base_uri": "https://localhost:8080/"
        },
        "id": "A6GkFpMlcX2g",
        "outputId": "90d591a9-c271-4cae-a322-886b7bc4ff98"
      },
      "execution_count": null,
      "outputs": [
        {
          "output_type": "stream",
          "name": "stdout",
          "text": [
            "-9\n",
            "-9\n",
            "-8\n",
            "-8\n",
            "-8\n",
            "-8\n",
            "-7\n",
            "-7\n",
            "-7\n",
            "-5\n",
            "-4\n",
            "-4\n",
            "-4\n",
            "-4\n",
            "-4\n",
            "-3\n",
            "-3\n",
            "-2\n",
            "-2\n",
            "-2\n",
            "-2\n",
            "-2\n",
            "-2\n",
            "-1\n",
            "-1\n",
            "0\n",
            "0\n",
            "1\n",
            "1\n",
            "1\n",
            "2\n",
            "2\n",
            "3\n",
            "3\n",
            "3\n",
            "3\n",
            "5\n",
            "5\n",
            "5\n",
            "5\n",
            "6\n",
            "7\n",
            "7\n",
            "7\n",
            "7\n",
            "8\n",
            "8\n",
            "8\n",
            "9\n"
          ]
        }
      ]
    },
    {
      "cell_type": "markdown",
      "source": [
        "###RemoveFirst"
      ],
      "metadata": {
        "id": "jUL_H0VzaqFo"
      }
    },
    {
      "cell_type": "code",
      "source": [
        "LkLs=LkLs.RemoveFirst()"
      ],
      "metadata": {
        "id": "QSPLp5rF6MG_"
      },
      "execution_count": null,
      "outputs": []
    },
    {
      "cell_type": "code",
      "source": [
        "LkLs.PrintForward()"
      ],
      "metadata": {
        "colab": {
          "base_uri": "https://localhost:8080/"
        },
        "id": "7ctrp6JB6QNI",
        "outputId": "48cd73d9-d220-4110-8f46-a9583c91d1d9"
      },
      "execution_count": null,
      "outputs": [
        {
          "output_type": "stream",
          "name": "stdout",
          "text": [
            "-9\n",
            "-8\n",
            "-8\n",
            "-8\n",
            "-8\n",
            "-7\n",
            "-7\n",
            "-7\n",
            "-5\n",
            "-4\n",
            "-4\n",
            "-4\n",
            "-4\n",
            "-4\n",
            "-3\n",
            "-3\n",
            "-2\n",
            "-2\n",
            "-2\n",
            "-2\n",
            "-2\n",
            "-2\n",
            "-1\n",
            "-1\n",
            "0\n",
            "0\n",
            "1\n",
            "1\n",
            "1\n",
            "2\n",
            "2\n",
            "3\n",
            "3\n",
            "3\n",
            "3\n",
            "5\n",
            "5\n",
            "5\n",
            "5\n",
            "6\n",
            "7\n",
            "7\n",
            "7\n",
            "7\n",
            "8\n",
            "8\n",
            "8\n",
            "9\n"
          ]
        }
      ]
    },
    {
      "cell_type": "markdown",
      "source": [
        "###Length"
      ],
      "metadata": {
        "id": "xSEWL-UgayLJ"
      }
    },
    {
      "cell_type": "code",
      "source": [
        "cc=LkLs.Length(0)\n",
        "print(cc)"
      ],
      "metadata": {
        "colab": {
          "base_uri": "https://localhost:8080/"
        },
        "id": "xfxJ9eAb37tw",
        "outputId": "926735d8-cad4-4590-9be0-70e08a5ce47b"
      },
      "execution_count": null,
      "outputs": [
        {
          "output_type": "stream",
          "name": "stdout",
          "text": [
            "47\n"
          ]
        }
      ]
    },
    {
      "cell_type": "markdown",
      "source": [
        "###Array"
      ],
      "metadata": {
        "id": "-K8VLf37a4K5"
      }
    },
    {
      "cell_type": "code",
      "source": [
        "ls=LkLs.Array([])\n",
        "for i in ls:\n",
        "  print(i)"
      ],
      "metadata": {
        "colab": {
          "base_uri": "https://localhost:8080/"
        },
        "id": "JCu_A9bI9Ld7",
        "outputId": "889dac2e-ba43-4680-e9e1-d59798ac78f8"
      },
      "execution_count": null,
      "outputs": [
        {
          "output_type": "stream",
          "name": "stdout",
          "text": [
            "-9\n",
            "-8\n",
            "-8\n",
            "-8\n",
            "-8\n",
            "-7\n",
            "-7\n",
            "-7\n",
            "-5\n",
            "-4\n",
            "-4\n",
            "-4\n",
            "-4\n",
            "-4\n",
            "-3\n",
            "-3\n",
            "-2\n",
            "-2\n",
            "-2\n",
            "-2\n",
            "-2\n",
            "-2\n",
            "-1\n",
            "-1\n",
            "0\n",
            "0\n",
            "1\n",
            "1\n",
            "1\n",
            "2\n",
            "2\n",
            "3\n",
            "3\n",
            "3\n",
            "3\n",
            "5\n",
            "5\n",
            "5\n",
            "5\n",
            "6\n",
            "7\n",
            "7\n",
            "7\n",
            "7\n",
            "8\n",
            "8\n",
            "8\n",
            "9\n"
          ]
        }
      ]
    },
    {
      "cell_type": "markdown",
      "source": [
        "###Index"
      ],
      "metadata": {
        "id": "jIOGj93Za9XX"
      }
    },
    {
      "cell_type": "code",
      "source": [
        "def_Index(LkLs,3)"
      ],
      "metadata": {
        "colab": {
          "base_uri": "https://localhost:8080/"
        },
        "id": "JAikuXss-B2A",
        "outputId": "58d3cc8c-45a4-4709-d908-b2c8f06a608b"
      },
      "execution_count": null,
      "outputs": [
        {
          "output_type": "execute_result",
          "data": {
            "text/plain": [
              "-8"
            ]
          },
          "metadata": {},
          "execution_count": 209
        }
      ]
    },
    {
      "cell_type": "markdown",
      "source": [
        "###Append"
      ],
      "metadata": {
        "id": "Ys285DFia_Jv"
      }
    },
    {
      "cell_type": "code",
      "source": [
        "LkLs.Append(100)\n",
        "LkLs.PrintForward()"
      ],
      "metadata": {
        "colab": {
          "base_uri": "https://localhost:8080/"
        },
        "id": "e_Fk4A1B-9Cy",
        "outputId": "d6342ba3-4cc2-43b7-ece2-3d1c6b599f1a"
      },
      "execution_count": null,
      "outputs": [
        {
          "output_type": "stream",
          "name": "stdout",
          "text": [
            "-9\n",
            "-8\n",
            "-8\n",
            "-8\n",
            "-8\n",
            "-7\n",
            "-7\n",
            "-7\n",
            "-5\n",
            "-4\n",
            "-4\n",
            "-4\n",
            "-4\n",
            "-4\n",
            "-3\n",
            "-3\n",
            "-2\n",
            "-2\n",
            "-2\n",
            "-2\n",
            "-2\n",
            "-2\n",
            "-1\n",
            "-1\n",
            "0\n",
            "0\n",
            "1\n",
            "1\n",
            "1\n",
            "2\n",
            "2\n",
            "3\n",
            "3\n",
            "3\n",
            "3\n",
            "5\n",
            "5\n",
            "5\n",
            "5\n",
            "6\n",
            "7\n",
            "7\n",
            "7\n",
            "7\n",
            "8\n",
            "8\n",
            "8\n",
            "9\n",
            "100\n"
          ]
        }
      ]
    },
    {
      "cell_type": "code",
      "source": [
        "def_Index(LkLs,6)"
      ],
      "metadata": {
        "colab": {
          "base_uri": "https://localhost:8080/"
        },
        "id": "EpMYKOnO_GN2",
        "outputId": "301a5bf6-5fc5-481b-be16-c198e61741e0"
      },
      "execution_count": null,
      "outputs": [
        {
          "output_type": "execute_result",
          "data": {
            "text/plain": [
              "-7"
            ]
          },
          "metadata": {},
          "execution_count": 211
        }
      ]
    },
    {
      "cell_type": "markdown",
      "source": [
        "###Insert"
      ],
      "metadata": {
        "id": "CALP_LqKbGeH"
      }
    },
    {
      "cell_type": "code",
      "source": [
        "LkLs.Insert(1,112)\n",
        "LkLs.PrintForward()"
      ],
      "metadata": {
        "colab": {
          "base_uri": "https://localhost:8080/"
        },
        "id": "AGgfSVhW_coW",
        "outputId": "2e351b08-4cd1-423b-b52b-b20a1af5d8de"
      },
      "execution_count": null,
      "outputs": [
        {
          "output_type": "stream",
          "name": "stdout",
          "text": [
            "-9\n",
            "-8\n",
            "112\n",
            "-8\n",
            "-8\n",
            "-8\n",
            "-7\n",
            "-7\n",
            "-7\n",
            "-5\n",
            "-4\n",
            "-4\n",
            "-4\n",
            "-4\n",
            "-4\n",
            "-3\n",
            "-3\n",
            "-2\n",
            "-2\n",
            "-2\n",
            "-2\n",
            "-2\n",
            "-2\n",
            "-1\n",
            "-1\n",
            "0\n",
            "0\n",
            "1\n",
            "1\n",
            "1\n",
            "2\n",
            "2\n",
            "3\n",
            "3\n",
            "3\n",
            "3\n",
            "5\n",
            "5\n",
            "5\n",
            "5\n",
            "6\n",
            "7\n",
            "7\n",
            "7\n",
            "7\n",
            "8\n",
            "8\n",
            "8\n",
            "9\n",
            "100\n"
          ]
        }
      ]
    },
    {
      "cell_type": "code",
      "source": [
        "LkLs.PrintForward()"
      ],
      "metadata": {
        "colab": {
          "base_uri": "https://localhost:8080/"
        },
        "id": "qTyczqdCDoSI",
        "outputId": "7e9266df-cdaa-434a-8315-a1fa585fca12"
      },
      "execution_count": null,
      "outputs": [
        {
          "output_type": "stream",
          "name": "stdout",
          "text": [
            "-9\n",
            "-8\n",
            "112\n",
            "-8\n",
            "-8\n",
            "-8\n",
            "-7\n",
            "-7\n",
            "-7\n",
            "-5\n",
            "-4\n",
            "-4\n",
            "-4\n",
            "-4\n",
            "-4\n",
            "-3\n",
            "-3\n",
            "-2\n",
            "-2\n",
            "-2\n",
            "-2\n",
            "-2\n",
            "-2\n",
            "-1\n",
            "-1\n",
            "0\n",
            "0\n",
            "1\n",
            "1\n",
            "1\n",
            "2\n",
            "2\n",
            "3\n",
            "3\n",
            "3\n",
            "3\n",
            "5\n",
            "5\n",
            "5\n",
            "5\n",
            "6\n",
            "7\n",
            "7\n",
            "7\n",
            "7\n",
            "8\n",
            "8\n",
            "8\n",
            "9\n",
            "100\n"
          ]
        }
      ]
    },
    {
      "cell_type": "markdown",
      "source": [
        "###AddFirstElement"
      ],
      "metadata": {
        "id": "3_ytzztYbJga"
      }
    },
    {
      "cell_type": "code",
      "source": [
        "LkLs.AddFirstElement(500)\n",
        "LkLs.PrintForward()\n"
      ],
      "metadata": {
        "colab": {
          "base_uri": "https://localhost:8080/"
        },
        "id": "qFrQsyhACfKy",
        "outputId": "282f7c32-fb26-4da9-89a3-87033168eaaf"
      },
      "execution_count": null,
      "outputs": [
        {
          "output_type": "stream",
          "name": "stdout",
          "text": [
            "500\n",
            "-9\n",
            "-8\n",
            "112\n",
            "-8\n",
            "-8\n",
            "-8\n",
            "-7\n",
            "-7\n",
            "-7\n",
            "-5\n",
            "-4\n",
            "-4\n",
            "-4\n",
            "-4\n",
            "-4\n",
            "-3\n",
            "-3\n",
            "-2\n",
            "-2\n",
            "-2\n",
            "-2\n",
            "-2\n",
            "-2\n",
            "-1\n",
            "-1\n",
            "0\n",
            "0\n",
            "1\n",
            "1\n",
            "1\n",
            "2\n",
            "2\n",
            "3\n",
            "3\n",
            "3\n",
            "3\n",
            "5\n",
            "5\n",
            "5\n",
            "5\n",
            "6\n",
            "7\n",
            "7\n",
            "7\n",
            "7\n",
            "8\n",
            "8\n",
            "8\n",
            "9\n",
            "100\n"
          ]
        }
      ]
    },
    {
      "cell_type": "markdown",
      "source": [
        "###CountDuplicate"
      ],
      "metadata": {
        "id": "NYk_yZisbLlR"
      }
    },
    {
      "cell_type": "code",
      "source": [
        "count=LkLs.CountDuplicate()\n",
        "print(count)"
      ],
      "metadata": {
        "colab": {
          "base_uri": "https://localhost:8080/"
        },
        "id": "bxU_la7Eb55K",
        "outputId": "008dcbbe-461c-49c7-caab-47ac2d413d29"
      },
      "execution_count": null,
      "outputs": [
        {
          "output_type": "stream",
          "name": "stdout",
          "text": [
            "31\n"
          ]
        }
      ]
    },
    {
      "cell_type": "markdown",
      "source": [
        "##Reference:\n",
        "* https://jovian.com/aakashns/python-classes-and-linked-lists"
      ],
      "metadata": {
        "id": "Ok7-BM5BEWBh"
      }
    }
  ]
}