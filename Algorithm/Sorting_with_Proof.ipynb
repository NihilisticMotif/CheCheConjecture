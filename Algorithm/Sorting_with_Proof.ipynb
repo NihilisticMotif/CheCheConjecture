{
  "nbformat": 4,
  "nbformat_minor": 0,
  "metadata": {
    "colab": {
      "provenance": [],
      "toc_visible": true,
      "collapsed_sections": [
        "i7dIfmc9QhyS",
        "LzzLgtgD2tRA"
      ],
      "authorship_tag": "ABX9TyP4ygu9shfecf2jnvYCWHbD",
      "include_colab_link": true
    },
    "kernelspec": {
      "name": "python3",
      "display_name": "Python 3"
    },
    "language_info": {
      "name": "python"
    }
  },
  "cells": [
    {
      "cell_type": "markdown",
      "metadata": {
        "id": "view-in-github",
        "colab_type": "text"
      },
      "source": [
        "<a href=\"https://colab.research.google.com/github/NihilisticMotif/CheCheConjecture/blob/main/Algorithm/Sorting_with_Proof.ipynb\" target=\"_parent\"><img src=\"https://colab.research.google.com/assets/colab-badge.svg\" alt=\"Open In Colab\"/></a>"
      ]
    },
    {
      "cell_type": "markdown",
      "source": [
        "#Introduction\n",
        "\n",
        "The goal of this documentation is to write the prove the basic sorting algorithm, including\n",
        "1. Insertion Sort\n",
        "2. Binary Insertion Sort\n",
        "3. Merge Sort\n",
        "4. Quick Sort"
      ],
      "metadata": {
        "id": "i7dIfmc9QhyS"
      }
    },
    {
      "cell_type": "markdown",
      "source": [
        "##Loop Invariants\n",
        "\n",
        "Loop Invariant means the condition that holds for every iteration of the loop.\n",
        "\n",
        "Example\n",
        "* In `MergeSort`, `Merge(ls0, ls1)` always return sorted output array `ls`, if `ls0` and `ls1` are both sorted array.\n",
        "* In `Pivot` of `QuickSort`, `prev <= next - 1`\n",
        "* In `BinarySearch`, `high - low` is decrease in each while loop\n",
        "\n",
        "Reference\n",
        "* https://stackoverflow.com/questions/3221577/what-is-a-loop-invariant"
      ],
      "metadata": {
        "id": "VmWfy5fsmE_g"
      }
    },
    {
      "cell_type": "markdown",
      "source": [
        "##How to prove the algorithm ?\n",
        "\n",
        "In order to prove the algorithm it is necessary to prove that the algorithm that\n",
        "1. The algorithm is terminated using the time complexity of the given algorithm\n",
        "2. The algorithm is working correctly for small input (proving the base case and loop invariants)\n",
        "3. The algorithm is working correctly for the larger input (we can prove this by applying the base case)\n",
        "\n",
        "Reference\n",
        "* https://cs.stackexchange.com/questions/43771/how-can-i-prove-algorithm-correctness\n",
        "* https://stackoverflow.com/questions/1952070/writing-a-proof-for-an-algorithm"
      ],
      "metadata": {
        "id": "AmcOd7QQRJqb"
      }
    },
    {
      "cell_type": "markdown",
      "source": [
        "##Meaning of Stable in Sorting Algorithm\n",
        "\n",
        "A sorting algorithm is said to be stable if two objects with equal keys appear in the same order in sorted output as they appear in the input array to be sorted. Some sorting algorithms are stable by nature like Insertion sort, Merge Sort, Bubble Sort, etc. And some sorting algorithms are not, like Heap Sort, Quick Sort, etc.\n",
        "\n",
        "The stable sorting algorithm is useful when the user want to preserve the order of the element in lists, such as the order of book names by characters etc.\n",
        "\n",
        "Reference\n",
        "* https://stackoverflow.com/questions/1517793/what-is-stability-in-sorting-algorithms-and-why-is-it-important"
      ],
      "metadata": {
        "id": "zGJQz90NFQdC"
      }
    },
    {
      "cell_type": "markdown",
      "source": [
        "#Import Library"
      ],
      "metadata": {
        "id": "TKUrQ1KAvbyA"
      }
    },
    {
      "cell_type": "code",
      "source": [
        "import collections\n",
        "import matplotlib.pyplot as plt\n",
        "import numpy as np\n",
        "import pandas as pd\n",
        "import math"
      ],
      "metadata": {
        "id": "Z4Hx5JSF4Wdp"
      },
      "execution_count": null,
      "outputs": []
    },
    {
      "cell_type": "markdown",
      "source": [
        "#Binary Search"
      ],
      "metadata": {
        "id": "mzrxWMV3HXxP"
      }
    },
    {
      "cell_type": "markdown",
      "source": [
        "##Implementation"
      ],
      "metadata": {
        "id": "Jzo_yoj5HVaw"
      }
    },
    {
      "cell_type": "code",
      "source": [
        "def BinarySearch(ls,element):\n",
        "  # Time : O(log(n))\n",
        "  # Space: O(1)\n",
        "  low = 0\n",
        "  high = len(ls)\n",
        "  while low < high:\n",
        "    mid = math.floor((low + high)/2)\n",
        "    if element == ls[mid]:\n",
        "      return mid\n",
        "    elif element < ls[mid]:\n",
        "      high = mid - 1\n",
        "    else:\n",
        "      low = mid + 1\n",
        "  if low < len(ls):\n",
        "    if element == ls[low]:\n",
        "      return low\n",
        "    else:\n",
        "      return None\n",
        "  return None"
      ],
      "metadata": {
        "id": "uxfJtdRW-v9Y"
      },
      "execution_count": null,
      "outputs": []
    },
    {
      "cell_type": "markdown",
      "source": [
        "##Test"
      ],
      "metadata": {
        "id": "3yoSy7NPovIx"
      }
    },
    {
      "cell_type": "code",
      "source": [
        "ls = list(set((10*np.random.normal(0,1,10)).astype(np.int64)))\n",
        "ls.sort()\n",
        "print(ls)\n",
        "print('First Test')\n",
        "for i in range(len(ls)):\n",
        "  if ls[BinarySearch(ls,ls[i])]==ls[i]:\n",
        "    print(i,True)\n",
        "  else:\n",
        "    print(i,False)\n",
        "print()\n",
        "print('Second Test')\n",
        "for i in range(len(ls)):\n",
        "  lss = ls[:i+1]\n",
        "  if lss[BinarySearch(lss,ls[i])]==ls[i]:\n",
        "    print(i,True)\n",
        "  else:\n",
        "    print(i,False)\n",
        "print()\n",
        "print('Third Test')\n",
        "for i in range(len(ls)):\n",
        "  lss = ls[:i+1]\n",
        "  if BinarySearch(lss,ls[i]+1) == None:\n",
        "    print(i,True)"
      ],
      "metadata": {
        "colab": {
          "base_uri": "https://localhost:8080/"
        },
        "id": "eHZQMZlbVLei",
        "outputId": "56fe6aa6-825e-4d1c-ae13-9a5f3171e0d3"
      },
      "execution_count": null,
      "outputs": [
        {
          "output_type": "stream",
          "name": "stdout",
          "text": [
            "[-15, -11, -8, -6, 0, 4, 6, 16, 17]\n",
            "First Test\n",
            "0 True\n",
            "1 True\n",
            "2 True\n",
            "3 True\n",
            "4 True\n",
            "5 True\n",
            "6 True\n",
            "7 True\n",
            "8 True\n",
            "\n",
            "Second Test\n",
            "0 True\n",
            "1 True\n",
            "2 True\n",
            "3 True\n",
            "4 True\n",
            "5 True\n",
            "6 True\n",
            "7 True\n",
            "8 True\n",
            "\n",
            "Third Test\n",
            "0 True\n",
            "1 True\n",
            "2 True\n",
            "3 True\n",
            "4 True\n",
            "5 True\n",
            "6 True\n",
            "7 True\n",
            "8 True\n"
          ]
        }
      ]
    },
    {
      "cell_type": "markdown",
      "source": [
        "##Proof\n",
        "\n",
        "The purpose of Binary Search is to search the index of the element in sorted list."
      ],
      "metadata": {
        "id": "vI1s6mrhHZuW"
      }
    },
    {
      "cell_type": "markdown",
      "source": [
        "###Complexity Evaluation\n",
        "\n",
        "Consider the following algorithm\n",
        "\n",
        "```\n",
        "def BinaryWhileH(num):\n",
        "  low = 0\n",
        "  high = num\n",
        "  while low < high:\n",
        "    print()\n",
        "    print('high',high)\n",
        "    print('low ',low)\n",
        "    high = math.floor((low + high)/2) - 1\n",
        "```\n",
        "\n",
        "If `low < high` $\\implies$ `high` in each while loop is decrease by approximately half $\\implies$ This code is terminated using $O(\\log_2(n))$ times and $O(1)$ space.\n",
        "\n",
        "If `low >= high` $\\implies$ This code is terminated immediately.\n",
        "\n",
        "```\n",
        "def BinaryWhileL(num):\n",
        "  low = 0\n",
        "  high = num\n",
        "  while low < high:\n",
        "    print()\n",
        "    print('high',high)\n",
        "    print('low ',low)\n",
        "    low = math.floor((low + high)/2) + 1\n",
        "```\n",
        "\n",
        "On the other hands, given that `low < high` $\\implies$ The different between `low` and `high` is decrease by approximately half plus $1$ $\\implies$ This code is terminated using $O(\\log_2(n))$ times and $O(1)$ space\n",
        "\n",
        "The reason to add `low += 1` or `high -= 1` is because to guarantee that `low >= high` within the finite loop.\n",
        "\n",
        "In the `while low < high` loop of `BinarySearch` there is only 1 in 3 scenarios is possible in each while loop\n",
        "1. `return mid` and the loop is terminated\n",
        "1. `high = mid - 1`\n",
        "3. `low = mid + 1`\n",
        "\n",
        "Therefore the complexity of this algorithm is\n",
        "* Time: $O(\\log_2(n))$\n",
        "* Space: $O(1)$"
      ],
      "metadata": {
        "id": "1uyfbJ7vkzV0"
      }
    },
    {
      "cell_type": "code",
      "source": [
        "def BinaryWhileH(num):\n",
        "  low = 0\n",
        "  high = num\n",
        "  while low < high:\n",
        "    print()\n",
        "    print('high',high)\n",
        "    print('low ',low)\n",
        "    high = math.floor((low + high)/2) - 1\n",
        "  print()\n",
        "  print('high',high)\n",
        "\n",
        "BinaryWhileH(2**10)"
      ],
      "metadata": {
        "colab": {
          "base_uri": "https://localhost:8080/"
        },
        "id": "pU6ERutPk3CF",
        "outputId": "2955b6fa-b53d-49b4-ba2e-b114290ab1fe"
      },
      "execution_count": null,
      "outputs": [
        {
          "output_type": "stream",
          "name": "stdout",
          "text": [
            "\n",
            "high 1024\n",
            "low  0\n",
            "\n",
            "high 511\n",
            "low  0\n",
            "\n",
            "high 254\n",
            "low  0\n",
            "\n",
            "high 126\n",
            "low  0\n",
            "\n",
            "high 62\n",
            "low  0\n",
            "\n",
            "high 30\n",
            "low  0\n",
            "\n",
            "high 14\n",
            "low  0\n",
            "\n",
            "high 6\n",
            "low  0\n",
            "\n",
            "high 2\n",
            "low  0\n",
            "\n",
            "high 0\n"
          ]
        }
      ]
    },
    {
      "cell_type": "code",
      "source": [
        "def BinaryWhileL(num):\n",
        "  low = 0\n",
        "  high = num\n",
        "  while low < high:\n",
        "    print()\n",
        "    print('high',high)\n",
        "    print('low ',low)\n",
        "    low = math.floor((low + high)/2) + 1\n",
        "  print()\n",
        "  print('low',low)\n",
        "\n",
        "BinaryWhileL(2**10)"
      ],
      "metadata": {
        "colab": {
          "base_uri": "https://localhost:8080/"
        },
        "id": "uXYG9leDS3OP",
        "outputId": "d529c987-e4b7-4e8f-a5e8-968ea9befbea"
      },
      "execution_count": null,
      "outputs": [
        {
          "output_type": "stream",
          "name": "stdout",
          "text": [
            "\n",
            "high 1024\n",
            "low  0\n",
            "\n",
            "high 1024\n",
            "low  513\n",
            "\n",
            "high 1024\n",
            "low  769\n",
            "\n",
            "high 1024\n",
            "low  897\n",
            "\n",
            "high 1024\n",
            "low  961\n",
            "\n",
            "high 1024\n",
            "low  993\n",
            "\n",
            "high 1024\n",
            "low  1009\n",
            "\n",
            "high 1024\n",
            "low  1017\n",
            "\n",
            "high 1024\n",
            "low  1021\n",
            "\n",
            "high 1024\n",
            "low  1023\n",
            "\n",
            "low 1024\n"
          ]
        }
      ]
    },
    {
      "cell_type": "markdown",
      "source": [
        "###Base Case\n",
        "\n",
        "Consider the following code\n",
        "\n",
        "```\n",
        "def BinarySearch(ls,element):\n",
        "  # Time : O(log(n))\n",
        "  # Space: O(1)\n",
        "  low = 0\n",
        "  high = len(ls)\n",
        "  while low < high:\n",
        "    mid = math.floor((low + high)/2)\n",
        "    if element == ls[mid]:\n",
        "      return mid\n",
        "    elif element < ls[mid]:\n",
        "      high = mid - 1\n",
        "    else:\n",
        "      low = mid + 1\n",
        "  if low < len(ls):\n",
        "    if element == ls[low]:\n",
        "      return low\n",
        "    else:\n",
        "      return None\n",
        "  return None\n",
        "```\n",
        "\n",
        "Base case when `ls = []`\n",
        "* `len(ls) == 0` $\\implies$ `ls` is sorted list\n",
        "* `len(ls) == 0` $\\implies$ `low == high`\n",
        "* `ls == []` $\\implies$ `BinarySearch([],element) == None`\n",
        "\n",
        "Base case when `ls = [a]`\n",
        "\n",
        "First while loop\n",
        "* `low = 0`\n",
        "* `high = 1`\n",
        "* `mid == 0`\n",
        "* `element == ls[0]` $\\implies$ `BinarySearch([],element) == 0`\n",
        "\n",
        "Second while loop\n",
        "* `element < ls[mid]` $\\implies$ `high = 0 == low`\n",
        "* `element > ls[mid]` $\\implies$ `low = 1 == high`\n",
        "* `element != ls[0]` $\\implies$ `BinarySearch([],element) == None`\n",
        "* `low == 1` $\\implies$ `BinarySearch([],element) == None`"
      ],
      "metadata": {
        "id": "rNsrHNYYfzoJ"
      }
    },
    {
      "cell_type": "markdown",
      "source": [
        "###General Case\n",
        "\n",
        "####Initializing the Variable\n",
        "\n",
        "Define Input\n",
        "* `ls = [a0,...,an]` where `ls` is sorted list.\n",
        "\n",
        "Define Variable\n",
        "* `low = 0 `\n",
        "* `high = len(ls)`\n",
        "\n",
        "####While Loop\n",
        "\n",
        "The while loop is executed.\n",
        "* `while low < high:`\n",
        "\n",
        "In each loop, `mid` is initialized, such that\n",
        "* `mid = math.floor((low + high)/2)`\n",
        "\n",
        "Then\n",
        "* `element == ls[mid]` $\\implies$ `BinarySearch(ls,element) == mid` and the while loop is terminated.\n",
        "* `element < ls[mid]` $\\implies$ `high = mid - 1`\n",
        "* `element > ls[mid]` $\\implies$ `low = mid + 1`\n",
        "\n",
        "`low >= high` $\\implies$ while loop is terminated then the following statement is checked\n",
        "* `if element == ls[low]: return low`\n",
        "* `else: return None`\n",
        "\n",
        "####Correctness\n",
        "\n",
        "Because `ls` is sorted list implies that\n",
        "* `element < ls[mid]` $\\implies$ `element not in ls` or `exists i < mid : element == ls[i]`\n",
        "* `element > ls[mid]` $\\implies$ `element not in ls` or `exists i > mid : element == ls[i]`\n",
        "* `element not in ls` $\\implies$ the while loop terminated in $O(\\log_2(n))$ time and `BinarySearch(ls,element) == None`\n",
        "\n",
        "Therefore this algorithm return correct index of element `element` in sorted list `ls`.\n",
        "\n",
        "####Note\n",
        "\n",
        "Do not implementing any algorithm, including `BinarySearch` using recursive manner without necessary reason to do so, because recursive algorithm use stack memory to store recursive call, which make the space complexity greater than $O(1)$.\n",
        "* https://www.geeksforgeeks.org/g-fact-86/\n",
        "\n",
        "```\n",
        "def RecursiveFunction(...):\n",
        "  ...\n",
        "  RecursiveFunction(...)\n",
        "  # This is bad practice.\n",
        "\n",
        "```\n",
        "\n",
        "####Reference\n",
        "* https://www.geeksforgeeks.org/binary-search/\n",
        "\n"
      ],
      "metadata": {
        "id": "3Z9oEk-AkEKt"
      }
    },
    {
      "cell_type": "markdown",
      "source": [
        "#Insertion Sort"
      ],
      "metadata": {
        "id": "eLUKZ1QOozlf"
      }
    },
    {
      "cell_type": "markdown",
      "source": [
        "##Implementation"
      ],
      "metadata": {
        "id": "ZxFVMYYiWM9u"
      }
    },
    {
      "cell_type": "code",
      "source": [
        "def InsertionSort(ls):\n",
        "  # Time : O(n^2)\n",
        "  # Space: O(1)\n",
        "  # https://youtu.be/8mJ-OhcfpYg?si=FV7_eZoM8PbfwpZM\n",
        "  for current in range(len(ls)):\n",
        "    prev = current - 1\n",
        "    while prev >= 0:\n",
        "      if ls[current] < ls[prev]:\n",
        "        temp = ls[prev]\n",
        "        ls[prev] = ls[current]\n",
        "        ls[current] = temp\n",
        "        current = prev\n",
        "      prev -= 1"
      ],
      "metadata": {
        "id": "FwqovdJX1GCY"
      },
      "execution_count": null,
      "outputs": []
    },
    {
      "cell_type": "markdown",
      "source": [
        "##Test"
      ],
      "metadata": {
        "id": "KtO0yRdrFHjB"
      }
    },
    {
      "cell_type": "code",
      "source": [
        "ls = list((10*np.random.normal(0,1,6)).astype(np.int64))\n",
        "print(ls)\n",
        "InsertionSort(ls)\n",
        "print(ls)"
      ],
      "metadata": {
        "colab": {
          "base_uri": "https://localhost:8080/"
        },
        "id": "liXZrgVPudjf",
        "outputId": "2929bf94-6af8-48a2-a387-000902a881e1"
      },
      "execution_count": null,
      "outputs": [
        {
          "output_type": "stream",
          "name": "stdout",
          "text": [
            "[0, 4, -8, 5, -3, 10]\n",
            "[-8, -3, 0, 4, 5, 10]\n"
          ]
        }
      ]
    },
    {
      "cell_type": "code",
      "source": [
        "ls0 = list(np.random.normal(0,1,1000))\n",
        "InsertionSort(ls0)\n",
        "ls0=np.array(ls0)\n",
        "plt.plot(np.arange(1000),ls0)\n",
        "plt.grid()"
      ],
      "metadata": {
        "colab": {
          "base_uri": "https://localhost:8080/",
          "height": 430
        },
        "outputId": "c3ce3b9c-8fba-49a5-fb12-e811f1b95097",
        "id": "9cETxwv_g5pC"
      },
      "execution_count": null,
      "outputs": [
        {
          "output_type": "display_data",
          "data": {
            "text/plain": [
              "<Figure size 640x480 with 1 Axes>"
            ],
            "image/png": "[encoded data removed]"
          },
          "metadata": {}
        }
      ]
    },
    {
      "cell_type": "code",
      "source": [
        "np.all(ls0[:-1] <= ls0[1:])"
      ],
      "metadata": {
        "colab": {
          "base_uri": "https://localhost:8080/"
        },
        "outputId": "d3af6cd4-33e6-4091-e411-b51c2fd484af",
        "id": "Epgze3PKg5pC"
      },
      "execution_count": null,
      "outputs": [
        {
          "output_type": "execute_result",
          "data": {
            "text/plain": [
              "True"
            ]
          },
          "metadata": {},
          "execution_count": 65
        }
      ]
    },
    {
      "cell_type": "markdown",
      "source": [
        "##StabilityTest"
      ],
      "metadata": {
        "id": "wjbHVUlqBAB-"
      }
    },
    {
      "cell_type": "code",
      "source": [
        "def InsertionSort(ls,index=0):\n",
        "  # Time : O(n^2)\n",
        "  # Space: O(1)\n",
        "  # https://youtu.be/8mJ-OhcfpYg?si=FV7_eZoM8PbfwpZM\n",
        "  for current in range(len(ls)):\n",
        "    prev = current - 1\n",
        "    while prev >= 0:\n",
        "      if ls[current][index] < ls[prev][index]:\n",
        "        temp = ls[prev]\n",
        "        ls[prev] = ls[current]\n",
        "        ls[current] = temp\n",
        "        current = prev\n",
        "      prev -= 1"
      ],
      "metadata": {
        "id": "M9RfqpshBH0d"
      },
      "execution_count": null,
      "outputs": []
    },
    {
      "cell_type": "code",
      "source": [
        "# The code is implementing by ChatGPT.\n",
        "def TestStability(sorting_algorithm):\n",
        "    original_list = []\n",
        "    ls0 = [7,7, 5, -6, 1, 5, 2,5,3] # [1,3,2,4,3,3,2,3,1,1]\n",
        "    ls1 = [2.718,15, 2.14, 1, -12, 34, 14,7,34] # [1,1,2,4,2,3,2,4,1,1]\n",
        "    for i0,i1 in zip(ls0,ls1):\n",
        "      original_list.append((i0,i1))\n",
        "\n",
        "    sorted_list = original_list.copy()\n",
        "    sorting_algorithm(sorted_list)\n",
        "\n",
        "    print(\"Original list:\")\n",
        "    print(original_list)\n",
        "    print(\"Sorted list by Value A:\")\n",
        "    print(sorted_list)\n"
      ],
      "metadata": {
        "id": "GezBrXQB2FQe"
      },
      "execution_count": null,
      "outputs": []
    },
    {
      "cell_type": "code",
      "source": [
        "TestStability(InsertionSort)"
      ],
      "metadata": {
        "colab": {
          "base_uri": "https://localhost:8080/"
        },
        "outputId": "3522d00b-b103-4928-b0fe-0cfd7674b68e",
        "id": "MH0dc9yj2FQe"
      },
      "execution_count": null,
      "outputs": [
        {
          "output_type": "stream",
          "name": "stdout",
          "text": [
            "Original list:\n",
            "[(7, 2.718), (7, 15), (5, 2.14), (-6, 1), (1, -12), (5, 34), (2, 14), (5, 7), (3, 34)]\n",
            "Sorted list by Value A:\n",
            "[(-6, 1), (1, -12), (2, 14), (3, 34), (5, 2.14), (5, 34), (5, 7), (7, 2.718), (7, 15)]\n"
          ]
        }
      ]
    },
    {
      "cell_type": "markdown",
      "source": [
        "##Proof\n",
        "\n",
        "```\n",
        "def InsertionSort(ls):\n",
        "  # Time : O(n^2)\n",
        "  # Space: O(1)\n",
        "  # https://youtu.be/8mJ-OhcfpYg?si=FV7_eZoM8PbfwpZM\n",
        "  for current in range(len(ls)):\n",
        "    prev = current - 1\n",
        "    while prev >= 0:\n",
        "      if ls[current] < ls[prev]:\n",
        "        temp = ls[prev]\n",
        "        ls[prev] = ls[current]\n",
        "        ls[current] = temp\n",
        "        current = prev\n",
        "      prev -= 1\n",
        "```\n"
      ],
      "metadata": {
        "id": "oAvAf-lAWPIn"
      }
    },
    {
      "cell_type": "markdown",
      "source": [
        "###Complexity Evaluation\n",
        "\n",
        "Define\n",
        "* `ls = [a0, ..., an]`\n",
        "\n",
        "Time Complexity Evaluation\n",
        "1. `for current in range(len(ls)):` takes `len(ls)` time ($O(n)$ time)\n",
        "1. `prev` is initialized, such that `prev = current - 1` in each loop.\n",
        "2. `while prev >= 0` will be terminated in `current` time ($O(n)$ time) because `prev -= 1` in every loop.\n",
        "4. Therefore the time complexity of this algorithm is $O(n^2)$\n",
        "\n",
        "Space Complexity Evaluation\n",
        "1. `temp = ls[prev]` is used as temporary space.\n",
        "2. `ls[prev] = ls[current]`\n",
        "3. `ls[current] = temp`\n",
        "4. `current = prev` for checking if other previous number is greater than other next number.\n",
        "5. The space complexity of this algorithm is $O(1)$\n",
        "\n",
        "The Complexity of this algorithm is\n",
        "* Time: $O(n^2)$\n",
        "* Space: $O(1)$\n"
      ],
      "metadata": {
        "id": "NILpWfUlILmz"
      }
    },
    {
      "cell_type": "markdown",
      "source": [
        "###Base Case\n",
        "\n",
        "Base case when `ls == []`\n",
        "* `[]` is sorted list.\n",
        "* `for current in range([])` is never executed and not produce error.\n",
        "\n",
        "Base case when `ls == [a]`\n",
        "* `[a]` is sorted list.\n",
        "* `prev == -1 < 0` $\\implies$ while loop is not executed.\n",
        "\n",
        "Base case when `ls == [a,b]`\n",
        "* `[a,b]` is or is not sorted list\n",
        "* `prev == 0 - 1 < 0` $\\implies$ the while loop is not executed.\n",
        "* `prev == 1 - 1 == 0` $\\implies$ the while loop is executed only 1 time.\n",
        "* `if ls[1] < ls[0]:` the positions of `ls[1]` and `ls[0]` such that `ls` is sorted list\n",
        "\n",
        "Base case when `ls == [a,b,c]`\n",
        "\n",
        "Second Loop\n",
        "* `[a,b]` is or is not sorted list\n",
        "* `prev == 1 - 1 == 0` $\\implies$ the while loop is executed only 1 time.\n",
        "* `if ls[1] < ls[0]:` the positions of `ls[1]` and `ls[0]` such that `ls` is sorted list\n",
        "\n",
        "Third Loop\n",
        "* `[a,b,c]` is or is not sorted list\n",
        "* `prev == 2 - 1 == 1 > 0` $\\implies$ the while loop is executed only 2 times.\n",
        "* `b <= c` and `a > c` is always `False` because `[a, b]` is sorted list after the Second Loop.\n",
        "* `b <= c` and `a <= c` $\\implies$ `ls` is not updated\n",
        "* `b > c` and `a <= c` $\\implies$ The positions of `ls[2]` and `ls[1]` are swapped.\n"
      ],
      "metadata": {
        "id": "LyHZ-NPzFPir"
      }
    },
    {
      "cell_type": "markdown",
      "source": [
        "###General Case\n",
        "\n",
        "Suppose that\n",
        "* `ls[:current]` is sorted list\n",
        "\n",
        "Then\n",
        "* `prev = current - 1`\n",
        "* The while loop is executed.\n",
        "* `prev -= 1` in each while loop.\n",
        "\n",
        "If `ls[current] < ls[prev]`\n",
        "* The positions of `ls[current]` and `ls[prev]` are swapped.\n",
        "\n",
        "Implies that\n",
        "* `ls[:prev]` is sorted list.\n",
        "* `exists i in [0, ..., prev - 1] : ls[i] > ls[prev]` $\\implies$ `ls[:current]` is or is not sorted list.\n",
        "* `forall i in [prev, ..., current - 1] : ls[i] <= ls[i + 1]`\n",
        "\n",
        "Then `current` and `prev` are updated, such that\n",
        "* `current = prev`\n",
        "* `prev -= 1`\n",
        "\n",
        "If `prev >= 0` $\\implies$ the while loop repeats until `prev < 0`\n",
        "\n",
        "If `prev < 0` $\\implies$ the while loop stop\n",
        "* `forall i in [0, ..., current - 1] : ls[i] <= ls[i + 1]` $\\implies$ `ls[:current + 1]` is sorted list\n",
        "\n",
        "Therefore `InsertionSort` sort `ls` correctly.\n",
        "\n"
      ],
      "metadata": {
        "id": "Tr8DrpurJmwM"
      }
    },
    {
      "cell_type": "markdown",
      "source": [
        "###Is `InsertionSort` stable ?\n",
        "\n",
        "Given that\n",
        "* `ls[:current]` is sorted list\n",
        "* `forall i in [0, ..., current - 2]: ls[i] <= ls[i + 1]`\n",
        "\n",
        "Implies that\n",
        "* `forall a < b < c : ( ls[b] == ls[c] and ls[a] > ls[c] ) is False`\n",
        "* `forall i in [0, ..., current - 1] : ls[i] <= ls[current]` $\\implies$ The original position of the duplicate value elements in the list is preserved.\n",
        "\n",
        "Therefore `InsertionSort` is stable.\n",
        "\n",
        "\n",
        "\n"
      ],
      "metadata": {
        "id": "_HJzhW-CUzBz"
      }
    },
    {
      "cell_type": "markdown",
      "source": [
        "#Binary Insertion Sort"
      ],
      "metadata": {
        "id": "45RaKVEjoqY2"
      }
    },
    {
      "cell_type": "markdown",
      "source": [
        "##Implementation\n"
      ],
      "metadata": {
        "id": "K_r9jsuTr_VA"
      }
    },
    {
      "cell_type": "code",
      "source": [
        "def BinarySearch(ls,element,high):\n",
        "  # Time : O(log(n))\n",
        "  # Space: O(1)\n",
        "  low = 0\n",
        "  while low <= high:\n",
        "    mid = math.floor((high + low)/2)\n",
        "    if element < ls[mid]:\n",
        "      high = mid - 1\n",
        "    else:\n",
        "      low = mid + 1\n",
        "  return low\n",
        "\n",
        "def InsertionSort(ls):\n",
        "  # Time : O(n^2)\n",
        "  # Space: O(1)\n",
        "  # https://youtu.be/8mJ-OhcfpYg?si=FV7_eZoM8PbfwpZM\n",
        "  for current in range(1,len(ls)):\n",
        "    select = BinarySearch(ls,ls[current],current)\n",
        "    temp = ls[current]\n",
        "    prev = current - 1\n",
        "    while prev >= select:\n",
        "      ls[prev + 1] = ls[prev]\n",
        "      prev -= 1\n",
        "    ls[prev + 1] = temp\n",
        "\n",
        "# https://www.geeksforgeeks.org/binary-insertion-sort/"
      ],
      "metadata": {
        "id": "cqn93ht0sBoe"
      },
      "execution_count": null,
      "outputs": []
    },
    {
      "cell_type": "markdown",
      "source": [
        "##Test"
      ],
      "metadata": {
        "id": "hCtDCZv42yDW"
      }
    },
    {
      "cell_type": "code",
      "source": [
        "ls = list((10*np.random.normal(0,1,6)).astype(np.int64))\n",
        "print(ls,'\\n')\n",
        "InsertionSort(ls)\n",
        "print(ls)"
      ],
      "metadata": {
        "colab": {
          "base_uri": "https://localhost:8080/"
        },
        "outputId": "00679509-1d85-42ff-d842-3fa465fbe888",
        "id": "X0FpvwZe2yDe"
      },
      "execution_count": null,
      "outputs": [
        {
          "output_type": "stream",
          "name": "stdout",
          "text": [
            "[-1, 5, 6, -21, 0, 27] \n",
            "\n",
            "select 2\n",
            "select 3\n",
            "select 4\n",
            "select 5\n",
            "select 6\n",
            "[-1, 5, 5, 5, 5, 5]\n"
          ]
        }
      ]
    },
    {
      "cell_type": "code",
      "source": [
        "ls0 = list(np.random.normal(0,1,1000))\n",
        "InsertionSort(ls0)\n",
        "ls0=np.array(ls0)\n",
        "plt.plot(np.arange(1000),ls0)\n",
        "plt.grid()"
      ],
      "metadata": {
        "colab": {
          "base_uri": "https://localhost:8080/",
          "height": 430
        },
        "outputId": "811d540f-587c-4aff-a598-1110cb57b009",
        "id": "iH8ba5kX2yDf"
      },
      "execution_count": null,
      "outputs": [
        {
          "output_type": "display_data",
          "data": {
            "text/plain": [
              "<Figure size 640x480 with 1 Axes>"
            ],
            "image/png": "[encoded data removed]"
          },
          "metadata": {}
        }
      ]
    },
    {
      "cell_type": "code",
      "source": [
        "np.all(ls0[:-1] <= ls0[1:])"
      ],
      "metadata": {
        "colab": {
          "base_uri": "https://localhost:8080/"
        },
        "outputId": "4a3ef567-65b4-418b-f359-068a315f75af",
        "id": "O7XZxxH82yDf"
      },
      "execution_count": null,
      "outputs": [
        {
          "output_type": "execute_result",
          "data": {
            "text/plain": [
              "True"
            ]
          },
          "metadata": {},
          "execution_count": 56
        }
      ]
    },
    {
      "cell_type": "markdown",
      "source": [
        "##StabilityTest"
      ],
      "metadata": {
        "id": "zo_u_HPo2yDf"
      }
    },
    {
      "cell_type": "code",
      "source": [
        "def BinarySearch(ls,element,high,index=0):\n",
        "  # Time : O(log(n))\n",
        "  # Space: O(1)\n",
        "  low = 0\n",
        "  while low <= high:\n",
        "    mid = math.floor((high + low)/2)\n",
        "    if element[index] < ls[mid][index]:\n",
        "      high = mid - 1\n",
        "    else:\n",
        "      low = mid + 1\n",
        "  return low\n",
        "\n",
        "def InsertionSort(ls,index=0):\n",
        "  # Time : O(n^2)\n",
        "  # Space: O(1)\n",
        "  # https://youtu.be/8mJ-OhcfpYg?si=FV7_eZoM8PbfwpZM\n",
        "  for current in range(1,len(ls)):\n",
        "    select = BinarySearch(ls,ls[current],current,index)\n",
        "    temp = ls[current]\n",
        "    prev = current - 1\n",
        "    while prev >= select:\n",
        "      ls[prev + 1] = ls[prev]\n",
        "      prev -= 1\n",
        "    ls[prev + 1] = temp"
      ],
      "metadata": {
        "id": "dPlF9W3F2yDf"
      },
      "execution_count": null,
      "outputs": []
    },
    {
      "cell_type": "code",
      "source": [
        "# The code is implementing by ChatGPT.\n",
        "def TestStability(sorting_algorithm):\n",
        "    original_list = []\n",
        "    ls0 = [7    ,  7,    5, -6,   1,  5,   5,  2, 5,  3] # [1,3,2,4,3,3,2,3,1,1]\n",
        "    ls1 = [2.718, 15, 2.14,  1, -12, 34, 404, 14, 7, 34] # [1,1,2,4,2,3,2,4,1,1]\n",
        "    for i0,i1 in zip(ls0,ls1):\n",
        "      original_list.append((i0,i1))\n",
        "\n",
        "    sorted_list = original_list.copy()\n",
        "    sorting_algorithm(sorted_list)\n",
        "\n",
        "    print(\"Original list:\")\n",
        "    print(original_list)\n",
        "    print(\"Sorted list by Value A:\")\n",
        "    print(sorted_list)\n"
      ],
      "metadata": {
        "id": "-qk-77k_2yDg"
      },
      "execution_count": null,
      "outputs": []
    },
    {
      "cell_type": "code",
      "source": [
        "TestStability(InsertionSort)"
      ],
      "metadata": {
        "colab": {
          "base_uri": "https://localhost:8080/"
        },
        "outputId": "2d45789b-ae2c-47d4-bbb4-0de43d7eeadc",
        "id": "_WqKhETN2yDg"
      },
      "execution_count": null,
      "outputs": [
        {
          "output_type": "stream",
          "name": "stdout",
          "text": [
            "Original list:\n",
            "[(7, 2.718), (7, 15), (5, 2.14), (-6, 1), (1, -12), (5, 34), (5, 404), (2, 14), (5, 7), (3, 34)]\n",
            "Sorted list by Value A:\n",
            "[(-6, 1), (1, -12), (2, 14), (3, 34), (5, 2.14), (5, 34), (5, 404), (5, 7), (7, 2.718), (7, 15)]\n"
          ]
        }
      ]
    },
    {
      "cell_type": "markdown",
      "source": [
        "##Proof"
      ],
      "metadata": {
        "id": "n80LS1wukARs"
      }
    },
    {
      "cell_type": "markdown",
      "source": [
        "###Part 1 : Why `BinarySearch return low` ?\n",
        "\n",
        "```\n",
        "def BinarySearch(ls,element,high):\n",
        "  # Time : O(log(n))\n",
        "  # Space: O(1)\n",
        "  low = 0\n",
        "  while low <= high:\n",
        "    mid = math.floor((high + low)/2)\n",
        "    if element < ls[mid]:\n",
        "      high = mid - 1\n",
        "    else:\n",
        "      low = mid + 1\n",
        "  return low\n",
        "```\n",
        "\n",
        "Everytime that the while loop is operated there is only 1 in 2 possibilities that\n",
        "1. `low = mid + 1`\n",
        "2. `high = mid - 1`\n",
        "\n",
        "Implies that the different between `high` and `low` is decrease approximately half.\n",
        "\n",
        "The `BinarySearch` use $O(1)$ space and $O(\\log_2(n))$ time to finish the loop and `return low`.\n",
        "\n",
        "When `low == high` the `BinarySearch` still continue the last while loop then `return low` in order to determine the position of `element` in `ls`, such that\n",
        "* `element < ls[low] : return low`\n",
        "* `element >= ls[low] : return low + 1`\n",
        "\n",
        "The reason is that `return low` are\n",
        "1. There might be the case where `high = -1` which make `InsertionSort` swap the value of `ls[0]` and `ls[-1]` incorrectly in the next while loop.\n",
        "2. In case `high == low` and `element == ls[low]` then `return low + 1` help preserve the original position of duplicate value element in `ls` which make the `InsertionSort` sort `ls` in a stable manner."
      ],
      "metadata": {
        "id": "TeKBBjHCkCEc"
      }
    },
    {
      "cell_type": "markdown",
      "source": [
        "###Part 2 : Correctness of `InsertionSort`\n",
        "\n",
        "```\n",
        "def InsertionSort(ls,index=0):\n",
        "  # Time : O(n^2)\n",
        "  # Space: O(1)\n",
        "  # https://youtu.be/8mJ-OhcfpYg?si=FV7_eZoM8PbfwpZM\n",
        "  for current in range(1,len(ls)):\n",
        "    select = BinarySearch(ls,ls[current],current,index)\n",
        "    temp = ls[current]\n",
        "    prev = current - 1\n",
        "    while prev >= select:\n",
        "      ls[prev + 1] = ls[prev]\n",
        "      prev -= 1\n",
        "    ls[prev + 1] = temp\n",
        "```\n",
        "\n",
        "###Complexity\n",
        "\n",
        "The time complexity of this algorithm is $O(n^2)$ because both for loop and nested while loop use $O(n)$ time. However the `InsertionSort` with `BinarySearch` is faster than `InsertionSort` without `BinarySearch` because if\n",
        "* `forall i in [0, ..., current - 1] : ls[i] <= ls[current]`\n",
        "\n",
        "The `InsertionSort` with `BinarySearch` can skips the while loop, due to the fact that\n",
        "* `prev < current <= select`\n",
        "\n",
        "The complexity of this algorithm is\n",
        "* Time : $O(n^2)$\n",
        "* Space: $O(1)$\n",
        "\n",
        "###Base Case : `current == 1`\n",
        "\n",
        "* `prev = 0`\n",
        "* `temp = ls[1]`\n",
        "* `element = ls[1]`\n",
        "* `ls[:1]` is sorted list\n",
        "* `mid == 0`\n",
        "\n",
        "Then\n",
        "* `if element >= ls[mid]` $\\implies$ `select = 2` the while loop is not executed.\n",
        "* `if element < ls[mid]` $\\implies$ `select = 0`\n",
        "\n",
        "If `select = 0`, implies that\n",
        "* `ls[1] = ls[0]`\n",
        "* `ls[0] = temp`\n",
        "\n",
        "Therefore the `ls[:2]` is correctly sorted.\n",
        "\n",
        "###General Case\n",
        "\n",
        "Suppose that\n",
        "* `ls[:current]` is sorted list\n",
        "\n",
        "Then\n",
        "* `prev = current - 1`\n",
        "* `temp = ls[current]`\n",
        "* `select = BinarySearch(ls, ls[current], current)`\n",
        "\n",
        "Note that it is possible that `select >= current` when\n",
        "* `forall i in [0, ..., current - 1] : ls[i] <= ls[current]`\n",
        "\n",
        "Implies that `low = mid + 1` multiple times.\n",
        "\n",
        "If `select >= current` implies that\n",
        "1. `prev < select`\n",
        "2. while loop is not executed\n",
        "3. `prev == current - 1`\n",
        "4. `ls[prev + 1] = temp == ls[current]`\n",
        "5. `ls` is not updated.\n",
        "\n",
        "If `select < current` implies that\n",
        "1. `prev >= select`\n",
        "2. The while loop is executed\n",
        "3. `ls[current] = ls[current - 1]`\n",
        "4. `ls[select + 1] = ls[select]`\n",
        "5. `prev == select - 1`\n",
        "6. `ls[prev + 1] = temp`\n",
        "\n",
        "Such that `ls[:current + 1]` is sorted correctly.\n",
        "\n",
        "\n"
      ],
      "metadata": {
        "id": "DEVbe0aZquDw"
      }
    },
    {
      "cell_type": "markdown",
      "source": [
        "###Part 3 : `InsertionSort` is stable\n",
        "\n",
        "`ls[:current]` is sorted list\n",
        "* `forall i in [0, ..., current - 2] : ls[i] <= ls[i + 1]`\n",
        "\n",
        "###Case No. 1\n",
        "\n",
        "If `ls[current - 1] <= ls[current]` implies that\n",
        "* `ls[:current + 1]` is sorted list\n",
        "* `select = current + 1 > current - 1 == prev` $\\implies$ The while loop is not executed\n",
        "\n",
        "Therefore\n",
        "* The original order of the element that have same value as `ls[current]` is preserve.\n",
        "\n",
        "###Case No. 2\n",
        "\n",
        "If `ls[current - 1] > ls[current]` and `exists i < current : ls[i] == ls[current]`\n",
        "\n",
        "Consider the following code\n",
        "\n",
        "```\n",
        "while low <= high:\n",
        "  mid = math.floor((high + low)/2)\n",
        "  if element < ls[mid]:\n",
        "    high = mid - 1\n",
        "  else:\n",
        "    low = mid + 1\n",
        "return low\n",
        "```\n",
        "\n",
        "Then\n",
        "1. `if element == ls[mid] : low = mid + 1`\n",
        "2. `if element < ls[mid] : high = mid - 1` multiple times, until `low > high` and then `return low`\n",
        "\n",
        "Therefore\n",
        "* The original order of the element that have same value as `ls[current]` is preserve.\n",
        "* The Binary Insertion Sort is stable."
      ],
      "metadata": {
        "id": "8fKxOTZR8gXc"
      }
    },
    {
      "cell_type": "markdown",
      "source": [
        "#Merge Sort"
      ],
      "metadata": {
        "id": "YMLQrEWVo1Ze"
      }
    },
    {
      "cell_type": "markdown",
      "source": [
        "##Implementation"
      ],
      "metadata": {
        "id": "me4BEsWUWS5i"
      }
    },
    {
      "cell_type": "code",
      "source": [
        "def Merge(ls0,ls1):\n",
        "  # Time : O(n)\n",
        "  # Space: O(n)\n",
        "  sorted_ls = []\n",
        "  i0 = 0\n",
        "  i1 = 0\n",
        "  while i0 < len(ls0) and i1 < len(ls1):\n",
        "    if ls0[i0] <= ls1[i1]:\n",
        "      sorted_ls.append(ls0[i0])\n",
        "      i0 += 1\n",
        "    else:\n",
        "      sorted_ls.append(ls1[i1])\n",
        "      i1 += 1\n",
        "  if i0 < len(ls0):\n",
        "    sorted_ls.extend(ls0[i0:])\n",
        "  if i1 < len(ls1):\n",
        "    sorted_ls.extend(ls1[i1:])\n",
        "  return sorted_ls\n",
        "\n",
        "def MergeSort(ls):\n",
        "  # Time : O(n log(n))\n",
        "  # Space: O(n)\n",
        "  # https://youtu.be/3j0SWDX4AtU?si=W6QHfZytqCj1S_6X\n",
        "  if len(ls) in [0,1]:\n",
        "    return ls\n",
        "  middle = math.floor(len(ls)/2)\n",
        "  ls0 = MergeSort(ls[:middle])\n",
        "  ls1 = MergeSort(ls[middle:])\n",
        "  return Merge(ls0,ls1)"
      ],
      "metadata": {
        "id": "HPirZpdiRCBX"
      },
      "execution_count": null,
      "outputs": []
    },
    {
      "cell_type": "markdown",
      "source": [
        "##Test"
      ],
      "metadata": {
        "id": "vWZQu5Qyoyl-"
      }
    },
    {
      "cell_type": "code",
      "source": [
        "ls = list((10*np.random.normal(0,1,10)).astype(np.int64))\n",
        "print(ls)\n",
        "ls=MergeSort(ls)\n",
        "print(ls)"
      ],
      "metadata": {
        "colab": {
          "base_uri": "https://localhost:8080/"
        },
        "id": "U_H-8ammfM9R",
        "outputId": "fdec3ded-d598-4544-edd5-ee28021e69e7"
      },
      "execution_count": null,
      "outputs": [
        {
          "output_type": "stream",
          "name": "stdout",
          "text": [
            "[2, -14, -11, -1, -23, 13, -24, 6, -5, -9]\n",
            "[-24, -23, -14, -11, -9, -5, -1, 2, 6, 13]\n"
          ]
        }
      ]
    },
    {
      "cell_type": "code",
      "source": [
        "ls[2:2]"
      ],
      "metadata": {
        "colab": {
          "base_uri": "https://localhost:8080/"
        },
        "id": "iuM6b23YirHk",
        "outputId": "00eeb422-b855-465b-d0c6-6cc0d5da6029"
      },
      "execution_count": null,
      "outputs": [
        {
          "output_type": "execute_result",
          "data": {
            "text/plain": [
              "[]"
            ]
          },
          "metadata": {},
          "execution_count": 55
        }
      ]
    },
    {
      "cell_type": "code",
      "source": [
        "ls0 = list(np.random.normal(0,1,1000))\n",
        "ls0 = MergeSort(ls0)\n",
        "ls0=np.array(ls0)\n",
        "plt.plot(np.arange(1000),ls0)\n",
        "plt.grid()"
      ],
      "metadata": {
        "colab": {
          "base_uri": "https://localhost:8080/",
          "height": 430
        },
        "id": "M0fy9Vn_Wdht",
        "outputId": "32e94bcb-b20f-4545-d9d9-126397a2bcba"
      },
      "execution_count": null,
      "outputs": [
        {
          "output_type": "display_data",
          "data": {
            "text/plain": [
              "<Figure size 640x480 with 1 Axes>"
            ],
            "image/png": "[encoded data removed]"
          },
          "metadata": {}
        }
      ]
    },
    {
      "cell_type": "code",
      "source": [
        "np.all(ls0[:-1] <= ls0[1:])"
      ],
      "metadata": {
        "colab": {
          "base_uri": "https://localhost:8080/"
        },
        "id": "0JJL_GOkgtxg",
        "outputId": "87172ab6-5a8b-4427-a064-3942a4a697be"
      },
      "execution_count": null,
      "outputs": [
        {
          "output_type": "execute_result",
          "data": {
            "text/plain": [
              "True"
            ]
          },
          "metadata": {},
          "execution_count": 57
        }
      ]
    },
    {
      "cell_type": "markdown",
      "source": [
        "##StabilityTest"
      ],
      "metadata": {
        "id": "8AfoL7FlAJUy"
      }
    },
    {
      "cell_type": "code",
      "source": [
        "def Merge(ls0,ls1,index=0):\n",
        "  # Time : O(n)\n",
        "  # Space: O(n)\n",
        "  sorted_ls = []\n",
        "  i0 = 0\n",
        "  i1 = 0\n",
        "  while i0 < len(ls0) and i1 < len(ls1):\n",
        "    if ls0[i0][index] <= ls1[i1][index]:\n",
        "      sorted_ls.append(ls0[i0])\n",
        "      i0 += 1\n",
        "    else:\n",
        "      sorted_ls.append(ls1[i1])\n",
        "      i1 += 1\n",
        "  if i0 < len(ls0):\n",
        "    sorted_ls.extend(ls0[i0:])\n",
        "  if i1 < len(ls1):\n",
        "    sorted_ls.extend(ls1[i1:])\n",
        "  return sorted_ls\n",
        "\n",
        "def MergeSort(ls):\n",
        "  # Time : O(n log(n))\n",
        "  # Space: O(n)\n",
        "  # https://youtu.be/3j0SWDX4AtU?si=W6QHfZytqCj1S_6X\n",
        "  if len(ls) in [0,1]:\n",
        "    return ls\n",
        "  middle = math.floor(len(ls)/2)\n",
        "  ls0 = MergeSort(ls[:middle])\n",
        "  ls1 = MergeSort(ls[middle:])\n",
        "  return Merge(ls0,ls1)"
      ],
      "metadata": {
        "id": "cLeCzX8aAR-C"
      },
      "execution_count": null,
      "outputs": []
    },
    {
      "cell_type": "code",
      "source": [
        "# The code is implementing by ChatGPT.\n",
        "def TestStabilityMergeSort():\n",
        "    original_list = []\n",
        "    ls0 = [7, 5, -6, 1, 5, 2,5,3] # [1,3,2,4,3,3,2,3,1,1]\n",
        "    ls1 = [15, 207, 1, -12, 34, 14,7,34] # [1,1,2,4,2,3,2,4,1,1]\n",
        "    for i0,i1 in zip(ls0,ls1):\n",
        "      original_list.append((i0,i1))\n",
        "\n",
        "    print(\"Original list:\")\n",
        "    print(original_list)\n",
        "\n",
        "    sorted_list = MergeSort(original_list)\n",
        "\n",
        "    print(\"Sorted list by Value A:\")\n",
        "    print(sorted_list)\n",
        "TestStabilityMergeSort()"
      ],
      "metadata": {
        "colab": {
          "base_uri": "https://localhost:8080/"
        },
        "id": "vKI69x7U36-t",
        "outputId": "eb006802-69aa-40a1-c054-f1e9500d5d04"
      },
      "execution_count": null,
      "outputs": [
        {
          "output_type": "stream",
          "name": "stdout",
          "text": [
            "Original list:\n",
            "[(7, 15), (5, 207), (-6, 1), (1, -12), (5, 34), (2, 14), (5, 7), (3, 34)]\n",
            "Sorted list by Value A:\n",
            "[(-6, 1), (1, -12), (2, 14), (3, 34), (5, 207), (5, 34), (5, 7), (7, 15)]\n"
          ]
        }
      ]
    },
    {
      "cell_type": "markdown",
      "source": [
        "##Proof"
      ],
      "metadata": {
        "id": "AWL6JuYxhhdn"
      }
    },
    {
      "cell_type": "markdown",
      "source": [
        "###Part 1 : Correctness of `Marge`\n",
        "\n",
        "```\n",
        "def Merge(ls0,ls1):\n",
        "  # Time : O(n)\n",
        "  # Space: O(n)\n",
        "  sorted_ls = []\n",
        "  i0 = 0\n",
        "  i1 = 0  \n",
        "  while i0 < len(ls0) and i1 < len(ls1):\n",
        "    if ls0[i0] <= ls1[i1]:\n",
        "      sorted_ls.append(ls0[i0])\n",
        "      i0 += 1\n",
        "    else:\n",
        "      sorted_ls.append(ls1[i1])\n",
        "      i1 += 1\n",
        "  if i0 < len(ls0):\n",
        "    sorted_ls.extend(ls0[i0:])\n",
        "  if i1 < len(ls1):\n",
        "    sorted_ls.extend(ls1[i1:])\n",
        "  return sorted_ls\n",
        "```\n",
        "\n",
        "Note that\n",
        "* `ls0 = [a0, ..., an]` where `ls0` is sorted list input.\n",
        "* `ls1 = [b0, ..., bm]` where `ls1` is sorted list input.\n",
        "* Index error never happen in this code because `while i0 < len(ls0) and i1 < len(ls1)` .\n",
        "\n",
        "Given that\n",
        "\n",
        "```\n",
        "if ls0[i0] < ls1[i1]:\n",
        "  sorted_ls.append(ls0[i0])\n",
        "  i0 += 1\n",
        "else:\n",
        "  sorted_ls.append(ls1[i1])\n",
        "  i1 += 1\n",
        "```\n",
        "\n",
        "Implies that\n",
        "1. `sorted_ls` append the number from `ls0` and `ls1` in ascending order\n",
        "2. `i0 += 1` and `i1 += 1` guarantee that `sorted_ls` never append previous number of `ls0` and `ls1`\n",
        "3. `i0 += 1`, `i1 += 1` and `while i0 < len(ls0) and i1 < len(ls1)` guarantee that while loop will be terminated\n",
        "4. `i0 += 1`, `i1 += 1` and `while i0 < len(ls0) and i1 < len(ls1)` meaning that only one of this 2 statements is true\n",
        "* 1. `i0 == len(ls0)`\n",
        "* 2. `i1 == len(ls1)`\n",
        "5. If `i0 += 1` in every loop and eventually `i0 == len(ls0)` $\\implies$ `sorted_ls` append every numbers of `ls0`\n",
        "6. If `i1 += 1` in every loop and eventually `i1 == len(ls1)` $\\implies$ `sorted_ls` append every numbers of `ls1`\n",
        "\n",
        "Given that\n",
        "\n",
        "```\n",
        "if i0 < len(ls0):\n",
        "  sorted_ls.extend(ls0[i0:])\n",
        "if i1 < len(ls1):\n",
        "  sorted_ls.extend(ls1[i1:])\n",
        "```\n",
        "\n",
        "Implies that\n",
        "1. `i0 < len(ls0)` $\\implies$ `sorted_ls` never append `ls0[i0:]` in while loop and it append in this statement.\n",
        "2. `i1 < len(ls1)` $\\implies$ `sorted_ls` never append `ls1[i1:]` in while loop and it append in this statement.\n",
        "\n",
        "Therefore this code work correctly.\n",
        "\n",
        "Both time and space complexity of this algorithm is $O(n)$ because\n",
        "1. `len(sorted_ls) == len(ls0) + len(ls1)` which use $O(n)$ space\n",
        "2. While loop takes at least `len(ls0)` or `len(ls1)` loops, and at most `len(ls0) + len(ls1) - 1` loops.\n",
        "3. The average time and space complexity of `extend` command is $O(n)$\n",
        "\n",
        "\n",
        "\n",
        "\n",
        "\n"
      ],
      "metadata": {
        "id": "Zch6vgeWkCh0"
      }
    },
    {
      "cell_type": "markdown",
      "source": [
        "###Part 2 : Correctness of `MergeSort`\n",
        "\n",
        "```\n",
        "def MergeSort(ls):\n",
        "  # Time : O(n log(n))\n",
        "  # Space: O(n)\n",
        "  # https://youtu.be/3j0SWDX4AtU?si=W6QHfZytqCj1S_6X\n",
        "  if len(ls) in [0,1]:\n",
        "    return ls\n",
        "  middle = math.floor(len(ls)/2)\n",
        "  ls0 = MergeSort(ls[:middle])\n",
        "  ls1 = MergeSort(ls[middle:])\n",
        "  return Merge(ls0,ls1)\n",
        "```\n",
        "\n",
        "Given that the Base case is\n",
        "* If `len(ls) in [0,1]` $\\implies$ `ls` is already sorted list.\n",
        "\n",
        "Suppose that\n",
        "* `ls = [a0, ..., an]`\n",
        "* `middle = math.floor(len(ls)/2)`\n",
        "\n",
        "Then\n",
        "1. `ls[:middle] = [a0, ..., am]` where `m == middle - 1`\n",
        "1. `ls[middle:] = [aM, ..., an]` where `M == middle`\n",
        "\n",
        "Given that\n",
        "\n",
        "```\n",
        "ls0 = MergeSort(ls[:middle])\n",
        "ls1 = MergeSort(ls[middle:])\n",
        "```\n",
        "\n",
        "Implies that\n",
        "1. It takes both $\\log(n)$ time and recursive stack space to recursively separate `ls` to multiple smaller lists such that their length are equal to $0$ or $1$\n",
        "2. When the length of the separated list is equal to $0$ or $1$, it will automatically sorted due to the based case.\n",
        "\n",
        "The algorithm `Merge(ls0,ls1)` is proved that it always create sorted list `sorted_ls` in $O(n)$ time and space, if both `ls0` and `ls1` are sorted lists, Implies that\n",
        "1. If `len(ls0)`, `len(ls1)` $\\in\\{0,1\\}\\implies$ `sorted_ls` is sorted list.\n",
        "2. `ls0 = MergeSort(ls[:middle])` and `ls1 = MergeSort(ls[middle:])` are both sorted list $\\implies$ `sorted_ls` is sorted list.\n",
        "3. After `ls0 = MergeSort(ls[:middle])` is executed, `ls1 = MergeSort(ls[middle:])` is executed such that `ls1` is sorted list and contain number from opposite side of `ls0`.\n",
        "\n",
        "Therefore this algorithm sort list correctly with\n",
        "1. Time: $O(n\\log(n))$\n",
        "* Loop $=n$\n",
        "* Recursive Loop $=\\log(n)$\n",
        "2. Space: $O(n)$\n",
        "* $O(n)=O(n)+O(\\log(n))$\n",
        "* Recursive Stack Space $=\\log(n)$"
      ],
      "metadata": {
        "id": "geWUyK4HhlpF"
      }
    },
    {
      "cell_type": "markdown",
      "source": [
        "###Part 3 : `MergeSort` is Stable\n",
        "\n",
        "This `Merge` is stable because\n",
        "1. Everytime that `i0 += 1`, then `sorted_ls.append(ls0)` without changing the original order of subsequence in `ls0`\n",
        "1. Similary, everytime that `i1 += 1`, then `sorted_ls.append(ls1)` without changing the original order of subsequence in `ls1`\n",
        "3. When `ls0[i0] == ls1[i1]`, because the sequence `ls0` always be the previous sequence before `ls1` then `sorted_ls.append(ls0[i0])` first.\n",
        "\n",
        "Given that the function `MergeSort` separate the list `ls` in to half in each recursive loop. When `len(ls) == [n0, n1]` the original order of the elements in `ls` is preserved if both `n0 <= n1`.\n",
        "\n",
        "Because `Merge` is stable and the `MergeSort([a])` and `MergeSort([a,b])` is stable, implies that `MergeSort(ls)` is also stable in every case."
      ],
      "metadata": {
        "id": "UpCQ9ktRhnhv"
      }
    },
    {
      "cell_type": "markdown",
      "source": [
        "#QuickSort"
      ],
      "metadata": {
        "id": "wPz9FkUVkGrv"
      }
    },
    {
      "cell_type": "markdown",
      "source": [
        "##Implementation"
      ],
      "metadata": {
        "id": "C79nH_Y6kIxn"
      }
    },
    {
      "cell_type": "code",
      "source": [
        "def Pivot(ls, low, high):\n",
        "  # Time : O(n)\n",
        "  # Space: O(1)\n",
        "  prev = low - 1\n",
        "  next = low\n",
        "  while next < high:\n",
        "    if ls[next] < ls[high]:\n",
        "      prev += 1\n",
        "      temp = ls[next]\n",
        "      ls[next] = ls[prev]\n",
        "      ls[prev] = temp\n",
        "    next += 1\n",
        "  if prev == low - 1:\n",
        "    prev += 1\n",
        "  while prev < high and ls[prev] <= ls[high]:\n",
        "    prev += 1\n",
        "  if prev < high:\n",
        "    temp = ls[next]\n",
        "    ls[next] = ls[prev]\n",
        "    ls[prev] = temp\n",
        "  return prev\n",
        "\n",
        "def Random(ls, low, high):\n",
        "  index = np.random.randint(low,high,1)[0]\n",
        "  temp = ls[high]\n",
        "  ls[high] = ls[index]\n",
        "  ls[index] = temp\n",
        "\n",
        "def QuickSort(ls, low=0, high=None, is_rand = True):\n",
        "  # Time : O(n log(n))\n",
        "  # Space: O(log(n))\n",
        "  # https://www.geeksforgeeks.org/quick-sort-algorithm/\n",
        "  if high == None:\n",
        "    high = len(ls) - 1\n",
        "  if low < high:\n",
        "    if is_rand == True:\n",
        "      Random(ls, low, high)\n",
        "    pivot = Pivot(ls, low, high)\n",
        "    QuickSort(ls, low, pivot - 1, is_rand)\n",
        "    QuickSort(ls, pivot + 1, high, is_rand)"
      ],
      "metadata": {
        "id": "_6zf-Idpj_Yz"
      },
      "execution_count": null,
      "outputs": []
    },
    {
      "cell_type": "markdown",
      "source": [
        "##Test"
      ],
      "metadata": {
        "id": "1YrjRzSzo4P4"
      }
    },
    {
      "cell_type": "code",
      "source": [
        "ls = [3,3,3,3,3,3,2,5,8,8,8,8,8,8,9]\n",
        "QuickSort(ls,is_rand=False)\n",
        "print(ls)"
      ],
      "metadata": {
        "colab": {
          "base_uri": "https://localhost:8080/"
        },
        "id": "Fss-r_iKjX1x",
        "outputId": "8573b699-c8dc-44f2-ca29-b2f98e40a65c"
      },
      "execution_count": null,
      "outputs": [
        {
          "output_type": "stream",
          "name": "stdout",
          "text": [
            "[2, 3, 3, 3, 3, 3, 3, 5, 8, 8, 8, 8, 8, 8, 9]\n"
          ]
        }
      ]
    },
    {
      "cell_type": "code",
      "source": [
        "ls = list((10*np.random.normal(0,1,6)).astype(np.int64))\n",
        "print(ls,'\\n')\n",
        "QuickSort(ls)\n",
        "print(ls)"
      ],
      "metadata": {
        "colab": {
          "base_uri": "https://localhost:8080/"
        },
        "outputId": "a222d856-ef37-4718-a75f-9a8ce295e197",
        "id": "9hq3A0pto4P4"
      },
      "execution_count": null,
      "outputs": [
        {
          "output_type": "stream",
          "name": "stdout",
          "text": [
            "[-16, 10, 18, -7, 7, -8] \n",
            "\n",
            "[-16, -8, -7, 7, 10, 18]\n"
          ]
        }
      ]
    },
    {
      "cell_type": "code",
      "source": [
        "ls"
      ],
      "metadata": {
        "colab": {
          "base_uri": "https://localhost:8080/"
        },
        "id": "de0BzXKyqBAp",
        "outputId": "21565fc8-0936-4d69-fa18-c730c4b48ae2"
      },
      "execution_count": null,
      "outputs": [
        {
          "output_type": "execute_result",
          "data": {
            "text/plain": [
              "[-16, -8, -7, 7, 10, 18]"
            ]
          },
          "metadata": {},
          "execution_count": 23
        }
      ]
    },
    {
      "cell_type": "code",
      "source": [
        "ls0 = list(np.random.normal(0,1,1000))\n",
        "QuickSort(ls0)\n",
        "ls0=np.array(ls0)\n",
        "plt.plot(np.arange(1000),ls0)\n",
        "plt.grid()"
      ],
      "metadata": {
        "colab": {
          "base_uri": "https://localhost:8080/",
          "height": 430
        },
        "outputId": "5d6c0a7f-caf1-4a07-9013-9c80f72624fc",
        "id": "xfWWtSDjo4P5"
      },
      "execution_count": null,
      "outputs": [
        {
          "output_type": "display_data",
          "data": {
            "text/plain": [
              "<Figure size 640x480 with 1 Axes>"
            ],
            "image/png": "[encoded data removed]"
          },
          "metadata": {}
        }
      ]
    },
    {
      "cell_type": "code",
      "source": [
        "np.all(ls0[:-1] <= ls0[1:])"
      ],
      "metadata": {
        "colab": {
          "base_uri": "https://localhost:8080/"
        },
        "outputId": "313a5748-ab72-4c1a-b6da-8e2c981a6c93",
        "id": "Zbs9_ifYo4P6"
      },
      "execution_count": null,
      "outputs": [
        {
          "output_type": "execute_result",
          "data": {
            "text/plain": [
              "True"
            ]
          },
          "metadata": {},
          "execution_count": 25
        }
      ]
    },
    {
      "cell_type": "markdown",
      "source": [
        "##Check Stability"
      ],
      "metadata": {
        "id": "8hy1Z7XBm287"
      }
    },
    {
      "cell_type": "code",
      "source": [
        "def Pivot(ls, low, high, index=0):\n",
        "  # Time : O(n)\n",
        "  # Space: O(1)\n",
        "  prev = low - 1\n",
        "  next = low\n",
        "  while next < high:\n",
        "    if ls[next][index] < ls[high][index]:\n",
        "      prev += 1\n",
        "      temp = ls[next]\n",
        "      ls[next] = ls[prev]\n",
        "      ls[prev] = temp\n",
        "    next += 1\n",
        "  if prev == low - 1:\n",
        "    prev += 1\n",
        "  while prev < high and ls[prev][index] <= ls[high][index]:\n",
        "    prev += 1\n",
        "  if prev < high:\n",
        "    temp = ls[next]\n",
        "    ls[next] = ls[prev]\n",
        "    ls[prev] = temp\n",
        "  return prev\n",
        "\n",
        "def QuickSort(ls, low=0, high=None, index=0):\n",
        "  # Time : O(n log(n))\n",
        "  # Space: O(1)\n",
        "  # https://www.geeksforgeeks.org/quick-sort-algorithm/\n",
        "  if high == None:\n",
        "    high = len(ls) - 1\n",
        "  if low < high:\n",
        "    pivot = Pivot(ls, low, high, index)\n",
        "    QuickSort(ls, low, pivot - 1, index)\n",
        "    QuickSort(ls, pivot + 1, high, index)"
      ],
      "metadata": {
        "id": "ke4DRqEAshUv"
      },
      "execution_count": null,
      "outputs": []
    },
    {
      "cell_type": "code",
      "source": [
        "# The code is implementing by ChatGPT.\n",
        "def TestStability(sorting_algorithm):\n",
        "    original_list = []\n",
        "    ls0 = [7    ,  7,    5, -6,   1,  5,   5,  2, 5,  3] # [1,3,2,4,3,3,2,3,1,1]\n",
        "    ls1 = [2.718, 15, 2.14,  1, -12, 34, 404, 14, 7, 34] # [1,1,2,4,2,3,2,4,1,1]\n",
        "    for i0,i1 in zip(ls0,ls1):\n",
        "      original_list.append((i0,i1))\n",
        "\n",
        "    sorted_list = original_list.copy()\n",
        "    sorting_algorithm(sorted_list)\n",
        "\n",
        "    print(\"Original list:\")\n",
        "    print(original_list)\n",
        "    print(\"Sorted list by Value A:\")\n",
        "    print(sorted_list)\n"
      ],
      "metadata": {
        "id": "ND91A5Mhshb7"
      },
      "execution_count": null,
      "outputs": []
    },
    {
      "cell_type": "code",
      "source": [
        "TestStability(QuickSort)"
      ],
      "metadata": {
        "colab": {
          "base_uri": "https://localhost:8080/"
        },
        "outputId": "831e2542-2329-42b5-a733-0036504ae4f1",
        "id": "Izb8_897shb8"
      },
      "execution_count": null,
      "outputs": [
        {
          "output_type": "stream",
          "name": "stdout",
          "text": [
            "Original list:\n",
            "[(7, 2.718), (7, 15), (5, 2.14), (-6, 1), (1, -12), (5, 34), (5, 404), (2, 14), (5, 7), (3, 34)]\n",
            "Sorted list by Value A:\n",
            "[(-6, 1), (1, -12), (2, 14), (3, 34), (5, 34), (5, 404), (5, 2.14), (5, 7), (7, 15), (7, 2.718)]\n"
          ]
        }
      ]
    },
    {
      "cell_type": "markdown",
      "source": [
        "##Proof Part 1 A : Correctness of `Pivot` Summary\n",
        "\n",
        "```\n",
        "def Pivot(ls, low, high):\n",
        "  # Time : O(n)\n",
        "  # Space: O(1)\n",
        "  prev = low - 1\n",
        "  next = low\n",
        "  while next < high:\n",
        "    if ls[next] < ls[high]:\n",
        "      prev += 1\n",
        "      temp = ls[next]\n",
        "      ls[next] = ls[prev]\n",
        "      ls[prev] = temp\n",
        "    next += 1\n",
        "  if prev == low - 1:\n",
        "    prev += 1\n",
        "  while prev < high and ls[prev] <= ls[high]:\n",
        "    prev += 1\n",
        "  if prev < high:\n",
        "    temp = ls[next]\n",
        "    ls[next] = ls[prev]\n",
        "    ls[prev] = temp\n",
        "  return prev\n",
        "```\n",
        "\n",
        "The purpose of this algorithm is to sort list `ls` partially such that\n",
        "* `forall i < pivot :ls[i] <= ls[pivot]`\n",
        "* `forall i > pivot : ls[i] > ls[pivot]`\n",
        "\n",
        "The for loop starts by initializing\n",
        "* `next = low`\n",
        "* `prev = low - 1`\n",
        "\n",
        "`prev <= next` is always `True` because\n",
        "* `prev < next` in the initialization process\n",
        "* There is no ways that `prev += 1` such that `prev > next`\n",
        "\n",
        "`if ls[next] < ls[high] : prev += 1 ...` such that\n",
        "* `ls[prev] >= ls[high]` or `prev == next`\n",
        "* `ls[next] < ls[high]`  $\\implies$ `prev == next` and `ls[prev] >= ls[high]` is impossible\n",
        "\n",
        "Case No. 1 `prev == next` implies that\n",
        "* `forall i <= next : ls[i] < ls[high]`\n",
        "* `ls` is not updated.\n",
        "\n",
        "Case No. 2 `ls[prev] >= ls[high]` implies that\n",
        "* `exists prev < next : ls[next] < ls[high] <= ls[prev]`\n",
        "* the positions of `ls[next]` and `ls[prev]` are swapped\n",
        "* `ls[prev] < ls[high] <= ls[next]`\n",
        "\n",
        "After the while loop is executed, `forall i <= prev : ls[i] <= ls[high]` because\n",
        "1. `prev == next - 1` $\\implies$ `while prev < high and ls[prev] <= ls[high] : prev += 1` is executed, such that `prev == high` and `return prev`\n",
        "* `forall i < prev == high :ls[i] <= ls[prev == high]`\n",
        "2. `prev < next - 1` $\\implies$ `while prev < high and ls[prev] <= ls[high] : prev += 1` is executed, such that `ls[prev] >= ls[high]`, `prev == high` and the positions of `ls[prev]` and `ls[high]` are swapped in ascending order in case `ls[prev] > ls[high]`.\n",
        "* `forall i < prev :ls[i] <= ls[prev]`\n",
        "* `forall i > prev : ls[i] > ls[prev]`\n",
        "\n",
        "Therefore this algorithm works correctly.\n",
        "\n",
        "Because both `next` and `prev` is only increase in each loop, it is assumed that the maximum total loop is `2 * len(ls) - 1`, therefore the time and space that is required for execution are $O(n)$ and $O(1)$ respectively."
      ],
      "metadata": {
        "id": "CPsFdKIn_O40"
      }
    },
    {
      "cell_type": "markdown",
      "source": [
        "##Proof Part 1 B : Correctness of `Pivot` with more detail\n",
        "\n",
        "\n",
        "\n",
        "\n",
        "\n"
      ],
      "metadata": {
        "id": "9b1zp7xUtC8y"
      }
    },
    {
      "cell_type": "markdown",
      "source": [
        "###Definition\n",
        "\n",
        "```\n",
        "def Pivot(ls, low, high):\n",
        "  # Time : O(n)\n",
        "  # Space: O(1)\n",
        "  prev = low - 1\n",
        "  next = low\n",
        "  while next < high:\n",
        "    if ls[next] < ls[high]:\n",
        "      prev += 1\n",
        "      temp = ls[next]\n",
        "      ls[next] = ls[prev]\n",
        "      ls[prev] = temp\n",
        "    next += 1\n",
        "  if prev == low - 1:\n",
        "    prev += 1\n",
        "  while prev < high and ls[prev] <= ls[high]:\n",
        "    prev += 1\n",
        "  if prev < high:\n",
        "    temp = ls[next]\n",
        "    ls[next] = ls[prev]\n",
        "    ls[prev] = temp\n",
        "  return prev\n",
        "```\n",
        "\n",
        "Define\n",
        "* `ls` is or is not sorted list\n",
        "* `prev = low - 1`\n",
        "* `next = low`\n",
        "\n",
        "`prev < next` for every start of the while loop because\n",
        "* `prev` is initialized such that `prev == next - 1`\n",
        "* The maximum times that both `if ls[next] < ls[high]: prev += 1 ...` and `next += 1` are executed is equal to `high - low`\n",
        "\n",
        "Note that in each loop, the `Pivot` does not update `ls[i]` forall `i < prev`\n",
        "\n",
        "The purpose of this code is to update `prev` and `ls` such that\n",
        "* `forall i in [low, ..., prev - 1] : ls[i] <= ls[prev]`\n",
        "* `forall i in [prev, ..., high] : ls[prev] <= ls[i]`\n"
      ],
      "metadata": {
        "id": "7ELI0GXqDQcf"
      }
    },
    {
      "cell_type": "markdown",
      "source": [
        "###Evaluation\n",
        "\n",
        "Note that\n",
        "1. The time complexity of the while loop is $O(n)$ where $n=$ `high - low`\n",
        "2. The time complexity of the second while loop is $O(n)$ where the maximum possible value of $n$ is `high - low`\n",
        "3. The total space complexity of the while loop is $O(1)$\n",
        "\n",
        "Therefore the complexity of `Pivot` is\n",
        "* Time: $O(n)$\n",
        "* Space: $O(1)$"
      ],
      "metadata": {
        "id": "hbm2QggFD3Ct"
      }
    },
    {
      "cell_type": "markdown",
      "source": [
        "###While Loop Initialization\n",
        "\n",
        "When the while loop is initialized (`next == low`) and `if ls[next] < ls[high]`\n",
        "1. `prev += 1`\n",
        "2. `prev == low == next`\n",
        "3. `ls` is not updated\n",
        "4. Implies that the position of `ls[next]` and `ls[high]` is place in ascending order, such that `next < high and ls[next] < ls[high]`\n",
        "5. `next += 1`\n",
        "\n",
        "When the while loop is initialized (`next == low`) and `if ls[next] >= ls[high]`\n",
        "1. The loop skips `ls[next]` in order to search `ls[i]` where `ls[i] < ls[high]`\n",
        "2. `next += 1`"
      ],
      "metadata": {
        "id": "QpIr7zThDURC"
      }
    },
    {
      "cell_type": "markdown",
      "source": [
        "###First While Loop\n",
        "\n",
        "After that if `next == low + 1` and `if ls[next] < ls[high]`\n",
        "1. Case 1: `if prev == low` then\n",
        " 1. `prev += 1`\n",
        " 1. `prev == low == next`\n",
        " 1. `ls` is not updated.\n",
        "2. Case 2: `if prev == low - 1` then\n",
        " 1. `prev += 1`\n",
        " 1. `ls[next == low + 1] < ls[high] <= ls[prev == low]`\n",
        " 1. the positions of `ls[prev]` and `ls[next]` are swapped in ascending order.\n",
        " 1. `ls[prev == low] < ls[high]`\n",
        " 1. `ls[high] <= ls[next]`\n",
        "\n",
        "After that if `next == low + 1` and `if ls[next] >= ls[high]`\n",
        "* `ls` is not updated\n",
        "* The while loop skips `ls[next]` in order to search `ls[i]` where `ls[i] < ls[high]`\n",
        "* `next += 1`\n"
      ],
      "metadata": {
        "id": "NHJUy9reDWJs"
      }
    },
    {
      "cell_type": "markdown",
      "source": [
        "###`prev == next - 1` Part A\n",
        "\n",
        "Conjecture\n",
        "* `forall mid < high : forall i in [low, ..., mid] : ls[i] < ls[high]` $\\implies$ `forall next in [low, ..., mid] : prev == next - 1`\n",
        "\n",
        "Suppose that\n",
        "* `low <= mid < high`\n",
        "* `forall i in [low, ..., mid] : if ls[i] < ls[high]`\n",
        "\n",
        "When the while loop is initialized (`next == low`) and `if ls[next] < ls[high]`\n",
        "1. `prev += 1`\n",
        "2. `prev == low == next`\n",
        "3. `ls` is not updated\n",
        "4. Implies that the position of `ls[next]` and `ls[high]` is place in ascending order, such that `next < high and ls[next] < ls[high]`\n",
        "5. `next += 1`\n",
        "\n",
        "After that if `next == low + 1` and `if ls[next] < ls[high]` then\n",
        "* `prev == low == next - 1`\n",
        "* `prev += 1`\n",
        "* `prev == low + 1 == next`\n",
        "* `ls` is not updated.\n",
        "\n",
        "Suppose that `if ls[next] < ls[high]` then\n",
        "* `prev == next - 1`\n",
        "* `prev += 1`\n",
        "* `prev == next`\n",
        "* `ls` is not updated.\n",
        "\n",
        "Then in the next loop, where `next is next + 1` and `if ls[next + 1] < ls[high]` then\n",
        "* `prev == next`\n",
        "* `prev += 1`\n",
        "* `prev == next + 1`\n",
        "* `ls` is not updated.\n",
        "\n",
        "Therefore this conjecture is `True`\n",
        "* `forall mid < high : forall i in [low, ..., mid] : ls[i] < ls[high]` $\\implies$ `forall next in [low, ..., mid] : prev == next - 1`\n",
        "\n",
        "\n",
        "\n"
      ],
      "metadata": {
        "id": "QaHpGnQEDX_8"
      }
    },
    {
      "cell_type": "markdown",
      "source": [
        "###`prev == next - 1` Part B\n",
        "\n",
        "Conjecture\n",
        "* `forall mid < high : forall i in [low, ..., mid] : ls[i] < ls[high]` $\\iff$ `forall next in [low, ..., mid] : prev == next - 1`\n",
        "\n",
        "####Part 1\n",
        "\n",
        "Suppose that\n",
        "* $\\{$ `forall mid < high : forall i in [low, ..., mid] : ls[i] < ls[high]` $\\iff$ `forall next in [low, ..., mid] : prev == next - 1` $\\}$ is `False`\n",
        "\n",
        "Define\n",
        "* $p=$ `forall mid < high : forall i in [low, ..., mid] : ls[i] < ls[high]`\n",
        "* $q=$ `forall next in [low, ..., mid] : prev == next - 1`\n",
        "\n",
        "Calculate\n",
        "* $\\sim(p\\iff q)=\\,\\sim[(p\\implies q)\\land(q\\implies p)]$\n",
        "* $\\sim(p\\iff q)=\\,\\sim(p\\implies q)\\,\\lor\\sim(q\\implies p)$\n",
        "* $\\sim(p\\iff q)=(p\\,\\land\\sim q)\\lor(q\\,\\land\\sim p)$\n",
        "\n",
        "Then\n",
        "* $\\sim p=$ `exists mid < high : exists i in [low, ..., mid] : ls[i] >= ls[high]`\n",
        "* $\\sim q=$ `exists next in [low, ..., mid] : prev != next - 1`\n",
        "\n",
        "Suppose that\n",
        "* $(p\\,\\land\\sim q)\\lor(q\\,\\land\\sim p)$ is `True`\n",
        "\n",
        "Reference\n",
        "* https://math.stackexchange.com/questions/10435/negation-of-if-and-only-if\n",
        "\n",
        "####Part 2\n",
        "\n",
        "Conjecture\n",
        "* $(p\\,\\land\\sim q)$ is `False`\n",
        "\n",
        "Suppose that\n",
        "* $(p\\,\\land\\sim q)$ is `True`\n",
        "* `forall mid < high : forall i in [low, ..., mid] : ls[i] < ls[high]` and `exists next in [low, ..., mid] : prev != next - 1`\n",
        "\n",
        "Given that\n",
        "* `prev < next` for every start of the while loop and `prev != next - 1` $\\implies$ `prev < next - 1`\n",
        "\n",
        "According to this theorem\n",
        "* `forall mid < high : forall i in [low, ..., mid] : ls[i] < ls[high]` $\\implies$ `forall next in [low, ..., mid] : prev == next - 1`\n",
        "\n",
        "Implies that\n",
        "* `prev == next - 1` and `prev < next - 1`\n",
        "\n",
        "Therefore\n",
        "* $\\{$ `forall mid < high : forall i in [low, ..., mid] : if ls[i] < ls[mid]` and `exists next in [low, ..., mid] : prev != next - 1` $\\}$ is `False`\n",
        "* $(p\\,\\land\\sim q)$ is `False`\n",
        "\n",
        "####Part 3\n",
        "\n",
        "Conjecture\n",
        "* $(q\\,\\land\\sim p)$ is `False`\n",
        "\n",
        "Suppose that\n",
        "* $(q\\,\\land\\sim p)$ is `True`\n",
        "* `forall next in [low, ..., mid] : prev == next - 1` and `exists mid < high : exists i in [low, ..., mid] : if ls[i] >= ls[high]`\n",
        "\n",
        "\n",
        "Given that\n",
        "* `exists mid < high : exists i in [low, ..., mid] : if ls[i] >= ls[high]` $\\implies$ `if ls[next] < ls[high] : p += 1 ...` is not executed $\\implies$ `prev < next - 1`\n",
        "* `forall next in [low, ..., mid] : prev == next - 1`\n",
        "\n",
        "Implies that\n",
        "* `prev < next - 1` and `prev == next - 1`\n",
        "\n",
        "Therefore\n",
        "* `forall next in [low, ..., mid] : prev == next - 1` and `exists mid < high : exists i in [low, ..., mid] : if ls[i] >= ls[mid]` is `False`\n",
        "* $(q\\,\\land\\sim p)$ is `False`\n",
        "\n",
        "####Conclusion\n",
        "\n",
        "Given that\n",
        "* $\\sim(p\\iff q)=(p\\,\\land\\sim q)\\lor(q\\,\\land\\sim p)$ is `False`\n",
        "* $(p\\iff q)$ is `True`\n",
        "\n",
        "Therefore\n",
        "* `forall mid < high : forall i in [low, ..., mid] : ls[i] < ls[high]` $\\iff$ `forall next in [low, ..., mid] : prev == next - 1`\n",
        "\n",
        "\n",
        "\n"
      ],
      "metadata": {
        "id": "y06lxvaFGUiz"
      }
    },
    {
      "cell_type": "markdown",
      "source": [
        "###i - th While Loop\n",
        "\n",
        "####Case A: `if prev == next - 1`\n",
        "\n",
        "According to this theorem\n",
        "* `forall mid < high : forall i in [low, ..., mid] : ls[i] < ls[high]` $\\iff$ `forall next in [low, ..., mid] : prev == next - 1`\n",
        "\n",
        "Implies that\n",
        "1. Case A 1 : `if ls[next] < ls[high]`\n",
        " 1. `forall i in [low, ..., next] : ls[i] < ls[high]`\n",
        " 2. `ls` is not updated\n",
        " 3. `next += 1`\n",
        "2. Case A 2 : `if ls[next] >= ls[high]`\n",
        " 1. `forall i in [low, ..., prev] : ls[i] < ls[high]`\n",
        " 2. `mid = prev + 1 == next`\n",
        " 2. `ls[prev] < ls[high] <= ls[next]`\n",
        " 3. `if ls[next + i < high] < ls[high]` and `ls[next] >= ls[high]` $\\implies$ the positions of `ls[next + i]` and `ls[next == prev + 1]` are swapped such that `ls[next] < ls[next + i]`\n",
        " 4. `mid = next`\n",
        " 4. `prev += 1` and `next += i` $\\implies$ `mid < next`\n",
        "\n",
        "####Case B: `if prev < next - 1`\n",
        "\n",
        "Implies that\n",
        "* `forall mid < high : exists i in [low, ..., mid] : ls[i] >= ls[high]` $\\iff$ `exists next in [low, ..., mid] : prev < next - 1`\n",
        "\n",
        "Then\n",
        "1. Case B 1 : `if ls[next] < ls[high]`\n",
        "* Case A 2 is applied, such that\n",
        "* `ls[prev + 1] >= ls[high]`\n",
        "* The positions of `ls[prev + 1]` and `ls[next]` are swapped.\n",
        "* `ls[prev + 1 <= next - 1] < ls[next]`\n",
        "* `prev += 1` and `next += i`\n",
        "2. Case B 2 : `if ls[next] >= ls[high]`\n",
        "* The while loop is skips `ls[next]`\n",
        "* `next += 1`\n"
      ],
      "metadata": {
        "id": "OqfRF7bQIKZS"
      }
    },
    {
      "cell_type": "markdown",
      "source": [
        "###Last While Loop\n",
        "\n",
        "####Case A\n",
        "\n",
        "* `next == high`\n",
        "* `prev == next - 1 == high - 1`\n",
        "\n",
        "According to this theorem\n",
        "* `forall mid < high : forall i in [low, ..., mid] : ls[i] < ls[high]` $\\iff$ `forall next in [low, ..., mid] : prev == next - 1`\n",
        "\n",
        "Implies that\n",
        "* `forall i in [low, ..., high - 1] : ls[i] < ls[high]`\n",
        "* `while prev < high and ls[prev] <= ls[high] : prev += 1` $\\implies$ `prev == high`\n",
        "* `if prev < high : ...` is not activated, such that `ls` is not updated\n",
        "\n",
        "The purpose of this algorithm is\n",
        "* `forall i in [low, ..., prev - 1] : ls[i] <= ls[prev]`\n",
        "* `forall i in [prev, ..., high] : ls[prev] <= ls[i]`\n",
        "\n",
        "Therefore this algorithm works correctly\n",
        "* `forall i in [low, ..., high - 1] : ls[i] <= ls[high]`\n",
        "* `forall i in [high, ..., high] : ls[high] <= ls[i]`\n",
        "\n",
        "####Case B\n",
        "\n",
        "* `next == high`\n",
        "* `prev == low - 1` $\\implies$ `ls[next] < ls[high] : ` is not executed in every while loop\n",
        "\n",
        "Implies that\n",
        "* `forall i in [low, ..., high - 1] : ls[i] >= ls[high]`\n",
        "\n",
        "Then\n",
        "1. Case No. 1\n",
        "* `forall i in [low, ..., high - 1] : ls[i] == ls[high]` $\\implies$ `prev == high` $\\implies$ `if prev < high : ...` is not activated, such that `ls` is not updated, then `return high`\n",
        "* `forall i in [low, ..., high - 1] : ls[i] == ls[high]` indicate that the algorithm works correctly.\n",
        "2. Case No. 2\n",
        "* `forall i in [low, ..., high - 1] : ls[i] > ls[high]` $\\implies$ `if prev == low - 1 : prev += 1` is activated $\\implies$ `if prev < high : ...` is activated, such that the positions of `ls[low]` and `ls[high]` are swapped in ascending order\n",
        "* `ls[high] < ls[low] and low < high` then `return low`\n",
        "* `forall i in [low + 1, ..., high - 1] : ls[low] < ls[i]` indicate that the algorithm works correctly.\n",
        "3. Case No. 3\n",
        "* `forall i in [low, ..., pivot - 1] : ls[i] == ls[high]`\n",
        "* `ls[pivot] > ls[high] and pivot < high`\n",
        "* Implies that `while prev < high and ls[prev] <= ls[high] : prev += 1` is activated, such that `prev == pivot`\n",
        "* `prev < high : ` The positions of `ls[prev]` and `ls[high]` are swapped in ascending order\n",
        "* `ls[prev] < ls[high] and prev < high`\n",
        "* `forall i in [low, ..., pivot - 1] : ls[i] == ls[high]` and `forall i in [low, ..., pivot] : ls[i] >= ls[high]` $\\implies$ this algorithm is working correctly.\n",
        "\n",
        "####Case C\n",
        "\n",
        "* `next == high not in [low, ..., mid]`\n",
        "* `prev == mid < next`\n",
        "\n",
        "According to this theorem\n",
        "* `forall mid < high : forall i in [low, ..., mid] : ls[i] < ls[high]` $\\iff$ `forall next in [low, ..., mid] : prev == next - 1`\n",
        "\n",
        "Note that\n",
        "* `forall next in [low, ..., mid] : prev == next - 1` indicate that `prev == next - 1` in `i` th loop `forall i in [low, ..., mid]`\n",
        "\n",
        "Implies that\n",
        "* `forall i in [low, ..., mid] : ls[i] < ls[high]` indicate that this algorithm does not work incorrectly.\n",
        "\n",
        "Given that\n",
        "* `while next < high : if ls[next] >= ls[high] : next += 1` $\\implies$ `forall i in [mid + 1, ..., high] : ls[i] >= ls[high]`\n",
        "\n",
        "Then `while prev < high and ls[prev] <= ls[high] : prev += 1` is activated\n",
        "\n",
        "`forall i in [mid + 1, ..., high] : ls[i] >= ls[high]` implies that\n",
        "1. Case No. 1 : `forall i in [mid + 1, ..., high] : ls[i] == ls[high]`\n",
        "* `prev == high`\n",
        "* `return high`\n",
        "2. Case No. 2 : `exists i in [mid + 1, ..., high] : ls[i] > ls[high]`\n",
        "* `prev < high` and `ls[prev] > ls[high]`\n",
        "* The positions of `ls[prev]` and `ls[high]` are swapped such that `ls[prev] < ls[high] and prev < high`\n",
        "* `return prev`\n",
        "\n",
        "The purpose of this algorithm is\n",
        "* `forall i in [low, ..., prev - 1] : ls[i] <= ls[prev]`\n",
        "* `forall i in [prev, ..., high] : ls[prev] <= ls[i]`\n",
        "\n",
        "Therefore this algorithm works correctly\n",
        "* `forall i in [low, ..., prev - 1] : ls[i] <= ls[prev]`\n",
        "* `forall i in [prev, ..., high] : ls[prev] <= ls[i]`"
      ],
      "metadata": {
        "id": "_RiEgkcSGb01"
      }
    },
    {
      "cell_type": "markdown",
      "source": [
        "##Part 2 : Correctness of `QuickSort`"
      ],
      "metadata": {
        "id": "cP3bEE4CVvSW"
      }
    },
    {
      "cell_type": "markdown",
      "source": [
        "###Correctness\n",
        "\n",
        "```\n",
        "def Random(ls, low, high):\n",
        "  index = np.random.randint(low,high,1)[0]\n",
        "  temp = ls[high]\n",
        "  ls[high] = ls[index]\n",
        "  ls[index] = temp\n",
        "\n",
        "def QuickSort(ls, low = 0, high = None, is_rand = True):\n",
        "  # Time : O(n log(n))\n",
        "  # Space: O(log(n))\n",
        "  # https://www.geeksforgeeks.org/quick-sort-algorithm/\n",
        "  if high == None:\n",
        "    high = len(ls) - 1\n",
        "  if low < high:\n",
        "    if is_rand == True:\n",
        "      Random(ls, low, high)\n",
        "    pivot = Pivot(ls, low, high)\n",
        "    QuickSort(ls, low, pivot - 1, is_rand)\n",
        "    QuickSort(ls, pivot + 1, high, is_rand)\n",
        "```\n",
        "\n",
        "The purpose of `QuickSort` is to sort the lists `ls`.\n",
        "\n",
        "###Initialization\n",
        "\n",
        "Recursive loop starts by defining\n",
        "* `low = 0`\n",
        "* `high = len(ls) - 1`\n",
        "\n",
        "Then the `Pivot(ls, 0, len(ls) - 1)` return the `pivot` and modify `ls` such that\n",
        "* `forall i > pivot : ls[pivot] <= ls[i]`\n",
        "* `forall i <= pivot : ls[i] <= ls[pivot]`\n",
        "* `ls[pivot] is placed correctly`\n",
        "* `low <= pivot <= high` for every recursive loop\n",
        "\n",
        "###Base Case\n",
        "\n",
        "`QuickSort(ls, p, p)` $\\implies$ `QuickSort(ls)` is not executed.\n",
        "\n",
        "`QuickSort(ls, p, p + 1)` implies that\n",
        "1. `pivot == p`\n",
        "* `QuickSort(ls, p, p - 1)` is not executed\n",
        "* `QuickSort(ls, p + 1, p + 1)` is not executed\n",
        "2. `pivot == p + 1`\n",
        "* `QuickSort(ls, p, p)` is not executed\n",
        "* `QuickSort(ls, p + 2, p + 1)` is not executed\n",
        "\n",
        "`QuickSort(ls, p, p + 2)` implies that\n",
        "1. `pivot == p`\n",
        "* `QuickSort(ls, p, p - 1)` is not executed\n",
        "* `QuickSort(ls, p + 1, p + 2)` is executed as last recursive loop\n",
        "2. `pivot == p + 1`\n",
        "* `QuickSort(ls, p, p)` is not executed\n",
        "* `QuickSort(ls, p + 2, p + 2)` is not executed\n",
        "3. `pivot == p + 2`\n",
        "* `QuickSort(ls, p, p + 1)` is executed as last recursive loop\n",
        "* `QuickSort(ls, p + 3, p + 2)` is not executed\n",
        "\n",
        "`QuickSort(ls, p, p + 3)` implies that\n",
        "1. `pivot == p`\n",
        "* `QuickSort(ls, p, p - 1)` is not executed\n",
        "* `QuickSort(ls, p + 1, p + 3)` is executed as last recursive loop\n",
        "2. `pivot == p + 1`\n",
        "* `QuickSort(ls, p, p)` is not executed\n",
        "* `QuickSort(ls, p + 2, p + 3)` is executed as last recursive loop\n",
        "3. `pivot == p + 2`\n",
        "* `QuickSort(ls, p, p + 1)` is executed as last recursive loop\n",
        "* `QuickSort(ls, p + 3, p + 3)` is not executed\n",
        "4. `pivot == p + 3`\n",
        "* `QuickSort(ls, p, p + 2)` is executed\n",
        "* `QuickSort(ls, p + 4, p + 3)` is not executed\n",
        "\n",
        "`Pivot sorts ls correctly` $\\implies$ `forall i in [0, 1, 2, 3] : QuickSort(ls, p, p + i) sorts ls correctly`\n",
        "\n",
        "###General Case\n",
        "\n",
        "Given that\n",
        "* `QuickSort(ls, low, high)` never modify the position of `ls[i]` where `i not in [low, ..., high]`\n",
        "* `forall pivot in Pivot(ls, low, high) : pivot in [low, ..., high]`\n",
        "* `low` increase strictly, `low = pivot + 1`\n",
        "* `high` decrease strictly, `high = pivot - 1`\n",
        "\n",
        "Implies that\n",
        "* The `stack` for recursive consume finite space.\n",
        "\n",
        "Suppose that\n",
        "* `QuickSort(ls, low, high)`\n",
        "\n",
        "Consider 3 cases\n",
        "1. `pivot in [0, 1, high - 1, high]` Implies that\n",
        "* the different between `high` and `low` is decrease by 1\n",
        "2. `pivot - low in [0, 1, 2, 3]` Implies that\n",
        "* `QuickSort(ls, low, pivot) sorts ls correctly`\n",
        "3. `high - pivot in [0, 1, 2, 3]` Implies that\n",
        "* `QuickSort(ls, pivot, high) sorts ls correctly`\n",
        "4. `high - pivot > 3` or `pivot - low > 3`\n",
        "* The different between `high` and `low` is decrease by number greater than 1\n",
        "* `QuickSort(ls, low, pivot - 1)` is executed multiple times, until `low == pivot - 1`, then `stack.pop()`\n",
        "* Then `QuickSort(ls, pivot + 1, high)` is executed\n",
        "\n",
        "Therefore `QuickSort` sorts `ls` correctly."
      ],
      "metadata": {
        "id": "4c9f02onkVQp"
      }
    },
    {
      "cell_type": "markdown",
      "source": [
        "###Evaluation\n",
        "\n",
        "If the different between `high` and `low` is decrease by approximately half, implies\n",
        "* `next = low`\n",
        "* `while next < high : ... next += 1`\n",
        "* `while prev < high and ls[prev] <= ls[high]: prev += 1`\n",
        "* `Pivot` is working with shorter loop in each child node.\n",
        "\n",
        "The average complexity of `QuickSort` is\n",
        "* Time : $O(n\\log(n))$\n",
        "* Space: $O(\\log(n))$\n",
        "\n",
        "If the different between `high` and `low` is decrease by 1 in almost every loop.\n",
        "* `next = low`\n",
        "* `while next < high : ... next += 1`\n",
        "* `while prev < high and ls[prev] <= ls[high]: prev += 1`\n",
        "* `Pivot` is working with 1 shorter loop in each child node.\n",
        "\n",
        "Implies that, the worse complexity of `QuickSort` is\n",
        "* Time : $O(n^2)$\n",
        "* Space: $O(n)$\n",
        "\n",
        "This might happended when applying the `QuickSort` with sorted and/or nearly sorted input array `ls` because `forall i in [low, ..., high] : ls[i] <= ls[high]`.\n",
        "\n",
        "One solution to this issue is to use `Random` to swap position of `ls[rand]` and `ls[high]`, such that\n",
        "* the `high` and `low` is decrease by approximately half.\n",
        "\n",
        "However `Random` make the `QuickSort` less stable, because\n",
        "* `Random` swaps the position of `ls[rand]` where `rand in [low, high]` (`rand` is random number) with `ls[high]`\n",
        "* After `def Pivot() : ... while prev < high and ls[prev] <= ls[high]:` is executed, the position of `ls[high]` and `ls[i]`, where `ls[i] == ls[high]` might not be place in the original order.\n",
        "\n",
        "The solution to solve the performance and stability issues of `QuickSort` is not in the scope of this documentation.\n"
      ],
      "metadata": {
        "id": "S7vPGlWEjnhd"
      }
    },
    {
      "cell_type": "markdown",
      "source": [
        "##Part 3 : `QuickSort` is not Stable\n"
      ],
      "metadata": {
        "id": "1Cc0XAUMtR4t"
      }
    },
    {
      "cell_type": "code",
      "source": [
        "def Pivot(ls, low, high, index=0):\n",
        "  # Time : O(n)\n",
        "  # Space: O(1)\n",
        "  prev = low - 1\n",
        "  next = low\n",
        "  while next < high:\n",
        "    if ls[next][index] < ls[high][index]:\n",
        "      prev += 1\n",
        "      temp = ls[next]\n",
        "      ls[next] = ls[prev]\n",
        "      ls[prev] = temp\n",
        "    next += 1\n",
        "  if prev == low - 1:\n",
        "    prev += 1\n",
        "  while prev < high and ls[prev][index] <= ls[high][index]:\n",
        "    prev += 1\n",
        "  if prev < high:\n",
        "    temp = ls[next]\n",
        "    ls[next] = ls[prev]\n",
        "    ls[prev] = temp\n",
        "  return prev\n",
        "\n",
        "def QuickSort(ls, low=0, high=None, index=0):\n",
        "  # Time : O(n log(n))\n",
        "  # Space: O(1)\n",
        "  # https://www.geeksforgeeks.org/quick-sort-algorithm/\n",
        "  if high == None:\n",
        "    high = len(ls) - 1\n",
        "  if low < high:\n",
        "    pivot = Pivot(ls, low, high, index)\n",
        "    QuickSort(ls, low, pivot - 1, index)\n",
        "    QuickSort(ls, pivot + 1, high, index)"
      ],
      "metadata": {
        "id": "Tl2ySgRTKyqs"
      },
      "execution_count": null,
      "outputs": []
    },
    {
      "cell_type": "code",
      "source": [
        "# The code is implementing by ChatGPT.\n",
        "def TestStability(sorting_algorithm):\n",
        "    original_list = []\n",
        "    ls0 = [  1,  1,  1,  5,  5,  5,  4,  4,  3,  3,  4]\n",
        "    ls1 = ['a','a','a','e','e','e','1','2','c','c','3']\n",
        "    for i0,i1 in zip(ls0,ls1):\n",
        "      original_list.append((i0,i1))\n",
        "\n",
        "    sorted_list = original_list.copy()\n",
        "    sorting_algorithm(sorted_list)\n",
        "\n",
        "    print(\"Original list:\")\n",
        "    print(original_list)\n",
        "    print(\"Sorted list by Value A:\")\n",
        "    print(sorted_list)\n"
      ],
      "metadata": {
        "id": "tUxBykdeKSj0"
      },
      "execution_count": null,
      "outputs": []
    },
    {
      "cell_type": "code",
      "source": [
        "TestStability(QuickSort)"
      ],
      "metadata": {
        "colab": {
          "base_uri": "https://localhost:8080/"
        },
        "outputId": "e4bc831e-8407-4469-ea26-e6dc3f6ff9f6",
        "id": "w9-dSChAKSj1"
      },
      "execution_count": null,
      "outputs": [
        {
          "output_type": "stream",
          "name": "stdout",
          "text": [
            "Original list:\n",
            "[(1, 'a'), (1, 'a'), (1, 'a'), (5, 'e'), (5, 'e'), (5, 'e'), (4, '1'), (4, '2'), (3, 'c'), (3, 'c'), (4, '3')]\n",
            "Sorted list by Value A:\n",
            "[(1, 'a'), (1, 'a'), (1, 'a'), (3, 'c'), (3, 'c'), (4, '3'), (4, '1'), (4, '2'), (5, 'e'), (5, 'e'), (5, 'e')]\n"
          ]
        }
      ]
    }
  ]
}